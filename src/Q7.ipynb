{
 "cells": [
  {
   "cell_type": "markdown",
   "source": [
    "# Plot how this delay time evolves across the day for the five most used stations in Belgium."
   ],
   "metadata": {
    "collapsed": false
   }
  },
  {
   "cell_type": "code",
   "execution_count": 5,
   "metadata": {
    "collapsed": true
   },
   "outputs": [],
   "source": [
    "import src.data_processing.data as data\n",
    "import matplotlib.pyplot as plt\n",
    "import numpy as np\n",
    "import pandas as pd\n",
    "pd.set_option('display.max_rows', 5000)\n"
   ]
  },
  {
   "cell_type": "markdown",
   "source": [
    "Check the top 5 stations w.r.t. travelers"
   ],
   "metadata": {
    "collapsed": false
   }
  },
  {
   "cell_type": "code",
   "execution_count": 3,
   "outputs": [
    {
     "ename": "NameError",
     "evalue": "name 'data' is not defined",
     "output_type": "error",
     "traceback": [
      "\u001B[0;31m---------------------------------------------------------------------------\u001B[0m",
      "\u001B[0;31mNameError\u001B[0m                                 Traceback (most recent call last)",
      "Cell \u001B[0;32mIn [3], line 1\u001B[0m\n\u001B[0;32m----> 1\u001B[0m stations \u001B[38;5;241m=\u001B[39m data\u001B[38;5;241m.\u001B[39mstations\n\u001B[1;32m      2\u001B[0m travelers \u001B[38;5;241m=\u001B[39m data\u001B[38;5;241m.\u001B[39mtravelers\n\u001B[1;32m      3\u001B[0m trips \u001B[38;5;241m=\u001B[39m data\u001B[38;5;241m.\u001B[39mfull_trips\n",
      "\u001B[0;31mNameError\u001B[0m: name 'data' is not defined"
     ]
    }
   ],
   "source": [
    "stations = data.stations\n",
    "travelers = data.travelers\n",
    "trips = data.full_trips\n",
    "travelers.sort_values(by = \"sum\", ascending = False).head(5)"
   ],
   "metadata": {
    "collapsed": false
   }
  },
  {
   "cell_type": "markdown",
   "source": [
    "Check the top 5 stations w.r.t. number of trains going to these stations"
   ],
   "metadata": {
    "collapsed": false
   }
  },
  {
   "cell_type": "code",
   "execution_count": null,
   "outputs": [],
   "source": [
    "pd_df = pd.DataFrame(trips[\"Name of the stop\"].value_counts()).reset_index()\n",
    "pd_df.columns = [\"Name of the stop\", \"count\"]\n",
    "pd_df.head(5)"
   ],
   "metadata": {
    "collapsed": false
   }
  },
  {
   "cell_type": "markdown",
   "source": [
    "We assume that the most used stops are the ones that have the most amount of travelers."
   ],
   "metadata": {
    "collapsed": false
   }
  },
  {
   "cell_type": "code",
   "execution_count": null,
   "outputs": [],
   "source": [
    "trips.sort_values(by =\"Time of real arrival\", ascending=False)\n",
    "# They all arrive at \"31-10\" but this is wrong, we only need to look at the time part of this value.\n",
    "trips[\"Time of real arrival\"].dt.time"
   ],
   "metadata": {
    "collapsed": false
   }
  },
  {
   "cell_type": "code",
   "execution_count": null,
   "outputs": [],
   "source": [
    "trips = trips.merge(travelers[[\"Station\", \"sum\"]], left_on=[\"Name of the stop\"], right_on=[\"Station\"], how=\"left\")\n",
    "trips = trips[(trips[\"Name of the stop\"] == \"brussel-noord/bruxelles-nord\") | (trips[\"Name of the stop\"] == \"brussel-zuid/bruxelles-midi\") | (trips[\"Name of the stop\"] == \"brussel-centraal/bruxelles-central\") | (trips[\"Name of the stop\"] == \"gent-sint-pieters\") | (trips[\"Name of the stop\"] == \"antwerpen-centraal\")]\n",
    "\n",
    "trips = trips.sort_values(by = [\"Station\", \"Time of real departure\"])\n",
    "trips"
   ],
   "metadata": {
    "collapsed": false
   }
  },
  {
   "cell_type": "markdown",
   "source": [
    "Some delay times are impossible, also see Q11 , so we delete the delete these."
   ],
   "metadata": {
    "collapsed": false
   }
  },
  {
   "cell_type": "code",
   "execution_count": null,
   "outputs": [],
   "source": [
    "for x in trips[['Delay time']]:\n",
    "    trips.loc[trips[x] > 85000,x] = np.nan\n",
    "trips.sort_values(by = \"Delay time\", ascending = False)"
   ],
   "metadata": {
    "collapsed": false
   }
  },
  {
   "cell_type": "markdown",
   "source": [
    "We see that that most delay occurs at the peak hours: when people go to work / home: around 6-9 am and 16-19pm\n",
    "The main issue lies within Brussels, y axis up to 250 min..."
   ],
   "metadata": {
    "collapsed": false
   }
  },
  {
   "cell_type": "code",
   "execution_count": null,
   "outputs": [],
   "source": [
    "for station in trips[\"Name of the stop\"].unique():\n",
    "    color = np.random.rand(3,)\n",
    "    plt.figure(figsize=(20,10))\n",
    "    plt.title(\"Average daily delay in minutes for \"+station)\n",
    "    plt.xlabel(\"Time of real arrival\")\n",
    "    plt.ylabel(\"Delay time\")\n",
    "    plt.xticks(np.arange(0, 24, 1))\n",
    "    plt.hist(x= trips[(trips[\"Name of the stop\"] == station)][\"Time of real arrival\"].dt.hour, weights = trips[(trips[\"Name of the stop\"] == station) ][\"Delay time\"]/(7*60),  color=np.random.rand(3,), bins = 100)\n",
    "    plt.show()"
   ],
   "metadata": {
    "collapsed": false
   }
  },
  {
   "cell_type": "markdown",
   "source": [
    "We can also plot them on top of each other"
   ],
   "metadata": {
    "collapsed": false
   }
  },
  {
   "cell_type": "code",
   "execution_count": null,
   "outputs": [],
   "source": [
    "fig, ax = plt.subplots()\n",
    "plt.style.use('seaborn-deep')\n",
    "for station in trips[\"Name of the stop\"].unique():\n",
    "    color = np.random.rand(3,)\n",
    "    # color = [\"#ff00ff\", \"#ffe4c4\", \"#000080\", \"#006400\", \"red\"][trips[\"Name of the stop\"].unique().tolist().index(station)]\n",
    "    plt.hist(trips[(trips[\"Name of the stop\"] == station)][\"Time of real arrival\"].dt.hour, weights = trips[(trips[\"Name of the stop\"] == station) ][\"Delay time\"]/(7*60),  color = color, bins = 50, alpha = 0.30, label = station, edgecolor = \"black\")\n",
    "ax.set_xlabel(\"Time of real arrival\")\n",
    "ax.set_ylabel(\"Delay time\")\n",
    "ax.set_title(\"Average delay time per station\")\n",
    "plt.legend(trips[\"Name of the stop\"].unique())\n",
    "plt.xticks(np.arange(0, 24, 1))\n",
    "\n",
    "\n",
    "plt.show()"
   ],
   "metadata": {
    "collapsed": false
   }
  },
  {
   "cell_type": "markdown",
   "source": [
    "We group brussels together, for the sake of visibility and similarity."
   ],
   "metadata": {
    "collapsed": false
   }
  },
  {
   "cell_type": "code",
   "execution_count": null,
   "outputs": [],
   "source": [
    "fig, ax = plt.subplots()\n",
    "plt.style.use('seaborn-deep')\n",
    "for station in trips[\"Name of the stop\"].unique():\n",
    "    color = np.random.rand(3,)\n",
    "    # color = [\"#ff00ff\", \"#ffe4c4\", \"#000080\", \"#006400\", \"red\"][trips[\"Name of the stop\"].unique().tolist().index(station)]\n",
    "    plt.hist(trips[(trips[\"Name of the stop\"] == station)][\"Time of real arrival\"].dt.hour, weights = trips[(trips[\"Name of the stop\"] == station) ][\"Delay time\"]/(7*60),  color = color, bins = 50, alpha = 0.30, label = station, edgecolor = \"black\")\n",
    "ax.set_xlabel(\"Time of real arrival\")\n",
    "ax.set_ylabel(\"Delay time\")\n",
    "ax.set_title(\"Average delay time per station\")\n",
    "plt.legend(trips[\"Name of the stop\"].unique())\n",
    "plt.xticks(np.arange(0, 24, 1))\n",
    "\n",
    "\n",
    "plt.show()"
   ],
   "metadata": {
    "collapsed": false
   }
  },
  {
   "cell_type": "code",
   "execution_count": null,
   "outputs": [],
   "source": [
    "\n",
    "fig, ax = plt.subplots()\n",
    "plt.style.use('seaborn-deep')\n",
    "for station in  [\"brussel-centraal/bruxelles-central\", \"brussel-noord/bruxelles-nord\", \"brussel-zuid/bruxelles-midi\"]:\n",
    "    color = \"red\"\n",
    "    # color = [\"#ff00ff\", \"#ffe4c4\", \"#000080\", \"#006400\", \"red\"][trips[\"Name of the stop\"].unique().tolist().index(station)]\n",
    "    plt.hist(trips[(trips[\"Name of the stop\"] == station)][\"Time of real arrival\"].dt.hour, weights = trips[(trips[\"Name of the stop\"] == station) ][\"Delay time\"]/(7*60),  color = color, bins = 50, alpha = 0.30, label = station, edgecolor = \"black\")\n",
    "ax.set_xlabel(\"Hour of the day\")\n",
    "ax.set_ylabel(\"Delay time in minutes\")\n",
    "ax.set_title(\"Average delay time per station\")\n",
    "plt.legend()\n",
    "plt.xticks(np.arange(0, 24, 1))\n",
    "\n",
    "for station in [\"gent-sint-pieters\", \"antwerpen-centraal\"]:\n",
    "    color = \"green\"\n",
    "    # color = [\"#ff00ff\", \"#ffe4c4\", \"#000080\", \"#006400\", \"red\"][trips[\"Name of the stop\"].unique().tolist().index(station)]\n",
    "    plt.hist(trips[(trips[\"Name of the stop\"] == station)][\"Time of real arrival\"].dt.hour, weights = trips[(trips[\"Name of the stop\"] == station) ][\"Delay time\"]/(7*60),  color = color, bins = 50, alpha = 0.8, label = station, edgecolor = \"black\")\n",
    "\n",
    "plt.legend()\n",
    "\n",
    "plt.show()"
   ],
   "metadata": {
    "collapsed": false
   }
  },
  {
   "cell_type": "markdown",
   "source": [
    "We see that the biggest amonunt of delay time is in Brussels"
   ],
   "metadata": {
    "collapsed": false
   }
  },
  {
   "cell_type": "code",
   "execution_count": null,
   "outputs": [],
   "source": [
    "trips[\"Name of the stop\"].unique()"
   ],
   "metadata": {
    "collapsed": false
   }
  },
  {
   "cell_type": "markdown",
   "source": [
    "Plot the 5 stations of brussels on a map"
   ],
   "metadata": {
    "collapsed": false
   }
  },
  {
   "cell_type": "code",
   "execution_count": 12,
   "outputs": [
    {
     "data": {
      "text/plain": "   ID  VERSIONID                       NAME_FRE  \\\n0   1          2  RÃ©gion de Bruxelles-Capitale   \n\n                         NAME_DUT COUNTRY NAT_CODE NAT_LEVEL          AREA  \\\n0  Brussels Hoofdstedelijk Gewest      BE     4000      None  1.624237e+08   \n\n  LEGAL_STAT                 INSPIRE_ID  BEGIN_LIFE END_LIFE  \\\n0  NOTAGREED  BE.BRUSSELS.BRIC.ADM.RE.1  2017-12-12     None   \n\n                                            geometry  \n0  POLYGON ((141192.634 167690.231, 141198.394 16...  ",
      "text/html": "<div>\n<style scoped>\n    .dataframe tbody tr th:only-of-type {\n        vertical-align: middle;\n    }\n\n    .dataframe tbody tr th {\n        vertical-align: top;\n    }\n\n    .dataframe thead th {\n        text-align: right;\n    }\n</style>\n<table border=\"1\" class=\"dataframe\">\n  <thead>\n    <tr style=\"text-align: right;\">\n      <th></th>\n      <th>ID</th>\n      <th>VERSIONID</th>\n      <th>NAME_FRE</th>\n      <th>NAME_DUT</th>\n      <th>COUNTRY</th>\n      <th>NAT_CODE</th>\n      <th>NAT_LEVEL</th>\n      <th>AREA</th>\n      <th>LEGAL_STAT</th>\n      <th>INSPIRE_ID</th>\n      <th>BEGIN_LIFE</th>\n      <th>END_LIFE</th>\n      <th>geometry</th>\n    </tr>\n  </thead>\n  <tbody>\n    <tr>\n      <th>0</th>\n      <td>1</td>\n      <td>2</td>\n      <td>RÃ©gion de Bruxelles-Capitale</td>\n      <td>Brussels Hoofdstedelijk Gewest</td>\n      <td>BE</td>\n      <td>4000</td>\n      <td>None</td>\n      <td>1.624237e+08</td>\n      <td>NOTAGREED</td>\n      <td>BE.BRUSSELS.BRIC.ADM.RE.1</td>\n      <td>2017-12-12</td>\n      <td>None</td>\n      <td>POLYGON ((141192.634 167690.231, 141198.394 16...</td>\n    </tr>\n  </tbody>\n</table>\n</div>"
     },
     "execution_count": 12,
     "metadata": {},
     "output_type": "execute_result"
    }
   ],
   "source": [
    "provinces = data.provinces\n",
    "stations = data.stations\n",
    "map_brussels = data.map_brussels\n",
    "map_brussels\n"
   ],
   "metadata": {
    "collapsed": false
   }
  },
  {
   "cell_type": "code",
   "execution_count": 16,
   "outputs": [
    {
     "data": {
      "text/plain": "<Figure size 640x480 with 1 Axes>",
      "image/png": "[encoded data removed]"
     },
     "metadata": {},
     "output_type": "display_data"
    }
   ],
   "source": [
    "fig, ax = plt.subplots()\n",
    "data.provinces.plot(ax=ax, color = \"#F0FFFF\", edgecolor = \"darkgrey\")\n",
    "plt.scatter(stations[stations[\"name\"].isin([\"Brussel-Centraal/Bruxelles-Central\", \"Brussel-Noord/Bruxelles-Nord\", \"Brussel-Kapellekerk/Bruxelles-Chapelle\", \"Brussel-Congres/Bruxelles-Congrès\", \"Brussel-Zuid/Bruxelles-Midi\"])][\"longitude\"], stations[stations[\"name\"].isin([\"Brussel-Centraal/Bruxelles-Central\", \"Brussel-Noord/Bruxelles-Nord\", \"Brussel-Kapellekerk/Bruxelles-Chapelle\", \"Brussel-Congres/Bruxelles-Congrès\", \"Brussel-Zuid/Bruxelles-Midi\"],)][\"latitude\"], color = \"red\")\n",
    "# add a x label\n",
    "\n",
    "ax.axis('off')\n",
    "plt.title(\"Stations with the most total delay\")\n",
    "plt.show()\n"
   ],
   "metadata": {
    "collapsed": false
   }
  },
  {
   "cell_type": "code",
   "execution_count": null,
   "outputs": [],
   "source": [
    "\n",
    "\n"
   ],
   "metadata": {
    "collapsed": false
   }
  },
  {
   "cell_type": "code",
   "execution_count": null,
   "outputs": [],
   "source": [],
   "metadata": {
    "collapsed": false
   }
  },
  {
   "cell_type": "code",
   "execution_count": null,
   "outputs": [],
   "source": [],
   "metadata": {
    "collapsed": false
   }
  }
 ],
 "metadata": {
  "kernelspec": {
   "display_name": "Python 3",
   "language": "python",
   "name": "python3"
  },
  "language_info": {
   "codemirror_mode": {
    "name": "ipython",
    "version": 2
   },
   "file_extension": ".py",
   "mimetype": "text/x-python",
   "name": "python",
   "nbconvert_exporter": "python",
   "pygments_lexer": "ipython2",
   "version": "2.7.6"
  }
 },
 "nbformat": 4,
 "nbformat_minor": 0
}
