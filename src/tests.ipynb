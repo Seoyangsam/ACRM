{
 "cells": [
  {
   "cell_type": "code",
   "execution_count": 1,
   "metadata": {
    "collapsed": true
   },
   "outputs": [],
   "source": [
    "import src.data_processing.data as data\n",
    "import numpy as np\n",
    "import pandas as pd"
   ]
  },
  {
   "cell_type": "code",
   "execution_count": 2,
   "outputs": [
    {
     "data": {
      "text/plain": "     Unnamed: 0           Station    week  saturday  sunday     sum\n0             0             aalst  6444.0    1768.0  1592.0  9804.0\n1             1  aalst-kerrebroek    27.0       0.0     0.0     NaN\n2             2            aalter  2288.0    1055.0   855.0  4198.0\n3             3          aarschot  6270.0    1954.0  1395.0  9619.0\n4             4           aarsele    34.0       0.0     0.0     NaN\n..          ...               ...     ...       ...     ...     ...\n548         548            zingem   523.0      98.0    86.0   707.0\n549         549            zolder   123.0      38.0    37.0   198.0\n550         550          zonhoven    67.0      29.0    19.0   115.0\n551         551          zottegem  4936.0     986.0   931.0  6853.0\n552         552       zwijndrecht   401.0      43.0    44.0   488.0\n\n[553 rows x 6 columns]",
      "text/html": "<div>\n<style scoped>\n    .dataframe tbody tr th:only-of-type {\n        vertical-align: middle;\n    }\n\n    .dataframe tbody tr th {\n        vertical-align: top;\n    }\n\n    .dataframe thead th {\n        text-align: right;\n    }\n</style>\n<table border=\"1\" class=\"dataframe\">\n  <thead>\n    <tr style=\"text-align: right;\">\n      <th></th>\n      <th>Unnamed: 0</th>\n      <th>Station</th>\n      <th>week</th>\n      <th>saturday</th>\n      <th>sunday</th>\n      <th>sum</th>\n    </tr>\n  </thead>\n  <tbody>\n    <tr>\n      <th>0</th>\n      <td>0</td>\n      <td>aalst</td>\n      <td>6444.0</td>\n      <td>1768.0</td>\n      <td>1592.0</td>\n      <td>9804.0</td>\n    </tr>\n    <tr>\n      <th>1</th>\n      <td>1</td>\n      <td>aalst-kerrebroek</td>\n      <td>27.0</td>\n      <td>0.0</td>\n      <td>0.0</td>\n      <td>NaN</td>\n    </tr>\n    <tr>\n      <th>2</th>\n      <td>2</td>\n      <td>aalter</td>\n      <td>2288.0</td>\n      <td>1055.0</td>\n      <td>855.0</td>\n      <td>4198.0</td>\n    </tr>\n    <tr>\n      <th>3</th>\n      <td>3</td>\n      <td>aarschot</td>\n      <td>6270.0</td>\n      <td>1954.0</td>\n      <td>1395.0</td>\n      <td>9619.0</td>\n    </tr>\n    <tr>\n      <th>4</th>\n      <td>4</td>\n      <td>aarsele</td>\n      <td>34.0</td>\n      <td>0.0</td>\n      <td>0.0</td>\n      <td>NaN</td>\n    </tr>\n    <tr>\n      <th>...</th>\n      <td>...</td>\n      <td>...</td>\n      <td>...</td>\n      <td>...</td>\n      <td>...</td>\n      <td>...</td>\n    </tr>\n    <tr>\n      <th>548</th>\n      <td>548</td>\n      <td>zingem</td>\n      <td>523.0</td>\n      <td>98.0</td>\n      <td>86.0</td>\n      <td>707.0</td>\n    </tr>\n    <tr>\n      <th>549</th>\n      <td>549</td>\n      <td>zolder</td>\n      <td>123.0</td>\n      <td>38.0</td>\n      <td>37.0</td>\n      <td>198.0</td>\n    </tr>\n    <tr>\n      <th>550</th>\n      <td>550</td>\n      <td>zonhoven</td>\n      <td>67.0</td>\n      <td>29.0</td>\n      <td>19.0</td>\n      <td>115.0</td>\n    </tr>\n    <tr>\n      <th>551</th>\n      <td>551</td>\n      <td>zottegem</td>\n      <td>4936.0</td>\n      <td>986.0</td>\n      <td>931.0</td>\n      <td>6853.0</td>\n    </tr>\n    <tr>\n      <th>552</th>\n      <td>552</td>\n      <td>zwijndrecht</td>\n      <td>401.0</td>\n      <td>43.0</td>\n      <td>44.0</td>\n      <td>488.0</td>\n    </tr>\n  </tbody>\n</table>\n<p>553 rows × 6 columns</p>\n</div>"
     },
     "execution_count": 2,
     "metadata": {},
     "output_type": "execute_result"
    }
   ],
   "source": [
    "travelers = data.travelers\n",
    "travelers"
   ],
   "metadata": {
    "collapsed": false
   }
  },
  {
   "cell_type": "code",
   "execution_count": 3,
   "outputs": [
    {
     "data": {
      "text/plain": "           URI              name country-code  longitude   latitude  \\\n3    008895000             Aalst           be   4.039653  50.942813   \n4    008895125  Aalst-Kerrebroek           be   4.024407  50.948377   \n5    008891140            Aalter           be   3.447848  51.092295   \n6    008833209          Aarschot           be   4.824043  50.984406   \n7    008892288           Aarsele           be   3.418363  50.984460   \n..         ...               ...          ...        ...        ...   \n669  008832250            Zolder           be   5.329900  51.033548   \n670  008832334          Zonhoven           be   5.348815  50.989557   \n671  008895208          Zottegem           be   3.814410  50.869102   \n673  008894821       Zwijndrecht           be   4.329780  51.214108   \n674  008883212       Écaussinnes           be   4.156639  50.562390   \n\n     avg_stop_times  official_transfer_time  \n3        157.425373                   300.0  \n4          7.731343                   300.0  \n5        188.276119                   240.0  \n6        171.664179                   240.0  \n7         37.365672                   300.0  \n..              ...                     ...  \n669       30.910448                   300.0  \n670       30.910448                   300.0  \n671      161.223881                   240.0  \n673      150.514925                   300.0  \n674       60.044776                   300.0  \n\n[569 rows x 7 columns]",
      "text/html": "<div>\n<style scoped>\n    .dataframe tbody tr th:only-of-type {\n        vertical-align: middle;\n    }\n\n    .dataframe tbody tr th {\n        vertical-align: top;\n    }\n\n    .dataframe thead th {\n        text-align: right;\n    }\n</style>\n<table border=\"1\" class=\"dataframe\">\n  <thead>\n    <tr style=\"text-align: right;\">\n      <th></th>\n      <th>URI</th>\n      <th>name</th>\n      <th>country-code</th>\n      <th>longitude</th>\n      <th>latitude</th>\n      <th>avg_stop_times</th>\n      <th>official_transfer_time</th>\n    </tr>\n  </thead>\n  <tbody>\n    <tr>\n      <th>3</th>\n      <td>008895000</td>\n      <td>Aalst</td>\n      <td>be</td>\n      <td>4.039653</td>\n      <td>50.942813</td>\n      <td>157.425373</td>\n      <td>300.0</td>\n    </tr>\n    <tr>\n      <th>4</th>\n      <td>008895125</td>\n      <td>Aalst-Kerrebroek</td>\n      <td>be</td>\n      <td>4.024407</td>\n      <td>50.948377</td>\n      <td>7.731343</td>\n      <td>300.0</td>\n    </tr>\n    <tr>\n      <th>5</th>\n      <td>008891140</td>\n      <td>Aalter</td>\n      <td>be</td>\n      <td>3.447848</td>\n      <td>51.092295</td>\n      <td>188.276119</td>\n      <td>240.0</td>\n    </tr>\n    <tr>\n      <th>6</th>\n      <td>008833209</td>\n      <td>Aarschot</td>\n      <td>be</td>\n      <td>4.824043</td>\n      <td>50.984406</td>\n      <td>171.664179</td>\n      <td>240.0</td>\n    </tr>\n    <tr>\n      <th>7</th>\n      <td>008892288</td>\n      <td>Aarsele</td>\n      <td>be</td>\n      <td>3.418363</td>\n      <td>50.984460</td>\n      <td>37.365672</td>\n      <td>300.0</td>\n    </tr>\n    <tr>\n      <th>...</th>\n      <td>...</td>\n      <td>...</td>\n      <td>...</td>\n      <td>...</td>\n      <td>...</td>\n      <td>...</td>\n      <td>...</td>\n    </tr>\n    <tr>\n      <th>669</th>\n      <td>008832250</td>\n      <td>Zolder</td>\n      <td>be</td>\n      <td>5.329900</td>\n      <td>51.033548</td>\n      <td>30.910448</td>\n      <td>300.0</td>\n    </tr>\n    <tr>\n      <th>670</th>\n      <td>008832334</td>\n      <td>Zonhoven</td>\n      <td>be</td>\n      <td>5.348815</td>\n      <td>50.989557</td>\n      <td>30.910448</td>\n      <td>300.0</td>\n    </tr>\n    <tr>\n      <th>671</th>\n      <td>008895208</td>\n      <td>Zottegem</td>\n      <td>be</td>\n      <td>3.814410</td>\n      <td>50.869102</td>\n      <td>161.223881</td>\n      <td>240.0</td>\n    </tr>\n    <tr>\n      <th>673</th>\n      <td>008894821</td>\n      <td>Zwijndrecht</td>\n      <td>be</td>\n      <td>4.329780</td>\n      <td>51.214108</td>\n      <td>150.514925</td>\n      <td>300.0</td>\n    </tr>\n    <tr>\n      <th>674</th>\n      <td>008883212</td>\n      <td>Écaussinnes</td>\n      <td>be</td>\n      <td>4.156639</td>\n      <td>50.562390</td>\n      <td>60.044776</td>\n      <td>300.0</td>\n    </tr>\n  </tbody>\n</table>\n<p>569 rows × 7 columns</p>\n</div>"
     },
     "execution_count": 3,
     "metadata": {},
     "output_type": "execute_result"
    }
   ],
   "source": [
    "stations = data.stations\n",
    "stations"
   ],
   "metadata": {
    "collapsed": false
   }
  },
  {
   "cell_type": "code",
   "execution_count": 4,
   "outputs": [
    {
     "data": {
      "text/plain": "       Unnamed: 0 Date of departure  Train number Relation Railway operators  \\\n0               0        2020-09-22            11      ICE         SNCB/NMBS   \n1               1        2020-09-22            11      ICE         SNCB/NMBS   \n2               2        2020-09-22            11      ICE         SNCB/NMBS   \n3               3        2020-09-22            11      ICE         SNCB/NMBS   \n4               4        2020-09-22            11      ICE         SNCB/NMBS   \n...           ...               ...           ...      ...               ...   \n72524       72524        2020-09-24         17200    EXTRA         SNCB/NMBS   \n72525       72525        2020-09-24         17200    EXTRA         SNCB/NMBS   \n72526       72526        2020-09-24         17200    EXTRA         SNCB/NMBS   \n72527       72527        2020-09-24         17301    EXTRA         SNCB/NMBS   \n72528       72528        2020-09-24         17301    EXTRA         SNCB/NMBS   \n\n      Railway of departure Time of real arrival Time of real departure  \\\n0                      36N  2022-10-31 06:31:22    2022-10-31 06:33:27   \n1                      36N  2022-10-31 06:36:23    2022-10-31 06:36:23   \n2                      36N  2022-10-31 06:37:44    2022-10-31 06:37:44   \n3                      36N  2022-10-31 06:38:39    2022-10-31 06:38:39   \n4                      36N  2022-10-31 06:39:47    2022-10-31 06:39:47   \n...                    ...                  ...                    ...   \n72524                  130  2022-10-31 17:20:23    2022-10-31 17:20:23   \n72525                  154  2022-10-31 17:27:14    2022-10-31 17:27:14   \n72526                  NaN  2022-10-31 17:33:22                    NaT   \n72527                  140  2022-10-31 18:57:01    2022-10-31 18:58:04   \n72528                  140  2022-10-31 19:29:57    2022-10-31 19:29:57   \n\n      Time of planned arrival Time of planned departure  \\\n0         2022-10-31 06:31:00       2022-10-31 06:33:00   \n1         2022-10-31 06:36:00       2022-10-31 06:36:00   \n2         2022-10-31 06:37:00       2022-10-31 06:37:00   \n3         2022-10-31 06:38:00       2022-10-31 06:38:00   \n4         2022-10-31 06:40:00       2022-10-31 06:40:00   \n...                       ...                       ...   \n72524     2022-10-31 17:05:00       2022-10-31 17:05:00   \n72525     2022-10-31 17:17:00       2022-10-31 17:17:00   \n72526     2022-10-31 17:20:00                       NaT   \n72527     2022-10-31 18:55:00       2022-10-31 18:56:00   \n72528     2022-10-31 19:26:00       2022-10-31 19:26:00   \n\n                          Direction of relation              Name of the stop  \\\n0      ICE: BRUSSEL-ZUID -> FRANKFURT(MAIN) HBF  brussel-noord/bruxelles-nord   \n1      ICE: BRUSSEL-ZUID -> FRANKFURT(MAIN) HBF         schaarbeek/schaerbeek   \n2      ICE: BRUSSEL-ZUID -> FRANKFURT(MAIN) HBF          haren-sud/haren-zuid   \n3      ICE: BRUSSEL-ZUID -> FRANKFURT(MAIN) HBF                        diegem   \n4      ICE: BRUSSEL-ZUID -> FRANKFURT(MAIN) HBF                    kortenberg   \n...                                         ...                           ...   \n72524                                       NaN                         ronet   \n72525                                       NaN                namur-herbatte   \n72526                                       NaN                        jambes   \n72527                                       NaN               charleroi-ouest   \n72528                                       NaN                          faux   \n\n      Railway of arrival Date of planned arrival Date of planned departure  \\\n0                    0/1     2020-09-22 00:00:00                2020-09-22   \n1                    36N     2020-09-22 00:00:00                2020-09-22   \n2                    36N     2020-09-22 00:00:00                2020-09-22   \n3                    36N     2020-09-22 00:00:00                2020-09-22   \n4                    36N     2020-09-22 00:00:00                2020-09-22   \n...                  ...                     ...                       ...   \n72524                130     2020-09-24 00:00:00                2020-09-24   \n72525                154     2020-09-24 00:00:00                2020-09-24   \n72526                154     2020-09-24 00:00:00                       NaN   \n72527              140/1     2020-09-24 00:00:00                2020-09-24   \n72528                140     2020-09-24 00:00:00                2020-09-24   \n\n      Date of real arrival Date of real departure  Delay time  \n0               2020-09-22             2020-09-22          22  \n1               2020-09-22             2020-09-22          23  \n2               2020-09-22             2020-09-22          44  \n3               2020-09-22             2020-09-22          39  \n4               2020-09-22             2020-09-22           0  \n...                    ...                    ...         ...  \n72524           2020-09-24             2020-09-24         923  \n72525           2020-09-24             2020-09-24         614  \n72526           2020-09-24                    NaN         802  \n72527           2020-09-24             2020-09-24         121  \n72528           2020-09-24             2020-09-24         237  \n\n[440943 rows x 18 columns]",
      "text/html": "<div>\n<style scoped>\n    .dataframe tbody tr th:only-of-type {\n        vertical-align: middle;\n    }\n\n    .dataframe tbody tr th {\n        vertical-align: top;\n    }\n\n    .dataframe thead th {\n        text-align: right;\n    }\n</style>\n<table border=\"1\" class=\"dataframe\">\n  <thead>\n    <tr style=\"text-align: right;\">\n      <th></th>\n      <th>Unnamed: 0</th>\n      <th>Date of departure</th>\n      <th>Train number</th>\n      <th>Relation</th>\n      <th>Railway operators</th>\n      <th>Railway of departure</th>\n      <th>Time of real arrival</th>\n      <th>Time of real departure</th>\n      <th>Time of planned arrival</th>\n      <th>Time of planned departure</th>\n      <th>Direction of relation</th>\n      <th>Name of the stop</th>\n      <th>Railway of arrival</th>\n      <th>Date of planned arrival</th>\n      <th>Date of planned departure</th>\n      <th>Date of real arrival</th>\n      <th>Date of real departure</th>\n      <th>Delay time</th>\n    </tr>\n  </thead>\n  <tbody>\n    <tr>\n      <th>0</th>\n      <td>0</td>\n      <td>2020-09-22</td>\n      <td>11</td>\n      <td>ICE</td>\n      <td>SNCB/NMBS</td>\n      <td>36N</td>\n      <td>2022-10-31 06:31:22</td>\n      <td>2022-10-31 06:33:27</td>\n      <td>2022-10-31 06:31:00</td>\n      <td>2022-10-31 06:33:00</td>\n      <td>ICE: BRUSSEL-ZUID -&gt; FRANKFURT(MAIN) HBF</td>\n      <td>brussel-noord/bruxelles-nord</td>\n      <td>0/1</td>\n      <td>2020-09-22 00:00:00</td>\n      <td>2020-09-22</td>\n      <td>2020-09-22</td>\n      <td>2020-09-22</td>\n      <td>22</td>\n    </tr>\n    <tr>\n      <th>1</th>\n      <td>1</td>\n      <td>2020-09-22</td>\n      <td>11</td>\n      <td>ICE</td>\n      <td>SNCB/NMBS</td>\n      <td>36N</td>\n      <td>2022-10-31 06:36:23</td>\n      <td>2022-10-31 06:36:23</td>\n      <td>2022-10-31 06:36:00</td>\n      <td>2022-10-31 06:36:00</td>\n      <td>ICE: BRUSSEL-ZUID -&gt; FRANKFURT(MAIN) HBF</td>\n      <td>schaarbeek/schaerbeek</td>\n      <td>36N</td>\n      <td>2020-09-22 00:00:00</td>\n      <td>2020-09-22</td>\n      <td>2020-09-22</td>\n      <td>2020-09-22</td>\n      <td>23</td>\n    </tr>\n    <tr>\n      <th>2</th>\n      <td>2</td>\n      <td>2020-09-22</td>\n      <td>11</td>\n      <td>ICE</td>\n      <td>SNCB/NMBS</td>\n      <td>36N</td>\n      <td>2022-10-31 06:37:44</td>\n      <td>2022-10-31 06:37:44</td>\n      <td>2022-10-31 06:37:00</td>\n      <td>2022-10-31 06:37:00</td>\n      <td>ICE: BRUSSEL-ZUID -&gt; FRANKFURT(MAIN) HBF</td>\n      <td>haren-sud/haren-zuid</td>\n      <td>36N</td>\n      <td>2020-09-22 00:00:00</td>\n      <td>2020-09-22</td>\n      <td>2020-09-22</td>\n      <td>2020-09-22</td>\n      <td>44</td>\n    </tr>\n    <tr>\n      <th>3</th>\n      <td>3</td>\n      <td>2020-09-22</td>\n      <td>11</td>\n      <td>ICE</td>\n      <td>SNCB/NMBS</td>\n      <td>36N</td>\n      <td>2022-10-31 06:38:39</td>\n      <td>2022-10-31 06:38:39</td>\n      <td>2022-10-31 06:38:00</td>\n      <td>2022-10-31 06:38:00</td>\n      <td>ICE: BRUSSEL-ZUID -&gt; FRANKFURT(MAIN) HBF</td>\n      <td>diegem</td>\n      <td>36N</td>\n      <td>2020-09-22 00:00:00</td>\n      <td>2020-09-22</td>\n      <td>2020-09-22</td>\n      <td>2020-09-22</td>\n      <td>39</td>\n    </tr>\n    <tr>\n      <th>4</th>\n      <td>4</td>\n      <td>2020-09-22</td>\n      <td>11</td>\n      <td>ICE</td>\n      <td>SNCB/NMBS</td>\n      <td>36N</td>\n      <td>2022-10-31 06:39:47</td>\n      <td>2022-10-31 06:39:47</td>\n      <td>2022-10-31 06:40:00</td>\n      <td>2022-10-31 06:40:00</td>\n      <td>ICE: BRUSSEL-ZUID -&gt; FRANKFURT(MAIN) HBF</td>\n      <td>kortenberg</td>\n      <td>36N</td>\n      <td>2020-09-22 00:00:00</td>\n      <td>2020-09-22</td>\n      <td>2020-09-22</td>\n      <td>2020-09-22</td>\n      <td>0</td>\n    </tr>\n    <tr>\n      <th>...</th>\n      <td>...</td>\n      <td>...</td>\n      <td>...</td>\n      <td>...</td>\n      <td>...</td>\n      <td>...</td>\n      <td>...</td>\n      <td>...</td>\n      <td>...</td>\n      <td>...</td>\n      <td>...</td>\n      <td>...</td>\n      <td>...</td>\n      <td>...</td>\n      <td>...</td>\n      <td>...</td>\n      <td>...</td>\n      <td>...</td>\n    </tr>\n    <tr>\n      <th>72524</th>\n      <td>72524</td>\n      <td>2020-09-24</td>\n      <td>17200</td>\n      <td>EXTRA</td>\n      <td>SNCB/NMBS</td>\n      <td>130</td>\n      <td>2022-10-31 17:20:23</td>\n      <td>2022-10-31 17:20:23</td>\n      <td>2022-10-31 17:05:00</td>\n      <td>2022-10-31 17:05:00</td>\n      <td>NaN</td>\n      <td>ronet</td>\n      <td>130</td>\n      <td>2020-09-24 00:00:00</td>\n      <td>2020-09-24</td>\n      <td>2020-09-24</td>\n      <td>2020-09-24</td>\n      <td>923</td>\n    </tr>\n    <tr>\n      <th>72525</th>\n      <td>72525</td>\n      <td>2020-09-24</td>\n      <td>17200</td>\n      <td>EXTRA</td>\n      <td>SNCB/NMBS</td>\n      <td>154</td>\n      <td>2022-10-31 17:27:14</td>\n      <td>2022-10-31 17:27:14</td>\n      <td>2022-10-31 17:17:00</td>\n      <td>2022-10-31 17:17:00</td>\n      <td>NaN</td>\n      <td>namur-herbatte</td>\n      <td>154</td>\n      <td>2020-09-24 00:00:00</td>\n      <td>2020-09-24</td>\n      <td>2020-09-24</td>\n      <td>2020-09-24</td>\n      <td>614</td>\n    </tr>\n    <tr>\n      <th>72526</th>\n      <td>72526</td>\n      <td>2020-09-24</td>\n      <td>17200</td>\n      <td>EXTRA</td>\n      <td>SNCB/NMBS</td>\n      <td>NaN</td>\n      <td>2022-10-31 17:33:22</td>\n      <td>NaT</td>\n      <td>2022-10-31 17:20:00</td>\n      <td>NaT</td>\n      <td>NaN</td>\n      <td>jambes</td>\n      <td>154</td>\n      <td>2020-09-24 00:00:00</td>\n      <td>NaN</td>\n      <td>2020-09-24</td>\n      <td>NaN</td>\n      <td>802</td>\n    </tr>\n    <tr>\n      <th>72527</th>\n      <td>72527</td>\n      <td>2020-09-24</td>\n      <td>17301</td>\n      <td>EXTRA</td>\n      <td>SNCB/NMBS</td>\n      <td>140</td>\n      <td>2022-10-31 18:57:01</td>\n      <td>2022-10-31 18:58:04</td>\n      <td>2022-10-31 18:55:00</td>\n      <td>2022-10-31 18:56:00</td>\n      <td>NaN</td>\n      <td>charleroi-ouest</td>\n      <td>140/1</td>\n      <td>2020-09-24 00:00:00</td>\n      <td>2020-09-24</td>\n      <td>2020-09-24</td>\n      <td>2020-09-24</td>\n      <td>121</td>\n    </tr>\n    <tr>\n      <th>72528</th>\n      <td>72528</td>\n      <td>2020-09-24</td>\n      <td>17301</td>\n      <td>EXTRA</td>\n      <td>SNCB/NMBS</td>\n      <td>140</td>\n      <td>2022-10-31 19:29:57</td>\n      <td>2022-10-31 19:29:57</td>\n      <td>2022-10-31 19:26:00</td>\n      <td>2022-10-31 19:26:00</td>\n      <td>NaN</td>\n      <td>faux</td>\n      <td>140</td>\n      <td>2020-09-24 00:00:00</td>\n      <td>2020-09-24</td>\n      <td>2020-09-24</td>\n      <td>2020-09-24</td>\n      <td>237</td>\n    </tr>\n  </tbody>\n</table>\n<p>440943 rows × 18 columns</p>\n</div>"
     },
     "execution_count": 4,
     "metadata": {},
     "output_type": "execute_result"
    }
   ],
   "source": [
    "trips = data.full_trips\n",
    "trips[\"Name of the stop\"] = trips[\"Name of the stop\"].str.lower()\n",
    "trips"
   ],
   "metadata": {
    "collapsed": false
   }
  },
  {
   "cell_type": "code",
   "execution_count": 5,
   "outputs": [
    {
     "data": {
      "text/plain": "True    553\nName: Station, dtype: int64"
     },
     "execution_count": 5,
     "metadata": {},
     "output_type": "execute_result"
    }
   ],
   "source": [
    "travelers['Station'].isin(stations['name'].str.lower()).value_counts()"
   ],
   "metadata": {
    "collapsed": false
   }
  },
  {
   "cell_type": "code",
   "execution_count": 6,
   "outputs": [
    {
     "data": {
      "text/plain": "array(['antwerpen-dam', 'antwerpen-oost', 'athus-frontiere',\n       'bastogne-nord', 'bastogne-sud', 'blandain-frontiere',\n       'erquelinnes-frontière', 'essen-grens', 'gouvy-frontiere',\n       'ham-sur-sambre', 'hergenrath-frontiere', 'mouscron-frontiere',\n       'quevy-frontiere', 'sterpenich-frontiere', 'vise-frontiere',\n       'y.renory'], dtype=object)"
     },
     "execution_count": 6,
     "metadata": {},
     "output_type": "execute_result"
    }
   ],
   "source": [
    "np.setdiff1d(stations['name'].str.lower(), travelers['Station'])"
   ],
   "metadata": {
    "collapsed": false
   }
  },
  {
   "cell_type": "code",
   "execution_count": 7,
   "outputs": [
    {
     "data": {
      "text/plain": "True    553\nName: Station, dtype: int64"
     },
     "execution_count": 7,
     "metadata": {},
     "output_type": "execute_result"
    }
   ],
   "source": [
    "travelers['Station'].isin(trips['Name of the stop']).value_counts()"
   ],
   "metadata": {
    "collapsed": false
   }
  },
  {
   "cell_type": "code",
   "execution_count": 8,
   "outputs": [
    {
     "data": {
      "text/plain": "array([], dtype=object)"
     },
     "execution_count": 8,
     "metadata": {},
     "output_type": "execute_result"
    }
   ],
   "source": [
    "np.setdiff1d(travelers['Station'], trips['Name of the stop'].str.lower())"
   ],
   "metadata": {
    "collapsed": false
   }
  },
  {
   "cell_type": "code",
   "execution_count": 9,
   "outputs": [
    {
     "data": {
      "text/plain": "array(['antwerpen-dam', 'antwerpen-oost', 'antwerpen-w.h.-b.kallo',\n       'balen-werkplaatsen', 'baulers', 'bilzen-wijkspoor',\n       \"bois d'ausse\", 'charleroi-faisceau a', 'chatelet-carwash',\n       'chatelet-faisceau c', 'chatelet-formation', 'deinze-wijksporen',\n       'flemalle-annexe', 'floree', 'gedinne-marchandises',\n       'gent-sint-pieters-bundels', 'gent-zeehaven',\n       'gentbrugge-perron c.w.', 'haacht-wijkspoor', 'halle-goederen',\n       'ham-sur-sambre', 'hasselt-aflos l.35', 'hasselt-aflos l.35/1',\n       'hatrival', 'haversin-garage', 'havinnes', 'hennuyeres-garage',\n       'hermalle-sous-huy', 'izegem-sas', 'java', 'jemeppe-froidmont',\n       'jemeppe-sur-sambre-marchandise', 'kapellen-wijkspoor',\n       'kinkempois-relais', 'kortenberg-goederen',\n       'la louviere-gare industrielle', 'lauwe', 'leuven-bundel m',\n       'liers-faisceau', 'lobbes-garage', 'lokeren-oost',\n       'luchtbal-wijkbundel', 'machelen', 'marche-les-dames-marchandises',\n       'marcinelle', 'moustier-garage', 'namur-herbatte',\n       'neufvilles-garage', 'ninove-wijkspoor', 'obourg-marchandises',\n       'olne', 'oostende-perron t.o.p.', 'oostende-t.w.',\n       'oostende-zeehaven', 'ottignies-relais', 'rhisnes-sas',\n       'rivage-marchandises', 'ronet-formation', 'schaarbeek-carwash',\n       'schaarbeek-d.o.p.', 'schaarbeek-groep g', 'schaarbeek-groep r',\n       'schaarbeek-josaphat', 'schaarbeek-perron p.c.i.',\n       'schaarbeek-perron t.w./d.-nos', 'schaarbeek-perron vorming',\n       'schaarbeek-sas k/c', 'schulen-sas', 'sint-niklaas-oost',\n       'stoumont', 'tilleur', 'tilly-garage', 'zeebrugge-vorming',\n       'zolder-kruissporen'], dtype=object)"
     },
     "execution_count": 9,
     "metadata": {},
     "output_type": "execute_result"
    }
   ],
   "source": [
    "np.setdiff1d( trips['Name of the stop'].str.lower(),travelers['Station'])"
   ],
   "metadata": {
    "collapsed": false
   }
  },
  {
   "cell_type": "code",
   "execution_count": 9,
   "outputs": [],
   "source": [],
   "metadata": {
    "collapsed": false
   }
  },
  {
   "cell_type": "code",
   "execution_count": 9,
   "outputs": [],
   "source": [],
   "metadata": {
    "collapsed": false
   }
  }
 ],
 "metadata": {
  "kernelspec": {
   "display_name": "Python 3",
   "language": "python",
   "name": "python3"
  },
  "language_info": {
   "codemirror_mode": {
    "name": "ipython",
    "version": 2
   },
   "file_extension": ".py",
   "mimetype": "text/x-python",
   "name": "python",
   "nbconvert_exporter": "python",
   "pygments_lexer": "ipython2",
   "version": "2.7.6"
  }
 },
 "nbformat": 4,
 "nbformat_minor": 0
}
