{
 "cells": [
  {
   "cell_type": "markdown",
   "id": "da9d8fe5",
   "metadata": {},
   "source": [
    "# 21. We can clearly observe a weekend-effect in the number of daily travelers? However, some stations experience more travelers during the weekend. Which stations are this? Plot them on a map of Belgium and try to deduct a reasoning to what causes these stations to observe an opposed effect?"
   ]
  },
  {
   "cell_type": "code",
   "execution_count": 1,
   "id": "b48bb732",
   "metadata": {},
   "outputs": [
    {
     "name": "stdout",
     "output_type": "stream",
     "text": [
      "/home/seoyangsam/PycharmProjects/group7-group-assignment-\n"
     ]
    }
   ],
   "source": [
    "%cd ..\n"
   ]
  },
  {
   "cell_type": "code",
   "execution_count": null,
   "id": "1b3ce98c",
   "metadata": {},
   "outputs": [],
   "source": [
    "# import packages\n",
    "from data_processing import data\n",
    "import utils as utils\n",
    "import numpy as np\n",
    "import pandas as pd\n",
    "import matplotlib.pyplot as plt\n",
    "import geopandas as gpd"
   ]
  },
  {
   "cell_type": "code",
   "execution_count": null,
   "id": "497d6330",
   "metadata": {},
   "outputs": [],
   "source": [
    "data.travelers.head()"
   ]
  },
  {
   "cell_type": "code",
   "execution_count": null,
   "id": "62610e6e",
   "metadata": {},
   "outputs": [],
   "source": [
    "data.travelers = data.travelers[data.travelers['sunday'] + data.travelers['saturday'] > data.travelers['week']]"
   ]
  },
  {
   "cell_type": "code",
   "execution_count": null,
   "id": "ae52391f",
   "metadata": {},
   "outputs": [],
   "source": [
    "data.travelers.head()"
   ]
  },
  {
   "cell_type": "code",
   "execution_count": null,
   "id": "3b521902",
   "metadata": {},
   "outputs": [],
   "source": [
    "stations = data.stations[[\"name\",\"longitude\",\"latitude\"]]"
   ]
  },
  {
   "cell_type": "code",
   "execution_count": null,
   "id": "3096cf51",
   "metadata": {},
   "outputs": [],
   "source": [
    "# Standardize name for stations\n",
    "stations['name'] = stations['name'].str.lower()\n",
    "stations = stations.replace({\"name\": utils.Dict})"
   ]
  },
  {
   "cell_type": "code",
   "execution_count": null,
   "id": "35fc62e1",
   "metadata": {},
   "outputs": [],
   "source": [
    "stations.head()\n"
   ]
  },
  {
   "cell_type": "code",
   "execution_count": null,
   "id": "0fd0dac1",
   "metadata": {},
   "outputs": [],
   "source": [
    "travelers = data.travelers.rename(index=str, columns={'Station': 'name'})"
   ]
  },
  {
   "cell_type": "code",
   "execution_count": null,
   "id": "32495621",
   "metadata": {},
   "outputs": [],
   "source": [
    "travelers.head()"
   ]
  },
  {
   "cell_type": "code",
   "execution_count": null,
   "id": "cc455825",
   "metadata": {},
   "outputs": [],
   "source": [
    "travelers = travelers.merge(stations, on='name')"
   ]
  },
  {
   "cell_type": "code",
   "execution_count": null,
   "id": "753c2a33",
   "metadata": {},
   "outputs": [],
   "source": [
    "travelers.head()"
   ]
  },
  {
   "cell_type": "code",
   "execution_count": null,
   "id": "19ddd4b1",
   "metadata": {},
   "outputs": [],
   "source": [
    "# use !pip install geopandas to install package "
   ]
  },
  {
   "cell_type": "code",
   "execution_count": null,
   "id": "a61ab5e4",
   "metadata": {},
   "outputs": [],
   "source": [
    "# read in file in geopandas data structure\n",
    "map_df = gpd.read_file('./Data/Unprocessed/BELGIUM_-_Municipalities/BELGIUM_-_Municipalities.shp')"
   ]
  },
  {
   "cell_type": "code",
   "execution_count": null,
   "id": "8a47d015",
   "metadata": {},
   "outputs": [],
   "source": [
    "map_df.head()"
   ]
  },
  {
   "cell_type": "code",
   "execution_count": null,
   "id": "91515b57",
   "metadata": {},
   "outputs": [],
   "source": [
    "# show\n",
    "map_df.plot()"
   ]
  },
  {
   "cell_type": "code",
   "execution_count": null,
   "id": "6edcd671",
   "metadata": {},
   "outputs": [],
   "source": [
    "dict = {'Name': travelers[\"name\"], 'lat': travelers[\"latitude\"], 'lon': travelers[\"longitude\"]}\n",
    "stations_df = pd.DataFrame(dict, columns = ['Name', 'lat', 'lon'])\n",
    "stations_df"
   ]
  },
  {
   "cell_type": "code",
   "execution_count": null,
   "id": "9cdb9473",
   "metadata": {},
   "outputs": [],
   "source": [
    "gdf = gpd.GeoDataFrame(\n",
    "    stations_df, geometry=gpd.points_from_xy(stations_df.lon, stations_df.lat))"
   ]
  },
  {
   "cell_type": "code",
   "execution_count": null,
   "id": "e1075c7c",
   "metadata": {},
   "outputs": [],
   "source": [
    "gdf.plot()"
   ]
  },
  {
   "cell_type": "code",
   "execution_count": null,
   "id": "4be0c011",
   "metadata": {},
   "outputs": [],
   "source": [
    "map_be = gpd.read_file('./Data/Unprocessed/BELGIUM_-_Municipalities/BELGIUM_-_Municipalities.shp')\n",
    "\n",
    "ax = map_be.plot(\n",
    "    color='#F0FFFF', edgecolor='darkgrey')\n",
    "\n",
    "# We can now plot those stations on the Belgium map\n",
    "gdf.plot( ax=ax, color='red')\n",
    "plt.xlabel(\"lon\")\n",
    "plt.ylabel(\"lat\")\n",
    "plt.show()"
   ]
  },
  {
   "cell_type": "markdown",
   "id": "a8ba97d5",
   "metadata": {},
   "source": [
    "The possible reason why those stations have more traverls on weekends is because :\n",
    "1. for stations near the seaside: people go for fun \n",
    "2. stations near the border: people go abroad \n",
    "3. big stations like brussel: people go for taking flight\n",
    "etc"
   ]
  },
  {
   "cell_type": "code",
   "execution_count": null,
   "id": "f883c77d",
   "metadata": {},
   "outputs": [],
   "source": [
    "# now we plot the facilities of those stations \n",
    "data.facilities.head()"
   ]
  },
  {
   "cell_type": "code",
   "execution_count": null,
   "id": "334afe39",
   "metadata": {},
   "outputs": [],
   "source": [
    "col_list= data.facilities.columns[5:22]\n",
    "# sum specific columns\n",
    "data.facilities['num_facilities'] = data.facilities[col_list].sum(axis=1)"
   ]
  },
  {
   "cell_type": "code",
   "execution_count": null,
   "id": "506281df",
   "metadata": {},
   "outputs": [],
   "source": [
    "data.facilities.head()"
   ]
  },
  {
   "cell_type": "code",
   "execution_count": null,
   "id": "56e73f92",
   "metadata": {},
   "outputs": [],
   "source": [
    "travelers = travelers.merge(data.facilities, on='name')"
   ]
  },
  {
   "cell_type": "code",
   "execution_count": null,
   "id": "6dcda214",
   "metadata": {},
   "outputs": [],
   "source": [
    "travelers.head()"
   ]
  },
  {
   "cell_type": "code",
   "execution_count": null,
   "id": "20fdfeed",
   "metadata": {},
   "outputs": [],
   "source": [
    "input_plot = travelers[[\"name\",\"num_facilities\"]]"
   ]
  },
  {
   "cell_type": "code",
   "execution_count": null,
   "id": "a45a8cee",
   "metadata": {
    "scrolled": true
   },
   "outputs": [],
   "source": [
    "fig, ax = plt.subplots()\n",
    "plt.bar(input_plot['name'], input_plot['num_facilities'])\n",
    "plt.locator_params(axis='x', nbins=len(input_plot))\n",
    "plt.ylabel('Number of facilities')\n",
    "plt.xticks(rotation = 90)\n",
    "plt.show()"
   ]
  },
  {
   "cell_type": "markdown",
   "id": "f2b65f1b",
   "metadata": {},
   "source": [
    "so we think the number of facilities is not a factor why those station have more travelers on weekend"
   ]
  },
  {
   "cell_type": "markdown",
   "id": "c4c37647",
   "metadata": {},
   "source": [
    "now let's take a look at the sales opening time. For stations which opens on weekends, do they have more travelers on weekends?"
   ]
  },
  {
   "cell_type": "code",
   "execution_count": null,
   "id": "5c3f148a",
   "metadata": {},
   "outputs": [],
   "source": [
    "data.facilities['sales_open_weekend'] = data.facilities['sales_open_saturday']+ data.facilities['sales_open_sunday']"
   ]
  },
  {
   "cell_type": "code",
   "execution_count": null,
   "id": "72e312a0",
   "metadata": {},
   "outputs": [],
   "source": [
    "data.facilities"
   ]
  },
  {
   "cell_type": "code",
   "execution_count": null,
   "id": "8801b684",
   "metadata": {},
   "outputs": [],
   "source": [
    "facilities = data.facilities.query('sales_open_weekend != \"0 days 00:00:00\"')"
   ]
  },
  {
   "cell_type": "code",
   "execution_count": null,
   "id": "b792906f",
   "metadata": {},
   "outputs": [],
   "source": [
    "from data_processing import data"
   ]
  },
  {
   "cell_type": "code",
   "execution_count": null,
   "id": "b591c2f8",
   "metadata": {},
   "outputs": [],
   "source": [
    "data.travelers"
   ]
  },
  {
   "cell_type": "code",
   "execution_count": null,
   "id": "63d7005d",
   "metadata": {},
   "outputs": [],
   "source": [
    "facilities = facilities.merge(data.travelers, on='name')"
   ]
  },
  {
   "cell_type": "code",
   "execution_count": null,
   "id": "370455eb",
   "metadata": {},
   "outputs": [],
   "source": [
    "facilities"
   ]
  },
  {
   "cell_type": "code",
   "execution_count": null,
   "id": "a4593275",
   "metadata": {},
   "outputs": [],
   "source": [
    "data.travelers = data.travelers[data.travelers['sunday'] + data.travelers['saturday'] > data.travelers['week']]"
   ]
  },
  {
   "cell_type": "code",
   "execution_count": null,
   "id": "93a70883",
   "metadata": {},
   "outputs": [],
   "source": []
  }
 ],
 "metadata": {
  "kernelspec": {
   "display_name": "Python 3 (ipykernel)",
   "language": "python",
   "name": "python3"
  },
  "language_info": {
   "codemirror_mode": {
    "name": "ipython",
    "version": 3
   },
   "file_extension": ".py",
   "mimetype": "text/x-python",
   "name": "python",
   "nbconvert_exporter": "python",
   "pygments_lexer": "ipython3",
   "version": "3.8.10"
  }
 },
 "nbformat": 4,
 "nbformat_minor": 5
}
