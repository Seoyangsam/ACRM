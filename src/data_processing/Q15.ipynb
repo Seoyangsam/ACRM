{
 "cells": [
  {
   "cell_type": "code",
   "execution_count": 7,
   "outputs": [],
   "source": [
    "import pandas as pd\n",
    "from pathlib import Path\n",
    "from pandas.api.types import is_datetime64_any_dtype as is_datetime\n",
    "import src.utils as utils\n",
    "import numpy as np\n",
    "import matplotlib.pyplot as plt\n",
    "import seaborn as sns\n",
    "from IPython.core.pylabtools import figsize\n",
    "import src.data_processing.data as data"
   ],
   "metadata": {
    "collapsed": false
   }
  },
  {
   "cell_type": "code",
   "execution_count": 10,
   "outputs": [
    {
     "name": "stderr",
     "output_type": "stream",
     "text": [
      "\n",
      "KeyboardInterrupt\n",
      "\n"
     ]
    }
   ],
   "source": [
    "# define function to get delay\n",
    "def get_delay(expected, real):\n",
    "    if real > expected:\n",
    "        delay = (real-expected).seconds\n",
    "    else:\n",
    "        delay = None\n",
    "    return delay\n",
    "\n",
    "data.full_trips['Delay time'] = data.full_trips.apply(lambda obs: get_delay(obs['Time of planned arrival'], obs['Time of real arrival']), axis = 1)\n",
    "\n",
    "\n",
    "trips_filtered = data.full_trips[(data.full_trips['Time of planned arrival'].dt.hour == 14) & (data.full_trips['Date of real arrival'] == '2020-09-20')]\n"
   ],
   "metadata": {
    "collapsed": false
   }
  },
  {
   "cell_type": "code",
   "execution_count": 33,
   "outputs": [],
   "source": [
    "x_values = []\n",
    "y_values = []\n",
    "for j in range(20, 27):\n",
    "    for i in range(24):\n",
    "        x_values.append(data.full_trips[(data.full_trips['Time of planned arrival'].dt.hour == i) & (data.full_trips['Date of real arrival'].dt.day == j)].shape[0])\n",
    "        y_values.append(data.full_trips[(data.full_trips['Time of planned arrival'].dt.hour == i) & (data.full_trips['Date of real arrival'].dt.day == j)]['Delay time'].mean())"
   ],
   "metadata": {
    "collapsed": false
   }
  },
  {
   "cell_type": "code",
   "execution_count": 38,
   "outputs": [
    {
     "data": {
      "text/plain": "[6078.413793103448,\n 49.916666666666664,\n nan,\n nan,\n 73.85,\n 90.2092050209205,\n 107.93315508021391,\n 100.73093042749372,\n 111.63372549019608,\n 123.4231884057971,\n 130.4037788663401,\n 161.41212534059946,\n 178.96918767507003,\n 135.10973837209303,\n 164.8306916426513,\n 133.25538461538463,\n 134.93758967001435,\n 121.47854077253218,\n 436.60424242424244,\n 420.68168346176645,\n 290.82186948853615,\n 249.0515796260477,\n 189.20117351215424,\n 155.41587301587302,\n 2143.538167938931,\n 103.82758620689656,\n 71.0,\n nan,\n 144.7987421383648,\n 174.6271186440678,\n 186.4285172544558,\n 200.39307427967222,\n 224.6818181818182,\n 310.4288147138965,\n 296.60014306151646,\n 173.42829754601226,\n 127.153312788906,\n 130.95877551020408,\n 124.563258911085,\n 122.6889328063241,\n 219.69551681195517,\n 200.52836257309943,\n 293.4095528455285,\n 297.2675611681137,\n 353.4559130798161,\n 346.37142857142857,\n 315.59161595672754,\n 223.62762762762762,\n 3022.1325966850827,\n 225.69444444444446,\n nan,\n nan,\n 162.13612565445027,\n 178.88787375415282,\n 185.5315807442813,\n 201.27037319116528,\n 258.85042979942693,\n 233.62867525602908,\n 152.69313146233384,\n 142.65386154461785,\n 163.36907134316462,\n 184.5702193151212,\n 172.06310119276645,\n 202.66602391052834,\n 240.59594719066627,\n 187.7429567237874,\n 151.03372287145243,\n 141.79929022082018,\n 189.75996533795495,\n 165.0654911838791,\n 144.58393632416787,\n 176.37617554858934,\n 5459.304347826087,\n 294.16,\n nan,\n nan,\n 80.8974358974359,\n 153.61317254174398,\n 178.10126126126127,\n 207.75307651150348,\n 212.26839565741858,\n 190.08836053938964,\n 173.0794446586965,\n 150.83708769107,\n 161.29265536723165,\n 151.5926619243729,\n 143.068569163694,\n 132.2029564522573,\n 146.57192538729055,\n 171.8080747213016,\n 170.25650684931506,\n 159.49185538339293,\n 130.36171096345515,\n 105.46187602852442,\n 107.17974882260596,\n 116.49065420560747,\n 4369.132596685083,\n 151.65,\n nan,\n nan,\n 69.27272727272727,\n 69.380859375,\n 100.97717601547389,\n 168.21477996125103,\n 218.2012048192771,\n 188.21108365690083,\n 140.83938893476466,\n 141.57795813754805,\n 138.01576109498134,\n 119.79471632741446,\n 124.66234309623431,\n 132.2748514851485,\n 162.12383900928793,\n 186.98200442967885,\n 152.7456111295131,\n 141.35077376565954,\n 130.83770491803278,\n 108.24599483204135,\n 124.87572674418605,\n 89.8076923076923,\n 2253.7783251231526,\n 255.15,\n nan,\n nan,\n 93.89080459770115,\n 106.7237728585178,\n 130.73460803059274,\n 179.79881823297694,\n 176.18565662837628,\n 174.26068861142642,\n 173.45285876561908,\n 139.58462181362307,\n 136.43651419558358,\n 160.73743016759778,\n 184.38552787663107,\n 157.70733561383506,\n 167.54730504587155,\n 223.39994649545213,\n 300.5720364741641,\n 331.9963284379172,\n 307.68014571949,\n 254.88829787234042,\n 220.5040297582145,\n 185.9740596627756,\n 2207.387931034483,\n 543.25,\n nan,\n nan,\n 45.7,\n 155.49193548387098,\n 231.59284890426758,\n 248.7437150837989,\n 281.2230215827338,\n 255.9100191448628,\n 269.1789931634556,\n 219.6346528228423,\n 195.6119496855346,\n 187.76599870717519,\n 128.49866666666668,\n 107.83261802575107,\n 158.08080808080808,\n 168.54297407912688,\n 112.30508474576271,\n 98.5021582733813,\n 104.31974701335207,\n 111.6003098373354,\n 128.1980582524272,\n 152.92182410423453]"
     },
     "execution_count": 38,
     "metadata": {},
     "output_type": "execute_result"
    }
   ],
   "source": [
    "len(x_values)\n",
    "y_values"
   ],
   "metadata": {
    "collapsed": false
   }
  },
  {
   "cell_type": "code",
   "execution_count": 37,
   "outputs": [
    {
     "data": {
      "text/plain": "[0,\n 0,\n 0,\n 0,\n 0,\n 0,\n 0,\n 0,\n 0,\n 0,\n 0,\n 0,\n 0,\n 2,\n 23,\n 26,\n 26,\n 36,\n 37,\n 37,\n 38,\n 39,\n 46,\n 66,\n 262,\n 269,\n 269,\n 270,\n 270,\n 304,\n 308,\n 311,\n 314,\n 315,\n 335,\n 377,\n 387,\n 978,\n 996,\n 1127,\n 1129,\n 1143,\n 1163,\n 1169,\n 1208,\n 1235,\n 1629,\n 1636,\n 1637,\n 1641,\n 1647,\n 1683,\n 1757,\n 1918,\n 1931,\n 2082,\n 2103,\n 2131,\n 2134,\n 2155,\n 2164,\n 2168,\n 2172,\n 2177,\n 2197,\n 2200,\n 2206,\n 2209,\n 2211,\n 2217,\n 2224,\n 2225,\n 2233,\n 2237,\n 2241,\n 2254,\n 2256,\n 2272,\n 2273,\n 2277,\n 2280,\n 2289,\n 2293,\n 2297,\n 2298,\n 2303,\n 2311,\n 2331,\n 2980,\n 2983,\n 3003,\n 3008,\n 3016,\n 3404,\n 3419,\n 3448,\n 3457,\n 3467,\n 3701,\n 3714,\n 3727,\n 3732,\n 3732,\n 3733,\n 3742,\n 3744,\n 3751,\n 3753,\n 3754,\n 3762,\n 3766,\n 3767,\n 3771,\n 3772,\n 3773,\n 3782,\n 3783,\n 3786,\n 3786,\n 3792,\n 3792,\n 3793,\n 3796,\n 3796,\n 3797,\n 3798,\n 3799,\n 3799,\n 3800,\n 3806,\n 3811,\n 3816,\n 3832,\n 3833,\n 3840,\n 3848,\n 3852,\n 3855,\n 3856,\n 3862,\n 3866,\n 3889,\n 3901,\n 4132,\n 4198,\n 4234,\n 4234,\n 4262,\n 4320,\n 4329,\n 4351,\n 4355,\n 4359,\n 4461,\n 4506,\n 4518,\n 4528,\n 4528,\n 4597,\n 4631,\n 4680,\n 4699,\n 4709,\n 4771,\n 4807,\n 4813,\n 4819,\n 4829]"
     },
     "execution_count": 37,
     "metadata": {},
     "output_type": "execute_result"
    }
   ],
   "source": [
    "x_values.sort()\n",
    "x_values"
   ],
   "metadata": {
    "collapsed": false
   }
  },
  {
   "cell_type": "code",
   "execution_count": null,
   "outputs": [],
   "source": [],
   "metadata": {
    "collapsed": false
   }
  }
 ],
 "metadata": {
  "kernelspec": {
   "display_name": "Python 3",
   "language": "python",
   "name": "python3"
  },
  "language_info": {
   "codemirror_mode": {
    "name": "ipython",
    "version": 2
   },
   "file_extension": ".py",
   "mimetype": "text/x-python",
   "name": "python",
   "nbconvert_exporter": "python",
   "pygments_lexer": "ipython2",
   "version": "2.7.6"
  }
 },
 "nbformat": 4,
 "nbformat_minor": 0
}
