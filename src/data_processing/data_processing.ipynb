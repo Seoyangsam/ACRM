{
 "cells": [
  {
   "cell_type": "markdown",
   "source": [
    "Import packages and data"
   ],
   "metadata": {
    "collapsed": false
   }
  },
  {
   "cell_type": "code",
   "execution_count": 1,
   "outputs": [
    {
     "name": "stderr",
     "output_type": "stream",
     "text": [
      "/Users/maxwang/PycharmProjects/group7-group-assignment-/src/data_processing/data.py:34: FutureWarning: The frame.append method is deprecated and will be removed from pandas in a future version. Use pandas.concat instead.\n",
      "  full_trips = full_trips.append(df)\n",
      "/Users/maxwang/PycharmProjects/group7-group-assignment-/src/data_processing/data.py:34: FutureWarning: The frame.append method is deprecated and will be removed from pandas in a future version. Use pandas.concat instead.\n",
      "  full_trips = full_trips.append(df)\n",
      "/Users/maxwang/PycharmProjects/group7-group-assignment-/src/data_processing/data.py:34: FutureWarning: The frame.append method is deprecated and will be removed from pandas in a future version. Use pandas.concat instead.\n",
      "  full_trips = full_trips.append(df)\n",
      "/Users/maxwang/PycharmProjects/group7-group-assignment-/src/data_processing/data.py:34: FutureWarning: The frame.append method is deprecated and will be removed from pandas in a future version. Use pandas.concat instead.\n",
      "  full_trips = full_trips.append(df)\n",
      "/Users/maxwang/PycharmProjects/group7-group-assignment-/src/data_processing/data.py:34: FutureWarning: The frame.append method is deprecated and will be removed from pandas in a future version. Use pandas.concat instead.\n",
      "  full_trips = full_trips.append(df)\n",
      "/Users/maxwang/PycharmProjects/group7-group-assignment-/src/data_processing/data.py:34: FutureWarning: The frame.append method is deprecated and will be removed from pandas in a future version. Use pandas.concat instead.\n",
      "  full_trips = full_trips.append(df)\n",
      "/Users/maxwang/PycharmProjects/group7-group-assignment-/src/data_processing/data.py:34: FutureWarning: The frame.append method is deprecated and will be removed from pandas in a future version. Use pandas.concat instead.\n",
      "  full_trips = full_trips.append(df)\n"
     ]
    }
   ],
   "source": [
    "import numpy as np\n",
    "import pandas as pd\n",
    "import data\n",
    "import src.utils as utils\n",
    "from pandas.api.types import is_datetime64_any_dtype as is_datetime\n"
   ],
   "metadata": {
    "collapsed": false
   }
  },
  {
   "cell_type": "markdown",
   "source": [
    "# FACILITIES\n",
    " Impute the URI so we only have the digit part"
   ],
   "metadata": {
    "collapsed": false
   }
  },
  {
   "cell_type": "code",
   "execution_count": 2,
   "outputs": [
    {
     "data": {
      "text/plain": "0      008734201\n1      008015345\n2      008895000\n3      008895125\n4      008891140\n         ...    \n669    008832334\n670    008895208\n671    008891611\n672    008894821\n673    008883212\nName: URI, Length: 674, dtype: object"
     },
     "execution_count": 2,
     "metadata": {},
     "output_type": "execute_result"
    }
   ],
   "source": [
    "data.facilities['URI'] = data.facilities['URI'].str[-9:]\n",
    "data.facilities['URI']"
   ],
   "metadata": {
    "collapsed": false
   }
  },
  {
   "cell_type": "markdown",
   "source": [
    "Change disabled parking spots to dummy indicator"
   ],
   "metadata": {
    "collapsed": false
   }
  },
  {
   "cell_type": "code",
   "execution_count": 3,
   "outputs": [
    {
     "data": {
      "text/plain": "0      1\n1      1\n2      1\n3      0\n4      1\n      ..\n669    1\n670    1\n671    1\n672    0\n673    0\nName: disabled_parking_spots, Length: 674, dtype: int64"
     },
     "execution_count": 3,
     "metadata": {},
     "output_type": "execute_result"
    }
   ],
   "source": [
    "data.facilities['disabled_parking_spots'] = np.where(data.facilities['disabled_parking_spots'] == 0, 0, 1)\n",
    "data.facilities['disabled_parking_spots']"
   ],
   "metadata": {
    "collapsed": false
   }
  },
  {
   "cell_type": "markdown",
   "source": [
    "Assumption that null values mean that the facilities are not available.\n",
    "So we impute null values with 0"
   ],
   "metadata": {
    "collapsed": false
   }
  },
  {
   "cell_type": "code",
   "execution_count": 4,
   "outputs": [],
   "source": [
    "facil_col = ['ticket_vending_machine', 'luggage_lockers', 'free_parking', 'taxi', 'bicycle_spots', 'blue-bike',\n",
    "             'bus', 'tram', 'metro', 'wheelchair_available', 'ramp', 'disabled_parking_spots', 'elevated_platform',\n",
    "             'escalator_up', 'escalator_down', 'elevator_platform', 'audio_induction_loop']\n",
    "\n",
    "for col in facil_col:\n",
    "    data.facilities[col].fillna((0), inplace=True)"
   ],
   "metadata": {
    "collapsed": false
   }
  },
  {
   "cell_type": "markdown",
   "source": [
    "If street, zip and city are null, then the station is not from Belgium so we can drop it"
   ],
   "metadata": {
    "collapsed": false
   }
  },
  {
   "cell_type": "code",
   "execution_count": 35,
   "outputs": [
    {
     "data": {
      "text/plain": "           URI              name                    street   zip  \\\n2    008895000             aalst           Stationsplein 9  9300   \n3    008895125  aalst-kerrebroek                  Ledebaan  9300   \n4    008891140            aalter           Stationsplein 2  9880   \n5    008833209          aarschot               Statieplein  3200   \n6    008892288           aarsele       Hogenhovenstraat Zn  8700   \n..         ...               ...                       ...   ...   \n668  008832250            zolder        Stationsstraat Z/n  3550   \n669  008832334          zonhoven            Engstegenseweg  3520   \n670  008895208          zottegem          Stationsplein 12  9620   \n672  008894821       zwijndrecht                Fortlaan 1  2070   \n673  008883212       écaussinnes  Avenue De La Déportation  7190   \n\n                 city  ticket_vending_machine  luggage_lockers  free_parking  \\\n2               Aalst                     1.0              0.0           1.0   \n3               Aalst                     0.0              0.0           1.0   \n4              Aalter                     1.0              0.0           1.0   \n5            Aarschot                     1.0              0.0           1.0   \n6             Aarsele                     1.0              0.0           0.0   \n..                ...                     ...              ...           ...   \n668  Heusden - Zolder                     1.0              0.0           1.0   \n669          Zonhoven                     1.0              0.0           1.0   \n670          Zottegem                     1.0              0.0           1.0   \n672       Zwijndrecht                     1.0              0.0           1.0   \n673       Ecaussinnes                     1.0              0.0           1.0   \n\n     taxi  bicycle_spots  ...  sales_open_wednesday  sales_close_wednesday  \\\n2     1.0            1.0  ...       0 days 05:45:00        0 days 20:00:00   \n3     0.0            0.0  ...       0 days 00:00:00        0 days 00:00:00   \n4     0.0            1.0  ...       0 days 07:00:00        0 days 14:15:00   \n5     0.0            1.0  ...       0 days 05:45:00        0 days 20:00:00   \n6     0.0            0.0  ...       0 days 00:00:00        0 days 00:00:00   \n..    ...            ...  ...                   ...                    ...   \n668   0.0            0.0  ...       0 days 00:00:00        0 days 00:00:00   \n669   0.0            0.0  ...       0 days 00:00:00        0 days 00:00:00   \n670   0.0            1.0  ...       0 days 05:45:00        0 days 20:00:00   \n672   0.0            1.0  ...       0 days 00:00:00        0 days 00:00:00   \n673   0.0            1.0  ...       0 days 00:00:00        0 days 00:00:00   \n\n     sales_open_thursday  sales_close_thursday  sales_open_friday  \\\n2        0 days 05:45:00       0 days 20:00:00    0 days 05:45:00   \n3        0 days 00:00:00       0 days 00:00:00    0 days 00:00:00   \n4        0 days 07:00:00       0 days 14:15:00    0 days 07:00:00   \n5        0 days 05:45:00       0 days 20:00:00    0 days 05:45:00   \n6        0 days 00:00:00       0 days 00:00:00    0 days 00:00:00   \n..                   ...                   ...                ...   \n668      0 days 00:00:00       0 days 00:00:00    0 days 00:00:00   \n669      0 days 00:00:00       0 days 00:00:00    0 days 00:00:00   \n670      0 days 05:45:00       0 days 20:00:00    0 days 05:45:00   \n672      0 days 00:00:00       0 days 00:00:00    0 days 00:00:00   \n673      0 days 00:00:00       0 days 00:00:00    0 days 00:00:00   \n\n     sales_close_friday  sales_open_saturday  sales_close_saturday  \\\n2       0 days 20:00:00      0 days 06:00:00       0 days 20:00:00   \n3       0 days 00:00:00      0 days 00:00:00       0 days 00:00:00   \n4       0 days 14:15:00      0 days 07:45:00       0 days 15:00:00   \n5       0 days 20:00:00      0 days 06:00:00       0 days 20:00:00   \n6       0 days 00:00:00      0 days 00:00:00       0 days 00:00:00   \n..                  ...                  ...                   ...   \n668     0 days 00:00:00      0 days 00:00:00       0 days 00:00:00   \n669     0 days 00:00:00      0 days 00:00:00       0 days 00:00:00   \n670     0 days 20:00:00      0 days 07:15:00       0 days 14:30:00   \n672     0 days 00:00:00      0 days 00:00:00       0 days 00:00:00   \n673     0 days 00:00:00      0 days 00:00:00       0 days 00:00:00   \n\n     sales_open_sunday  sales_close_sunday  \n2      0 days 06:00:00     0 days 20:00:00  \n3      0 days 00:00:00     0 days 00:00:00  \n4      0 days 07:45:00     0 days 15:00:00  \n5      0 days 07:00:00     0 days 14:15:00  \n6      0 days 00:00:00     0 days 00:00:00  \n..                 ...                 ...  \n668    0 days 00:00:00     0 days 00:00:00  \n669    0 days 00:00:00     0 days 00:00:00  \n670    0 days 07:15:00     0 days 14:30:00  \n672    0 days 00:00:00     0 days 00:00:00  \n673    0 days 00:00:00     0 days 00:00:00  \n\n[557 rows x 36 columns]",
      "text/html": "<div>\n<style scoped>\n    .dataframe tbody tr th:only-of-type {\n        vertical-align: middle;\n    }\n\n    .dataframe tbody tr th {\n        vertical-align: top;\n    }\n\n    .dataframe thead th {\n        text-align: right;\n    }\n</style>\n<table border=\"1\" class=\"dataframe\">\n  <thead>\n    <tr style=\"text-align: right;\">\n      <th></th>\n      <th>URI</th>\n      <th>name</th>\n      <th>street</th>\n      <th>zip</th>\n      <th>city</th>\n      <th>ticket_vending_machine</th>\n      <th>luggage_lockers</th>\n      <th>free_parking</th>\n      <th>taxi</th>\n      <th>bicycle_spots</th>\n      <th>...</th>\n      <th>sales_open_wednesday</th>\n      <th>sales_close_wednesday</th>\n      <th>sales_open_thursday</th>\n      <th>sales_close_thursday</th>\n      <th>sales_open_friday</th>\n      <th>sales_close_friday</th>\n      <th>sales_open_saturday</th>\n      <th>sales_close_saturday</th>\n      <th>sales_open_sunday</th>\n      <th>sales_close_sunday</th>\n    </tr>\n  </thead>\n  <tbody>\n    <tr>\n      <th>2</th>\n      <td>008895000</td>\n      <td>aalst</td>\n      <td>Stationsplein 9</td>\n      <td>9300</td>\n      <td>Aalst</td>\n      <td>1.0</td>\n      <td>0.0</td>\n      <td>1.0</td>\n      <td>1.0</td>\n      <td>1.0</td>\n      <td>...</td>\n      <td>0 days 05:45:00</td>\n      <td>0 days 20:00:00</td>\n      <td>0 days 05:45:00</td>\n      <td>0 days 20:00:00</td>\n      <td>0 days 05:45:00</td>\n      <td>0 days 20:00:00</td>\n      <td>0 days 06:00:00</td>\n      <td>0 days 20:00:00</td>\n      <td>0 days 06:00:00</td>\n      <td>0 days 20:00:00</td>\n    </tr>\n    <tr>\n      <th>3</th>\n      <td>008895125</td>\n      <td>aalst-kerrebroek</td>\n      <td>Ledebaan</td>\n      <td>9300</td>\n      <td>Aalst</td>\n      <td>0.0</td>\n      <td>0.0</td>\n      <td>1.0</td>\n      <td>0.0</td>\n      <td>0.0</td>\n      <td>...</td>\n      <td>0 days 00:00:00</td>\n      <td>0 days 00:00:00</td>\n      <td>0 days 00:00:00</td>\n      <td>0 days 00:00:00</td>\n      <td>0 days 00:00:00</td>\n      <td>0 days 00:00:00</td>\n      <td>0 days 00:00:00</td>\n      <td>0 days 00:00:00</td>\n      <td>0 days 00:00:00</td>\n      <td>0 days 00:00:00</td>\n    </tr>\n    <tr>\n      <th>4</th>\n      <td>008891140</td>\n      <td>aalter</td>\n      <td>Stationsplein 2</td>\n      <td>9880</td>\n      <td>Aalter</td>\n      <td>1.0</td>\n      <td>0.0</td>\n      <td>1.0</td>\n      <td>0.0</td>\n      <td>1.0</td>\n      <td>...</td>\n      <td>0 days 07:00:00</td>\n      <td>0 days 14:15:00</td>\n      <td>0 days 07:00:00</td>\n      <td>0 days 14:15:00</td>\n      <td>0 days 07:00:00</td>\n      <td>0 days 14:15:00</td>\n      <td>0 days 07:45:00</td>\n      <td>0 days 15:00:00</td>\n      <td>0 days 07:45:00</td>\n      <td>0 days 15:00:00</td>\n    </tr>\n    <tr>\n      <th>5</th>\n      <td>008833209</td>\n      <td>aarschot</td>\n      <td>Statieplein</td>\n      <td>3200</td>\n      <td>Aarschot</td>\n      <td>1.0</td>\n      <td>0.0</td>\n      <td>1.0</td>\n      <td>0.0</td>\n      <td>1.0</td>\n      <td>...</td>\n      <td>0 days 05:45:00</td>\n      <td>0 days 20:00:00</td>\n      <td>0 days 05:45:00</td>\n      <td>0 days 20:00:00</td>\n      <td>0 days 05:45:00</td>\n      <td>0 days 20:00:00</td>\n      <td>0 days 06:00:00</td>\n      <td>0 days 20:00:00</td>\n      <td>0 days 07:00:00</td>\n      <td>0 days 14:15:00</td>\n    </tr>\n    <tr>\n      <th>6</th>\n      <td>008892288</td>\n      <td>aarsele</td>\n      <td>Hogenhovenstraat Zn</td>\n      <td>8700</td>\n      <td>Aarsele</td>\n      <td>1.0</td>\n      <td>0.0</td>\n      <td>0.0</td>\n      <td>0.0</td>\n      <td>0.0</td>\n      <td>...</td>\n      <td>0 days 00:00:00</td>\n      <td>0 days 00:00:00</td>\n      <td>0 days 00:00:00</td>\n      <td>0 days 00:00:00</td>\n      <td>0 days 00:00:00</td>\n      <td>0 days 00:00:00</td>\n      <td>0 days 00:00:00</td>\n      <td>0 days 00:00:00</td>\n      <td>0 days 00:00:00</td>\n      <td>0 days 00:00:00</td>\n    </tr>\n    <tr>\n      <th>...</th>\n      <td>...</td>\n      <td>...</td>\n      <td>...</td>\n      <td>...</td>\n      <td>...</td>\n      <td>...</td>\n      <td>...</td>\n      <td>...</td>\n      <td>...</td>\n      <td>...</td>\n      <td>...</td>\n      <td>...</td>\n      <td>...</td>\n      <td>...</td>\n      <td>...</td>\n      <td>...</td>\n      <td>...</td>\n      <td>...</td>\n      <td>...</td>\n      <td>...</td>\n      <td>...</td>\n    </tr>\n    <tr>\n      <th>668</th>\n      <td>008832250</td>\n      <td>zolder</td>\n      <td>Stationsstraat Z/n</td>\n      <td>3550</td>\n      <td>Heusden - Zolder</td>\n      <td>1.0</td>\n      <td>0.0</td>\n      <td>1.0</td>\n      <td>0.0</td>\n      <td>0.0</td>\n      <td>...</td>\n      <td>0 days 00:00:00</td>\n      <td>0 days 00:00:00</td>\n      <td>0 days 00:00:00</td>\n      <td>0 days 00:00:00</td>\n      <td>0 days 00:00:00</td>\n      <td>0 days 00:00:00</td>\n      <td>0 days 00:00:00</td>\n      <td>0 days 00:00:00</td>\n      <td>0 days 00:00:00</td>\n      <td>0 days 00:00:00</td>\n    </tr>\n    <tr>\n      <th>669</th>\n      <td>008832334</td>\n      <td>zonhoven</td>\n      <td>Engstegenseweg</td>\n      <td>3520</td>\n      <td>Zonhoven</td>\n      <td>1.0</td>\n      <td>0.0</td>\n      <td>1.0</td>\n      <td>0.0</td>\n      <td>0.0</td>\n      <td>...</td>\n      <td>0 days 00:00:00</td>\n      <td>0 days 00:00:00</td>\n      <td>0 days 00:00:00</td>\n      <td>0 days 00:00:00</td>\n      <td>0 days 00:00:00</td>\n      <td>0 days 00:00:00</td>\n      <td>0 days 00:00:00</td>\n      <td>0 days 00:00:00</td>\n      <td>0 days 00:00:00</td>\n      <td>0 days 00:00:00</td>\n    </tr>\n    <tr>\n      <th>670</th>\n      <td>008895208</td>\n      <td>zottegem</td>\n      <td>Stationsplein 12</td>\n      <td>9620</td>\n      <td>Zottegem</td>\n      <td>1.0</td>\n      <td>0.0</td>\n      <td>1.0</td>\n      <td>0.0</td>\n      <td>1.0</td>\n      <td>...</td>\n      <td>0 days 05:45:00</td>\n      <td>0 days 20:00:00</td>\n      <td>0 days 05:45:00</td>\n      <td>0 days 20:00:00</td>\n      <td>0 days 05:45:00</td>\n      <td>0 days 20:00:00</td>\n      <td>0 days 07:15:00</td>\n      <td>0 days 14:30:00</td>\n      <td>0 days 07:15:00</td>\n      <td>0 days 14:30:00</td>\n    </tr>\n    <tr>\n      <th>672</th>\n      <td>008894821</td>\n      <td>zwijndrecht</td>\n      <td>Fortlaan 1</td>\n      <td>2070</td>\n      <td>Zwijndrecht</td>\n      <td>1.0</td>\n      <td>0.0</td>\n      <td>1.0</td>\n      <td>0.0</td>\n      <td>1.0</td>\n      <td>...</td>\n      <td>0 days 00:00:00</td>\n      <td>0 days 00:00:00</td>\n      <td>0 days 00:00:00</td>\n      <td>0 days 00:00:00</td>\n      <td>0 days 00:00:00</td>\n      <td>0 days 00:00:00</td>\n      <td>0 days 00:00:00</td>\n      <td>0 days 00:00:00</td>\n      <td>0 days 00:00:00</td>\n      <td>0 days 00:00:00</td>\n    </tr>\n    <tr>\n      <th>673</th>\n      <td>008883212</td>\n      <td>écaussinnes</td>\n      <td>Avenue De La Déportation</td>\n      <td>7190</td>\n      <td>Ecaussinnes</td>\n      <td>1.0</td>\n      <td>0.0</td>\n      <td>1.0</td>\n      <td>0.0</td>\n      <td>1.0</td>\n      <td>...</td>\n      <td>0 days 00:00:00</td>\n      <td>0 days 00:00:00</td>\n      <td>0 days 00:00:00</td>\n      <td>0 days 00:00:00</td>\n      <td>0 days 00:00:00</td>\n      <td>0 days 00:00:00</td>\n      <td>0 days 00:00:00</td>\n      <td>0 days 00:00:00</td>\n      <td>0 days 00:00:00</td>\n      <td>0 days 00:00:00</td>\n    </tr>\n  </tbody>\n</table>\n<p>557 rows × 36 columns</p>\n</div>"
     },
     "execution_count": 35,
     "metadata": {},
     "output_type": "execute_result"
    }
   ],
   "source": [
    "\n",
    "data.facilities = data.facilities.dropna(axis=0, subset=[\"street\", \"zip\", \"city\"])\n",
    "data.facilities\n"
   ],
   "metadata": {
    "collapsed": false
   }
  },
  {
   "cell_type": "markdown",
   "source": [
    "Stations that do not have openinghours (null values), simply don't have a 'building'\n",
    "We change those null values to 00:00 , interpreted as opening and closing at 00:00 so no opening time , (NOT opened 24/7)\n"
   ],
   "metadata": {
    "collapsed": false
   }
  },
  {
   "cell_type": "code",
   "execution_count": 6,
   "outputs": [
    {
     "data": {
      "text/plain": "URI                        object\nname                       object\nstreet                     object\nzip                        object\ncity                       object\nticket_vending_machine    float64\nluggage_lockers           float64\nfree_parking              float64\ntaxi                      float64\nbicycle_spots             float64\nblue-bike                 float64\nbus                       float64\ntram                      float64\nmetro                     float64\nwheelchair_available      float64\nramp                      float64\ndisabled_parking_spots      int64\nelevated_platform         float64\nescalator_up              float64\nescalator_down            float64\nelevator_platform         float64\naudio_induction_loop      float64\nsales_open_monday          object\nsales_close_monday         object\nsales_open_tuesday         object\nsales_close_tuesday        object\nsales_open_wednesday       object\nsales_close_wednesday      object\nsales_open_thursday        object\nsales_close_thursday       object\nsales_open_friday          object\nsales_close_friday         object\nsales_open_saturday        object\nsales_close_saturday       object\nsales_open_sunday          object\nsales_close_sunday         object\ndtype: object"
     },
     "execution_count": 6,
     "metadata": {},
     "output_type": "execute_result"
    }
   ],
   "source": [
    "\n",
    "facility_openinghours=['sales_open_monday', 'sales_close_monday', 'sales_open_tuesday',\n",
    "       'sales_close_tuesday', 'sales_open_wednesday', 'sales_close_wednesday',\n",
    "       'sales_open_thursday', 'sales_close_thursday', 'sales_open_friday',\n",
    "       'sales_close_friday', 'sales_open_saturday', 'sales_close_saturday',\n",
    "       'sales_open_sunday', 'sales_close_sunday']\n",
    "for col in facility_openinghours:\n",
    "    data.facilities[col] = data.facilities[col].fillna(\"00:00\")\n",
    "data.facilities.dtypes\n"
   ],
   "metadata": {
    "collapsed": false
   }
  },
  {
   "cell_type": "markdown",
   "source": [
    "Change all opening and closing times to datetime"
   ],
   "metadata": {
    "collapsed": false
   }
  },
  {
   "cell_type": "code",
   "execution_count": 7,
   "outputs": [],
   "source": [
    "for fac_time in data.facilities[facility_openinghours]:\n",
    "    if not is_datetime(data.facilities[fac_time]):\n",
    "        data.facilities[fac_time] = pd.to_datetime(data.facilities[fac_time].astype(str), format='%H:%M')-pd.to_datetime('00:00', format='%H:%M')\n"
   ],
   "metadata": {
    "collapsed": false
   }
  },
  {
   "cell_type": "code",
   "execution_count": 8,
   "outputs": [
    {
     "data": {
      "text/plain": "URI                                object\nname                               object\nstreet                             object\nzip                                object\ncity                               object\nticket_vending_machine            float64\nluggage_lockers                   float64\nfree_parking                      float64\ntaxi                              float64\nbicycle_spots                     float64\nblue-bike                         float64\nbus                               float64\ntram                              float64\nmetro                             float64\nwheelchair_available              float64\nramp                              float64\ndisabled_parking_spots              int64\nelevated_platform                 float64\nescalator_up                      float64\nescalator_down                    float64\nelevator_platform                 float64\naudio_induction_loop              float64\nsales_open_monday         timedelta64[ns]\nsales_close_monday        timedelta64[ns]\nsales_open_tuesday        timedelta64[ns]\nsales_close_tuesday       timedelta64[ns]\nsales_open_wednesday      timedelta64[ns]\nsales_close_wednesday     timedelta64[ns]\nsales_open_thursday       timedelta64[ns]\nsales_close_thursday      timedelta64[ns]\nsales_open_friday         timedelta64[ns]\nsales_close_friday        timedelta64[ns]\nsales_open_saturday       timedelta64[ns]\nsales_close_saturday      timedelta64[ns]\nsales_open_sunday         timedelta64[ns]\nsales_close_sunday        timedelta64[ns]\ndtype: object"
     },
     "execution_count": 8,
     "metadata": {},
     "output_type": "execute_result"
    }
   ],
   "source": [
    "data.facilities.dtypes"
   ],
   "metadata": {
    "collapsed": false
   }
  },
  {
   "cell_type": "code",
   "execution_count": 9,
   "outputs": [
    {
     "data": {
      "text/plain": "           URI              name                    street   zip  \\\n2    008895000             Aalst           Stationsplein 9  9300   \n3    008895125  Aalst-Kerrebroek                  Ledebaan  9300   \n4    008891140            Aalter           Stationsplein 2  9880   \n5    008833209          Aarschot               Statieplein  3200   \n6    008892288           Aarsele       Hogenhovenstraat Zn  8700   \n..         ...               ...                       ...   ...   \n668  008832250            Zolder        Stationsstraat Z/n  3550   \n669  008832334          Zonhoven            Engstegenseweg  3520   \n670  008895208          Zottegem          Stationsplein 12  9620   \n672  008894821       Zwijndrecht                Fortlaan 1  2070   \n673  008883212       Écaussinnes  Avenue De La Déportation  7190   \n\n                 city  ticket_vending_machine  luggage_lockers  free_parking  \\\n2               Aalst                     1.0              0.0           1.0   \n3               Aalst                     0.0              0.0           1.0   \n4              Aalter                     1.0              0.0           1.0   \n5            Aarschot                     1.0              0.0           1.0   \n6             Aarsele                     1.0              0.0           0.0   \n..                ...                     ...              ...           ...   \n668  Heusden - Zolder                     1.0              0.0           1.0   \n669          Zonhoven                     1.0              0.0           1.0   \n670          Zottegem                     1.0              0.0           1.0   \n672       Zwijndrecht                     1.0              0.0           1.0   \n673       Ecaussinnes                     1.0              0.0           1.0   \n\n     taxi  bicycle_spots  ...  sales_open_wednesday  sales_close_wednesday  \\\n2     1.0            1.0  ...       0 days 05:45:00        0 days 20:00:00   \n3     0.0            0.0  ...       0 days 00:00:00        0 days 00:00:00   \n4     0.0            1.0  ...       0 days 07:00:00        0 days 14:15:00   \n5     0.0            1.0  ...       0 days 05:45:00        0 days 20:00:00   \n6     0.0            0.0  ...       0 days 00:00:00        0 days 00:00:00   \n..    ...            ...  ...                   ...                    ...   \n668   0.0            0.0  ...       0 days 00:00:00        0 days 00:00:00   \n669   0.0            0.0  ...       0 days 00:00:00        0 days 00:00:00   \n670   0.0            1.0  ...       0 days 05:45:00        0 days 20:00:00   \n672   0.0            1.0  ...       0 days 00:00:00        0 days 00:00:00   \n673   0.0            1.0  ...       0 days 00:00:00        0 days 00:00:00   \n\n     sales_open_thursday  sales_close_thursday  sales_open_friday  \\\n2        0 days 05:45:00       0 days 20:00:00    0 days 05:45:00   \n3        0 days 00:00:00       0 days 00:00:00    0 days 00:00:00   \n4        0 days 07:00:00       0 days 14:15:00    0 days 07:00:00   \n5        0 days 05:45:00       0 days 20:00:00    0 days 05:45:00   \n6        0 days 00:00:00       0 days 00:00:00    0 days 00:00:00   \n..                   ...                   ...                ...   \n668      0 days 00:00:00       0 days 00:00:00    0 days 00:00:00   \n669      0 days 00:00:00       0 days 00:00:00    0 days 00:00:00   \n670      0 days 05:45:00       0 days 20:00:00    0 days 05:45:00   \n672      0 days 00:00:00       0 days 00:00:00    0 days 00:00:00   \n673      0 days 00:00:00       0 days 00:00:00    0 days 00:00:00   \n\n     sales_close_friday  sales_open_saturday  sales_close_saturday  \\\n2       0 days 20:00:00      0 days 06:00:00       0 days 20:00:00   \n3       0 days 00:00:00      0 days 00:00:00       0 days 00:00:00   \n4       0 days 14:15:00      0 days 07:45:00       0 days 15:00:00   \n5       0 days 20:00:00      0 days 06:00:00       0 days 20:00:00   \n6       0 days 00:00:00      0 days 00:00:00       0 days 00:00:00   \n..                  ...                  ...                   ...   \n668     0 days 00:00:00      0 days 00:00:00       0 days 00:00:00   \n669     0 days 00:00:00      0 days 00:00:00       0 days 00:00:00   \n670     0 days 20:00:00      0 days 07:15:00       0 days 14:30:00   \n672     0 days 00:00:00      0 days 00:00:00       0 days 00:00:00   \n673     0 days 00:00:00      0 days 00:00:00       0 days 00:00:00   \n\n     sales_open_sunday  sales_close_sunday  \n2      0 days 06:00:00     0 days 20:00:00  \n3      0 days 00:00:00     0 days 00:00:00  \n4      0 days 07:45:00     0 days 15:00:00  \n5      0 days 07:00:00     0 days 14:15:00  \n6      0 days 00:00:00     0 days 00:00:00  \n..                 ...                 ...  \n668    0 days 00:00:00     0 days 00:00:00  \n669    0 days 00:00:00     0 days 00:00:00  \n670    0 days 07:15:00     0 days 14:30:00  \n672    0 days 00:00:00     0 days 00:00:00  \n673    0 days 00:00:00     0 days 00:00:00  \n\n[557 rows x 36 columns]",
      "text/html": "<div>\n<style scoped>\n    .dataframe tbody tr th:only-of-type {\n        vertical-align: middle;\n    }\n\n    .dataframe tbody tr th {\n        vertical-align: top;\n    }\n\n    .dataframe thead th {\n        text-align: right;\n    }\n</style>\n<table border=\"1\" class=\"dataframe\">\n  <thead>\n    <tr style=\"text-align: right;\">\n      <th></th>\n      <th>URI</th>\n      <th>name</th>\n      <th>street</th>\n      <th>zip</th>\n      <th>city</th>\n      <th>ticket_vending_machine</th>\n      <th>luggage_lockers</th>\n      <th>free_parking</th>\n      <th>taxi</th>\n      <th>bicycle_spots</th>\n      <th>...</th>\n      <th>sales_open_wednesday</th>\n      <th>sales_close_wednesday</th>\n      <th>sales_open_thursday</th>\n      <th>sales_close_thursday</th>\n      <th>sales_open_friday</th>\n      <th>sales_close_friday</th>\n      <th>sales_open_saturday</th>\n      <th>sales_close_saturday</th>\n      <th>sales_open_sunday</th>\n      <th>sales_close_sunday</th>\n    </tr>\n  </thead>\n  <tbody>\n    <tr>\n      <th>2</th>\n      <td>008895000</td>\n      <td>Aalst</td>\n      <td>Stationsplein 9</td>\n      <td>9300</td>\n      <td>Aalst</td>\n      <td>1.0</td>\n      <td>0.0</td>\n      <td>1.0</td>\n      <td>1.0</td>\n      <td>1.0</td>\n      <td>...</td>\n      <td>0 days 05:45:00</td>\n      <td>0 days 20:00:00</td>\n      <td>0 days 05:45:00</td>\n      <td>0 days 20:00:00</td>\n      <td>0 days 05:45:00</td>\n      <td>0 days 20:00:00</td>\n      <td>0 days 06:00:00</td>\n      <td>0 days 20:00:00</td>\n      <td>0 days 06:00:00</td>\n      <td>0 days 20:00:00</td>\n    </tr>\n    <tr>\n      <th>3</th>\n      <td>008895125</td>\n      <td>Aalst-Kerrebroek</td>\n      <td>Ledebaan</td>\n      <td>9300</td>\n      <td>Aalst</td>\n      <td>0.0</td>\n      <td>0.0</td>\n      <td>1.0</td>\n      <td>0.0</td>\n      <td>0.0</td>\n      <td>...</td>\n      <td>0 days 00:00:00</td>\n      <td>0 days 00:00:00</td>\n      <td>0 days 00:00:00</td>\n      <td>0 days 00:00:00</td>\n      <td>0 days 00:00:00</td>\n      <td>0 days 00:00:00</td>\n      <td>0 days 00:00:00</td>\n      <td>0 days 00:00:00</td>\n      <td>0 days 00:00:00</td>\n      <td>0 days 00:00:00</td>\n    </tr>\n    <tr>\n      <th>4</th>\n      <td>008891140</td>\n      <td>Aalter</td>\n      <td>Stationsplein 2</td>\n      <td>9880</td>\n      <td>Aalter</td>\n      <td>1.0</td>\n      <td>0.0</td>\n      <td>1.0</td>\n      <td>0.0</td>\n      <td>1.0</td>\n      <td>...</td>\n      <td>0 days 07:00:00</td>\n      <td>0 days 14:15:00</td>\n      <td>0 days 07:00:00</td>\n      <td>0 days 14:15:00</td>\n      <td>0 days 07:00:00</td>\n      <td>0 days 14:15:00</td>\n      <td>0 days 07:45:00</td>\n      <td>0 days 15:00:00</td>\n      <td>0 days 07:45:00</td>\n      <td>0 days 15:00:00</td>\n    </tr>\n    <tr>\n      <th>5</th>\n      <td>008833209</td>\n      <td>Aarschot</td>\n      <td>Statieplein</td>\n      <td>3200</td>\n      <td>Aarschot</td>\n      <td>1.0</td>\n      <td>0.0</td>\n      <td>1.0</td>\n      <td>0.0</td>\n      <td>1.0</td>\n      <td>...</td>\n      <td>0 days 05:45:00</td>\n      <td>0 days 20:00:00</td>\n      <td>0 days 05:45:00</td>\n      <td>0 days 20:00:00</td>\n      <td>0 days 05:45:00</td>\n      <td>0 days 20:00:00</td>\n      <td>0 days 06:00:00</td>\n      <td>0 days 20:00:00</td>\n      <td>0 days 07:00:00</td>\n      <td>0 days 14:15:00</td>\n    </tr>\n    <tr>\n      <th>6</th>\n      <td>008892288</td>\n      <td>Aarsele</td>\n      <td>Hogenhovenstraat Zn</td>\n      <td>8700</td>\n      <td>Aarsele</td>\n      <td>1.0</td>\n      <td>0.0</td>\n      <td>0.0</td>\n      <td>0.0</td>\n      <td>0.0</td>\n      <td>...</td>\n      <td>0 days 00:00:00</td>\n      <td>0 days 00:00:00</td>\n      <td>0 days 00:00:00</td>\n      <td>0 days 00:00:00</td>\n      <td>0 days 00:00:00</td>\n      <td>0 days 00:00:00</td>\n      <td>0 days 00:00:00</td>\n      <td>0 days 00:00:00</td>\n      <td>0 days 00:00:00</td>\n      <td>0 days 00:00:00</td>\n    </tr>\n    <tr>\n      <th>...</th>\n      <td>...</td>\n      <td>...</td>\n      <td>...</td>\n      <td>...</td>\n      <td>...</td>\n      <td>...</td>\n      <td>...</td>\n      <td>...</td>\n      <td>...</td>\n      <td>...</td>\n      <td>...</td>\n      <td>...</td>\n      <td>...</td>\n      <td>...</td>\n      <td>...</td>\n      <td>...</td>\n      <td>...</td>\n      <td>...</td>\n      <td>...</td>\n      <td>...</td>\n      <td>...</td>\n    </tr>\n    <tr>\n      <th>668</th>\n      <td>008832250</td>\n      <td>Zolder</td>\n      <td>Stationsstraat Z/n</td>\n      <td>3550</td>\n      <td>Heusden - Zolder</td>\n      <td>1.0</td>\n      <td>0.0</td>\n      <td>1.0</td>\n      <td>0.0</td>\n      <td>0.0</td>\n      <td>...</td>\n      <td>0 days 00:00:00</td>\n      <td>0 days 00:00:00</td>\n      <td>0 days 00:00:00</td>\n      <td>0 days 00:00:00</td>\n      <td>0 days 00:00:00</td>\n      <td>0 days 00:00:00</td>\n      <td>0 days 00:00:00</td>\n      <td>0 days 00:00:00</td>\n      <td>0 days 00:00:00</td>\n      <td>0 days 00:00:00</td>\n    </tr>\n    <tr>\n      <th>669</th>\n      <td>008832334</td>\n      <td>Zonhoven</td>\n      <td>Engstegenseweg</td>\n      <td>3520</td>\n      <td>Zonhoven</td>\n      <td>1.0</td>\n      <td>0.0</td>\n      <td>1.0</td>\n      <td>0.0</td>\n      <td>0.0</td>\n      <td>...</td>\n      <td>0 days 00:00:00</td>\n      <td>0 days 00:00:00</td>\n      <td>0 days 00:00:00</td>\n      <td>0 days 00:00:00</td>\n      <td>0 days 00:00:00</td>\n      <td>0 days 00:00:00</td>\n      <td>0 days 00:00:00</td>\n      <td>0 days 00:00:00</td>\n      <td>0 days 00:00:00</td>\n      <td>0 days 00:00:00</td>\n    </tr>\n    <tr>\n      <th>670</th>\n      <td>008895208</td>\n      <td>Zottegem</td>\n      <td>Stationsplein 12</td>\n      <td>9620</td>\n      <td>Zottegem</td>\n      <td>1.0</td>\n      <td>0.0</td>\n      <td>1.0</td>\n      <td>0.0</td>\n      <td>1.0</td>\n      <td>...</td>\n      <td>0 days 05:45:00</td>\n      <td>0 days 20:00:00</td>\n      <td>0 days 05:45:00</td>\n      <td>0 days 20:00:00</td>\n      <td>0 days 05:45:00</td>\n      <td>0 days 20:00:00</td>\n      <td>0 days 07:15:00</td>\n      <td>0 days 14:30:00</td>\n      <td>0 days 07:15:00</td>\n      <td>0 days 14:30:00</td>\n    </tr>\n    <tr>\n      <th>672</th>\n      <td>008894821</td>\n      <td>Zwijndrecht</td>\n      <td>Fortlaan 1</td>\n      <td>2070</td>\n      <td>Zwijndrecht</td>\n      <td>1.0</td>\n      <td>0.0</td>\n      <td>1.0</td>\n      <td>0.0</td>\n      <td>1.0</td>\n      <td>...</td>\n      <td>0 days 00:00:00</td>\n      <td>0 days 00:00:00</td>\n      <td>0 days 00:00:00</td>\n      <td>0 days 00:00:00</td>\n      <td>0 days 00:00:00</td>\n      <td>0 days 00:00:00</td>\n      <td>0 days 00:00:00</td>\n      <td>0 days 00:00:00</td>\n      <td>0 days 00:00:00</td>\n      <td>0 days 00:00:00</td>\n    </tr>\n    <tr>\n      <th>673</th>\n      <td>008883212</td>\n      <td>Écaussinnes</td>\n      <td>Avenue De La Déportation</td>\n      <td>7190</td>\n      <td>Ecaussinnes</td>\n      <td>1.0</td>\n      <td>0.0</td>\n      <td>1.0</td>\n      <td>0.0</td>\n      <td>1.0</td>\n      <td>...</td>\n      <td>0 days 00:00:00</td>\n      <td>0 days 00:00:00</td>\n      <td>0 days 00:00:00</td>\n      <td>0 days 00:00:00</td>\n      <td>0 days 00:00:00</td>\n      <td>0 days 00:00:00</td>\n      <td>0 days 00:00:00</td>\n      <td>0 days 00:00:00</td>\n      <td>0 days 00:00:00</td>\n      <td>0 days 00:00:00</td>\n    </tr>\n  </tbody>\n</table>\n<p>557 rows × 36 columns</p>\n</div>"
     },
     "execution_count": 9,
     "metadata": {},
     "output_type": "execute_result"
    }
   ],
   "source": [
    "data.facilities"
   ],
   "metadata": {
    "collapsed": false
   }
  },
  {
   "cell_type": "code",
   "execution_count": 10,
   "outputs": [
    {
     "data": {
      "text/plain": "(557, 36)"
     },
     "execution_count": 10,
     "metadata": {},
     "output_type": "execute_result"
    }
   ],
   "source": [
    "data.facilities.shape"
   ],
   "metadata": {
    "collapsed": false
   }
  },
  {
   "cell_type": "markdown",
   "source": [
    "# INCIDENTS\n",
    "Change date of the incident to datetime"
   ],
   "metadata": {
    "collapsed": false
   }
  },
  {
   "cell_type": "code",
   "execution_count": 11,
   "outputs": [
    {
     "data": {
      "text/plain": "Month                                  object\nDate of the incident           datetime64[ns]\nLine                                   object\nPlace                                  object\nDescription of the incident            object\nNumber of minutes delay                 int64\nNumber of cancelled trains              int64\ndtype: object"
     },
     "execution_count": 11,
     "metadata": {},
     "output_type": "execute_result"
    }
   ],
   "source": [
    "if not is_datetime(data.incidents[\"Date of the incident\"]):\n",
    "    data.incidents[\"Date of the incident\"] = pd.to_datetime(data.incidents[\"Date of the incident\"].astype(str), format='%d/%m/%y')\n",
    "data.incidents.dtypes\n"
   ],
   "metadata": {
    "collapsed": false
   }
  },
  {
   "cell_type": "markdown",
   "source": [
    "Remove month, since Date of the incidents already captures the month + extra info(day)"
   ],
   "metadata": {
    "collapsed": false
   }
  },
  {
   "cell_type": "code",
   "execution_count": 12,
   "outputs": [
    {
     "data": {
      "text/plain": "    Date of the incident Line                 Place  \\\n0             2019-01-04   96                 HALLE   \n1             2019-01-08   59               BELSELE   \n2             2019-01-15  50A           Y.MEULEWIJK   \n3             2019-01-18  161           GROENENDAAL   \n4             2019-01-23  124               DE HOEK   \n..                   ...  ...                   ...   \n193           2020-06-22  161             BOSVOORDE   \n194           2020-06-22   75                DEINZE   \n195           2020-07-08   25  MECHELEN-NEKKERSPOEL   \n196           2020-07-31  130              CHATELET   \n197           2020-08-03   50           DENDERLEEUW   \n\n             Description of the incident  Number of minutes delay  \\\n0                        Persoonsongeval                     2393   \n1                  Schade treinmaterieel                     1491   \n2                    Schade bovenleiding                     1776   \n3     Uitzonderlijke weersomstandigheden                     4388   \n4                  Schade treinmaterieel                     1379   \n..                                   ...                      ...   \n193            Incident tijdens een werf                     1322   \n194  Brand in de nabijheid van het spoor                     1077   \n195                      Persoonsongeval                     2791   \n196                Schade treinmaterieel                     1534   \n197                     Dringende werken                     6549   \n\n     Number of cancelled trains  \n0                            75  \n1                            23  \n2                            23  \n3                            89  \n4                            16  \n..                          ...  \n193                           6  \n194                          28  \n195                          80  \n196                          42  \n197                           2  \n\n[198 rows x 6 columns]",
      "text/html": "<div>\n<style scoped>\n    .dataframe tbody tr th:only-of-type {\n        vertical-align: middle;\n    }\n\n    .dataframe tbody tr th {\n        vertical-align: top;\n    }\n\n    .dataframe thead th {\n        text-align: right;\n    }\n</style>\n<table border=\"1\" class=\"dataframe\">\n  <thead>\n    <tr style=\"text-align: right;\">\n      <th></th>\n      <th>Date of the incident</th>\n      <th>Line</th>\n      <th>Place</th>\n      <th>Description of the incident</th>\n      <th>Number of minutes delay</th>\n      <th>Number of cancelled trains</th>\n    </tr>\n  </thead>\n  <tbody>\n    <tr>\n      <th>0</th>\n      <td>2019-01-04</td>\n      <td>96</td>\n      <td>HALLE</td>\n      <td>Persoonsongeval</td>\n      <td>2393</td>\n      <td>75</td>\n    </tr>\n    <tr>\n      <th>1</th>\n      <td>2019-01-08</td>\n      <td>59</td>\n      <td>BELSELE</td>\n      <td>Schade treinmaterieel</td>\n      <td>1491</td>\n      <td>23</td>\n    </tr>\n    <tr>\n      <th>2</th>\n      <td>2019-01-15</td>\n      <td>50A</td>\n      <td>Y.MEULEWIJK</td>\n      <td>Schade bovenleiding</td>\n      <td>1776</td>\n      <td>23</td>\n    </tr>\n    <tr>\n      <th>3</th>\n      <td>2019-01-18</td>\n      <td>161</td>\n      <td>GROENENDAAL</td>\n      <td>Uitzonderlijke weersomstandigheden</td>\n      <td>4388</td>\n      <td>89</td>\n    </tr>\n    <tr>\n      <th>4</th>\n      <td>2019-01-23</td>\n      <td>124</td>\n      <td>DE HOEK</td>\n      <td>Schade treinmaterieel</td>\n      <td>1379</td>\n      <td>16</td>\n    </tr>\n    <tr>\n      <th>...</th>\n      <td>...</td>\n      <td>...</td>\n      <td>...</td>\n      <td>...</td>\n      <td>...</td>\n      <td>...</td>\n    </tr>\n    <tr>\n      <th>193</th>\n      <td>2020-06-22</td>\n      <td>161</td>\n      <td>BOSVOORDE</td>\n      <td>Incident tijdens een werf</td>\n      <td>1322</td>\n      <td>6</td>\n    </tr>\n    <tr>\n      <th>194</th>\n      <td>2020-06-22</td>\n      <td>75</td>\n      <td>DEINZE</td>\n      <td>Brand in de nabijheid van het spoor</td>\n      <td>1077</td>\n      <td>28</td>\n    </tr>\n    <tr>\n      <th>195</th>\n      <td>2020-07-08</td>\n      <td>25</td>\n      <td>MECHELEN-NEKKERSPOEL</td>\n      <td>Persoonsongeval</td>\n      <td>2791</td>\n      <td>80</td>\n    </tr>\n    <tr>\n      <th>196</th>\n      <td>2020-07-31</td>\n      <td>130</td>\n      <td>CHATELET</td>\n      <td>Schade treinmaterieel</td>\n      <td>1534</td>\n      <td>42</td>\n    </tr>\n    <tr>\n      <th>197</th>\n      <td>2020-08-03</td>\n      <td>50</td>\n      <td>DENDERLEEUW</td>\n      <td>Dringende werken</td>\n      <td>6549</td>\n      <td>2</td>\n    </tr>\n  </tbody>\n</table>\n<p>198 rows × 6 columns</p>\n</div>"
     },
     "execution_count": 12,
     "metadata": {},
     "output_type": "execute_result"
    }
   ],
   "source": [
    "data.incidents = data.incidents.drop(\"Month\", axis =1);\n",
    "data.incidents"
   ],
   "metadata": {
    "collapsed": false
   }
  },
  {
   "cell_type": "markdown",
   "source": [
    "For the number of minutes delay:"
   ],
   "metadata": {
    "collapsed": false
   }
  },
  {
   "cell_type": "code",
   "execution_count": 13,
   "outputs": [
    {
     "data": {
      "text/plain": "BRUSSEL-ZUID                 7421\nBRUSSEL-NOORD                6899\nBRUSSEL-CENTRAAL             6892\nBRUSSEL-KAPELLEKERK          6892\nBRUSSEL-CONGRES              6892\n                             ... \nOOSTENDE-ZEEHAVEN               3\nLEUVEN-BUNDEL M                 2\nHASSELT-AFLOS L.35/1            1\nGENT-ZEEHAVEN                   1\nGENT-SINT-PIETERS-BUNDELS       1\nName: Name of the stop, Length: 627, dtype: int64"
     },
     "execution_count": 13,
     "metadata": {},
     "output_type": "execute_result"
    }
   ],
   "source": [
    "frequency_trips = data.full_trips[\"Name of the stop\"].value_counts()\n",
    "frequency_trips"
   ],
   "metadata": {
    "collapsed": false
   }
  },
  {
   "cell_type": "code",
   "execution_count": 14,
   "outputs": [
    {
     "data": {
      "text/plain": "               Station       sum\n83          BRU.-CENT.  106069.0\n197  GENT-SINT-PIETERS  101227.0\n88     BRU.-NOORD/NORD   87982.0\n16      ANTWERPEN-CAAL   82099.0\n306             LEUVEN   59739.0\n..                 ...       ...\n526              WELLE       NaN\n532           WICHELEN       NaN\n536           WOLFSTEE       NaN\n543     ZEEBRUGGE-DORP       NaN\n544   ZEEBRUGGE-STRAND       NaN\n\n[553 rows x 2 columns]",
      "text/html": "<div>\n<style scoped>\n    .dataframe tbody tr th:only-of-type {\n        vertical-align: middle;\n    }\n\n    .dataframe tbody tr th {\n        vertical-align: top;\n    }\n\n    .dataframe thead th {\n        text-align: right;\n    }\n</style>\n<table border=\"1\" class=\"dataframe\">\n  <thead>\n    <tr style=\"text-align: right;\">\n      <th></th>\n      <th>Station</th>\n      <th>sum</th>\n    </tr>\n  </thead>\n  <tbody>\n    <tr>\n      <th>83</th>\n      <td>BRU.-CENT.</td>\n      <td>106069.0</td>\n    </tr>\n    <tr>\n      <th>197</th>\n      <td>GENT-SINT-PIETERS</td>\n      <td>101227.0</td>\n    </tr>\n    <tr>\n      <th>88</th>\n      <td>BRU.-NOORD/NORD</td>\n      <td>87982.0</td>\n    </tr>\n    <tr>\n      <th>16</th>\n      <td>ANTWERPEN-CAAL</td>\n      <td>82099.0</td>\n    </tr>\n    <tr>\n      <th>306</th>\n      <td>LEUVEN</td>\n      <td>59739.0</td>\n    </tr>\n    <tr>\n      <th>...</th>\n      <td>...</td>\n      <td>...</td>\n    </tr>\n    <tr>\n      <th>526</th>\n      <td>WELLE</td>\n      <td>NaN</td>\n    </tr>\n    <tr>\n      <th>532</th>\n      <td>WICHELEN</td>\n      <td>NaN</td>\n    </tr>\n    <tr>\n      <th>536</th>\n      <td>WOLFSTEE</td>\n      <td>NaN</td>\n    </tr>\n    <tr>\n      <th>543</th>\n      <td>ZEEBRUGGE-DORP</td>\n      <td>NaN</td>\n    </tr>\n    <tr>\n      <th>544</th>\n      <td>ZEEBRUGGE-STRAND</td>\n      <td>NaN</td>\n    </tr>\n  </tbody>\n</table>\n<p>553 rows × 2 columns</p>\n</div>"
     },
     "execution_count": 14,
     "metadata": {},
     "output_type": "execute_result"
    }
   ],
   "source": [
    "# data.travelers[\"sum\"] = data.travelers[\"Avg number of travelers in the week\"] + data.travelers[\"Avg number of travelers on Saturday\"] + data.travelers[\"Avg number of travelers on Sunday\"]\n",
    "\n",
    "\n",
    "data.travelers[\"sum\"] = data.travelers[\"week\"] + data.travelers[\"saturday\"] + data.travelers[\"sunday\"]\n",
    "frequency_travelers = data.travelers[[\"Station\", \"sum\"]].sort_values(by = [\"sum\"], ascending = False)\n",
    "frequency_travelers"
   ],
   "metadata": {
    "collapsed": false
   }
  },
  {
   "cell_type": "markdown",
   "source": [
    "For the number of cancelled trains:"
   ],
   "metadata": {
    "collapsed": false
   }
  },
  {
   "cell_type": "code",
   "execution_count": 15,
   "outputs": [],
   "source": [
    "# see below"
   ],
   "metadata": {
    "collapsed": false
   }
  },
  {
   "cell_type": "markdown",
   "source": [],
   "metadata": {
    "collapsed": false
   }
  },
  {
   "cell_type": "markdown",
   "source": [
    "# Satisfaction\n",
    "Drop rows that have null values (not sure)"
   ],
   "metadata": {
    "collapsed": false
   }
  },
  {
   "cell_type": "code",
   "execution_count": 16,
   "outputs": [
    {
     "data": {
      "text/plain": "     Unnamed: 0                    station  Avg Satisfaction\n0             0           COURCELLES-MOTTE              3.63\n1             1                       ROUX             13.58\n2             2            RONET-FORMATION             55.84\n4             4         CHATELET-FORMATION             62.61\n5             5         MARCHIENNE-AU-PONT             25.93\n..          ...                        ...               ...\n616         616     ANTWERPEN-W.H.-B.KALLO             29.81\n617         617                   VIELSALM             51.74\n618         618                      GOUVY             67.90\n619         619  SCHAARBEEK-PERRON VORMING             53.30\n621         621  GENT-SINT-PIETERS-BUNDELS             49.02\n\n[580 rows x 3 columns]",
      "text/html": "<div>\n<style scoped>\n    .dataframe tbody tr th:only-of-type {\n        vertical-align: middle;\n    }\n\n    .dataframe tbody tr th {\n        vertical-align: top;\n    }\n\n    .dataframe thead th {\n        text-align: right;\n    }\n</style>\n<table border=\"1\" class=\"dataframe\">\n  <thead>\n    <tr style=\"text-align: right;\">\n      <th></th>\n      <th>Unnamed: 0</th>\n      <th>station</th>\n      <th>Avg Satisfaction</th>\n    </tr>\n  </thead>\n  <tbody>\n    <tr>\n      <th>0</th>\n      <td>0</td>\n      <td>COURCELLES-MOTTE</td>\n      <td>3.63</td>\n    </tr>\n    <tr>\n      <th>1</th>\n      <td>1</td>\n      <td>ROUX</td>\n      <td>13.58</td>\n    </tr>\n    <tr>\n      <th>2</th>\n      <td>2</td>\n      <td>RONET-FORMATION</td>\n      <td>55.84</td>\n    </tr>\n    <tr>\n      <th>4</th>\n      <td>4</td>\n      <td>CHATELET-FORMATION</td>\n      <td>62.61</td>\n    </tr>\n    <tr>\n      <th>5</th>\n      <td>5</td>\n      <td>MARCHIENNE-AU-PONT</td>\n      <td>25.93</td>\n    </tr>\n    <tr>\n      <th>...</th>\n      <td>...</td>\n      <td>...</td>\n      <td>...</td>\n    </tr>\n    <tr>\n      <th>616</th>\n      <td>616</td>\n      <td>ANTWERPEN-W.H.-B.KALLO</td>\n      <td>29.81</td>\n    </tr>\n    <tr>\n      <th>617</th>\n      <td>617</td>\n      <td>VIELSALM</td>\n      <td>51.74</td>\n    </tr>\n    <tr>\n      <th>618</th>\n      <td>618</td>\n      <td>GOUVY</td>\n      <td>67.90</td>\n    </tr>\n    <tr>\n      <th>619</th>\n      <td>619</td>\n      <td>SCHAARBEEK-PERRON VORMING</td>\n      <td>53.30</td>\n    </tr>\n    <tr>\n      <th>621</th>\n      <td>621</td>\n      <td>GENT-SINT-PIETERS-BUNDELS</td>\n      <td>49.02</td>\n    </tr>\n  </tbody>\n</table>\n<p>580 rows × 3 columns</p>\n</div>"
     },
     "execution_count": 16,
     "metadata": {},
     "output_type": "execute_result"
    }
   ],
   "source": [
    "data.satisfaction.dropna(inplace=True)\n",
    "data.satisfaction"
   ],
   "metadata": {
    "collapsed": false
   }
  },
  {
   "cell_type": "markdown",
   "source": [
    "# Stations\n",
    "URI imputation to only get the digits"
   ],
   "metadata": {
    "collapsed": false
   }
  },
  {
   "cell_type": "code",
   "execution_count": 17,
   "outputs": [],
   "source": [
    "data.stations['URI'] = data.stations['URI'].str[-9:]"
   ],
   "metadata": {
    "collapsed": false
   }
  },
  {
   "cell_type": "markdown",
   "source": [
    "Drop row if country code not \"be\""
   ],
   "metadata": {
    "collapsed": false
   }
  },
  {
   "cell_type": "code",
   "execution_count": 18,
   "outputs": [],
   "source": [
    "data.stations = data.stations[data.stations[\"country-code\"] == \"be\"]"
   ],
   "metadata": {
    "collapsed": false
   }
  },
  {
   "cell_type": "markdown",
   "source": [
    "drop the 4 alternative name columns"
   ],
   "metadata": {
    "collapsed": false
   }
  },
  {
   "cell_type": "code",
   "execution_count": 19,
   "outputs": [],
   "source": [
    "data.stations = data.stations.drop([\"alternative-fr\", \"alternative-nl\", \"alternative-de\", \"alternative-en\"], axis=1)\n"
   ],
   "metadata": {
    "collapsed": false
   }
  },
  {
   "cell_type": "markdown",
   "source": [
    "drop rows that have 0 for official transfer time: they aren't stations anymore"
   ],
   "metadata": {
    "collapsed": false
   }
  },
  {
   "cell_type": "code",
   "execution_count": 20,
   "outputs": [
    {
     "data": {
      "text/plain": "           URI              name country-code  longitude   latitude  \\\n3    008895000             Aalst           be   4.039653  50.942813   \n4    008895125  Aalst-Kerrebroek           be   4.024407  50.948377   \n5    008891140            Aalter           be   3.447848  51.092295   \n6    008833209          Aarschot           be   4.824043  50.984406   \n7    008892288           Aarsele           be   3.418363  50.984460   \n..         ...               ...          ...        ...        ...   \n669  008832250            Zolder           be   5.329900  51.033548   \n670  008832334          Zonhoven           be   5.348815  50.989557   \n671  008895208          Zottegem           be   3.814410  50.869102   \n673  008894821       Zwijndrecht           be   4.329780  51.214108   \n674  008883212       Écaussinnes           be   4.156639  50.562390   \n\n     avg_stop_times  official_transfer_time  \n3        157.425373                   300.0  \n4          7.731343                   300.0  \n5        188.276119                   240.0  \n6        171.664179                   240.0  \n7         37.365672                   300.0  \n..              ...                     ...  \n669       30.910448                   300.0  \n670       30.910448                   300.0  \n671      161.223881                   240.0  \n673      150.514925                   300.0  \n674       60.044776                   300.0  \n\n[569 rows x 7 columns]",
      "text/html": "<div>\n<style scoped>\n    .dataframe tbody tr th:only-of-type {\n        vertical-align: middle;\n    }\n\n    .dataframe tbody tr th {\n        vertical-align: top;\n    }\n\n    .dataframe thead th {\n        text-align: right;\n    }\n</style>\n<table border=\"1\" class=\"dataframe\">\n  <thead>\n    <tr style=\"text-align: right;\">\n      <th></th>\n      <th>URI</th>\n      <th>name</th>\n      <th>country-code</th>\n      <th>longitude</th>\n      <th>latitude</th>\n      <th>avg_stop_times</th>\n      <th>official_transfer_time</th>\n    </tr>\n  </thead>\n  <tbody>\n    <tr>\n      <th>3</th>\n      <td>008895000</td>\n      <td>Aalst</td>\n      <td>be</td>\n      <td>4.039653</td>\n      <td>50.942813</td>\n      <td>157.425373</td>\n      <td>300.0</td>\n    </tr>\n    <tr>\n      <th>4</th>\n      <td>008895125</td>\n      <td>Aalst-Kerrebroek</td>\n      <td>be</td>\n      <td>4.024407</td>\n      <td>50.948377</td>\n      <td>7.731343</td>\n      <td>300.0</td>\n    </tr>\n    <tr>\n      <th>5</th>\n      <td>008891140</td>\n      <td>Aalter</td>\n      <td>be</td>\n      <td>3.447848</td>\n      <td>51.092295</td>\n      <td>188.276119</td>\n      <td>240.0</td>\n    </tr>\n    <tr>\n      <th>6</th>\n      <td>008833209</td>\n      <td>Aarschot</td>\n      <td>be</td>\n      <td>4.824043</td>\n      <td>50.984406</td>\n      <td>171.664179</td>\n      <td>240.0</td>\n    </tr>\n    <tr>\n      <th>7</th>\n      <td>008892288</td>\n      <td>Aarsele</td>\n      <td>be</td>\n      <td>3.418363</td>\n      <td>50.984460</td>\n      <td>37.365672</td>\n      <td>300.0</td>\n    </tr>\n    <tr>\n      <th>...</th>\n      <td>...</td>\n      <td>...</td>\n      <td>...</td>\n      <td>...</td>\n      <td>...</td>\n      <td>...</td>\n      <td>...</td>\n    </tr>\n    <tr>\n      <th>669</th>\n      <td>008832250</td>\n      <td>Zolder</td>\n      <td>be</td>\n      <td>5.329900</td>\n      <td>51.033548</td>\n      <td>30.910448</td>\n      <td>300.0</td>\n    </tr>\n    <tr>\n      <th>670</th>\n      <td>008832334</td>\n      <td>Zonhoven</td>\n      <td>be</td>\n      <td>5.348815</td>\n      <td>50.989557</td>\n      <td>30.910448</td>\n      <td>300.0</td>\n    </tr>\n    <tr>\n      <th>671</th>\n      <td>008895208</td>\n      <td>Zottegem</td>\n      <td>be</td>\n      <td>3.814410</td>\n      <td>50.869102</td>\n      <td>161.223881</td>\n      <td>240.0</td>\n    </tr>\n    <tr>\n      <th>673</th>\n      <td>008894821</td>\n      <td>Zwijndrecht</td>\n      <td>be</td>\n      <td>4.329780</td>\n      <td>51.214108</td>\n      <td>150.514925</td>\n      <td>300.0</td>\n    </tr>\n    <tr>\n      <th>674</th>\n      <td>008883212</td>\n      <td>Écaussinnes</td>\n      <td>be</td>\n      <td>4.156639</td>\n      <td>50.562390</td>\n      <td>60.044776</td>\n      <td>300.0</td>\n    </tr>\n  </tbody>\n</table>\n<p>569 rows × 7 columns</p>\n</div>"
     },
     "execution_count": 20,
     "metadata": {},
     "output_type": "execute_result"
    }
   ],
   "source": [
    "data.stations = data.stations.dropna(subset=[\"official_transfer_time\"])\n",
    "data.stations"
   ],
   "metadata": {
    "collapsed": false
   }
  },
  {
   "cell_type": "markdown",
   "source": [
    "# Stops"
   ],
   "metadata": {
    "collapsed": false
   }
  },
  {
   "cell_type": "markdown",
   "source": [
    "Impute name and URI, we dont need to keep the # of URI because we store the same number in platform"
   ],
   "metadata": {
    "collapsed": false
   }
  },
  {
   "cell_type": "code",
   "execution_count": 21,
   "outputs": [],
   "source": [
    "\n",
    "data.stops['URI'] = data.stops['URI'].str[-9:]\n",
    "data.stops['parent_stop'] = data.stops['parent_stop'].str[-9:]"
   ],
   "metadata": {
    "collapsed": false
   }
  },
  {
   "cell_type": "markdown",
   "source": [
    "Drop the name columns"
   ],
   "metadata": {
    "collapsed": false
   }
  },
  {
   "cell_type": "code",
   "execution_count": 22,
   "outputs": [],
   "source": [
    "data.stops = data.stops.drop([\"alternative-fr\", \"alternative-nl\", \"alternative-de\", \"alternative-en\"], axis =1)\n"
   ],
   "metadata": {
    "collapsed": false
   }
  },
  {
   "cell_type": "code",
   "execution_count": 23,
   "outputs": [
    {
     "data": {
      "text/plain": "            URI parent_stop  longitude   latitude                       name  \\\n0     8821022#3   008821022   4.436395  51.207360  Antwerpen-Oost platform 3   \n1     8821022#4   008821022   4.436395  51.207360  Antwerpen-Oost platform 4   \n2     8891140#1   008891140   3.447848  51.092300          Aalter platform 1   \n3     8891140#2   008891140   3.447848  51.092300          Aalter platform 2   \n4     8891140#3   008891140   3.447848  51.092300          Aalter platform 3   \n...         ...         ...        ...        ...                        ...   \n2991  8866407#1   008866407   5.519122  49.560822          Virton platform 1   \n2992  8831401#3   008831401   5.050030  50.993340           Diest platform 3   \n2993  8821402#1   008821402   4.451318  51.462764           Essen platform 1   \n2994  8822111#3   008822111   4.299069  51.009092      Londerzeel platform 3   \n2995  8893542#3   008893542   3.921370  51.003150    Schellebelle platform 3   \n\n     platform  \n0           3  \n1           4  \n2           1  \n3           2  \n4           3  \n...       ...  \n2991        1  \n2992        3  \n2993        1  \n2994        3  \n2995        3  \n\n[2996 rows x 6 columns]",
      "text/html": "<div>\n<style scoped>\n    .dataframe tbody tr th:only-of-type {\n        vertical-align: middle;\n    }\n\n    .dataframe tbody tr th {\n        vertical-align: top;\n    }\n\n    .dataframe thead th {\n        text-align: right;\n    }\n</style>\n<table border=\"1\" class=\"dataframe\">\n  <thead>\n    <tr style=\"text-align: right;\">\n      <th></th>\n      <th>URI</th>\n      <th>parent_stop</th>\n      <th>longitude</th>\n      <th>latitude</th>\n      <th>name</th>\n      <th>platform</th>\n    </tr>\n  </thead>\n  <tbody>\n    <tr>\n      <th>0</th>\n      <td>8821022#3</td>\n      <td>008821022</td>\n      <td>4.436395</td>\n      <td>51.207360</td>\n      <td>Antwerpen-Oost platform 3</td>\n      <td>3</td>\n    </tr>\n    <tr>\n      <th>1</th>\n      <td>8821022#4</td>\n      <td>008821022</td>\n      <td>4.436395</td>\n      <td>51.207360</td>\n      <td>Antwerpen-Oost platform 4</td>\n      <td>4</td>\n    </tr>\n    <tr>\n      <th>2</th>\n      <td>8891140#1</td>\n      <td>008891140</td>\n      <td>3.447848</td>\n      <td>51.092300</td>\n      <td>Aalter platform 1</td>\n      <td>1</td>\n    </tr>\n    <tr>\n      <th>3</th>\n      <td>8891140#2</td>\n      <td>008891140</td>\n      <td>3.447848</td>\n      <td>51.092300</td>\n      <td>Aalter platform 2</td>\n      <td>2</td>\n    </tr>\n    <tr>\n      <th>4</th>\n      <td>8891140#3</td>\n      <td>008891140</td>\n      <td>3.447848</td>\n      <td>51.092300</td>\n      <td>Aalter platform 3</td>\n      <td>3</td>\n    </tr>\n    <tr>\n      <th>...</th>\n      <td>...</td>\n      <td>...</td>\n      <td>...</td>\n      <td>...</td>\n      <td>...</td>\n      <td>...</td>\n    </tr>\n    <tr>\n      <th>2991</th>\n      <td>8866407#1</td>\n      <td>008866407</td>\n      <td>5.519122</td>\n      <td>49.560822</td>\n      <td>Virton platform 1</td>\n      <td>1</td>\n    </tr>\n    <tr>\n      <th>2992</th>\n      <td>8831401#3</td>\n      <td>008831401</td>\n      <td>5.050030</td>\n      <td>50.993340</td>\n      <td>Diest platform 3</td>\n      <td>3</td>\n    </tr>\n    <tr>\n      <th>2993</th>\n      <td>8821402#1</td>\n      <td>008821402</td>\n      <td>4.451318</td>\n      <td>51.462764</td>\n      <td>Essen platform 1</td>\n      <td>1</td>\n    </tr>\n    <tr>\n      <th>2994</th>\n      <td>8822111#3</td>\n      <td>008822111</td>\n      <td>4.299069</td>\n      <td>51.009092</td>\n      <td>Londerzeel platform 3</td>\n      <td>3</td>\n    </tr>\n    <tr>\n      <th>2995</th>\n      <td>8893542#3</td>\n      <td>008893542</td>\n      <td>3.921370</td>\n      <td>51.003150</td>\n      <td>Schellebelle platform 3</td>\n      <td>3</td>\n    </tr>\n  </tbody>\n</table>\n<p>2996 rows × 6 columns</p>\n</div>"
     },
     "execution_count": 23,
     "metadata": {},
     "output_type": "execute_result"
    }
   ],
   "source": [
    "data.stops"
   ],
   "metadata": {
    "collapsed": false
   }
  },
  {
   "cell_type": "markdown",
   "source": [
    "# Travelers"
   ],
   "metadata": {
    "collapsed": false
   }
  },
  {
   "cell_type": "markdown",
   "source": [
    "Impute missing values with 0: because null value indicates no train rides on that day /week"
   ],
   "metadata": {
    "collapsed": false
   }
  },
  {
   "cell_type": "code",
   "execution_count": 24,
   "outputs": [
    {
     "data": {
      "text/plain": "Index(['Unnamed: 0', 'Date of departure', 'Train number', 'Relation',\n       'Railway operators', 'Railway of departure', 'Time of real arrival',\n       'Time of real departure', 'Time of planned arrival',\n       'Time of planned departure', 'Direction of relation',\n       'Name of the stop', 'Railway of arrival', 'Date of planned arrival',\n       'Date of planned departure', 'Date of real arrival',\n       'Date of real departure'],\n      dtype='object')"
     },
     "execution_count": 24,
     "metadata": {},
     "output_type": "execute_result"
    }
   ],
   "source": [
    "data.travelers['week'].fillna(0, inplace=True)\n",
    "data.travelers['saturday'].fillna(0, inplace=True)\n",
    "data.travelers['sunday'].fillna(0, inplace=True)\n",
    "data.full_trips.columns"
   ],
   "metadata": {
    "collapsed": false
   }
  },
  {
   "cell_type": "markdown",
   "source": [
    "# Trips"
   ],
   "metadata": {
    "collapsed": false
   }
  },
  {
   "cell_type": "markdown",
   "source": [
    "Change all dates and times to datetime STILL NEEDS TO BE CHECKEED"
   ],
   "metadata": {
    "collapsed": false
   }
  },
  {
   "cell_type": "code",
   "execution_count": 25,
   "outputs": [],
   "source": [
    "# trips_dates= [\"Date of departure\", 'Date of planned arrival',\n",
    "#        'Date of planned departure', 'Date of real arrival',\n",
    "#        'Date of real departure']\n",
    "# trips_times = ['Time of real arrival',\n",
    "#        'Time of real departure', 'Time of planned arrival',\n",
    "#        'Time of planned departure']\n",
    "#\n",
    "# for trip_time in data.full_trips[trips_times]:\n",
    "#     if not is_datetime(data.full_trips[trip_time]):\n",
    "#         data.facilities[trip_time] = pd.to_datetime(data.facilities[trip_time].astype(str), format='%H:%M:%S')-pd.to_datetime('00:00', format='%H:%M:%S')\n"
   ],
   "metadata": {
    "collapsed": false
   }
  },
  {
   "cell_type": "code",
   "execution_count": 26,
   "outputs": [
    {
     "data": {
      "text/plain": "Unnamed: 0                    int64\nDate of departure            object\nTrain number                  int64\nRelation                     object\nRailway operators            object\nRailway of departure         object\nTime of real arrival         object\nTime of real departure       object\nTime of planned arrival      object\nTime of planned departure    object\nDirection of relation        object\nName of the stop             object\nRailway of arrival           object\nDate of planned arrival      object\nDate of planned departure    object\nDate of real arrival         object\nDate of real departure       object\ndtype: object"
     },
     "execution_count": 26,
     "metadata": {},
     "output_type": "execute_result"
    }
   ],
   "source": [
    "data.full_trips.dtypes"
   ],
   "metadata": {
    "collapsed": false
   }
  },
  {
   "cell_type": "markdown",
   "source": [
    "Check:\n",
    "data.full_trips: \"Name of the full stop\"\n",
    "Satisfaction: \"Station\"\n",
    "Stations: \"name\"\n",
    "Stops:\"alternative-nl\" first word , or the URI\n",
    "Facilities:\"name\"\n"
   ],
   "metadata": {
    "collapsed": false
   }
  },
  {
   "cell_type": "code",
   "execution_count": 27,
   "outputs": [
    {
     "data": {
      "text/plain": "557"
     },
     "execution_count": 27,
     "metadata": {},
     "output_type": "execute_result"
    }
   ],
   "source": [
    "len(data.facilities[\"name\"].unique())"
   ],
   "metadata": {
    "collapsed": false
   }
  },
  {
   "cell_type": "code",
   "execution_count": 28,
   "outputs": [
    {
     "data": {
      "text/plain": "1526"
     },
     "execution_count": 28,
     "metadata": {},
     "output_type": "execute_result"
    }
   ],
   "source": [
    "len(data.stops[\"name\"].unique())"
   ],
   "metadata": {
    "collapsed": false
   }
  },
  {
   "cell_type": "code",
   "execution_count": 29,
   "outputs": [
    {
     "data": {
      "text/plain": "627"
     },
     "execution_count": 29,
     "metadata": {},
     "output_type": "execute_result"
    }
   ],
   "source": [
    "len(data.full_trips['Name of the stop'].unique())"
   ],
   "metadata": {
    "collapsed": false
   }
  },
  {
   "cell_type": "code",
   "execution_count": 30,
   "outputs": [
    {
     "data": {
      "text/plain": "580"
     },
     "execution_count": 30,
     "metadata": {},
     "output_type": "execute_result"
    }
   ],
   "source": [
    "len(data.satisfaction[\"station\"].unique())\n",
    "len(data.satisfaction[\"station\"].unique())"
   ],
   "metadata": {
    "collapsed": false
   }
  },
  {
   "cell_type": "code",
   "execution_count": 31,
   "outputs": [
    {
     "data": {
      "text/plain": "569"
     },
     "execution_count": 31,
     "metadata": {},
     "output_type": "execute_result"
    }
   ],
   "source": [
    "len(data.stations[\"name\"].unique())"
   ],
   "metadata": {
    "collapsed": false
   }
  },
  {
   "cell_type": "code",
   "execution_count": 32,
   "outputs": [
    {
     "data": {
      "text/plain": "553"
     },
     "execution_count": 32,
     "metadata": {},
     "output_type": "execute_result"
    }
   ],
   "source": [
    "len(data.travelers[\"Station\"].unique())"
   ],
   "metadata": {
    "collapsed": false
   }
  },
  {
   "cell_type": "markdown",
   "source": [
    "Standardize name for facilities and travelers , we might have to do this for other ones too. So beware"
   ],
   "metadata": {
    "collapsed": false
   }
  },
  {
   "cell_type": "code",
   "execution_count": 33,
   "outputs": [
    {
     "data": {
      "text/plain": "550"
     },
     "execution_count": 33,
     "metadata": {},
     "output_type": "execute_result"
    }
   ],
   "source": [
    "data.facilities['name'] = data.facilities['name'].str.lower()\n",
    "data.travelers['Station'] = data.travelers['Station'].str.lower()\n",
    "data.travelers = data.travelers.replace({\"Station\": utils.Dict})\n",
    "len(list(set(data.facilities['name']).intersection(set(data.travelers['Station']))))"
   ],
   "metadata": {
    "collapsed": false
   }
  },
  {
   "cell_type": "markdown",
   "source": [
    "Facilities contain these aswell, which are not in travelers."
   ],
   "metadata": {
    "collapsed": false
   }
  },
  {
   "cell_type": "code",
   "execution_count": 34,
   "outputs": [
    {
     "name": "stdout",
     "output_type": "stream",
     "text": [
      "['ham-sur-sambre', 'antwerpen-haven', 'bastogne-sud', 'bastogne-nord', 'florée', 'antwerpen-dam', 'antwerpen-oost']\n"
     ]
    }
   ],
   "source": [
    "print(list(set(data.facilities['name']).difference(set(data.travelers['Station']))))"
   ],
   "metadata": {
    "collapsed": false
   }
  },
  {
   "cell_type": "code",
   "execution_count": 34,
   "outputs": [],
   "source": [],
   "metadata": {
    "collapsed": false
   }
  },
  {
   "cell_type": "code",
   "execution_count": 34,
   "outputs": [],
   "source": [],
   "metadata": {
    "collapsed": false
   }
  }
 ],
 "metadata": {
  "kernelspec": {
   "display_name": "Python 3",
   "language": "python",
   "name": "python3"
  },
  "language_info": {
   "codemirror_mode": {
    "name": "ipython",
    "version": 2
   },
   "file_extension": ".py",
   "mimetype": "text/x-python",
   "name": "python",
   "nbconvert_exporter": "python",
   "pygments_lexer": "ipython2",
   "version": "2.7.6"
  }
 },
 "nbformat": 4,
 "nbformat_minor": 0
}
