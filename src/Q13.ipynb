{
 "cells": [
  {
   "cell_type": "markdown",
   "metadata": {},
   "source": [
    "# 13.Cluster the stations based on facilities. What type of stations exist? Are some stations ‘odd’ in the facilities they provide? What would you suggest to do with these? Is there a correlation between station type and number of daily trains?"
   ]
  },
  {
   "cell_type": "code",
   "execution_count": 19,
   "metadata": {
    "collapsed": true
   },
   "outputs": [],
   "source": [
    "import src.data_processing.data as data\n",
    "from mlxtend.frequent_patterns import apriori"
   ]
  },
  {
   "cell_type": "markdown",
   "metadata": {},
   "source": [
    "Some odd stations for example supply wheelchairs but no disabled parking spots or elevators\n",
    "Escalator up but no escalator down\n"
   ]
  },
  {
   "cell_type": "markdown",
   "source": [
    "Escalator up but no escalator down and vice versa"
   ],
   "metadata": {
    "collapsed": false
   }
  },
  {
   "cell_type": "code",
   "execution_count": 20,
   "outputs": [],
   "source": [
    "facilities = data.facilities\n",
    "facilities[\"odd_escalator\"] = 0\n",
    "facilities.loc[(facilities[\"escalator_up\"] == 1) & (facilities[\"escalator_down\"] == 0), \"odd_escalator\"] = 1\n",
    "facilities.loc[(facilities[\"escalator_up\"] == 0) & (facilities[\"escalator_down\"] == 1), \"odd_escalator\"] = 1\n"
   ],
   "metadata": {
    "collapsed": false
   }
  },
  {
   "cell_type": "markdown",
   "source": [
    "Wheelchairs but no disabled parking spots and vice versa"
   ],
   "metadata": {
    "collapsed": false
   }
  },
  {
   "cell_type": "code",
   "execution_count": 21,
   "outputs": [],
   "source": [
    "facilities[\"wheelchair_odd\"] = 0\n",
    "facilities.loc[(facilities[\"disabled_parking_spots\"] == 1) & (facilities[\"wheelchair_available\"] == 0), \"wheelchair_odd\"] = 1\n",
    "facilities.loc[(facilities[\"disabled_parking_spots\"] == 0) & (facilities[\"wheelchair_available\"] == 1), \"wheelchair_odd\"] = 1\n"
   ],
   "metadata": {
    "collapsed": false
   }
  },
  {
   "cell_type": "markdown",
   "source": [
    "No ticket vending machine\n",
    "No public transport"
   ],
   "metadata": {
    "collapsed": false
   }
  },
  {
   "cell_type": "code",
   "execution_count": 22,
   "outputs": [],
   "source": [
    "facilities[\"transport_odd\"] = 0\n",
    "facilities.loc[(facilities[\"bus\"] == 0) & (facilities[\"tram\"] == 0) & (facilities[\"metro\"] == 0) & (facilities[\"taxi\"] == 0), \"transport_odd\"] = 1"
   ],
   "metadata": {
    "collapsed": false
   }
  },
  {
   "cell_type": "markdown",
   "source": [
    "Wheelchair but no escalators"
   ],
   "metadata": {
    "collapsed": false
   }
  },
  {
   "cell_type": "code",
   "execution_count": 23,
   "outputs": [],
   "source": [
    "facilities[\"esc_wheel_odd\"] = 0\n",
    "facilities.loc[(facilities[\"wheelchair_available\"] == 1) & (facilities[\"escalator_up\"] == 0) & (facilities[\"escalator_down\"] == 0), \"esc_wheel_odd\"] = 1\n"
   ],
   "metadata": {
    "collapsed": false
   }
  },
  {
   "cell_type": "markdown",
   "source": [
    "Blue bike but no bicycle spots"
   ],
   "metadata": {
    "collapsed": false
   }
  },
  {
   "cell_type": "code",
   "execution_count": 24,
   "outputs": [],
   "source": [
    "facilities[\"bicycle_odd\"] = 0\n",
    "facilities.loc[(facilities[\"blue-bike\"] == 1) & (facilities[\"bicycle_spots\"] == 0), \"bicycle_odd\"] = 1"
   ],
   "metadata": {
    "collapsed": false
   }
  },
  {
   "cell_type": "code",
   "execution_count": 25,
   "metadata": {},
   "outputs": [
    {
     "data": {
      "text/plain": "     ticket_vending_machine  luggage_lockers  free_parking  taxi  \\\n2                       1.0              0.0           1.0   1.0   \n3                       0.0              0.0           1.0   0.0   \n4                       1.0              0.0           1.0   0.0   \n5                       1.0              0.0           1.0   0.0   \n6                       1.0              0.0           0.0   0.0   \n..                      ...              ...           ...   ...   \n668                     1.0              0.0           1.0   0.0   \n669                     1.0              0.0           1.0   0.0   \n670                     1.0              0.0           1.0   0.0   \n672                     1.0              0.0           1.0   0.0   \n673                     1.0              0.0           1.0   0.0   \n\n     bicycle_spots  blue-bike  bus  tram  metro  wheelchair_available  ...  \\\n2              1.0        1.0  1.0   0.0    0.0                   1.0  ...   \n3              0.0        0.0  0.0   0.0    0.0                   0.0  ...   \n4              1.0        1.0  1.0   0.0    0.0                   0.0  ...   \n5              1.0        1.0  1.0   0.0    0.0                   1.0  ...   \n6              0.0        0.0  0.0   0.0    0.0                   0.0  ...   \n..             ...        ...  ...   ...    ...                   ...  ...   \n668            0.0        0.0  0.0   0.0    0.0                   0.0  ...   \n669            0.0        0.0  0.0   0.0    0.0                   0.0  ...   \n670            1.0        0.0  1.0   0.0    0.0                   1.0  ...   \n672            1.0        0.0  0.0   0.0    0.0                   0.0  ...   \n673            1.0        0.0  1.0   0.0    0.0                   0.0  ...   \n\n     elevated_platform  escalator_up  escalator_down  elevator_platform  \\\n2                  1.0           0.0             0.0                1.0   \n3                  0.0           0.0             0.0                0.0   \n4                  0.0           0.0             0.0                0.0   \n5                  0.0           0.0             0.0                0.0   \n6                  0.0           0.0             0.0                0.0   \n..                 ...           ...             ...                ...   \n668                0.0           0.0             0.0                0.0   \n669                0.0           0.0             0.0                0.0   \n670                0.0           0.0             0.0                0.0   \n672                0.0           0.0             0.0                0.0   \n673                0.0           0.0             0.0                0.0   \n\n     audio_induction_loop  odd_escalator  wheelchair_odd  transport_odd  \\\n2                     1.0              0               0              0   \n3                     0.0              0               0              1   \n4                     1.0              0               1              0   \n5                     1.0              0               0              0   \n6                     0.0              0               0              1   \n..                    ...            ...             ...            ...   \n668                   0.0              0               1              1   \n669                   0.0              0               1              1   \n670                   1.0              0               0              0   \n672                   0.0              0               0              1   \n673                   0.0              0               0              0   \n\n     esc_wheel_odd  bicycle_odd  \n2                1            0  \n3                0            0  \n4                0            0  \n5                1            0  \n6                0            0  \n..             ...          ...  \n668              0            0  \n669              0            0  \n670              1            0  \n672              0            0  \n673              0            0  \n\n[557 rows x 22 columns]",
      "text/html": "<div>\n<style scoped>\n    .dataframe tbody tr th:only-of-type {\n        vertical-align: middle;\n    }\n\n    .dataframe tbody tr th {\n        vertical-align: top;\n    }\n\n    .dataframe thead th {\n        text-align: right;\n    }\n</style>\n<table border=\"1\" class=\"dataframe\">\n  <thead>\n    <tr style=\"text-align: right;\">\n      <th></th>\n      <th>ticket_vending_machine</th>\n      <th>luggage_lockers</th>\n      <th>free_parking</th>\n      <th>taxi</th>\n      <th>bicycle_spots</th>\n      <th>blue-bike</th>\n      <th>bus</th>\n      <th>tram</th>\n      <th>metro</th>\n      <th>wheelchair_available</th>\n      <th>...</th>\n      <th>elevated_platform</th>\n      <th>escalator_up</th>\n      <th>escalator_down</th>\n      <th>elevator_platform</th>\n      <th>audio_induction_loop</th>\n      <th>odd_escalator</th>\n      <th>wheelchair_odd</th>\n      <th>transport_odd</th>\n      <th>esc_wheel_odd</th>\n      <th>bicycle_odd</th>\n    </tr>\n  </thead>\n  <tbody>\n    <tr>\n      <th>2</th>\n      <td>1.0</td>\n      <td>0.0</td>\n      <td>1.0</td>\n      <td>1.0</td>\n      <td>1.0</td>\n      <td>1.0</td>\n      <td>1.0</td>\n      <td>0.0</td>\n      <td>0.0</td>\n      <td>1.0</td>\n      <td>...</td>\n      <td>1.0</td>\n      <td>0.0</td>\n      <td>0.0</td>\n      <td>1.0</td>\n      <td>1.0</td>\n      <td>0</td>\n      <td>0</td>\n      <td>0</td>\n      <td>1</td>\n      <td>0</td>\n    </tr>\n    <tr>\n      <th>3</th>\n      <td>0.0</td>\n      <td>0.0</td>\n      <td>1.0</td>\n      <td>0.0</td>\n      <td>0.0</td>\n      <td>0.0</td>\n      <td>0.0</td>\n      <td>0.0</td>\n      <td>0.0</td>\n      <td>0.0</td>\n      <td>...</td>\n      <td>0.0</td>\n      <td>0.0</td>\n      <td>0.0</td>\n      <td>0.0</td>\n      <td>0.0</td>\n      <td>0</td>\n      <td>0</td>\n      <td>1</td>\n      <td>0</td>\n      <td>0</td>\n    </tr>\n    <tr>\n      <th>4</th>\n      <td>1.0</td>\n      <td>0.0</td>\n      <td>1.0</td>\n      <td>0.0</td>\n      <td>1.0</td>\n      <td>1.0</td>\n      <td>1.0</td>\n      <td>0.0</td>\n      <td>0.0</td>\n      <td>0.0</td>\n      <td>...</td>\n      <td>0.0</td>\n      <td>0.0</td>\n      <td>0.0</td>\n      <td>0.0</td>\n      <td>1.0</td>\n      <td>0</td>\n      <td>1</td>\n      <td>0</td>\n      <td>0</td>\n      <td>0</td>\n    </tr>\n    <tr>\n      <th>5</th>\n      <td>1.0</td>\n      <td>0.0</td>\n      <td>1.0</td>\n      <td>0.0</td>\n      <td>1.0</td>\n      <td>1.0</td>\n      <td>1.0</td>\n      <td>0.0</td>\n      <td>0.0</td>\n      <td>1.0</td>\n      <td>...</td>\n      <td>0.0</td>\n      <td>0.0</td>\n      <td>0.0</td>\n      <td>0.0</td>\n      <td>1.0</td>\n      <td>0</td>\n      <td>0</td>\n      <td>0</td>\n      <td>1</td>\n      <td>0</td>\n    </tr>\n    <tr>\n      <th>6</th>\n      <td>1.0</td>\n      <td>0.0</td>\n      <td>0.0</td>\n      <td>0.0</td>\n      <td>0.0</td>\n      <td>0.0</td>\n      <td>0.0</td>\n      <td>0.0</td>\n      <td>0.0</td>\n      <td>0.0</td>\n      <td>...</td>\n      <td>0.0</td>\n      <td>0.0</td>\n      <td>0.0</td>\n      <td>0.0</td>\n      <td>0.0</td>\n      <td>0</td>\n      <td>0</td>\n      <td>1</td>\n      <td>0</td>\n      <td>0</td>\n    </tr>\n    <tr>\n      <th>...</th>\n      <td>...</td>\n      <td>...</td>\n      <td>...</td>\n      <td>...</td>\n      <td>...</td>\n      <td>...</td>\n      <td>...</td>\n      <td>...</td>\n      <td>...</td>\n      <td>...</td>\n      <td>...</td>\n      <td>...</td>\n      <td>...</td>\n      <td>...</td>\n      <td>...</td>\n      <td>...</td>\n      <td>...</td>\n      <td>...</td>\n      <td>...</td>\n      <td>...</td>\n      <td>...</td>\n    </tr>\n    <tr>\n      <th>668</th>\n      <td>1.0</td>\n      <td>0.0</td>\n      <td>1.0</td>\n      <td>0.0</td>\n      <td>0.0</td>\n      <td>0.0</td>\n      <td>0.0</td>\n      <td>0.0</td>\n      <td>0.0</td>\n      <td>0.0</td>\n      <td>...</td>\n      <td>0.0</td>\n      <td>0.0</td>\n      <td>0.0</td>\n      <td>0.0</td>\n      <td>0.0</td>\n      <td>0</td>\n      <td>1</td>\n      <td>1</td>\n      <td>0</td>\n      <td>0</td>\n    </tr>\n    <tr>\n      <th>669</th>\n      <td>1.0</td>\n      <td>0.0</td>\n      <td>1.0</td>\n      <td>0.0</td>\n      <td>0.0</td>\n      <td>0.0</td>\n      <td>0.0</td>\n      <td>0.0</td>\n      <td>0.0</td>\n      <td>0.0</td>\n      <td>...</td>\n      <td>0.0</td>\n      <td>0.0</td>\n      <td>0.0</td>\n      <td>0.0</td>\n      <td>0.0</td>\n      <td>0</td>\n      <td>1</td>\n      <td>1</td>\n      <td>0</td>\n      <td>0</td>\n    </tr>\n    <tr>\n      <th>670</th>\n      <td>1.0</td>\n      <td>0.0</td>\n      <td>1.0</td>\n      <td>0.0</td>\n      <td>1.0</td>\n      <td>0.0</td>\n      <td>1.0</td>\n      <td>0.0</td>\n      <td>0.0</td>\n      <td>1.0</td>\n      <td>...</td>\n      <td>0.0</td>\n      <td>0.0</td>\n      <td>0.0</td>\n      <td>0.0</td>\n      <td>1.0</td>\n      <td>0</td>\n      <td>0</td>\n      <td>0</td>\n      <td>1</td>\n      <td>0</td>\n    </tr>\n    <tr>\n      <th>672</th>\n      <td>1.0</td>\n      <td>0.0</td>\n      <td>1.0</td>\n      <td>0.0</td>\n      <td>1.0</td>\n      <td>0.0</td>\n      <td>0.0</td>\n      <td>0.0</td>\n      <td>0.0</td>\n      <td>0.0</td>\n      <td>...</td>\n      <td>0.0</td>\n      <td>0.0</td>\n      <td>0.0</td>\n      <td>0.0</td>\n      <td>0.0</td>\n      <td>0</td>\n      <td>0</td>\n      <td>1</td>\n      <td>0</td>\n      <td>0</td>\n    </tr>\n    <tr>\n      <th>673</th>\n      <td>1.0</td>\n      <td>0.0</td>\n      <td>1.0</td>\n      <td>0.0</td>\n      <td>1.0</td>\n      <td>0.0</td>\n      <td>1.0</td>\n      <td>0.0</td>\n      <td>0.0</td>\n      <td>0.0</td>\n      <td>...</td>\n      <td>0.0</td>\n      <td>0.0</td>\n      <td>0.0</td>\n      <td>0.0</td>\n      <td>0.0</td>\n      <td>0</td>\n      <td>0</td>\n      <td>0</td>\n      <td>0</td>\n      <td>0</td>\n    </tr>\n  </tbody>\n</table>\n<p>557 rows × 22 columns</p>\n</div>"
     },
     "execution_count": 25,
     "metadata": {},
     "output_type": "execute_result"
    }
   ],
   "source": [
    "\n",
    "only_facilities= facilities[['ticket_vending_machine',\n",
    "       'luggage_lockers', 'free_parking', 'taxi', 'bicycle_spots', 'blue-bike',\n",
    "       'bus', 'tram', 'metro', 'wheelchair_available', 'ramp',\n",
    "       'disabled_parking_spots', 'elevated_platform', 'escalator_up',\n",
    "       'escalator_down', 'elevator_platform', 'audio_induction_loop', 'odd_escalator' ,'wheelchair_odd', 'transport_odd', 'esc_wheel_odd', 'bicycle_odd' ]]\n",
    "only_facilities"
   ]
  },
  {
   "cell_type": "markdown",
   "source": [
    "We would suggest to supply their missing counterparts for these stations\n",
    "We can check if the satisfaction score changes a lot for these stations:\n"
   ],
   "metadata": {
    "collapsed": false
   }
  },
  {
   "cell_type": "code",
   "execution_count": 26,
   "outputs": [
    {
     "data": {
      "text/plain": "           URI              name                    street   zip  \\\n0    008895000             aalst           Stationsplein 9  9300   \n1    008895125  aalst-kerrebroek                  Ledebaan  9300   \n2    008891140            aalter           Stationsplein 2  9880   \n3    008833209          aarschot               Statieplein  3200   \n4    008892288           aarsele       Hogenhovenstraat Zn  8700   \n..         ...               ...                       ...   ...   \n521  008832250            zolder        Stationsstraat Z/n  3550   \n522  008832334          zonhoven            Engstegenseweg  3520   \n523  008895208          zottegem          Stationsplein 12  9620   \n524  008894821       zwijndrecht                Fortlaan 1  2070   \n525  008883212       écaussinnes  Avenue De La Déportation  7190   \n\n                 city  ticket_vending_machine  luggage_lockers  free_parking  \\\n0               Aalst                     1.0              0.0           1.0   \n1               Aalst                     0.0              0.0           1.0   \n2              Aalter                     1.0              0.0           1.0   \n3            Aarschot                     1.0              0.0           1.0   \n4             Aarsele                     1.0              0.0           0.0   \n..                ...                     ...              ...           ...   \n521  Heusden - Zolder                     1.0              0.0           1.0   \n522          Zonhoven                     1.0              0.0           1.0   \n523          Zottegem                     1.0              0.0           1.0   \n524       Zwijndrecht                     1.0              0.0           1.0   \n525       Ecaussinnes                     1.0              0.0           1.0   \n\n     taxi  bicycle_spots  ...  sales_open_sunday  sales_close_sunday  \\\n0     1.0            1.0  ...    0 days 06:00:00     0 days 20:00:00   \n1     0.0            0.0  ...    0 days 00:00:00     0 days 00:00:00   \n2     0.0            1.0  ...    0 days 07:45:00     0 days 15:00:00   \n3     0.0            1.0  ...    0 days 07:00:00     0 days 14:15:00   \n4     0.0            0.0  ...    0 days 00:00:00     0 days 00:00:00   \n..    ...            ...  ...                ...                 ...   \n521   0.0            0.0  ...    0 days 00:00:00     0 days 00:00:00   \n522   0.0            0.0  ...    0 days 00:00:00     0 days 00:00:00   \n523   0.0            1.0  ...    0 days 07:15:00     0 days 14:30:00   \n524   0.0            1.0  ...    0 days 00:00:00     0 days 00:00:00   \n525   0.0            1.0  ...    0 days 00:00:00     0 days 00:00:00   \n\n     odd_escalator  wheelchair_odd  transport_odd  esc_wheel_odd  bicycle_odd  \\\n0                0               0              0              1            0   \n1                0               0              1              0            0   \n2                0               1              0              0            0   \n3                0               0              0              1            0   \n4                0               0              1              0            0   \n..             ...             ...            ...            ...          ...   \n521              0               1              1              0            0   \n522              0               1              1              0            0   \n523              0               0              0              1            0   \n524              0               0              1              0            0   \n525              0               0              0              0            0   \n\n     Unnamed: 0           station  Avg Satisfaction  \n0           103             aalst             60.77  \n1           517  aalst-kerrebroek             49.97  \n2           353            aalter             60.18  \n3           569          aarschot             55.54  \n4            92           aarsele             27.54  \n..          ...               ...               ...  \n521         559            zolder             57.43  \n522         495          zonhoven             39.39  \n523         276          zottegem             48.90  \n524         301       zwijndrecht             49.58  \n525         115       écaussinnes             69.57  \n\n[526 rows x 44 columns]",
      "text/html": "<div>\n<style scoped>\n    .dataframe tbody tr th:only-of-type {\n        vertical-align: middle;\n    }\n\n    .dataframe tbody tr th {\n        vertical-align: top;\n    }\n\n    .dataframe thead th {\n        text-align: right;\n    }\n</style>\n<table border=\"1\" class=\"dataframe\">\n  <thead>\n    <tr style=\"text-align: right;\">\n      <th></th>\n      <th>URI</th>\n      <th>name</th>\n      <th>street</th>\n      <th>zip</th>\n      <th>city</th>\n      <th>ticket_vending_machine</th>\n      <th>luggage_lockers</th>\n      <th>free_parking</th>\n      <th>taxi</th>\n      <th>bicycle_spots</th>\n      <th>...</th>\n      <th>sales_open_sunday</th>\n      <th>sales_close_sunday</th>\n      <th>odd_escalator</th>\n      <th>wheelchair_odd</th>\n      <th>transport_odd</th>\n      <th>esc_wheel_odd</th>\n      <th>bicycle_odd</th>\n      <th>Unnamed: 0</th>\n      <th>station</th>\n      <th>Avg Satisfaction</th>\n    </tr>\n  </thead>\n  <tbody>\n    <tr>\n      <th>0</th>\n      <td>008895000</td>\n      <td>aalst</td>\n      <td>Stationsplein 9</td>\n      <td>9300</td>\n      <td>Aalst</td>\n      <td>1.0</td>\n      <td>0.0</td>\n      <td>1.0</td>\n      <td>1.0</td>\n      <td>1.0</td>\n      <td>...</td>\n      <td>0 days 06:00:00</td>\n      <td>0 days 20:00:00</td>\n      <td>0</td>\n      <td>0</td>\n      <td>0</td>\n      <td>1</td>\n      <td>0</td>\n      <td>103</td>\n      <td>aalst</td>\n      <td>60.77</td>\n    </tr>\n    <tr>\n      <th>1</th>\n      <td>008895125</td>\n      <td>aalst-kerrebroek</td>\n      <td>Ledebaan</td>\n      <td>9300</td>\n      <td>Aalst</td>\n      <td>0.0</td>\n      <td>0.0</td>\n      <td>1.0</td>\n      <td>0.0</td>\n      <td>0.0</td>\n      <td>...</td>\n      <td>0 days 00:00:00</td>\n      <td>0 days 00:00:00</td>\n      <td>0</td>\n      <td>0</td>\n      <td>1</td>\n      <td>0</td>\n      <td>0</td>\n      <td>517</td>\n      <td>aalst-kerrebroek</td>\n      <td>49.97</td>\n    </tr>\n    <tr>\n      <th>2</th>\n      <td>008891140</td>\n      <td>aalter</td>\n      <td>Stationsplein 2</td>\n      <td>9880</td>\n      <td>Aalter</td>\n      <td>1.0</td>\n      <td>0.0</td>\n      <td>1.0</td>\n      <td>0.0</td>\n      <td>1.0</td>\n      <td>...</td>\n      <td>0 days 07:45:00</td>\n      <td>0 days 15:00:00</td>\n      <td>0</td>\n      <td>1</td>\n      <td>0</td>\n      <td>0</td>\n      <td>0</td>\n      <td>353</td>\n      <td>aalter</td>\n      <td>60.18</td>\n    </tr>\n    <tr>\n      <th>3</th>\n      <td>008833209</td>\n      <td>aarschot</td>\n      <td>Statieplein</td>\n      <td>3200</td>\n      <td>Aarschot</td>\n      <td>1.0</td>\n      <td>0.0</td>\n      <td>1.0</td>\n      <td>0.0</td>\n      <td>1.0</td>\n      <td>...</td>\n      <td>0 days 07:00:00</td>\n      <td>0 days 14:15:00</td>\n      <td>0</td>\n      <td>0</td>\n      <td>0</td>\n      <td>1</td>\n      <td>0</td>\n      <td>569</td>\n      <td>aarschot</td>\n      <td>55.54</td>\n    </tr>\n    <tr>\n      <th>4</th>\n      <td>008892288</td>\n      <td>aarsele</td>\n      <td>Hogenhovenstraat Zn</td>\n      <td>8700</td>\n      <td>Aarsele</td>\n      <td>1.0</td>\n      <td>0.0</td>\n      <td>0.0</td>\n      <td>0.0</td>\n      <td>0.0</td>\n      <td>...</td>\n      <td>0 days 00:00:00</td>\n      <td>0 days 00:00:00</td>\n      <td>0</td>\n      <td>0</td>\n      <td>1</td>\n      <td>0</td>\n      <td>0</td>\n      <td>92</td>\n      <td>aarsele</td>\n      <td>27.54</td>\n    </tr>\n    <tr>\n      <th>...</th>\n      <td>...</td>\n      <td>...</td>\n      <td>...</td>\n      <td>...</td>\n      <td>...</td>\n      <td>...</td>\n      <td>...</td>\n      <td>...</td>\n      <td>...</td>\n      <td>...</td>\n      <td>...</td>\n      <td>...</td>\n      <td>...</td>\n      <td>...</td>\n      <td>...</td>\n      <td>...</td>\n      <td>...</td>\n      <td>...</td>\n      <td>...</td>\n      <td>...</td>\n      <td>...</td>\n    </tr>\n    <tr>\n      <th>521</th>\n      <td>008832250</td>\n      <td>zolder</td>\n      <td>Stationsstraat Z/n</td>\n      <td>3550</td>\n      <td>Heusden - Zolder</td>\n      <td>1.0</td>\n      <td>0.0</td>\n      <td>1.0</td>\n      <td>0.0</td>\n      <td>0.0</td>\n      <td>...</td>\n      <td>0 days 00:00:00</td>\n      <td>0 days 00:00:00</td>\n      <td>0</td>\n      <td>1</td>\n      <td>1</td>\n      <td>0</td>\n      <td>0</td>\n      <td>559</td>\n      <td>zolder</td>\n      <td>57.43</td>\n    </tr>\n    <tr>\n      <th>522</th>\n      <td>008832334</td>\n      <td>zonhoven</td>\n      <td>Engstegenseweg</td>\n      <td>3520</td>\n      <td>Zonhoven</td>\n      <td>1.0</td>\n      <td>0.0</td>\n      <td>1.0</td>\n      <td>0.0</td>\n      <td>0.0</td>\n      <td>...</td>\n      <td>0 days 00:00:00</td>\n      <td>0 days 00:00:00</td>\n      <td>0</td>\n      <td>1</td>\n      <td>1</td>\n      <td>0</td>\n      <td>0</td>\n      <td>495</td>\n      <td>zonhoven</td>\n      <td>39.39</td>\n    </tr>\n    <tr>\n      <th>523</th>\n      <td>008895208</td>\n      <td>zottegem</td>\n      <td>Stationsplein 12</td>\n      <td>9620</td>\n      <td>Zottegem</td>\n      <td>1.0</td>\n      <td>0.0</td>\n      <td>1.0</td>\n      <td>0.0</td>\n      <td>1.0</td>\n      <td>...</td>\n      <td>0 days 07:15:00</td>\n      <td>0 days 14:30:00</td>\n      <td>0</td>\n      <td>0</td>\n      <td>0</td>\n      <td>1</td>\n      <td>0</td>\n      <td>276</td>\n      <td>zottegem</td>\n      <td>48.90</td>\n    </tr>\n    <tr>\n      <th>524</th>\n      <td>008894821</td>\n      <td>zwijndrecht</td>\n      <td>Fortlaan 1</td>\n      <td>2070</td>\n      <td>Zwijndrecht</td>\n      <td>1.0</td>\n      <td>0.0</td>\n      <td>1.0</td>\n      <td>0.0</td>\n      <td>1.0</td>\n      <td>...</td>\n      <td>0 days 00:00:00</td>\n      <td>0 days 00:00:00</td>\n      <td>0</td>\n      <td>0</td>\n      <td>1</td>\n      <td>0</td>\n      <td>0</td>\n      <td>301</td>\n      <td>zwijndrecht</td>\n      <td>49.58</td>\n    </tr>\n    <tr>\n      <th>525</th>\n      <td>008883212</td>\n      <td>écaussinnes</td>\n      <td>Avenue De La Déportation</td>\n      <td>7190</td>\n      <td>Ecaussinnes</td>\n      <td>1.0</td>\n      <td>0.0</td>\n      <td>1.0</td>\n      <td>0.0</td>\n      <td>1.0</td>\n      <td>...</td>\n      <td>0 days 00:00:00</td>\n      <td>0 days 00:00:00</td>\n      <td>0</td>\n      <td>0</td>\n      <td>0</td>\n      <td>0</td>\n      <td>0</td>\n      <td>115</td>\n      <td>écaussinnes</td>\n      <td>69.57</td>\n    </tr>\n  </tbody>\n</table>\n<p>526 rows × 44 columns</p>\n</div>"
     },
     "execution_count": 26,
     "metadata": {},
     "output_type": "execute_result"
    }
   ],
   "source": [
    "satisfaction = data.satisfaction\n",
    "facilities = facilities.merge(satisfaction, left_on = \"name\", right_on = \"station\")\n",
    "facilities"
   ],
   "metadata": {
    "collapsed": false
   }
  },
  {
   "cell_type": "markdown",
   "source": [
    "We see that all have a different mean that is significant, but only the odd facilities without odd_transport have a siginifcant larger mean.\n",
    "Therefore, we suggest to provide bus/tram/metro/taxi in these stations"
   ],
   "metadata": {
    "collapsed": false
   }
  },
  {
   "cell_type": "code",
   "execution_count": 27,
   "outputs": [
    {
     "name": "stdout",
     "output_type": "stream",
     "text": [
      "Ttest_indResult(statistic=3.5225143595752826, pvalue=0.000464808744581967)\n",
      "Mean of stations with odd_escalator:  57.61903225806453\n",
      "Mean of stations without odd_escalator:  46.976020202020194\n",
      "Ttest_indResult(statistic=5.615205345977774, pvalue=3.1885590589631156e-08)\n",
      "Mean of stations with wheelchair_odd:  53.18752873563219\n",
      "Mean of stations without wheelchair_odd:  44.84286931818181\n",
      "Ttest_indResult(statistic=-9.69544405234195, pvalue=1.486014183647717e-20)\n",
      "Mean of stations with transport_odd:  40.45102127659575\n",
      "Mean of stations without transport_odd:  53.3791408934708\n",
      "Ttest_indResult(statistic=3.3930582140872816, pvalue=0.0007434510438662997)\n",
      "Mean of stations with esc_wheel_odd:  60.82529411764707\n",
      "Mean of stations without esc_wheel_odd:  47.16166994106091\n"
     ]
    },
    {
     "ename": "KeyError",
     "evalue": "'parking_odd'",
     "output_type": "error",
     "traceback": [
      "\u001B[0;31m---------------------------------------------------------------------------\u001B[0m",
      "\u001B[0;31mKeyError\u001B[0m                                  Traceback (most recent call last)",
      "File \u001B[0;32m/Library/Frameworks/Python.framework/Versions/3.10/lib/python3.10/site-packages/pandas/core/indexes/base.py:3800\u001B[0m, in \u001B[0;36mIndex.get_loc\u001B[0;34m(self, key, method, tolerance)\u001B[0m\n\u001B[1;32m   3799\u001B[0m \u001B[38;5;28;01mtry\u001B[39;00m:\n\u001B[0;32m-> 3800\u001B[0m     \u001B[38;5;28;01mreturn\u001B[39;00m \u001B[38;5;28;43mself\u001B[39;49m\u001B[38;5;241;43m.\u001B[39;49m\u001B[43m_engine\u001B[49m\u001B[38;5;241;43m.\u001B[39;49m\u001B[43mget_loc\u001B[49m\u001B[43m(\u001B[49m\u001B[43mcasted_key\u001B[49m\u001B[43m)\u001B[49m\n\u001B[1;32m   3801\u001B[0m \u001B[38;5;28;01mexcept\u001B[39;00m \u001B[38;5;167;01mKeyError\u001B[39;00m \u001B[38;5;28;01mas\u001B[39;00m err:\n",
      "File \u001B[0;32m/Library/Frameworks/Python.framework/Versions/3.10/lib/python3.10/site-packages/pandas/_libs/index.pyx:138\u001B[0m, in \u001B[0;36mpandas._libs.index.IndexEngine.get_loc\u001B[0;34m()\u001B[0m\n",
      "File \u001B[0;32m/Library/Frameworks/Python.framework/Versions/3.10/lib/python3.10/site-packages/pandas/_libs/index.pyx:165\u001B[0m, in \u001B[0;36mpandas._libs.index.IndexEngine.get_loc\u001B[0;34m()\u001B[0m\n",
      "File \u001B[0;32mpandas/_libs/hashtable_class_helper.pxi:5745\u001B[0m, in \u001B[0;36mpandas._libs.hashtable.PyObjectHashTable.get_item\u001B[0;34m()\u001B[0m\n",
      "File \u001B[0;32mpandas/_libs/hashtable_class_helper.pxi:5753\u001B[0m, in \u001B[0;36mpandas._libs.hashtable.PyObjectHashTable.get_item\u001B[0;34m()\u001B[0m\n",
      "\u001B[0;31mKeyError\u001B[0m: 'parking_odd'",
      "\nThe above exception was the direct cause of the following exception:\n",
      "\u001B[0;31mKeyError\u001B[0m                                  Traceback (most recent call last)",
      "Cell \u001B[0;32mIn [27], line 20\u001B[0m\n\u001B[1;32m     16\u001B[0m \u001B[38;5;28mprint\u001B[39m(\u001B[38;5;124m\"\u001B[39m\u001B[38;5;124mMean of stations with esc_wheel_odd: \u001B[39m\u001B[38;5;124m\"\u001B[39m, facilities[facilities[\u001B[38;5;124m\"\u001B[39m\u001B[38;5;124mesc_wheel_odd\u001B[39m\u001B[38;5;124m\"\u001B[39m] \u001B[38;5;241m==\u001B[39m \u001B[38;5;241m1\u001B[39m][\u001B[38;5;124m\"\u001B[39m\u001B[38;5;124mAvg Satisfaction\u001B[39m\u001B[38;5;124m\"\u001B[39m]\u001B[38;5;241m.\u001B[39mmean())\n\u001B[1;32m     17\u001B[0m \u001B[38;5;28mprint\u001B[39m(\u001B[38;5;124m\"\u001B[39m\u001B[38;5;124mMean of stations without esc_wheel_odd: \u001B[39m\u001B[38;5;124m\"\u001B[39m, facilities[facilities[\u001B[38;5;124m\"\u001B[39m\u001B[38;5;124mesc_wheel_odd\u001B[39m\u001B[38;5;124m\"\u001B[39m] \u001B[38;5;241m==\u001B[39m \u001B[38;5;241m0\u001B[39m][\u001B[38;5;124m\"\u001B[39m\u001B[38;5;124mAvg Satisfaction\u001B[39m\u001B[38;5;124m\"\u001B[39m]\u001B[38;5;241m.\u001B[39mmean())\n\u001B[0;32m---> 20\u001B[0m \u001B[38;5;28mprint\u001B[39m(stats\u001B[38;5;241m.\u001B[39mttest_ind(facilities[facilities[\u001B[38;5;124m\"\u001B[39m\u001B[38;5;124mparking_odd\u001B[39m\u001B[38;5;124m\"\u001B[39m] \u001B[38;5;241m==\u001B[39m \u001B[38;5;241m1\u001B[39m][\u001B[38;5;124m\"\u001B[39m\u001B[38;5;124mAvg Satisfaction\u001B[39m\u001B[38;5;124m\"\u001B[39m], facilities[facilities[\u001B[38;5;124m\"\u001B[39m\u001B[38;5;124mparking_odd\u001B[39m\u001B[38;5;124m\"\u001B[39m] \u001B[38;5;241m==\u001B[39m \u001B[38;5;241m0\u001B[39m][\u001B[38;5;124m\"\u001B[39m\u001B[38;5;124mAvg Satisfaction\u001B[39m\u001B[38;5;124m\"\u001B[39m]))\n\u001B[1;32m     21\u001B[0m \u001B[38;5;28mprint\u001B[39m(\u001B[38;5;124m\"\u001B[39m\u001B[38;5;124mMean of stations with parking_odd: \u001B[39m\u001B[38;5;124m\"\u001B[39m, facilities[facilities[\u001B[38;5;124m\"\u001B[39m\u001B[38;5;124mparking_odd\u001B[39m\u001B[38;5;124m\"\u001B[39m] \u001B[38;5;241m==\u001B[39m \u001B[38;5;241m1\u001B[39m][\u001B[38;5;124m\"\u001B[39m\u001B[38;5;124mAvg Satisfaction\u001B[39m\u001B[38;5;124m\"\u001B[39m]\u001B[38;5;241m.\u001B[39mmean())\n\u001B[1;32m     22\u001B[0m \u001B[38;5;28mprint\u001B[39m(\u001B[38;5;124m\"\u001B[39m\u001B[38;5;124mMean of stations without parking_odd: \u001B[39m\u001B[38;5;124m\"\u001B[39m, facilities[facilities[\u001B[38;5;124m\"\u001B[39m\u001B[38;5;124mparking_odd\u001B[39m\u001B[38;5;124m\"\u001B[39m] \u001B[38;5;241m==\u001B[39m \u001B[38;5;241m0\u001B[39m][\u001B[38;5;124m\"\u001B[39m\u001B[38;5;124mAvg Satisfaction\u001B[39m\u001B[38;5;124m\"\u001B[39m]\u001B[38;5;241m.\u001B[39mmean())\n",
      "File \u001B[0;32m/Library/Frameworks/Python.framework/Versions/3.10/lib/python3.10/site-packages/pandas/core/frame.py:3805\u001B[0m, in \u001B[0;36mDataFrame.__getitem__\u001B[0;34m(self, key)\u001B[0m\n\u001B[1;32m   3803\u001B[0m \u001B[38;5;28;01mif\u001B[39;00m \u001B[38;5;28mself\u001B[39m\u001B[38;5;241m.\u001B[39mcolumns\u001B[38;5;241m.\u001B[39mnlevels \u001B[38;5;241m>\u001B[39m \u001B[38;5;241m1\u001B[39m:\n\u001B[1;32m   3804\u001B[0m     \u001B[38;5;28;01mreturn\u001B[39;00m \u001B[38;5;28mself\u001B[39m\u001B[38;5;241m.\u001B[39m_getitem_multilevel(key)\n\u001B[0;32m-> 3805\u001B[0m indexer \u001B[38;5;241m=\u001B[39m \u001B[38;5;28;43mself\u001B[39;49m\u001B[38;5;241;43m.\u001B[39;49m\u001B[43mcolumns\u001B[49m\u001B[38;5;241;43m.\u001B[39;49m\u001B[43mget_loc\u001B[49m\u001B[43m(\u001B[49m\u001B[43mkey\u001B[49m\u001B[43m)\u001B[49m\n\u001B[1;32m   3806\u001B[0m \u001B[38;5;28;01mif\u001B[39;00m is_integer(indexer):\n\u001B[1;32m   3807\u001B[0m     indexer \u001B[38;5;241m=\u001B[39m [indexer]\n",
      "File \u001B[0;32m/Library/Frameworks/Python.framework/Versions/3.10/lib/python3.10/site-packages/pandas/core/indexes/base.py:3802\u001B[0m, in \u001B[0;36mIndex.get_loc\u001B[0;34m(self, key, method, tolerance)\u001B[0m\n\u001B[1;32m   3800\u001B[0m     \u001B[38;5;28;01mreturn\u001B[39;00m \u001B[38;5;28mself\u001B[39m\u001B[38;5;241m.\u001B[39m_engine\u001B[38;5;241m.\u001B[39mget_loc(casted_key)\n\u001B[1;32m   3801\u001B[0m \u001B[38;5;28;01mexcept\u001B[39;00m \u001B[38;5;167;01mKeyError\u001B[39;00m \u001B[38;5;28;01mas\u001B[39;00m err:\n\u001B[0;32m-> 3802\u001B[0m     \u001B[38;5;28;01mraise\u001B[39;00m \u001B[38;5;167;01mKeyError\u001B[39;00m(key) \u001B[38;5;28;01mfrom\u001B[39;00m \u001B[38;5;21;01merr\u001B[39;00m\n\u001B[1;32m   3803\u001B[0m \u001B[38;5;28;01mexcept\u001B[39;00m \u001B[38;5;167;01mTypeError\u001B[39;00m:\n\u001B[1;32m   3804\u001B[0m     \u001B[38;5;66;03m# If we have a listlike key, _check_indexing_error will raise\u001B[39;00m\n\u001B[1;32m   3805\u001B[0m     \u001B[38;5;66;03m#  InvalidIndexError. Otherwise we fall through and re-raise\u001B[39;00m\n\u001B[1;32m   3806\u001B[0m     \u001B[38;5;66;03m#  the TypeError.\u001B[39;00m\n\u001B[1;32m   3807\u001B[0m     \u001B[38;5;28mself\u001B[39m\u001B[38;5;241m.\u001B[39m_check_indexing_error(key)\n",
      "\u001B[0;31mKeyError\u001B[0m: 'parking_odd'"
     ]
    }
   ],
   "source": [
    "from scipy import stats\n",
    "print(stats.ttest_ind(facilities[facilities[\"odd_escalator\"] == 1][\"Avg Satisfaction\"], facilities[facilities[\"odd_escalator\"] == 0][\"Avg Satisfaction\"]))\n",
    "print(\"Mean of stations with odd_escalator: \", facilities[facilities[\"odd_escalator\"] == 1][\"Avg Satisfaction\"].mean())\n",
    "print(\"Mean of stations without odd_escalator: \", facilities[facilities[\"odd_escalator\"] == 0][\"Avg Satisfaction\"].mean())\n",
    "\n",
    "print(stats.ttest_ind(facilities[facilities[\"wheelchair_odd\"] == 1][\"Avg Satisfaction\"], facilities[facilities[\"wheelchair_odd\"] == 0][\"Avg Satisfaction\"]))\n",
    "print(\"Mean of stations with wheelchair_odd: \", facilities[facilities[\"wheelchair_odd\"] == 1][\"Avg Satisfaction\"].mean())\n",
    "print(\"Mean of stations without wheelchair_odd: \", facilities[facilities[\"wheelchair_odd\"] == 0][\"Avg Satisfaction\"].mean())\n",
    "\n",
    "print(stats.ttest_ind(facilities[facilities[\"transport_odd\"] == 1][\"Avg Satisfaction\"], facilities[facilities[\"transport_odd\"] == 0][\"Avg Satisfaction\"]))\n",
    "print(\"Mean of stations with transport_odd: \", facilities[facilities[\"transport_odd\"] == 1][\"Avg Satisfaction\"].mean())\n",
    "print(\"Mean of stations without transport_odd: \", facilities[facilities[\"transport_odd\"] == 0][\"Avg Satisfaction\"].mean())\n",
    "\n",
    "\n",
    "print(stats.ttest_ind(facilities[facilities[\"esc_wheel_odd\"] == 1][\"Avg Satisfaction\"], facilities[facilities[\"esc_wheel_odd\"] == 0][\"Avg Satisfaction\"]))\n",
    "print(\"Mean of stations with esc_wheel_odd: \", facilities[facilities[\"esc_wheel_odd\"] == 1][\"Avg Satisfaction\"].mean())\n",
    "print(\"Mean of stations without esc_wheel_odd: \", facilities[facilities[\"esc_wheel_odd\"] == 0][\"Avg Satisfaction\"].mean())\n",
    "\n",
    "\n",
    "print(stats.ttest_ind(facilities[facilities[\"parking_odd\"] == 1][\"Avg Satisfaction\"], facilities[facilities[\"parking_odd\"] == 0][\"Avg Satisfaction\"]))\n",
    "print(\"Mean of stations with parking_odd: \", facilities[facilities[\"parking_odd\"] == 1][\"Avg Satisfaction\"].mean())\n",
    "print(\"Mean of stations without parking_odd: \", facilities[facilities[\"parking_odd\"] == 0][\"Avg Satisfaction\"].mean())\n",
    "\n",
    "\n",
    "print(stats.ttest_ind(facilities[facilities[\"bicycle_odd\"] == 1][\"Avg Satisfaction\"], facilities[facilities[\"bicycle_odd\"] == 0][\"Avg Satisfaction\"]))\n",
    "print(\"Mean of stations with bicycle_odd: \", facilities[facilities[\"bicycle_odd\"] == 1][\"Avg Satisfaction\"].mean())\n",
    "print(\"Mean of stations without bicycle_odd: \", facilities[facilities[\"bicycle_odd\"] == 0][\"Avg Satisfaction\"].mean())\n",
    "\n"
   ],
   "metadata": {
    "collapsed": false
   }
  },
  {
   "cell_type": "markdown",
   "metadata": {},
   "source": [
    "Impossible to do K-means clustering algorithms because of boolean values\n",
    "Also tried Hamming distance, Jaccard similarity\n",
    "\n",
    "We can check frequent dataset mining\n"
   ]
  },
  {
   "cell_type": "code",
   "execution_count": null,
   "outputs": [],
   "source": [
    "import matplotlib.pyplot as plt\n",
    "plt.bar([\"Stations without public transport  \", \"Stations with public transport \"], [facilities[facilities[\"transport_odd\"] == 1][\"Avg Satisfaction\"].mean(), facilities[facilities[\"transport_odd\"] == 0][\"Avg Satisfaction\"].mean()])\n",
    "plt.title(\"Average satisfaction for stations with or without public transport \")\n",
    "plt.ylabel(\"Average satisfaction score /100\")\n",
    "\n",
    "plt.show()\n",
    "\n"
   ],
   "metadata": {
    "collapsed": false
   }
  },
  {
   "cell_type": "code",
   "execution_count": null,
   "metadata": {},
   "outputs": [],
   "source": [
    "frequent_facilities = apriori(only_facilities, min_support=0.0000001, use_colnames = True)\n",
    "frequent_facilities"
   ]
  },
  {
   "cell_type": "code",
   "execution_count": null,
   "metadata": {},
   "outputs": [],
   "source": [
    "# meaning of support\n",
    "len(only_facilities[only_facilities[\"ticket_vending_machine\"] == 1])/ only_facilities[\"ticket_vending_machine\"].count()"
   ]
  },
  {
   "cell_type": "markdown",
   "metadata": {},
   "source": [
    "Prefer to cluster the stations based on logic"
   ]
  },
  {
   "cell_type": "markdown",
   "metadata": {},
   "source": [
    "Stations with:\n",
    "1. no facilities\n",
    "2. bicycle facilities: bicycle spots, blue bike\n",
    "3. transport facilities: bus, tram, metro,taxi, free_parking\n",
    "4. facilities for people in wheelchair: wheelchair_available, ramp, disabled_parking_spots, elevated_platform, escalartor_up, escalator_down, elevator_platform"
   ]
  },
  {
   "cell_type": "markdown",
   "metadata": {},
   "source": [
    "Some stations don't have any facilities"
   ]
  },
  {
   "cell_type": "code",
   "execution_count": null,
   "metadata": {},
   "outputs": [],
   "source": [
    "\n",
    "facilities[\"has_facilities\"] = facilities[['ticket_vending_machine',\n",
    "       'luggage_lockers', 'free_parking', 'taxi', 'bicycle_spots', 'blue-bike',\n",
    "       'bus', 'tram', 'metro', 'wheelchair_available', 'ramp',\n",
    "       'disabled_parking_spots', 'elevated_platform', 'escalator_up',\n",
    "       'escalator_down', 'elevator_platform', 'audio_induction_loop']].apply(lambda x: 1 if x.sum() >=1 else 0, axis=1)\n",
    "facilities"
   ]
  },
  {
   "cell_type": "markdown",
   "metadata": {},
   "source": [
    "Bicycle facilities"
   ]
  },
  {
   "cell_type": "code",
   "execution_count": null,
   "metadata": {},
   "outputs": [],
   "source": [
    "facilities[\"has_bicycle_facilities\"] = facilities[[ 'bicycle_spots', 'blue-bike']].apply(lambda x: 1 if x.sum() >=1 else 0, axis=1)\n",
    "facilities"
   ]
  },
  {
   "cell_type": "markdown",
   "metadata": {},
   "source": [
    "Transport facilities"
   ]
  },
  {
   "cell_type": "code",
   "execution_count": null,
   "metadata": {},
   "outputs": [],
   "source": [
    "facilities[\"has_transport_facilities\"] = facilities[[ 'bus', 'tram', 'metro', \"taxi\", \"free_parking\", \"luggage_lockers\"]].apply(lambda x: 1 if x.sum() >=3 else 0, axis=1)\n",
    "facilities"
   ]
  },
  {
   "cell_type": "markdown",
   "metadata": {},
   "source": [
    "Disabled persons facilities"
   ]
  },
  {
   "cell_type": "code",
   "execution_count": null,
   "metadata": {},
   "outputs": [],
   "source": [
    "facilities.columns"
   ]
  },
  {
   "cell_type": "code",
   "execution_count": null,
   "metadata": {},
   "outputs": [],
   "source": [
    "facilities[\"has_disabeld_persons_facilities\"] = facilities[[ 'wheelchair_available', 'ramp',\n",
    "       'disabled_parking_spots', 'elevated_platform', 'escalator_up',\n",
    "       'escalator_down', 'elevator_platform', 'audio_induction_loop']].apply(lambda x: 1 if x.sum() >=4 else 0, axis=1)\n",
    "facilities"
   ]
  },
  {
   "cell_type": "markdown",
   "metadata": {},
   "source": [
    "Create a code for the total kinds of facilities each station has"
   ]
  },
  {
   "cell_type": "code",
   "execution_count": null,
   "metadata": {},
   "outputs": [],
   "source": [
    "# facilities[\"Total facilities\"] = facilities[['has_facilities', 'has_wheelchair_facilities','has_bicycle_facilities','has_transport_facilities']]\\\n",
    "#     .apply(lambda x: \"Z\" if x[0] == 0 else \"\".join([chr(65+i) for i in range(0,3) if x[i]]), axis=1)\n",
    "# facilities\n",
    "\n"
   ]
  },
  {
   "cell_type": "code",
   "execution_count": null,
   "metadata": {},
   "outputs": [],
   "source": [
    "def get_facilities(x):\n",
    "    if x[0] == 0:\n",
    "        return \"Z\"\n",
    "    # if all facilities are 0, then return A\n",
    "    elif x[0] == 1 and x[1] == 0 and x[2] == 0 and x[3] == 0:\n",
    "        return \"A\"\n",
    "    # else, return the facilities that are available\n",
    "    else:\n",
    "        return \"\".join([chr(65+i) for i in range(1,4) if x[i]])\n",
    "\n",
    "# apply the function to the facilities dataframe\n",
    "facilities[\"Total facilities\"] = facilities[['has_facilities', 'has_bicycle_facilities','has_transport_facilities', 'has_disabeld_persons_facilities' ]].apply(get_facilities, axis=1)\n",
    "facilities\n"
   ]
  },
  {
   "cell_type": "markdown",
   "metadata": {},
   "source": [
    "Create the different clusters"
   ]
  },
  {
   "cell_type": "code",
   "execution_count": null,
   "metadata": {},
   "outputs": [],
   "source": [
    "facilities[\"Total facilities\"].unique()"
   ]
  },
  {
   "cell_type": "markdown",
   "metadata": {},
   "source": [
    "# Number of daily trains"
   ]
  },
  {
   "cell_type": "code",
   "execution_count": null,
   "metadata": {},
   "outputs": [],
   "source": [
    "trips = data.full_trips"
   ]
  },
  {
   "cell_type": "code",
   "execution_count": null,
   "metadata": {},
   "outputs": [],
   "source": [
    "daily_trains = trips[\"Name of the stop\"].value_counts().reset_index().rename(columns={\"index\": \"Name of the stop\", \"Name of the stop\": \"count\"}).astype({\"count\": int})\n",
    "# daily_trains[\"count\"] = daily_trains[\"count\"]/7\n",
    "daily_trains[\"Name of the stop\"]=daily_trains[\"Name of the stop\"].str.lower()\n",
    "daily_trains"
   ]
  },
  {
   "cell_type": "code",
   "execution_count": null,
   "metadata": {},
   "outputs": [],
   "source": [
    "facilities = facilities.merge(daily_trains, left_on = \"name\", right_on=\"Name of the stop\")\n",
    "facilities"
   ]
  },
  {
   "cell_type": "code",
   "execution_count": null,
   "outputs": [],
   "source": [
    "df = facilities.groupby(\"Total facilities\")[\"count\"].mean().reset_index()\n",
    "df"
   ],
   "metadata": {
    "collapsed": false
   }
  },
  {
   "cell_type": "code",
   "execution_count": null,
   "outputs": [],
   "source": [
    "plt.bar(df[\"Total facilities\"], df[\"count\"])\n",
    "plt.xticks([\"A\", \"B\", \"BC\", \"BCD\", \"BD\", \"C\", \"D\", \"Z\"], [\"Has facilities\", \"Bicycle facilities\", \" Bicycle and transport\", \"Bicycle, transport and disabled people\", \"Bicycle and disabled people\", \"Transport\", \"Disabled people\", \"No facilities\"])\n",
    "plt.xticks(rotation = 90)\n",
    "# plt.axhline(df[\"count\"].mean(), color = \"red\")\n",
    "plt.xlabel(\"Provided adequate facilities for:\")\n",
    "plt.title(\"Number of daily trains at each kind of station\")"
   ],
   "metadata": {
    "collapsed": false
   }
  },
  {
   "cell_type": "code",
   "execution_count": null,
   "outputs": [],
   "source": [
    "travelers = data.travelers\n",
    "travelers = travelers.merge(facilities, left_on = \"Station\", right_on =\"name\")\n",
    "travelers"
   ],
   "metadata": {
    "collapsed": false
   }
  },
  {
   "cell_type": "code",
   "execution_count": null,
   "outputs": [],
   "source": [
    "plt.bar(travelers[\"Total facilities\"], travelers[\"sum\"]/7)\n",
    "plt.xticks([\"A\", \"B\", \"BC\", \"BCD\", \"BD\", \"C\", \"D\", \"Z\"], [\"Has facilities\", \"Bicycle facilities\", \" Bicycle and transport\", \"Bicycle, transport and disabled people\", \"Bicycle and disabled people\", \"Transport\", \"Disabled people\", \"No facilities\"])\n",
    "plt.xticks(rotation = 90)\n",
    "plt.title(\"Number of daily travelers at each kind of station\")\n",
    "plt.xlabel(\"Provided adequate facilities for:\")"
   ],
   "metadata": {
    "collapsed": false
   }
  },
  {
   "cell_type": "code",
   "execution_count": null,
   "metadata": {},
   "outputs": [],
   "source": [
    "stations = data.stations\n",
    "stations[\"name\"] = stations[\"name\"].str.lower()\n",
    "df2 = facilities.merge(stations, left_on = \"Name of the stop\", right_on = \"name\")\n",
    "df2"
   ]
  },
  {
   "cell_type": "markdown",
   "source": [
    "All the different stations clustered by color on a map"
   ],
   "metadata": {
    "collapsed": false
   }
  },
  {
   "cell_type": "code",
   "execution_count": null,
   "outputs": [],
   "source": [
    "fig, ax = plt.subplots()\n",
    "data.provinces.plot(ax=ax, color = \"#F0FFFF\", edgecolor = \"darkgrey\")\n",
    "plt.scatter(df2[df2[\"Total facilities\"] == \"A\"][\"longitude\"], df2[df2[\"Total facilities\"] == \"A\"][\"latitude\"], color = \"green\")\n",
    "plt.scatter(df2[df2[\"Total facilities\"] == \"B\"][\"longitude\"], df2[df2[\"Total facilities\"] == \"B\"][\"latitude\"], color = \"red\")\n",
    "plt.scatter(df2[df2[\"Total facilities\"] == \"BC\"][\"longitude\"], df2[df2[\"Total facilities\"] == \"BC\"][\"latitude\"], color = \"blue\")\n",
    "plt.scatter(df2[df2[\"Total facilities\"] == \"BCD\"][\"longitude\"], df2[df2[\"Total facilities\"] == \"BCD\"][\"latitude\"], color = \"black\")\n",
    "plt.scatter(df2[df2[\"Total facilities\"] == \"BD\"][\"longitude\"], df2[df2[\"Total facilities\"] == \"BD\"][\"latitude\"], color = \"white\")\n",
    "plt.scatter(df2[df2[\"Total facilities\"] == \"C\"][\"longitude\"], df2[df2[\"Total facilities\"] == \"C\"][\"latitude\"], color = \"purple\")\n",
    "plt.scatter(df2[df2[\"Total facilities\"] == \"D\"][\"longitude\"], df2[df2[\"Total facilities\"] == \"D\"][\"latitude\"], color = \"orange\")\n",
    "plt.scatter(df2[df2[\"Total facilities\"] == \"Z\"][\"longitude\"], df2[df2[\"Total facilities\"] == \"Z\"][\"latitude\"], color = \"#ff0000\")\n",
    "ax.axis('off')\n",
    "plt.title(\"Stations clustered by facilities they provide\" )\n",
    "plt.show()"
   ],
   "metadata": {
    "collapsed": false
   }
  },
  {
   "cell_type": "markdown",
   "source": [
    "Green to red, green: most types facilities, red no facilities"
   ],
   "metadata": {
    "collapsed": false
   }
  },
  {
   "cell_type": "code",
   "execution_count": null,
   "outputs": [],
   "source": [
    "fig, ax = plt.subplots()\n",
    "data.provinces.plot(ax=ax, color = \"#F0FFFF\", edgecolor = \"darkgrey\")\n",
    "plt.scatter(df2[df2[\"Total facilities\"] == \"A\"][\"longitude\"], df2[df2[\"Total facilities\"] == \"A\"][\"latitude\"], color = \"#f46d00\")\n",
    "plt.scatter(df2[df2[\"Total facilities\"] == \"B\"][\"longitude\"], df2[df2[\"Total facilities\"] == \"B\"][\"latitude\"], color = \"#d4a600\")\n",
    "plt.scatter(df2[df2[\"Total facilities\"] == \"BC\"][\"longitude\"], df2[df2[\"Total facilities\"] == \"BC\"][\"latitude\"], color = \"#9fd400\")\n",
    "plt.scatter(df2[df2[\"Total facilities\"] == \"BCD\"][\"longitude\"], df2[df2[\"Total facilities\"] == \"BCD\"][\"latitude\"], color = \"#16fc21\")\n",
    "plt.scatter(df2[df2[\"Total facilities\"] == \"BD\"][\"longitude\"], df2[df2[\"Total facilities\"] == \"BD\"][\"latitude\"], color = \"#9fd400\")\n",
    "plt.scatter(df2[df2[\"Total facilities\"] == \"C\"][\"longitude\"], df2[df2[\"Total facilities\"] == \"C\"][\"latitude\"], color = \"#d4a600\")\n",
    "plt.scatter(df2[df2[\"Total facilities\"] == \"D\"][\"longitude\"], df2[df2[\"Total facilities\"] == \"D\"][\"latitude\"], color = \"#d4a600\")\n",
    "plt.scatter(df2[df2[\"Total facilities\"] == \"Z\"][\"longitude\"], df2[df2[\"Total facilities\"] == \"Z\"][\"latitude\"], color = \"#ff0000\")\n",
    "ax.axis('off')\n",
    "plt.title(\"Stations clustered by facilities they provide\" )\n",
    "plt.show()"
   ],
   "metadata": {
    "collapsed": false
   }
  },
  {
   "cell_type": "code",
   "execution_count": null,
   "outputs": [],
   "source": [
    "fig, ax = plt.subplots()\n",
    "data.provinces.plot(ax=ax, color = \"#F0FFFF\", edgecolor = \"darkgrey\")\n",
    "plt.scatter(df2[df2[\"Total facilities\"] == \"A\"][\"longitude\"], df2[df2[\"Total facilities\"] == \"A\"][\"latitude\"], color = \"red\")\n",
    "plt.scatter(df2[df2[\"Total facilities\"] == \"B\"][\"longitude\"], df2[df2[\"Total facilities\"] == \"B\"][\"latitude\"], color = \"red\")\n",
    "plt.scatter(df2[df2[\"Total facilities\"] == \"BC\"][\"longitude\"], df2[df2[\"Total facilities\"] == \"BC\"][\"latitude\"], color = \"green\", zorder = 2)\n",
    "plt.scatter(df2[df2[\"Total facilities\"] == \"BCD\"][\"longitude\"], df2[df2[\"Total facilities\"] == \"BCD\"][\"latitude\"], color = \"green\", zorder= 2)\n",
    "plt.scatter(df2[df2[\"Total facilities\"] == \"BD\"][\"longitude\"], df2[df2[\"Total facilities\"] == \"BD\"][\"latitude\"], color = \"green\", zorder =2)\n",
    "plt.scatter(df2[df2[\"Total facilities\"] == \"C\"][\"longitude\"], df2[df2[\"Total facilities\"] == \"C\"][\"latitude\"], color = \"red\")\n",
    "plt.scatter(df2[df2[\"Total facilities\"] == \"D\"][\"longitude\"], df2[df2[\"Total facilities\"] == \"D\"][\"latitude\"], color = \"red\")\n",
    "plt.scatter(df2[df2[\"Total facilities\"] == \"Z\"][\"longitude\"], df2[df2[\"Total facilities\"] == \"Z\"][\"latitude\"], color = \"red\")\n",
    "ax.axis('off')\n",
    "plt.title(\"Stations clustered by facilities they provide\" )\n",
    "plt.show()"
   ],
   "metadata": {
    "collapsed": false
   }
  },
  {
   "cell_type": "markdown",
   "source": [
    "# From here on we will do some extra analysis"
   ],
   "metadata": {
    "collapsed": false
   }
  },
  {
   "cell_type": "markdown",
   "source": [
    "# 1. Correlation station type and mean delay time?"
   ],
   "metadata": {
    "collapsed": false
   }
  },
  {
   "cell_type": "code",
   "execution_count": null,
   "metadata": {},
   "outputs": [],
   "source": [
    "stations_total_delay_time = trips.groupby(\"Name of the stop\")[\"Delay time\"].mean().reset_index().rename(columns={\"Delay time\": \"Total delay time\"})\n",
    "stations_total_delay_time"
   ]
  },
  {
   "cell_type": "code",
   "execution_count": null,
   "outputs": [],
   "source": [
    "facilities = facilities.merge(stations_total_delay_time, left_on = \"name\", right_on=\"Name of the stop\")\n",
    "facilities"
   ],
   "metadata": {
    "collapsed": false
   }
  },
  {
   "cell_type": "markdown",
   "source": [
    "Not really a correlation between the type of station and mean delay time."
   ],
   "metadata": {
    "collapsed": false
   }
  },
  {
   "cell_type": "code",
   "execution_count": null,
   "outputs": [],
   "source": [
    "plt.bar(facilities.groupby(\"Total facilities\")[\"Total delay time\"].mean().reset_index()[\"Total facilities\"] , facilities.groupby(\"Total facilities\")[\"Total delay time\"].mean().reset_index()[\"Total delay time\"]/60)\n",
    "plt.xticks([\"A\", \"B\", \"BC\", \"BCD\", \"BD\", \"C\", \"D\", \"Z\"], [\"Has facilities\", \"Bicycle facilities\", \" Bicycle and transport\", \"Bicycle, transport and disabled people\", \"Bicycle and disabled people\", \"Transport\", \"Disabled people\", \"No facilities\"])\n",
    "plt.xticks(rotation = 90)\n",
    "plt.title(\"Mean delay time for each kind of station\")\n",
    "plt.xlabel(\"Provided adequate facilities for:\")\n",
    "plt.ylabel(\"Mean delay time in minutes\")\n"
   ],
   "metadata": {
    "collapsed": false
   }
  },
  {
   "cell_type": "markdown",
   "source": [
    "# 1. Correlation station type and number of delays?"
   ],
   "metadata": {
    "collapsed": false
   }
  },
  {
   "cell_type": "code",
   "execution_count": null,
   "outputs": [],
   "source": [
    "trips"
   ],
   "metadata": {
    "collapsed": false
   }
  },
  {
   "cell_type": "code",
   "execution_count": null,
   "outputs": [],
   "source": [
    "import pandas as pd\n",
    "df3 = pd.DataFrame(trips.groupby(\"Name of the stop\")[\"Delay time\"].apply(lambda x: (x > 0).sum() / x.count()))\n",
    "# rename the column \"Delay time\" to \"Delay percentage\"\n",
    "df3.rename(columns = {\"Delay time\": \"Delay percentage\"}, inplace = True)\n",
    "# reset the index\n",
    "df3.reset_index(inplace = True)\n",
    "df3=df3.merge(facilities, left_on = \"Name of the stop\", right_on = \"name\")"
   ],
   "metadata": {
    "collapsed": false
   }
  },
  {
   "cell_type": "code",
   "execution_count": null,
   "outputs": [],
   "source": [
    "df3"
   ],
   "metadata": {
    "collapsed": false
   }
  },
  {
   "cell_type": "code",
   "execution_count": null,
   "outputs": [],
   "source": [
    "plt.bar(df3.groupby(\"Total facilities\")[\"Delay percentage\"].mean().reset_index()[\"Total facilities\"] , df3.groupby(\"Total facilities\")[\"Delay percentage\"].mean().reset_index()[\"Delay percentage\"])\n",
    "plt.xticks([\"A\", \"B\", \"BC\", \"BCD\", \"BD\", \"C\", \"D\", \"Z\"], [\"Has facilities\", \"Bicycle facilities\", \" Bicycle and transport\", \"Bicycle, transport and disabled people\", \"Bicycle and disabled people\", \"Transport\", \"Disabled people\", \"No facilities\"])\n",
    "plt.xticks(rotation = 90)\n",
    "plt.title(\"Delay frequency at each kind of station\")\n",
    "plt.xlabel(\"Provided adequate facilities for:\")\n"
   ],
   "metadata": {
    "collapsed": false
   }
  },
  {
   "cell_type": "code",
   "execution_count": null,
   "outputs": [],
   "source": [],
   "metadata": {
    "collapsed": false
   }
  }
 ],
 "metadata": {
  "kernelspec": {
   "display_name": "Python 3 (ipykernel)",
   "language": "python",
   "name": "python3"
  },
  "language_info": {
   "codemirror_mode": {
    "name": "ipython",
    "version": 3
   },
   "file_extension": ".py",
   "mimetype": "text/x-python",
   "name": "python",
   "nbconvert_exporter": "python",
   "pygments_lexer": "ipython3",
   "version": "3.8.10"
  }
 },
 "nbformat": 4,
 "nbformat_minor": 1
}
