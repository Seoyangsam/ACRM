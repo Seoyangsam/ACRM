{
 "cells": [
  {
   "cell_type": "markdown",
   "source": [
    "# Question_2: Plot the average delay time per provider (EUROSTAR, NMBS, THALYS).\n"
   ],
   "metadata": {
    "collapsed": false
   }
  },
  {
   "cell_type": "code",
   "execution_count": 35,
   "outputs": [],
   "source": [
    "import glob as glob\n",
    "import pandas as pd\n",
    "import matplotlib.pyplot as plt"
   ],
   "metadata": {
    "collapsed": false
   }
  },
  {
   "cell_type": "code",
   "execution_count": 1,
   "metadata": {
    "collapsed": true
   },
   "outputs": [],
   "source": [
    "import src.data_processing.data as data"
   ]
  },
  {
   "cell_type": "code",
   "execution_count": 9,
   "outputs": [
    {
     "data": {
      "text/plain": "<AxesSubplot: xlabel='Railway operators'>"
     },
     "execution_count": 9,
     "metadata": {},
     "output_type": "execute_result"
    },
    {
     "data": {
      "text/plain": "<Figure size 1000x1000 with 1 Axes>",
      "image/png": "[encoded data removed]"
     },
     "metadata": {},
     "output_type": "display_data"
    }
   ],
   "source": [
    "trips = data.full_trips\n",
    "trips.groupby(\"Railway operators\")[\"Delay time\"].mean().plot(kind=\"bar\", figsize=(10, 10))"
   ],
   "metadata": {
    "collapsed": false
   }
  },
  {
   "cell_type": "code",
   "execution_count": 8,
   "outputs": [
    {
     "data": {
      "text/plain": "   Unnamed: 0 Date of departure  Train number Relation Railway operators  \\\n0           0        2020-09-22            11      ICE         SNCB/NMBS   \n1           1        2020-09-22            11      ICE         SNCB/NMBS   \n2           2        2020-09-22            11      ICE         SNCB/NMBS   \n3           3        2020-09-22            11      ICE         SNCB/NMBS   \n4           4        2020-09-22            11      ICE         SNCB/NMBS   \n\n  Railway of departure Time of real arrival Time of real departure  \\\n0                  36N  2022-10-31 06:31:22    2022-10-31 06:33:27   \n1                  36N  2022-10-31 06:36:23    2022-10-31 06:36:23   \n2                  36N  2022-10-31 06:37:44    2022-10-31 06:37:44   \n3                  36N  2022-10-31 06:38:39    2022-10-31 06:38:39   \n4                  36N  2022-10-31 06:39:47    2022-10-31 06:39:47   \n\n  Time of planned arrival Time of planned departure  \\\n0     2022-10-31 06:31:00       2022-10-31 06:33:00   \n1     2022-10-31 06:36:00       2022-10-31 06:36:00   \n2     2022-10-31 06:37:00       2022-10-31 06:37:00   \n3     2022-10-31 06:38:00       2022-10-31 06:38:00   \n4     2022-10-31 06:40:00       2022-10-31 06:40:00   \n\n                      Direction of relation              Name of the stop  \\\n0  ICE: BRUSSEL-ZUID -> FRANKFURT(MAIN) HBF  brussel-noord/bruxelles-nord   \n1  ICE: BRUSSEL-ZUID -> FRANKFURT(MAIN) HBF         schaarbeek/schaerbeek   \n2  ICE: BRUSSEL-ZUID -> FRANKFURT(MAIN) HBF          haren-sud/haren-zuid   \n3  ICE: BRUSSEL-ZUID -> FRANKFURT(MAIN) HBF                        diegem   \n4  ICE: BRUSSEL-ZUID -> FRANKFURT(MAIN) HBF                    kortenberg   \n\n  Railway of arrival Date of planned arrival Date of planned departure  \\\n0                0/1     2020-09-22 00:00:00                2020-09-22   \n1                36N     2020-09-22 00:00:00                2020-09-22   \n2                36N     2020-09-22 00:00:00                2020-09-22   \n3                36N     2020-09-22 00:00:00                2020-09-22   \n4                36N     2020-09-22 00:00:00                2020-09-22   \n\n  Date of real arrival Date of real departure  Delay time  \n0           2020-09-22             2020-09-22          22  \n1           2020-09-22             2020-09-22          23  \n2           2020-09-22             2020-09-22          44  \n3           2020-09-22             2020-09-22          39  \n4           2020-09-22             2020-09-22           0  ",
      "text/html": "<div>\n<style scoped>\n    .dataframe tbody tr th:only-of-type {\n        vertical-align: middle;\n    }\n\n    .dataframe tbody tr th {\n        vertical-align: top;\n    }\n\n    .dataframe thead th {\n        text-align: right;\n    }\n</style>\n<table border=\"1\" class=\"dataframe\">\n  <thead>\n    <tr style=\"text-align: right;\">\n      <th></th>\n      <th>Unnamed: 0</th>\n      <th>Date of departure</th>\n      <th>Train number</th>\n      <th>Relation</th>\n      <th>Railway operators</th>\n      <th>Railway of departure</th>\n      <th>Time of real arrival</th>\n      <th>Time of real departure</th>\n      <th>Time of planned arrival</th>\n      <th>Time of planned departure</th>\n      <th>Direction of relation</th>\n      <th>Name of the stop</th>\n      <th>Railway of arrival</th>\n      <th>Date of planned arrival</th>\n      <th>Date of planned departure</th>\n      <th>Date of real arrival</th>\n      <th>Date of real departure</th>\n      <th>Delay time</th>\n    </tr>\n  </thead>\n  <tbody>\n    <tr>\n      <th>0</th>\n      <td>0</td>\n      <td>2020-09-22</td>\n      <td>11</td>\n      <td>ICE</td>\n      <td>SNCB/NMBS</td>\n      <td>36N</td>\n      <td>2022-10-31 06:31:22</td>\n      <td>2022-10-31 06:33:27</td>\n      <td>2022-10-31 06:31:00</td>\n      <td>2022-10-31 06:33:00</td>\n      <td>ICE: BRUSSEL-ZUID -&gt; FRANKFURT(MAIN) HBF</td>\n      <td>brussel-noord/bruxelles-nord</td>\n      <td>0/1</td>\n      <td>2020-09-22 00:00:00</td>\n      <td>2020-09-22</td>\n      <td>2020-09-22</td>\n      <td>2020-09-22</td>\n      <td>22</td>\n    </tr>\n    <tr>\n      <th>1</th>\n      <td>1</td>\n      <td>2020-09-22</td>\n      <td>11</td>\n      <td>ICE</td>\n      <td>SNCB/NMBS</td>\n      <td>36N</td>\n      <td>2022-10-31 06:36:23</td>\n      <td>2022-10-31 06:36:23</td>\n      <td>2022-10-31 06:36:00</td>\n      <td>2022-10-31 06:36:00</td>\n      <td>ICE: BRUSSEL-ZUID -&gt; FRANKFURT(MAIN) HBF</td>\n      <td>schaarbeek/schaerbeek</td>\n      <td>36N</td>\n      <td>2020-09-22 00:00:00</td>\n      <td>2020-09-22</td>\n      <td>2020-09-22</td>\n      <td>2020-09-22</td>\n      <td>23</td>\n    </tr>\n    <tr>\n      <th>2</th>\n      <td>2</td>\n      <td>2020-09-22</td>\n      <td>11</td>\n      <td>ICE</td>\n      <td>SNCB/NMBS</td>\n      <td>36N</td>\n      <td>2022-10-31 06:37:44</td>\n      <td>2022-10-31 06:37:44</td>\n      <td>2022-10-31 06:37:00</td>\n      <td>2022-10-31 06:37:00</td>\n      <td>ICE: BRUSSEL-ZUID -&gt; FRANKFURT(MAIN) HBF</td>\n      <td>haren-sud/haren-zuid</td>\n      <td>36N</td>\n      <td>2020-09-22 00:00:00</td>\n      <td>2020-09-22</td>\n      <td>2020-09-22</td>\n      <td>2020-09-22</td>\n      <td>44</td>\n    </tr>\n    <tr>\n      <th>3</th>\n      <td>3</td>\n      <td>2020-09-22</td>\n      <td>11</td>\n      <td>ICE</td>\n      <td>SNCB/NMBS</td>\n      <td>36N</td>\n      <td>2022-10-31 06:38:39</td>\n      <td>2022-10-31 06:38:39</td>\n      <td>2022-10-31 06:38:00</td>\n      <td>2022-10-31 06:38:00</td>\n      <td>ICE: BRUSSEL-ZUID -&gt; FRANKFURT(MAIN) HBF</td>\n      <td>diegem</td>\n      <td>36N</td>\n      <td>2020-09-22 00:00:00</td>\n      <td>2020-09-22</td>\n      <td>2020-09-22</td>\n      <td>2020-09-22</td>\n      <td>39</td>\n    </tr>\n    <tr>\n      <th>4</th>\n      <td>4</td>\n      <td>2020-09-22</td>\n      <td>11</td>\n      <td>ICE</td>\n      <td>SNCB/NMBS</td>\n      <td>36N</td>\n      <td>2022-10-31 06:39:47</td>\n      <td>2022-10-31 06:39:47</td>\n      <td>2022-10-31 06:40:00</td>\n      <td>2022-10-31 06:40:00</td>\n      <td>ICE: BRUSSEL-ZUID -&gt; FRANKFURT(MAIN) HBF</td>\n      <td>kortenberg</td>\n      <td>36N</td>\n      <td>2020-09-22 00:00:00</td>\n      <td>2020-09-22</td>\n      <td>2020-09-22</td>\n      <td>2020-09-22</td>\n      <td>0</td>\n    </tr>\n  </tbody>\n</table>\n</div>"
     },
     "execution_count": 8,
     "metadata": {},
     "output_type": "execute_result"
    }
   ],
   "source": [
    "trips = data.full_trips\n",
    "trips.head(5)"
   ],
   "metadata": {
    "collapsed": false
   }
  },
  {
   "cell_type": "code",
   "execution_count": 4,
   "outputs": [
    {
     "ename": "IsADirectoryError",
     "evalue": "[Errno 21] Is a directory: '/Users/maxwang/PycharmProjects/group7-group-assignment-/Data/Unprocessed/Trips'",
     "output_type": "error",
     "traceback": [
      "\u001B[0;31m---------------------------------------------------------------------------\u001B[0m",
      "\u001B[0;31mIsADirectoryError\u001B[0m                         Traceback (most recent call last)",
      "Cell \u001B[0;32mIn [4], line 2\u001B[0m\n\u001B[1;32m      1\u001B[0m \u001B[38;5;28;01mimport\u001B[39;00m \u001B[38;5;21;01mpandas\u001B[39;00m \u001B[38;5;28;01mas\u001B[39;00m \u001B[38;5;21;01mpd\u001B[39;00m\n\u001B[0;32m----> 2\u001B[0m all_files \u001B[38;5;241m=\u001B[39m pd\u001B[38;5;241m.\u001B[39mread_csv(\u001B[38;5;124m\"\u001B[39m\u001B[38;5;124m/Users/maxwang/PycharmProjects/group7-group-assignment-/Data/Unprocessed/Trips\u001B[39m\u001B[38;5;124m\"\u001B[39m)\n",
      "File \u001B[0;32m/Library/Frameworks/Python.framework/Versions/3.10/lib/python3.10/site-packages/pandas/util/_decorators.py:211\u001B[0m, in \u001B[0;36mdeprecate_kwarg.<locals>._deprecate_kwarg.<locals>.wrapper\u001B[0;34m(*args, **kwargs)\u001B[0m\n\u001B[1;32m    209\u001B[0m     \u001B[38;5;28;01melse\u001B[39;00m:\n\u001B[1;32m    210\u001B[0m         kwargs[new_arg_name] \u001B[38;5;241m=\u001B[39m new_arg_value\n\u001B[0;32m--> 211\u001B[0m \u001B[38;5;28;01mreturn\u001B[39;00m \u001B[43mfunc\u001B[49m\u001B[43m(\u001B[49m\u001B[38;5;241;43m*\u001B[39;49m\u001B[43margs\u001B[49m\u001B[43m,\u001B[49m\u001B[43m \u001B[49m\u001B[38;5;241;43m*\u001B[39;49m\u001B[38;5;241;43m*\u001B[39;49m\u001B[43mkwargs\u001B[49m\u001B[43m)\u001B[49m\n",
      "File \u001B[0;32m/Library/Frameworks/Python.framework/Versions/3.10/lib/python3.10/site-packages/pandas/util/_decorators.py:317\u001B[0m, in \u001B[0;36mdeprecate_nonkeyword_arguments.<locals>.decorate.<locals>.wrapper\u001B[0;34m(*args, **kwargs)\u001B[0m\n\u001B[1;32m    311\u001B[0m \u001B[38;5;28;01mif\u001B[39;00m \u001B[38;5;28mlen\u001B[39m(args) \u001B[38;5;241m>\u001B[39m num_allow_args:\n\u001B[1;32m    312\u001B[0m     warnings\u001B[38;5;241m.\u001B[39mwarn(\n\u001B[1;32m    313\u001B[0m         msg\u001B[38;5;241m.\u001B[39mformat(arguments\u001B[38;5;241m=\u001B[39marguments),\n\u001B[1;32m    314\u001B[0m         \u001B[38;5;167;01mFutureWarning\u001B[39;00m,\n\u001B[1;32m    315\u001B[0m         stacklevel\u001B[38;5;241m=\u001B[39mfind_stack_level(inspect\u001B[38;5;241m.\u001B[39mcurrentframe()),\n\u001B[1;32m    316\u001B[0m     )\n\u001B[0;32m--> 317\u001B[0m \u001B[38;5;28;01mreturn\u001B[39;00m \u001B[43mfunc\u001B[49m\u001B[43m(\u001B[49m\u001B[38;5;241;43m*\u001B[39;49m\u001B[43margs\u001B[49m\u001B[43m,\u001B[49m\u001B[43m \u001B[49m\u001B[38;5;241;43m*\u001B[39;49m\u001B[38;5;241;43m*\u001B[39;49m\u001B[43mkwargs\u001B[49m\u001B[43m)\u001B[49m\n",
      "File \u001B[0;32m/Library/Frameworks/Python.framework/Versions/3.10/lib/python3.10/site-packages/pandas/io/parsers/readers.py:950\u001B[0m, in \u001B[0;36mread_csv\u001B[0;34m(filepath_or_buffer, sep, delimiter, header, names, index_col, usecols, squeeze, prefix, mangle_dupe_cols, dtype, engine, converters, true_values, false_values, skipinitialspace, skiprows, skipfooter, nrows, na_values, keep_default_na, na_filter, verbose, skip_blank_lines, parse_dates, infer_datetime_format, keep_date_col, date_parser, dayfirst, cache_dates, iterator, chunksize, compression, thousands, decimal, lineterminator, quotechar, quoting, doublequote, escapechar, comment, encoding, encoding_errors, dialect, error_bad_lines, warn_bad_lines, on_bad_lines, delim_whitespace, low_memory, memory_map, float_precision, storage_options)\u001B[0m\n\u001B[1;32m    935\u001B[0m kwds_defaults \u001B[38;5;241m=\u001B[39m _refine_defaults_read(\n\u001B[1;32m    936\u001B[0m     dialect,\n\u001B[1;32m    937\u001B[0m     delimiter,\n\u001B[0;32m   (...)\u001B[0m\n\u001B[1;32m    946\u001B[0m     defaults\u001B[38;5;241m=\u001B[39m{\u001B[38;5;124m\"\u001B[39m\u001B[38;5;124mdelimiter\u001B[39m\u001B[38;5;124m\"\u001B[39m: \u001B[38;5;124m\"\u001B[39m\u001B[38;5;124m,\u001B[39m\u001B[38;5;124m\"\u001B[39m},\n\u001B[1;32m    947\u001B[0m )\n\u001B[1;32m    948\u001B[0m kwds\u001B[38;5;241m.\u001B[39mupdate(kwds_defaults)\n\u001B[0;32m--> 950\u001B[0m \u001B[38;5;28;01mreturn\u001B[39;00m \u001B[43m_read\u001B[49m\u001B[43m(\u001B[49m\u001B[43mfilepath_or_buffer\u001B[49m\u001B[43m,\u001B[49m\u001B[43m \u001B[49m\u001B[43mkwds\u001B[49m\u001B[43m)\u001B[49m\n",
      "File \u001B[0;32m/Library/Frameworks/Python.framework/Versions/3.10/lib/python3.10/site-packages/pandas/io/parsers/readers.py:605\u001B[0m, in \u001B[0;36m_read\u001B[0;34m(filepath_or_buffer, kwds)\u001B[0m\n\u001B[1;32m    602\u001B[0m _validate_names(kwds\u001B[38;5;241m.\u001B[39mget(\u001B[38;5;124m\"\u001B[39m\u001B[38;5;124mnames\u001B[39m\u001B[38;5;124m\"\u001B[39m, \u001B[38;5;28;01mNone\u001B[39;00m))\n\u001B[1;32m    604\u001B[0m \u001B[38;5;66;03m# Create the parser.\u001B[39;00m\n\u001B[0;32m--> 605\u001B[0m parser \u001B[38;5;241m=\u001B[39m \u001B[43mTextFileReader\u001B[49m\u001B[43m(\u001B[49m\u001B[43mfilepath_or_buffer\u001B[49m\u001B[43m,\u001B[49m\u001B[43m \u001B[49m\u001B[38;5;241;43m*\u001B[39;49m\u001B[38;5;241;43m*\u001B[39;49m\u001B[43mkwds\u001B[49m\u001B[43m)\u001B[49m\n\u001B[1;32m    607\u001B[0m \u001B[38;5;28;01mif\u001B[39;00m chunksize \u001B[38;5;129;01mor\u001B[39;00m iterator:\n\u001B[1;32m    608\u001B[0m     \u001B[38;5;28;01mreturn\u001B[39;00m parser\n",
      "File \u001B[0;32m/Library/Frameworks/Python.framework/Versions/3.10/lib/python3.10/site-packages/pandas/io/parsers/readers.py:1442\u001B[0m, in \u001B[0;36mTextFileReader.__init__\u001B[0;34m(self, f, engine, **kwds)\u001B[0m\n\u001B[1;32m   1439\u001B[0m     \u001B[38;5;28mself\u001B[39m\u001B[38;5;241m.\u001B[39moptions[\u001B[38;5;124m\"\u001B[39m\u001B[38;5;124mhas_index_names\u001B[39m\u001B[38;5;124m\"\u001B[39m] \u001B[38;5;241m=\u001B[39m kwds[\u001B[38;5;124m\"\u001B[39m\u001B[38;5;124mhas_index_names\u001B[39m\u001B[38;5;124m\"\u001B[39m]\n\u001B[1;32m   1441\u001B[0m \u001B[38;5;28mself\u001B[39m\u001B[38;5;241m.\u001B[39mhandles: IOHandles \u001B[38;5;241m|\u001B[39m \u001B[38;5;28;01mNone\u001B[39;00m \u001B[38;5;241m=\u001B[39m \u001B[38;5;28;01mNone\u001B[39;00m\n\u001B[0;32m-> 1442\u001B[0m \u001B[38;5;28mself\u001B[39m\u001B[38;5;241m.\u001B[39m_engine \u001B[38;5;241m=\u001B[39m \u001B[38;5;28;43mself\u001B[39;49m\u001B[38;5;241;43m.\u001B[39;49m\u001B[43m_make_engine\u001B[49m\u001B[43m(\u001B[49m\u001B[43mf\u001B[49m\u001B[43m,\u001B[49m\u001B[43m \u001B[49m\u001B[38;5;28;43mself\u001B[39;49m\u001B[38;5;241;43m.\u001B[39;49m\u001B[43mengine\u001B[49m\u001B[43m)\u001B[49m\n",
      "File \u001B[0;32m/Library/Frameworks/Python.framework/Versions/3.10/lib/python3.10/site-packages/pandas/io/parsers/readers.py:1729\u001B[0m, in \u001B[0;36mTextFileReader._make_engine\u001B[0;34m(self, f, engine)\u001B[0m\n\u001B[1;32m   1727\u001B[0m     is_text \u001B[38;5;241m=\u001B[39m \u001B[38;5;28;01mFalse\u001B[39;00m\n\u001B[1;32m   1728\u001B[0m     mode \u001B[38;5;241m=\u001B[39m \u001B[38;5;124m\"\u001B[39m\u001B[38;5;124mrb\u001B[39m\u001B[38;5;124m\"\u001B[39m\n\u001B[0;32m-> 1729\u001B[0m \u001B[38;5;28mself\u001B[39m\u001B[38;5;241m.\u001B[39mhandles \u001B[38;5;241m=\u001B[39m \u001B[43mget_handle\u001B[49m\u001B[43m(\u001B[49m\n\u001B[1;32m   1730\u001B[0m \u001B[43m    \u001B[49m\u001B[43mf\u001B[49m\u001B[43m,\u001B[49m\n\u001B[1;32m   1731\u001B[0m \u001B[43m    \u001B[49m\u001B[43mmode\u001B[49m\u001B[43m,\u001B[49m\n\u001B[1;32m   1732\u001B[0m \u001B[43m    \u001B[49m\u001B[43mencoding\u001B[49m\u001B[38;5;241;43m=\u001B[39;49m\u001B[38;5;28;43mself\u001B[39;49m\u001B[38;5;241;43m.\u001B[39;49m\u001B[43moptions\u001B[49m\u001B[38;5;241;43m.\u001B[39;49m\u001B[43mget\u001B[49m\u001B[43m(\u001B[49m\u001B[38;5;124;43m\"\u001B[39;49m\u001B[38;5;124;43mencoding\u001B[39;49m\u001B[38;5;124;43m\"\u001B[39;49m\u001B[43m,\u001B[49m\u001B[43m \u001B[49m\u001B[38;5;28;43;01mNone\u001B[39;49;00m\u001B[43m)\u001B[49m\u001B[43m,\u001B[49m\n\u001B[1;32m   1733\u001B[0m \u001B[43m    \u001B[49m\u001B[43mcompression\u001B[49m\u001B[38;5;241;43m=\u001B[39;49m\u001B[38;5;28;43mself\u001B[39;49m\u001B[38;5;241;43m.\u001B[39;49m\u001B[43moptions\u001B[49m\u001B[38;5;241;43m.\u001B[39;49m\u001B[43mget\u001B[49m\u001B[43m(\u001B[49m\u001B[38;5;124;43m\"\u001B[39;49m\u001B[38;5;124;43mcompression\u001B[39;49m\u001B[38;5;124;43m\"\u001B[39;49m\u001B[43m,\u001B[49m\u001B[43m \u001B[49m\u001B[38;5;28;43;01mNone\u001B[39;49;00m\u001B[43m)\u001B[49m\u001B[43m,\u001B[49m\n\u001B[1;32m   1734\u001B[0m \u001B[43m    \u001B[49m\u001B[43mmemory_map\u001B[49m\u001B[38;5;241;43m=\u001B[39;49m\u001B[38;5;28;43mself\u001B[39;49m\u001B[38;5;241;43m.\u001B[39;49m\u001B[43moptions\u001B[49m\u001B[38;5;241;43m.\u001B[39;49m\u001B[43mget\u001B[49m\u001B[43m(\u001B[49m\u001B[38;5;124;43m\"\u001B[39;49m\u001B[38;5;124;43mmemory_map\u001B[39;49m\u001B[38;5;124;43m\"\u001B[39;49m\u001B[43m,\u001B[49m\u001B[43m \u001B[49m\u001B[38;5;28;43;01mFalse\u001B[39;49;00m\u001B[43m)\u001B[49m\u001B[43m,\u001B[49m\n\u001B[1;32m   1735\u001B[0m \u001B[43m    \u001B[49m\u001B[43mis_text\u001B[49m\u001B[38;5;241;43m=\u001B[39;49m\u001B[43mis_text\u001B[49m\u001B[43m,\u001B[49m\n\u001B[1;32m   1736\u001B[0m \u001B[43m    \u001B[49m\u001B[43merrors\u001B[49m\u001B[38;5;241;43m=\u001B[39;49m\u001B[38;5;28;43mself\u001B[39;49m\u001B[38;5;241;43m.\u001B[39;49m\u001B[43moptions\u001B[49m\u001B[38;5;241;43m.\u001B[39;49m\u001B[43mget\u001B[49m\u001B[43m(\u001B[49m\u001B[38;5;124;43m\"\u001B[39;49m\u001B[38;5;124;43mencoding_errors\u001B[39;49m\u001B[38;5;124;43m\"\u001B[39;49m\u001B[43m,\u001B[49m\u001B[43m \u001B[49m\u001B[38;5;124;43m\"\u001B[39;49m\u001B[38;5;124;43mstrict\u001B[39;49m\u001B[38;5;124;43m\"\u001B[39;49m\u001B[43m)\u001B[49m\u001B[43m,\u001B[49m\n\u001B[1;32m   1737\u001B[0m \u001B[43m    \u001B[49m\u001B[43mstorage_options\u001B[49m\u001B[38;5;241;43m=\u001B[39;49m\u001B[38;5;28;43mself\u001B[39;49m\u001B[38;5;241;43m.\u001B[39;49m\u001B[43moptions\u001B[49m\u001B[38;5;241;43m.\u001B[39;49m\u001B[43mget\u001B[49m\u001B[43m(\u001B[49m\u001B[38;5;124;43m\"\u001B[39;49m\u001B[38;5;124;43mstorage_options\u001B[39;49m\u001B[38;5;124;43m\"\u001B[39;49m\u001B[43m,\u001B[49m\u001B[43m \u001B[49m\u001B[38;5;28;43;01mNone\u001B[39;49;00m\u001B[43m)\u001B[49m\u001B[43m,\u001B[49m\n\u001B[1;32m   1738\u001B[0m \u001B[43m\u001B[49m\u001B[43m)\u001B[49m\n\u001B[1;32m   1739\u001B[0m \u001B[38;5;28;01massert\u001B[39;00m \u001B[38;5;28mself\u001B[39m\u001B[38;5;241m.\u001B[39mhandles \u001B[38;5;129;01mis\u001B[39;00m \u001B[38;5;129;01mnot\u001B[39;00m \u001B[38;5;28;01mNone\u001B[39;00m\n\u001B[1;32m   1740\u001B[0m f \u001B[38;5;241m=\u001B[39m \u001B[38;5;28mself\u001B[39m\u001B[38;5;241m.\u001B[39mhandles\u001B[38;5;241m.\u001B[39mhandle\n",
      "File \u001B[0;32m/Library/Frameworks/Python.framework/Versions/3.10/lib/python3.10/site-packages/pandas/io/common.py:857\u001B[0m, in \u001B[0;36mget_handle\u001B[0;34m(path_or_buf, mode, encoding, compression, memory_map, is_text, errors, storage_options)\u001B[0m\n\u001B[1;32m    852\u001B[0m \u001B[38;5;28;01melif\u001B[39;00m \u001B[38;5;28misinstance\u001B[39m(handle, \u001B[38;5;28mstr\u001B[39m):\n\u001B[1;32m    853\u001B[0m     \u001B[38;5;66;03m# Check whether the filename is to be opened in binary mode.\u001B[39;00m\n\u001B[1;32m    854\u001B[0m     \u001B[38;5;66;03m# Binary mode does not support 'encoding' and 'newline'.\u001B[39;00m\n\u001B[1;32m    855\u001B[0m     \u001B[38;5;28;01mif\u001B[39;00m ioargs\u001B[38;5;241m.\u001B[39mencoding \u001B[38;5;129;01mand\u001B[39;00m \u001B[38;5;124m\"\u001B[39m\u001B[38;5;124mb\u001B[39m\u001B[38;5;124m\"\u001B[39m \u001B[38;5;129;01mnot\u001B[39;00m \u001B[38;5;129;01min\u001B[39;00m ioargs\u001B[38;5;241m.\u001B[39mmode:\n\u001B[1;32m    856\u001B[0m         \u001B[38;5;66;03m# Encoding\u001B[39;00m\n\u001B[0;32m--> 857\u001B[0m         handle \u001B[38;5;241m=\u001B[39m \u001B[38;5;28;43mopen\u001B[39;49m\u001B[43m(\u001B[49m\n\u001B[1;32m    858\u001B[0m \u001B[43m            \u001B[49m\u001B[43mhandle\u001B[49m\u001B[43m,\u001B[49m\n\u001B[1;32m    859\u001B[0m \u001B[43m            \u001B[49m\u001B[43mioargs\u001B[49m\u001B[38;5;241;43m.\u001B[39;49m\u001B[43mmode\u001B[49m\u001B[43m,\u001B[49m\n\u001B[1;32m    860\u001B[0m \u001B[43m            \u001B[49m\u001B[43mencoding\u001B[49m\u001B[38;5;241;43m=\u001B[39;49m\u001B[43mioargs\u001B[49m\u001B[38;5;241;43m.\u001B[39;49m\u001B[43mencoding\u001B[49m\u001B[43m,\u001B[49m\n\u001B[1;32m    861\u001B[0m \u001B[43m            \u001B[49m\u001B[43merrors\u001B[49m\u001B[38;5;241;43m=\u001B[39;49m\u001B[43merrors\u001B[49m\u001B[43m,\u001B[49m\n\u001B[1;32m    862\u001B[0m \u001B[43m            \u001B[49m\u001B[43mnewline\u001B[49m\u001B[38;5;241;43m=\u001B[39;49m\u001B[38;5;124;43m\"\u001B[39;49m\u001B[38;5;124;43m\"\u001B[39;49m\u001B[43m,\u001B[49m\n\u001B[1;32m    863\u001B[0m \u001B[43m        \u001B[49m\u001B[43m)\u001B[49m\n\u001B[1;32m    864\u001B[0m     \u001B[38;5;28;01melse\u001B[39;00m:\n\u001B[1;32m    865\u001B[0m         \u001B[38;5;66;03m# Binary mode\u001B[39;00m\n\u001B[1;32m    866\u001B[0m         handle \u001B[38;5;241m=\u001B[39m \u001B[38;5;28mopen\u001B[39m(handle, ioargs\u001B[38;5;241m.\u001B[39mmode)\n",
      "\u001B[0;31mIsADirectoryError\u001B[0m: [Errno 21] Is a directory: '/Users/maxwang/PycharmProjects/group7-group-assignment-/Data/Unprocessed/Trips'"
     ]
    }
   ],
   "source": [
    "all_files = glob.glob(r'C:\\users\\Annelien\\Documents\\SCHOOL\\ACRM\\Project NMBS\\group7-group-assignment-\\Data\\Trips\\*.csv')\n"
   ],
   "metadata": {
    "collapsed": false
   }
  },
  {
   "cell_type": "code",
   "execution_count": 29,
   "outputs": [
    {
     "data": {
      "text/plain": "['C:\\\\users\\\\Annelien\\\\Documents\\\\SCHOOL\\\\ACRM\\\\Project NMBS\\\\group7-group-assignment-\\\\Data\\\\Trips\\\\trips_20_9.csv_processed.csv',\n 'C:\\\\users\\\\Annelien\\\\Documents\\\\SCHOOL\\\\ACRM\\\\Project NMBS\\\\group7-group-assignment-\\\\Data\\\\Trips\\\\trips_21_9.csv_processed.csv',\n 'C:\\\\users\\\\Annelien\\\\Documents\\\\SCHOOL\\\\ACRM\\\\Project NMBS\\\\group7-group-assignment-\\\\Data\\\\Trips\\\\trips_22_9.csv_processed.csv',\n 'C:\\\\users\\\\Annelien\\\\Documents\\\\SCHOOL\\\\ACRM\\\\Project NMBS\\\\group7-group-assignment-\\\\Data\\\\Trips\\\\trips_23_9.csv_processed.csv',\n 'C:\\\\users\\\\Annelien\\\\Documents\\\\SCHOOL\\\\ACRM\\\\Project NMBS\\\\group7-group-assignment-\\\\Data\\\\Trips\\\\trips_24_9.csv_processed.csv',\n 'C:\\\\users\\\\Annelien\\\\Documents\\\\SCHOOL\\\\ACRM\\\\Project NMBS\\\\group7-group-assignment-\\\\Data\\\\Trips\\\\trips_25_9.csv_processed.csv',\n 'C:\\\\users\\\\Annelien\\\\Documents\\\\SCHOOL\\\\ACRM\\\\Project NMBS\\\\group7-group-assignment-\\\\Data\\\\Trips\\\\trips_26_9.csv_processed.csv']"
     },
     "execution_count": 29,
     "metadata": {},
     "output_type": "execute_result"
    }
   ],
   "source": [
    "all_files"
   ],
   "metadata": {
    "collapsed": false
   }
  },
  {
   "cell_type": "code",
   "execution_count": 9,
   "outputs": [
    {
     "ename": "NameError",
     "evalue": "name '__file__' is not defined",
     "output_type": "error",
     "traceback": [
      "\u001B[0;31m---------------------------------------------------------------------------\u001B[0m",
      "\u001B[0;31mNameError\u001B[0m                                 Traceback (most recent call last)",
      "Cell \u001B[0;32mIn [9], line 3\u001B[0m\n\u001B[1;32m      1\u001B[0m \u001B[38;5;66;03m# df = pd.concat((pd.read_csv(f) for f in all_files))\u001B[39;00m\n\u001B[1;32m      2\u001B[0m \u001B[38;5;28;01mfrom\u001B[39;00m \u001B[38;5;21;01mpathlib\u001B[39;00m \u001B[38;5;28;01mimport\u001B[39;00m Path\n\u001B[0;32m----> 3\u001B[0m path \u001B[38;5;241m=\u001B[39m Path(\u001B[38;5;18m__file__\u001B[39m)\u001B[38;5;241m.\u001B[39mparent \u001B[38;5;241m/\u001B[39m \u001B[38;5;124m\"\u001B[39m\u001B[38;5;124m../../Data/Unprocessed\u001B[39m\u001B[38;5;124m\"\u001B[39m\n\u001B[1;32m      4\u001B[0m df \u001B[38;5;241m=\u001B[39m pd\u001B[38;5;241m.\u001B[39mconcat([pd\u001B[38;5;241m.\u001B[39mread_csv(path, sep\u001B[38;5;241m=\u001B[39m\u001B[38;5;124m\"\u001B[39m\u001B[38;5;124m,\u001B[39m\u001B[38;5;124m\"\u001B[39m) \u001B[38;5;28;01mfor\u001B[39;00m path \u001B[38;5;129;01min\u001B[39;00m (path \u001B[38;5;241m/\u001B[39m \u001B[38;5;124m\"\u001B[39m\u001B[38;5;124mTrips/\u001B[39m\u001B[38;5;124m\"\u001B[39m)\u001B[38;5;241m.\u001B[39mglob(\u001B[38;5;124m'\u001B[39m\u001B[38;5;124m*.csv\u001B[39m\u001B[38;5;124m'\u001B[39m)], axis\u001B[38;5;241m=\u001B[39m\u001B[38;5;241m0\u001B[39m)\n",
      "\u001B[0;31mNameError\u001B[0m: name '__file__' is not defined"
     ]
    }
   ],
   "source": [
    "df = pd.concat((pd.read_csv(f) for f in all_files))"
   ],
   "metadata": {
    "collapsed": false
   }
  },
  {
   "cell_type": "code",
   "execution_count": 10,
   "outputs": [
    {
     "ename": "NameError",
     "evalue": "name 'df' is not defined",
     "output_type": "error",
     "traceback": [
      "\u001B[0;31m---------------------------------------------------------------------------\u001B[0m",
      "\u001B[0;31mNameError\u001B[0m                                 Traceback (most recent call last)",
      "Cell \u001B[0;32mIn [10], line 1\u001B[0m\n\u001B[0;32m----> 1\u001B[0m df\n",
      "\u001B[0;31mNameError\u001B[0m: name 'df' is not defined"
     ]
    }
   ],
   "source": [
    "df.head()"
   ],
   "metadata": {
    "collapsed": false
   }
  },
  {
   "cell_type": "code",
   "execution_count": 49,
   "outputs": [],
   "source": [
    "df = df[['Train number', 'Railway operators', 'Time of real arrival','Time of planned arrival', 'Name of the stop']]    #filteren op kolommen dat je nodig hebt\n",
    "df.dropna(subset = ['Time of planned arrival'], inplace = True) #lege values laten vallen, want je kan hier geen delay van berekenen"
   ],
   "metadata": {
    "collapsed": false
   }
  },
  {
   "cell_type": "code",
   "execution_count": 50,
   "outputs": [
    {
     "data": {
      "text/plain": "Index(['Train number', 'Railway operators', 'Time of real arrival',\n       'Time of planned arrival', 'Name of the stop'],\n      dtype='object')"
     },
     "execution_count": 50,
     "metadata": {},
     "output_type": "execute_result"
    }
   ],
   "source": [
    "df.columns"
   ],
   "metadata": {
    "collapsed": false
   }
  },
  {
   "cell_type": "code",
   "execution_count": 53,
   "outputs": [],
   "source": [
    "difference = df.sort_values(by=['Train number', 'Time of planned arrival'], ascending = True).groupby('Train number').tail(1)   #je moet sorteren zowel volgens trein nummer & dan op tijd anders staan je routes niet bijeen (volgens wat gepland is! )\n",
    "# groupby ( per route wil je de vertraging berekenen & tail: de laatste houd je over omdat dit je delay is tov je aankomst)"
   ],
   "metadata": {
    "collapsed": false
   }
  },
  {
   "cell_type": "code",
   "execution_count": 78,
   "outputs": [
    {
     "data": {
      "text/plain": "       Train number Railway operators Time of real arrival  \\\n768              10         SNCB/NMBS  1900-01-01 21:33:24   \n164              11         SNCB/NMBS  1900-01-01 07:38:56   \n36329            12         SNCB/NMBS  1900-01-01 20:09:27   \n4566             13         SNCB/NMBS  1900-01-01 09:30:00   \n6781             14         SNCB/NMBS  1900-01-01 17:54:22   \n\n      Time of planned arrival Name of the stop   Delta  \n768       1900-01-01 21:35:00     BRUSSEL-ZUID     0.0  \n164       1900-01-01 07:30:00       HERGENRATH   536.0  \n36329     1900-01-01 19:35:00     BRUSSEL-ZUID  2067.0  \n4566      1900-01-01 09:30:00       HERGENRATH     0.0  \n6781      1900-01-01 17:35:00     BRUSSEL-ZUID  1162.0  ",
      "text/html": "<div>\n<style scoped>\n    .dataframe tbody tr th:only-of-type {\n        vertical-align: middle;\n    }\n\n    .dataframe tbody tr th {\n        vertical-align: top;\n    }\n\n    .dataframe thead th {\n        text-align: right;\n    }\n</style>\n<table border=\"1\" class=\"dataframe\">\n  <thead>\n    <tr style=\"text-align: right;\">\n      <th></th>\n      <th>Train number</th>\n      <th>Railway operators</th>\n      <th>Time of real arrival</th>\n      <th>Time of planned arrival</th>\n      <th>Name of the stop</th>\n      <th>Delta</th>\n    </tr>\n  </thead>\n  <tbody>\n    <tr>\n      <th>768</th>\n      <td>10</td>\n      <td>SNCB/NMBS</td>\n      <td>1900-01-01 21:33:24</td>\n      <td>1900-01-01 21:35:00</td>\n      <td>BRUSSEL-ZUID</td>\n      <td>0.0</td>\n    </tr>\n    <tr>\n      <th>164</th>\n      <td>11</td>\n      <td>SNCB/NMBS</td>\n      <td>1900-01-01 07:38:56</td>\n      <td>1900-01-01 07:30:00</td>\n      <td>HERGENRATH</td>\n      <td>536.0</td>\n    </tr>\n    <tr>\n      <th>36329</th>\n      <td>12</td>\n      <td>SNCB/NMBS</td>\n      <td>1900-01-01 20:09:27</td>\n      <td>1900-01-01 19:35:00</td>\n      <td>BRUSSEL-ZUID</td>\n      <td>2067.0</td>\n    </tr>\n    <tr>\n      <th>4566</th>\n      <td>13</td>\n      <td>SNCB/NMBS</td>\n      <td>1900-01-01 09:30:00</td>\n      <td>1900-01-01 09:30:00</td>\n      <td>HERGENRATH</td>\n      <td>0.0</td>\n    </tr>\n    <tr>\n      <th>6781</th>\n      <td>14</td>\n      <td>SNCB/NMBS</td>\n      <td>1900-01-01 17:54:22</td>\n      <td>1900-01-01 17:35:00</td>\n      <td>BRUSSEL-ZUID</td>\n      <td>1162.0</td>\n    </tr>\n  </tbody>\n</table>\n</div>"
     },
     "execution_count": 78,
     "metadata": {},
     "output_type": "execute_result"
    }
   ],
   "source": [
    "difference.head(5)"
   ],
   "metadata": {
    "collapsed": false
   }
  },
  {
   "cell_type": "code",
   "execution_count": 83,
   "outputs": [],
   "source": [
    "difference['Time of real arrival'] = pd.to_datetime(difference['Time of real arrival'], format='%H:%M:%S')      #je format je real arrival into datetime\n",
    "difference['Time of planned arrival'] = pd.to_datetime(difference['Time of planned arrival'], format='%H:%M:%S')      #je format je planned arrival into datetime\n",
    "difference['Delta'] = difference.apply(lambda x: (x['Time of real arrival']-x['Time of planned arrival']).total_seconds(), axis = 1)    #average delay time in seconds"
   ],
   "metadata": {
    "collapsed": false
   }
  },
  {
   "cell_type": "code",
   "execution_count": 84,
   "outputs": [
    {
     "data": {
      "text/plain": "768       -96.0\n164       536.0\n36329    2067.0\n4566        0.0\n6781     1162.0\nName: Delta, dtype: float64"
     },
     "execution_count": 84,
     "metadata": {},
     "output_type": "execute_result"
    }
   ],
   "source": [
    "difference['Delta'].head()"
   ],
   "metadata": {
    "collapsed": false
   }
  },
  {
   "cell_type": "code",
   "execution_count": 69,
   "outputs": [],
   "source": [
    "difference.loc[difference['Delta'] < 0, \"Delta\"]=0"
   ],
   "metadata": {
    "collapsed": false
   }
  },
  {
   "cell_type": "code",
   "execution_count": 70,
   "outputs": [
    {
     "data": {
      "text/plain": "768         0.0\n164       536.0\n36329    2067.0\n4566        0.0\n6781     1162.0\nName: Delta, dtype: float64"
     },
     "execution_count": 70,
     "metadata": {},
     "output_type": "execute_result"
    }
   ],
   "source": [
    "difference['Delta'].head()"
   ],
   "metadata": {
    "collapsed": false
   }
  },
  {
   "cell_type": "code",
   "execution_count": 71,
   "outputs": [
    {
     "data": {
      "text/plain": "       Train number Railway operators Time of real arrival  \\\n768              10         SNCB/NMBS  1900-01-01 21:33:24   \n164              11         SNCB/NMBS  1900-01-01 07:38:56   \n36329            12         SNCB/NMBS  1900-01-01 20:09:27   \n4566             13         SNCB/NMBS  1900-01-01 09:30:00   \n6781             14         SNCB/NMBS  1900-01-01 17:54:22   \n\n      Time of planned arrival Name of the stop   Delta  \n768       1900-01-01 21:35:00     BRUSSEL-ZUID     0.0  \n164       1900-01-01 07:30:00       HERGENRATH   536.0  \n36329     1900-01-01 19:35:00     BRUSSEL-ZUID  2067.0  \n4566      1900-01-01 09:30:00       HERGENRATH     0.0  \n6781      1900-01-01 17:35:00     BRUSSEL-ZUID  1162.0  ",
      "text/html": "<div>\n<style scoped>\n    .dataframe tbody tr th:only-of-type {\n        vertical-align: middle;\n    }\n\n    .dataframe tbody tr th {\n        vertical-align: top;\n    }\n\n    .dataframe thead th {\n        text-align: right;\n    }\n</style>\n<table border=\"1\" class=\"dataframe\">\n  <thead>\n    <tr style=\"text-align: right;\">\n      <th></th>\n      <th>Train number</th>\n      <th>Railway operators</th>\n      <th>Time of real arrival</th>\n      <th>Time of planned arrival</th>\n      <th>Name of the stop</th>\n      <th>Delta</th>\n    </tr>\n  </thead>\n  <tbody>\n    <tr>\n      <th>768</th>\n      <td>10</td>\n      <td>SNCB/NMBS</td>\n      <td>1900-01-01 21:33:24</td>\n      <td>1900-01-01 21:35:00</td>\n      <td>BRUSSEL-ZUID</td>\n      <td>0.0</td>\n    </tr>\n    <tr>\n      <th>164</th>\n      <td>11</td>\n      <td>SNCB/NMBS</td>\n      <td>1900-01-01 07:38:56</td>\n      <td>1900-01-01 07:30:00</td>\n      <td>HERGENRATH</td>\n      <td>536.0</td>\n    </tr>\n    <tr>\n      <th>36329</th>\n      <td>12</td>\n      <td>SNCB/NMBS</td>\n      <td>1900-01-01 20:09:27</td>\n      <td>1900-01-01 19:35:00</td>\n      <td>BRUSSEL-ZUID</td>\n      <td>2067.0</td>\n    </tr>\n    <tr>\n      <th>4566</th>\n      <td>13</td>\n      <td>SNCB/NMBS</td>\n      <td>1900-01-01 09:30:00</td>\n      <td>1900-01-01 09:30:00</td>\n      <td>HERGENRATH</td>\n      <td>0.0</td>\n    </tr>\n    <tr>\n      <th>6781</th>\n      <td>14</td>\n      <td>SNCB/NMBS</td>\n      <td>1900-01-01 17:54:22</td>\n      <td>1900-01-01 17:35:00</td>\n      <td>BRUSSEL-ZUID</td>\n      <td>1162.0</td>\n    </tr>\n  </tbody>\n</table>\n</div>"
     },
     "execution_count": 71,
     "metadata": {},
     "output_type": "execute_result"
    }
   ],
   "source": [
    "difference.head()"
   ],
   "metadata": {
    "collapsed": false
   }
  },
  {
   "cell_type": "code",
   "execution_count": 75,
   "outputs": [],
   "source": [
    "differencePerOp = difference.groupby('Railway operators')['Delta'].mean().reset_index(name = 'mean').round(0)\n",
    "#pak mean van average delay time & reset_index maakt nieuwe kolom aan voor mean"
   ],
   "metadata": {
    "collapsed": false
   }
  },
  {
   "cell_type": "code",
   "execution_count": 76,
   "outputs": [
    {
     "data": {
      "text/plain": "  Railway operators   mean\n0        EUROSTARFR  120.0\n1         SNCB/NMBS  143.0\n2          THI-FACT  658.0",
      "text/html": "<div>\n<style scoped>\n    .dataframe tbody tr th:only-of-type {\n        vertical-align: middle;\n    }\n\n    .dataframe tbody tr th {\n        vertical-align: top;\n    }\n\n    .dataframe thead th {\n        text-align: right;\n    }\n</style>\n<table border=\"1\" class=\"dataframe\">\n  <thead>\n    <tr style=\"text-align: right;\">\n      <th></th>\n      <th>Railway operators</th>\n      <th>mean</th>\n    </tr>\n  </thead>\n  <tbody>\n    <tr>\n      <th>0</th>\n      <td>EUROSTARFR</td>\n      <td>120.0</td>\n    </tr>\n    <tr>\n      <th>1</th>\n      <td>SNCB/NMBS</td>\n      <td>143.0</td>\n    </tr>\n    <tr>\n      <th>2</th>\n      <td>THI-FACT</td>\n      <td>658.0</td>\n    </tr>\n  </tbody>\n</table>\n</div>"
     },
     "execution_count": 76,
     "metadata": {},
     "output_type": "execute_result"
    }
   ],
   "source": [
    "differencePerOp.head()"
   ],
   "metadata": {
    "collapsed": false
   }
  },
  {
   "cell_type": "code",
   "execution_count": null,
   "outputs": [],
   "source": [
    "def addvaluelabels(x,y):\n",
    "    for i in range(len(x)):\n",
    "        plt.text(i, y[i], y[i], ha='center')\n"
   ],
   "metadata": {
    "collapsed": false
   }
  },
  {
   "cell_type": "code",
   "execution_count": 1,
   "outputs": [
    {
     "ename": "NameError",
     "evalue": "name 'plt' is not defined",
     "output_type": "error",
     "traceback": [
      "\u001B[0;31m---------------------------------------------------------------------------\u001B[0m",
      "\u001B[0;31mNameError\u001B[0m                                 Traceback (most recent call last)",
      "Cell \u001B[0;32mIn [1], line 1\u001B[0m\n\u001B[0;32m----> 1\u001B[0m plt\u001B[38;5;241m.\u001B[39mbar(differencePerOp[\u001B[38;5;124m'\u001B[39m\u001B[38;5;124mRailway operators\u001B[39m\u001B[38;5;124m'\u001B[39m], differencePerOp[\u001B[38;5;124m'\u001B[39m\u001B[38;5;124mmean\u001B[39m\u001B[38;5;124m'\u001B[39m], color\u001B[38;5;241m=\u001B[39m\u001B[38;5;124m'\u001B[39m\u001B[38;5;124mblue\u001B[39m\u001B[38;5;124m'\u001B[39m)\n\u001B[1;32m      2\u001B[0m addvaluelabels(differencePerOp[\u001B[38;5;124m'\u001B[39m\u001B[38;5;124mRailway operators\u001B[39m\u001B[38;5;124m'\u001B[39m], differencePerOp[\u001B[38;5;124m'\u001B[39m\u001B[38;5;124mmean\u001B[39m\u001B[38;5;124m'\u001B[39m])\n\u001B[1;32m      3\u001B[0m plt\u001B[38;5;241m.\u001B[39mtitle(\u001B[38;5;124m'\u001B[39m\u001B[38;5;124mAverage delay time per provider\u001B[39m\u001B[38;5;124m'\u001B[39m)\n",
      "\u001B[0;31mNameError\u001B[0m: name 'plt' is not defined"
     ]
    }
   ],
   "source": [
    "plt.bar(differencePerOp['Railway operators'], differencePerOp['mean'], color='blue')\n",
    "addvaluelabels(differencePerOp['Railway operators'], differencePerOp['mean'])\n",
    "plt.title('Average delay time per provider')\n",
    "plt.xlabel(\"Provider\")\n",
    "plt.ylabel(\"Average delay time\")\n",
    "plt.legend(loc=\"upper left\")\n",
    "plt.xticks(rotation= \"vertical\")\n",
    "plt.show()\n"
   ],
   "metadata": {
    "collapsed": false
   }
  },
  {
   "cell_type": "code",
   "execution_count": 62,
   "outputs": [
    {
     "data": {
      "text/plain": "768     1900-01-01 21:33:24\n164     1900-01-01 07:38:56\n36329   1900-01-01 20:09:27\n4566    1900-01-01 09:30:00\n6781    1900-01-01 17:54:22\nName: Time of real arrival, dtype: datetime64[ns]"
     },
     "execution_count": 62,
     "metadata": {},
     "output_type": "execute_result"
    }
   ],
   "source": [
    "difference['Time of real arrival'].head()"
   ],
   "metadata": {
    "collapsed": false
   }
  },
  {
   "cell_type": "code",
   "execution_count": 34,
   "outputs": [
    {
     "ename": "SyntaxError",
     "evalue": "(unicode error) 'unicodeescape' codec can't decode bytes in position 2-3: truncated \\UXXXXXXXX escape (1875775456.py, line 33)",
     "output_type": "error",
     "traceback": [
      "\u001B[1;36m  Cell \u001B[1;32mIn [34], line 33\u001B[1;36m\u001B[0m\n\u001B[1;33m    all_files = glob.glob('C:\\Users\\Annelien\\Documents\\SCHOOL\\ACRM\\Project NMBS\\group7-group-assignment-\\Data\\Trips')\u001B[0m\n\u001B[1;37m                                                                                                                    ^\u001B[0m\n\u001B[1;31mSyntaxError\u001B[0m\u001B[1;31m:\u001B[0m (unicode error) 'unicodeescape' codec can't decode bytes in position 2-3: truncated \\UXXXXXXXX escape\n"
     ]
    }
   ],
   "source": [
    "#vraag5\n",
    "all_files = glob.glob('C:\\Users\\Annelien\\Documents\\SCHOOL\\ACRM\\Project NMBS\\group7-group-assignment-\\Data\\Trips')\n",
    "df = pd.concat((pd.read_csv(f) for f in all_files))\n",
    "difference = df.sort_values(by=['Train number', 'Time of planned arrival'], ascend = True, inplace = True).groupby('Train number').tail(1)   #je moet sorteren anders staan je routes niet bijeen (volgens wat gepland is! )\n",
    "difference['Time of real arrival'] = pd.to_datatime(difference['Time of real arrival'], format='%H::%M:%S')      #je format je real arrival into datetime\n",
    "difference['Time of planned arrival'] = pd.to_datatime(difference['Time of planned arrival'], format='%H::%M:%S')      #je format je planned arrival into datetime\n",
    "difference['Delta'] = (difference['Time of real arrival'], difference['Time of planned arrival']).df.total_seconds()      #average delay time in seconds\n",
    "difference.loc[difference['Delta'] < 0, \"Delta\"]=0\n",
    "\n"
   ],
   "metadata": {
    "collapsed": false
   }
  },
  {
   "cell_type": "code",
   "execution_count": 33,
   "outputs": [
    {
     "ename": "SyntaxError",
     "evalue": "(unicode error) 'unicodeescape' codec can't decode bytes in position 2-3: truncated \\UXXXXXXXX escape (3108808883.py, line 33)",
     "output_type": "error",
     "traceback": [
      "\u001B[1;36m  Cell \u001B[1;32mIn [33], line 33\u001B[1;36m\u001B[0m\n\u001B[1;33m    all_files = glob.glob('C:\\Users\\Annelien\\Documents\\SCHOOL\\ACRM\\Project NMBS\\group7-group-assignment-\\Data\\Trips')\u001B[0m\n\u001B[1;37m                                                                                                                    ^\u001B[0m\n\u001B[1;31mSyntaxError\u001B[0m\u001B[1;31m:\u001B[0m (unicode error) 'unicodeescape' codec can't decode bytes in position 2-3: truncated \\UXXXXXXXX escape\n"
     ]
    }
   ],
   "source": [
    "#vraag8\n",
    "station = gpd.read_file(r'C:\\users\\Annelien\\Documents\\SCHOOL\\ACRM\\Project NMBS\\group7-group-assignment-\\Data\\stations.csv', sep=',')\n",
    "stations[\"name\"] = stations[\"name\"].str.lower()\n",
    "train_trips_sorted = stations.sort_values(by=\"Time of real departure\")\n",
    "\n",
    "train_trips_sorted[\"Name of the stop\"] = train_trips_sorted[\"Name of the stop\"].str.lower()\n",
    "\n",
    "\n",
    "#draw all train routes on the map\n",
    "stations = pd.read_csv(r'C:\\users\\Annelien\\Documents\\SCHOOL\\ACRM\\Project NMBS\\group7-group-assignment-\\Data\\stations.csv', sep=',')\n",
    "stations[\"name\"] = stations[\"name\"].str.lower()\n",
    "trainTripsSorted[\"Name of the stop\"] = trainTripsSorted[\"Name of the stop\"].str.lower()\n",
    "#merge both dataframes:\n",
    "trainTripsSorted = trainTripsSorted.merge(stations, left_on=\"Name of the stop\", right_on=\"name\")\n",
    "trainTripsSorted[[\"name\",\"longitude\", \"latitude\", \"Time of real arrival\", \"Time of real departure\"]]\n",
    "\n",
    "plt.figure(figsize = (8,5))\n",
    "## map_df.plot(color = 'black', zorder=1) ===> map importeren ( kaart van belgie, zie shapefile op jupyter )\n",
    "\n",
    "#loop to all the sorted train trips but not the last one, bcs no value\n",
    "for i in range(len(trainTripsSorted) -1):\n",
    "    #get longitude & latitude of the start (=current observation)\n",
    "    x_start = trainTripsSorted[\"longitude\"].iloc[i]\n",
    "    y_start = trainTripsSorted[\"latitude\"].iloc[i+1]\n",
    "\n",
    "    #get longitude and latitude of the stop (= next observation)\n",
    "    x_end = trainTripsSorted[\"longitude\"].iloc[i+1]\n",
    "    y_end = trainTripsSorted[\"longitude\"].iloc[i+1]\n",
    "\n",
    "    #plot line with the x-coordinates being the longitude of the start & stop\n",
    "    # and the y-coordinates being the latitude of the start & stop\n",
    "    plt.plot([x_start,x_end],[y_start, y_end], zorder = 2)\n",
    "\n",
    "    # show plot\n",
    "    plt.xlabel(\"Longitude\")\n",
    "    plt.ylabel(\"Latitude\")\n",
    "    plt.title(\"Train trajectory (train nr. 3612\")\n",
    "    plt.show()"
   ],
   "metadata": {
    "collapsed": false
   }
  },
  {
   "cell_type": "code",
   "execution_count": null,
   "outputs": [],
   "source": [],
   "metadata": {
    "collapsed": false
   }
  }
 ],
 "metadata": {
  "kernelspec": {
   "display_name": "Python 3",
   "language": "python",
   "name": "python3"
  },
  "language_info": {
   "codemirror_mode": {
    "name": "ipython",
    "version": 2
   },
   "file_extension": ".py",
   "mimetype": "text/x-python",
   "name": "python",
   "nbconvert_exporter": "python",
   "pygments_lexer": "ipython2",
   "version": "2.7.6"
  }
 },
 "nbformat": 4,
 "nbformat_minor": 0
}
