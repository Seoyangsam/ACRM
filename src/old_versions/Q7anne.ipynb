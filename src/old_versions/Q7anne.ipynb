{
 "cells": [
  {
   "cell_type": "markdown",
   "source": [
    "# Question_7: Plot how this delay time evolves across the day for the five most used stations in Belgium.\n"
   ],
   "metadata": {
    "collapsed": false
   }
  },
  {
   "cell_type": "code",
   "execution_count": 1,
   "outputs": [],
   "source": [
    "import glob as glob\n",
    "import pandas as pd\n",
    "import matplotlib.pyplot as plt\n"
   ],
   "metadata": {
    "collapsed": false
   }
  },
  {
   "cell_type": "code",
   "execution_count": 2,
   "outputs": [
    {
     "data": {
      "text/plain": "['C:\\\\users\\\\Annelien\\\\Documents\\\\SCHOOL\\\\ACRM\\\\Project NMBS\\\\group7-group-assignment-\\\\Data\\\\Trips\\\\trips_20_9.csv_processed.csv',\n 'C:\\\\users\\\\Annelien\\\\Documents\\\\SCHOOL\\\\ACRM\\\\Project NMBS\\\\group7-group-assignment-\\\\Data\\\\Trips\\\\trips_21_9.csv_processed.csv',\n 'C:\\\\users\\\\Annelien\\\\Documents\\\\SCHOOL\\\\ACRM\\\\Project NMBS\\\\group7-group-assignment-\\\\Data\\\\Trips\\\\trips_22_9.csv_processed.csv',\n 'C:\\\\users\\\\Annelien\\\\Documents\\\\SCHOOL\\\\ACRM\\\\Project NMBS\\\\group7-group-assignment-\\\\Data\\\\Trips\\\\trips_23_9.csv_processed.csv',\n 'C:\\\\users\\\\Annelien\\\\Documents\\\\SCHOOL\\\\ACRM\\\\Project NMBS\\\\group7-group-assignment-\\\\Data\\\\Trips\\\\trips_24_9.csv_processed.csv',\n 'C:\\\\users\\\\Annelien\\\\Documents\\\\SCHOOL\\\\ACRM\\\\Project NMBS\\\\group7-group-assignment-\\\\Data\\\\Trips\\\\trips_25_9.csv_processed.csv',\n 'C:\\\\users\\\\Annelien\\\\Documents\\\\SCHOOL\\\\ACRM\\\\Project NMBS\\\\group7-group-assignment-\\\\Data\\\\Trips\\\\trips_26_9.csv_processed.csv']"
     },
     "execution_count": 2,
     "metadata": {},
     "output_type": "execute_result"
    }
   ],
   "source": [
    "all_files = glob.glob(r'C:\\users\\Annelien\\Documents\\SCHOOL\\ACRM\\Project NMBS\\group7-group-assignment-\\Data\\Trips\\*.csv')\n",
    "\n",
    "all_files"
   ],
   "metadata": {
    "collapsed": false
   }
  },
  {
   "cell_type": "code",
   "execution_count": 3,
   "outputs": [
    {
     "data": {
      "text/plain": "   Unnamed: 0 Date of departure  Train number Relation Railway operators  \\\n0           0        2020-09-20         12408    EXTRA         SNCB/NMBS   \n1           1        2020-09-20         12941    EXTRA         SNCB/NMBS   \n2           2        2020-09-20         12410    EXTRA         SNCB/NMBS   \n3           3        2020-09-20         12410    EXTRA         SNCB/NMBS   \n4           4        2020-09-20         12442    EXTRA         SNCB/NMBS   \n\n  Railway of departure Time of real arrival Time of real departure  \\\n0                   19             09:50:07               09:50:31   \n1                  21A             18:16:52               18:16:52   \n2                   19             11:56:31               11:56:58   \n3                  NaN             12:08:31                    NaN   \n4                  NaN             22:18:13                    NaN   \n\n  Time of planned arrival Time of planned departure Direction of relation  \\\n0                09:50:00                  09:50:00                   NaN   \n1                18:12:00                  18:12:00                   NaN   \n2                11:57:00                  11:57:00                   NaN   \n3                12:09:00                       NaN                   NaN   \n4                22:20:00                       NaN                   NaN   \n\n  Name of the stop Railway of arrival Date of planned arrival  \\\n0           LOMMEL                 19     2020-09-20 00:00:00   \n1           KIEWIT                21A     2020-09-20 00:00:00   \n2         OVERPELT                 19     2020-09-20 00:00:00   \n3           HAMONT                 19     2020-09-20 00:00:00   \n4              MOL                 19     2020-09-20 00:00:00   \n\n  Date of planned departure Date of real arrival Date of real departure  \n0                2020-09-20           2020-09-20             2020-09-20  \n1                2020-09-20           2020-09-20             2020-09-20  \n2                2020-09-20           2020-09-20             2020-09-20  \n3                       NaN           2020-09-20                    NaN  \n4                       NaN           2020-09-20                    NaN  ",
      "text/html": "<div>\n<style scoped>\n    .dataframe tbody tr th:only-of-type {\n        vertical-align: middle;\n    }\n\n    .dataframe tbody tr th {\n        vertical-align: top;\n    }\n\n    .dataframe thead th {\n        text-align: right;\n    }\n</style>\n<table border=\"1\" class=\"dataframe\">\n  <thead>\n    <tr style=\"text-align: right;\">\n      <th></th>\n      <th>Unnamed: 0</th>\n      <th>Date of departure</th>\n      <th>Train number</th>\n      <th>Relation</th>\n      <th>Railway operators</th>\n      <th>Railway of departure</th>\n      <th>Time of real arrival</th>\n      <th>Time of real departure</th>\n      <th>Time of planned arrival</th>\n      <th>Time of planned departure</th>\n      <th>Direction of relation</th>\n      <th>Name of the stop</th>\n      <th>Railway of arrival</th>\n      <th>Date of planned arrival</th>\n      <th>Date of planned departure</th>\n      <th>Date of real arrival</th>\n      <th>Date of real departure</th>\n    </tr>\n  </thead>\n  <tbody>\n    <tr>\n      <th>0</th>\n      <td>0</td>\n      <td>2020-09-20</td>\n      <td>12408</td>\n      <td>EXTRA</td>\n      <td>SNCB/NMBS</td>\n      <td>19</td>\n      <td>09:50:07</td>\n      <td>09:50:31</td>\n      <td>09:50:00</td>\n      <td>09:50:00</td>\n      <td>NaN</td>\n      <td>LOMMEL</td>\n      <td>19</td>\n      <td>2020-09-20 00:00:00</td>\n      <td>2020-09-20</td>\n      <td>2020-09-20</td>\n      <td>2020-09-20</td>\n    </tr>\n    <tr>\n      <th>1</th>\n      <td>1</td>\n      <td>2020-09-20</td>\n      <td>12941</td>\n      <td>EXTRA</td>\n      <td>SNCB/NMBS</td>\n      <td>21A</td>\n      <td>18:16:52</td>\n      <td>18:16:52</td>\n      <td>18:12:00</td>\n      <td>18:12:00</td>\n      <td>NaN</td>\n      <td>KIEWIT</td>\n      <td>21A</td>\n      <td>2020-09-20 00:00:00</td>\n      <td>2020-09-20</td>\n      <td>2020-09-20</td>\n      <td>2020-09-20</td>\n    </tr>\n    <tr>\n      <th>2</th>\n      <td>2</td>\n      <td>2020-09-20</td>\n      <td>12410</td>\n      <td>EXTRA</td>\n      <td>SNCB/NMBS</td>\n      <td>19</td>\n      <td>11:56:31</td>\n      <td>11:56:58</td>\n      <td>11:57:00</td>\n      <td>11:57:00</td>\n      <td>NaN</td>\n      <td>OVERPELT</td>\n      <td>19</td>\n      <td>2020-09-20 00:00:00</td>\n      <td>2020-09-20</td>\n      <td>2020-09-20</td>\n      <td>2020-09-20</td>\n    </tr>\n    <tr>\n      <th>3</th>\n      <td>3</td>\n      <td>2020-09-20</td>\n      <td>12410</td>\n      <td>EXTRA</td>\n      <td>SNCB/NMBS</td>\n      <td>NaN</td>\n      <td>12:08:31</td>\n      <td>NaN</td>\n      <td>12:09:00</td>\n      <td>NaN</td>\n      <td>NaN</td>\n      <td>HAMONT</td>\n      <td>19</td>\n      <td>2020-09-20 00:00:00</td>\n      <td>NaN</td>\n      <td>2020-09-20</td>\n      <td>NaN</td>\n    </tr>\n    <tr>\n      <th>4</th>\n      <td>4</td>\n      <td>2020-09-20</td>\n      <td>12442</td>\n      <td>EXTRA</td>\n      <td>SNCB/NMBS</td>\n      <td>NaN</td>\n      <td>22:18:13</td>\n      <td>NaN</td>\n      <td>22:20:00</td>\n      <td>NaN</td>\n      <td>NaN</td>\n      <td>MOL</td>\n      <td>19</td>\n      <td>2020-09-20 00:00:00</td>\n      <td>NaN</td>\n      <td>2020-09-20</td>\n      <td>NaN</td>\n    </tr>\n  </tbody>\n</table>\n</div>"
     },
     "execution_count": 3,
     "metadata": {},
     "output_type": "execute_result"
    }
   ],
   "source": [
    "df = pd.concat((pd.read_csv(f) for f in all_files))\n",
    "df.head()"
   ],
   "metadata": {
    "collapsed": false
   }
  },
  {
   "cell_type": "code",
   "execution_count": 4,
   "outputs": [
    {
     "data": {
      "text/plain": "   Train number Railway operators Time of real arrival  \\\n0         12408         SNCB/NMBS             09:50:07   \n1         12941         SNCB/NMBS             18:16:52   \n2         12410         SNCB/NMBS             11:56:31   \n3         12410         SNCB/NMBS             12:08:31   \n4         12442         SNCB/NMBS             22:18:13   \n\n  Time of planned arrival Name of the stop  \n0                09:50:00           LOMMEL  \n1                18:12:00           KIEWIT  \n2                11:57:00         OVERPELT  \n3                12:09:00           HAMONT  \n4                22:20:00              MOL  ",
      "text/html": "<div>\n<style scoped>\n    .dataframe tbody tr th:only-of-type {\n        vertical-align: middle;\n    }\n\n    .dataframe tbody tr th {\n        vertical-align: top;\n    }\n\n    .dataframe thead th {\n        text-align: right;\n    }\n</style>\n<table border=\"1\" class=\"dataframe\">\n  <thead>\n    <tr style=\"text-align: right;\">\n      <th></th>\n      <th>Train number</th>\n      <th>Railway operators</th>\n      <th>Time of real arrival</th>\n      <th>Time of planned arrival</th>\n      <th>Name of the stop</th>\n    </tr>\n  </thead>\n  <tbody>\n    <tr>\n      <th>0</th>\n      <td>12408</td>\n      <td>SNCB/NMBS</td>\n      <td>09:50:07</td>\n      <td>09:50:00</td>\n      <td>LOMMEL</td>\n    </tr>\n    <tr>\n      <th>1</th>\n      <td>12941</td>\n      <td>SNCB/NMBS</td>\n      <td>18:16:52</td>\n      <td>18:12:00</td>\n      <td>KIEWIT</td>\n    </tr>\n    <tr>\n      <th>2</th>\n      <td>12410</td>\n      <td>SNCB/NMBS</td>\n      <td>11:56:31</td>\n      <td>11:57:00</td>\n      <td>OVERPELT</td>\n    </tr>\n    <tr>\n      <th>3</th>\n      <td>12410</td>\n      <td>SNCB/NMBS</td>\n      <td>12:08:31</td>\n      <td>12:09:00</td>\n      <td>HAMONT</td>\n    </tr>\n    <tr>\n      <th>4</th>\n      <td>12442</td>\n      <td>SNCB/NMBS</td>\n      <td>22:18:13</td>\n      <td>22:20:00</td>\n      <td>MOL</td>\n    </tr>\n  </tbody>\n</table>\n</div>"
     },
     "execution_count": 4,
     "metadata": {},
     "output_type": "execute_result"
    }
   ],
   "source": [
    "df = df[['Train number', 'Railway operators', 'Time of real arrival','Time of planned arrival', 'Name of the stop']]    #filteren op kolommen dat je nodig hebt\n",
    "df.dropna(subset = ['Time of planned arrival'], inplace = True) #lege values laten vallen, want je kan hier geen delay van berekenen\n",
    "df.head(5)"
   ],
   "metadata": {
    "collapsed": false
   }
  },
  {
   "cell_type": "code",
   "execution_count": 5,
   "outputs": [
    {
     "data": {
      "text/plain": "       Train number Railway operators Time of real arrival  \\\n768              10         SNCB/NMBS             21:33:24   \n164              11         SNCB/NMBS             07:38:56   \n36329            12         SNCB/NMBS             20:09:27   \n4566             13         SNCB/NMBS             09:30:00   \n6781             14         SNCB/NMBS             17:54:22   \n\n      Time of planned arrival Name of the stop  \n768                  21:35:00     BRUSSEL-ZUID  \n164                  07:30:00       HERGENRATH  \n36329                19:35:00     BRUSSEL-ZUID  \n4566                 09:30:00       HERGENRATH  \n6781                 17:35:00     BRUSSEL-ZUID  ",
      "text/html": "<div>\n<style scoped>\n    .dataframe tbody tr th:only-of-type {\n        vertical-align: middle;\n    }\n\n    .dataframe tbody tr th {\n        vertical-align: top;\n    }\n\n    .dataframe thead th {\n        text-align: right;\n    }\n</style>\n<table border=\"1\" class=\"dataframe\">\n  <thead>\n    <tr style=\"text-align: right;\">\n      <th></th>\n      <th>Train number</th>\n      <th>Railway operators</th>\n      <th>Time of real arrival</th>\n      <th>Time of planned arrival</th>\n      <th>Name of the stop</th>\n    </tr>\n  </thead>\n  <tbody>\n    <tr>\n      <th>768</th>\n      <td>10</td>\n      <td>SNCB/NMBS</td>\n      <td>21:33:24</td>\n      <td>21:35:00</td>\n      <td>BRUSSEL-ZUID</td>\n    </tr>\n    <tr>\n      <th>164</th>\n      <td>11</td>\n      <td>SNCB/NMBS</td>\n      <td>07:38:56</td>\n      <td>07:30:00</td>\n      <td>HERGENRATH</td>\n    </tr>\n    <tr>\n      <th>36329</th>\n      <td>12</td>\n      <td>SNCB/NMBS</td>\n      <td>20:09:27</td>\n      <td>19:35:00</td>\n      <td>BRUSSEL-ZUID</td>\n    </tr>\n    <tr>\n      <th>4566</th>\n      <td>13</td>\n      <td>SNCB/NMBS</td>\n      <td>09:30:00</td>\n      <td>09:30:00</td>\n      <td>HERGENRATH</td>\n    </tr>\n    <tr>\n      <th>6781</th>\n      <td>14</td>\n      <td>SNCB/NMBS</td>\n      <td>17:54:22</td>\n      <td>17:35:00</td>\n      <td>BRUSSEL-ZUID</td>\n    </tr>\n  </tbody>\n</table>\n</div>"
     },
     "execution_count": 5,
     "metadata": {},
     "output_type": "execute_result"
    }
   ],
   "source": [
    "difference = df.sort_values(by=['Train number', 'Time of planned arrival'], ascending = True).groupby('Train number').tail(1)   #je moet sorteren anders staan je routes niet bijeen (volgens wat gepland is! )\n",
    "difference.head(5)"
   ],
   "metadata": {
    "collapsed": false
   }
  },
  {
   "cell_type": "code",
   "execution_count": 6,
   "outputs": [],
   "source": [
    "difference['Time of real arrival'] = pd.to_datetime(difference['Time of real arrival'], format='%H:%M:%S')      #je format je real arrival into datetime\n",
    "difference['Time of planned arrival'] = pd.to_datetime(difference['Time of planned arrival'], format='%H:%M:%S')      #je format je planned arrival into datetime\n",
    "difference['Delta'] = difference.apply(lambda x: (x['Time of real arrival']-x['Time of planned arrival']).total_seconds(), axis = 1)    #average delay time in seconds"
   ],
   "metadata": {
    "collapsed": false
   }
  },
  {
   "cell_type": "code",
   "execution_count": 7,
   "outputs": [
    {
     "data": {
      "text/plain": "768       -96.0\n164       536.0\n36329    2067.0\n4566        0.0\n6781     1162.0\nName: Delta, dtype: float64"
     },
     "execution_count": 7,
     "metadata": {},
     "output_type": "execute_result"
    }
   ],
   "source": [
    "difference['Delta'].head()"
   ],
   "metadata": {
    "collapsed": false
   }
  },
  {
   "cell_type": "code",
   "execution_count": 8,
   "outputs": [],
   "source": [
    "difference.loc[difference['Delta'] < 0, \"Delta\"]=0"
   ],
   "metadata": {
    "collapsed": false
   }
  },
  {
   "cell_type": "code",
   "execution_count": 9,
   "outputs": [
    {
     "data": {
      "text/plain": "768         0.0\n164       536.0\n36329    2067.0\n4566        0.0\n6781     1162.0\nName: Delta, dtype: float64"
     },
     "execution_count": 9,
     "metadata": {},
     "output_type": "execute_result"
    }
   ],
   "source": [
    "difference['Delta'].head(5)"
   ],
   "metadata": {
    "collapsed": false
   }
  },
  {
   "cell_type": "code",
   "execution_count": 10,
   "outputs": [
    {
     "data": {
      "text/plain": "       Train number Railway operators Time of real arrival  \\\n768              10         SNCB/NMBS  1900-01-01 21:33:24   \n164              11         SNCB/NMBS  1900-01-01 07:38:56   \n36329            12         SNCB/NMBS  1900-01-01 20:09:27   \n4566             13         SNCB/NMBS  1900-01-01 09:30:00   \n6781             14         SNCB/NMBS  1900-01-01 17:54:22   \n\n      Time of planned arrival Name of the stop   Delta  \n768       1900-01-01 21:35:00     BRUSSEL-ZUID     0.0  \n164       1900-01-01 07:30:00       HERGENRATH   536.0  \n36329     1900-01-01 19:35:00     BRUSSEL-ZUID  2067.0  \n4566      1900-01-01 09:30:00       HERGENRATH     0.0  \n6781      1900-01-01 17:35:00     BRUSSEL-ZUID  1162.0  ",
      "text/html": "<div>\n<style scoped>\n    .dataframe tbody tr th:only-of-type {\n        vertical-align: middle;\n    }\n\n    .dataframe tbody tr th {\n        vertical-align: top;\n    }\n\n    .dataframe thead th {\n        text-align: right;\n    }\n</style>\n<table border=\"1\" class=\"dataframe\">\n  <thead>\n    <tr style=\"text-align: right;\">\n      <th></th>\n      <th>Train number</th>\n      <th>Railway operators</th>\n      <th>Time of real arrival</th>\n      <th>Time of planned arrival</th>\n      <th>Name of the stop</th>\n      <th>Delta</th>\n    </tr>\n  </thead>\n  <tbody>\n    <tr>\n      <th>768</th>\n      <td>10</td>\n      <td>SNCB/NMBS</td>\n      <td>1900-01-01 21:33:24</td>\n      <td>1900-01-01 21:35:00</td>\n      <td>BRUSSEL-ZUID</td>\n      <td>0.0</td>\n    </tr>\n    <tr>\n      <th>164</th>\n      <td>11</td>\n      <td>SNCB/NMBS</td>\n      <td>1900-01-01 07:38:56</td>\n      <td>1900-01-01 07:30:00</td>\n      <td>HERGENRATH</td>\n      <td>536.0</td>\n    </tr>\n    <tr>\n      <th>36329</th>\n      <td>12</td>\n      <td>SNCB/NMBS</td>\n      <td>1900-01-01 20:09:27</td>\n      <td>1900-01-01 19:35:00</td>\n      <td>BRUSSEL-ZUID</td>\n      <td>2067.0</td>\n    </tr>\n    <tr>\n      <th>4566</th>\n      <td>13</td>\n      <td>SNCB/NMBS</td>\n      <td>1900-01-01 09:30:00</td>\n      <td>1900-01-01 09:30:00</td>\n      <td>HERGENRATH</td>\n      <td>0.0</td>\n    </tr>\n    <tr>\n      <th>6781</th>\n      <td>14</td>\n      <td>SNCB/NMBS</td>\n      <td>1900-01-01 17:54:22</td>\n      <td>1900-01-01 17:35:00</td>\n      <td>BRUSSEL-ZUID</td>\n      <td>1162.0</td>\n    </tr>\n  </tbody>\n</table>\n</div>"
     },
     "execution_count": 10,
     "metadata": {},
     "output_type": "execute_result"
    }
   ],
   "source": [
    "difference.head()"
   ],
   "metadata": {
    "collapsed": false
   }
  },
  {
   "cell_type": "code",
   "execution_count": 34,
   "outputs": [
    {
     "data": {
      "text/plain": "      Name of the stop  count\n75            KORTRIJK    146\n29       CHARLEROI-SUD    177\n79              LEUVEN    197\n26        BRUSSEL-ZUID    225\n5   ANTWERPEN-CENTRAAL    295",
      "text/html": "<div>\n<style scoped>\n    .dataframe tbody tr th:only-of-type {\n        vertical-align: middle;\n    }\n\n    .dataframe tbody tr th {\n        vertical-align: top;\n    }\n\n    .dataframe thead th {\n        text-align: right;\n    }\n</style>\n<table border=\"1\" class=\"dataframe\">\n  <thead>\n    <tr style=\"text-align: right;\">\n      <th></th>\n      <th>Name of the stop</th>\n      <th>count</th>\n    </tr>\n  </thead>\n  <tbody>\n    <tr>\n      <th>75</th>\n      <td>KORTRIJK</td>\n      <td>146</td>\n    </tr>\n    <tr>\n      <th>29</th>\n      <td>CHARLEROI-SUD</td>\n      <td>177</td>\n    </tr>\n    <tr>\n      <th>79</th>\n      <td>LEUVEN</td>\n      <td>197</td>\n    </tr>\n    <tr>\n      <th>26</th>\n      <td>BRUSSEL-ZUID</td>\n      <td>225</td>\n    </tr>\n    <tr>\n      <th>5</th>\n      <td>ANTWERPEN-CENTRAAL</td>\n      <td>295</td>\n    </tr>\n  </tbody>\n</table>\n</div>"
     },
     "execution_count": 34,
     "metadata": {},
     "output_type": "execute_result"
    }
   ],
   "source": [
    "df2 = difference.groupby(['Name of the stop']).size().reset_index(name='count')\n",
    "df2 = df2.sort_values(by=['count'])\n",
    "df2.tail(5)"
   ],
   "metadata": {
    "collapsed": false
   }
  },
  {
   "cell_type": "code",
   "execution_count": 28,
   "outputs": [],
   "source": [],
   "metadata": {
    "collapsed": false
   }
  },
  {
   "cell_type": "code",
   "execution_count": 26,
   "outputs": [
    {
     "ename": "AttributeError",
     "evalue": "'DataFrameGroupBy' object has no attribute 'sort_values'",
     "output_type": "error",
     "traceback": [
      "\u001B[1;31m---------------------------------------------------------------------------\u001B[0m",
      "\u001B[1;31mAttributeError\u001B[0m                            Traceback (most recent call last)",
      "Cell \u001B[1;32mIn [26], line 1\u001B[0m\n\u001B[1;32m----> 1\u001B[0m df2 \u001B[38;5;241m=\u001B[39m \u001B[43mdf2\u001B[49m\u001B[38;5;241;43m.\u001B[39;49m\u001B[43msort_values\u001B[49m(by\u001B[38;5;241m=\u001B[39m[\u001B[38;5;124m'\u001B[39m\u001B[38;5;124mcount\u001B[39m\u001B[38;5;124m'\u001B[39m])\n\u001B[0;32m      3\u001B[0m df2\u001B[38;5;241m.\u001B[39mhead(\u001B[38;5;241m5\u001B[39m)\n",
      "File \u001B[1;32m~\\AppData\\Local\\Programs\\Python\\Python310\\lib\\site-packages\\pandas\\core\\groupby\\groupby.py:981\u001B[0m, in \u001B[0;36mGroupBy.__getattr__\u001B[1;34m(self, attr)\u001B[0m\n\u001B[0;32m    978\u001B[0m \u001B[38;5;28;01mif\u001B[39;00m attr \u001B[38;5;129;01min\u001B[39;00m \u001B[38;5;28mself\u001B[39m\u001B[38;5;241m.\u001B[39mobj:\n\u001B[0;32m    979\u001B[0m     \u001B[38;5;28;01mreturn\u001B[39;00m \u001B[38;5;28mself\u001B[39m[attr]\n\u001B[1;32m--> 981\u001B[0m \u001B[38;5;28;01mraise\u001B[39;00m \u001B[38;5;167;01mAttributeError\u001B[39;00m(\n\u001B[0;32m    982\u001B[0m     \u001B[38;5;124mf\u001B[39m\u001B[38;5;124m\"\u001B[39m\u001B[38;5;124m'\u001B[39m\u001B[38;5;132;01m{\u001B[39;00m\u001B[38;5;28mtype\u001B[39m(\u001B[38;5;28mself\u001B[39m)\u001B[38;5;241m.\u001B[39m\u001B[38;5;18m__name__\u001B[39m\u001B[38;5;132;01m}\u001B[39;00m\u001B[38;5;124m'\u001B[39m\u001B[38;5;124m object has no attribute \u001B[39m\u001B[38;5;124m'\u001B[39m\u001B[38;5;132;01m{\u001B[39;00mattr\u001B[38;5;132;01m}\u001B[39;00m\u001B[38;5;124m'\u001B[39m\u001B[38;5;124m\"\u001B[39m\n\u001B[0;32m    983\u001B[0m )\n",
      "\u001B[1;31mAttributeError\u001B[0m: 'DataFrameGroupBy' object has no attribute 'sort_values'"
     ]
    }
   ],
   "source": [
    "\n",
    "\n",
    "\n"
   ],
   "metadata": {
    "collapsed": false
   }
  },
  {
   "cell_type": "code",
   "execution_count": null,
   "outputs": [],
   "source": [],
   "metadata": {
    "collapsed": false
   }
  }
 ],
 "metadata": {
  "kernelspec": {
   "display_name": "Python 3",
   "language": "python",
   "name": "python3"
  },
  "language_info": {
   "codemirror_mode": {
    "name": "ipython",
    "version": 2
   },
   "file_extension": ".py",
   "mimetype": "text/x-python",
   "name": "python",
   "nbconvert_exporter": "python",
   "pygments_lexer": "ipython2",
   "version": "2.7.6"
  }
 },
 "nbformat": 4,
 "nbformat_minor": 0
}
