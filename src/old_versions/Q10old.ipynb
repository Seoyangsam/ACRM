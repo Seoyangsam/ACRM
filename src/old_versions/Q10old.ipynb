{
 "cells": [
  {
   "cell_type": "markdown",
   "source": [
    "# Are some train routes more likely to experience delays than others? Visualize and proof statistically."
   ],
   "metadata": {
    "collapsed": false
   }
  },
  {
   "cell_type": "code",
   "execution_count": 23,
   "metadata": {
    "collapsed": true
   },
   "outputs": [],
   "source": [
    "import src.data_processing.data as data\n",
    "import numpy as np\n",
    "import pandas as pd"
   ]
  },
  {
   "cell_type": "code",
   "execution_count": 24,
   "outputs": [
    {
     "data": {
      "text/plain": "          Delay time\ncount  440943.000000\nmean      122.892338\nstd       350.910273\nmin         0.000000\n25%         0.000000\n50%        31.000000\n75%       123.000000\nmax     24536.000000",
      "text/html": "<div>\n<style scoped>\n    .dataframe tbody tr th:only-of-type {\n        vertical-align: middle;\n    }\n\n    .dataframe tbody tr th {\n        vertical-align: top;\n    }\n\n    .dataframe thead th {\n        text-align: right;\n    }\n</style>\n<table border=\"1\" class=\"dataframe\">\n  <thead>\n    <tr style=\"text-align: right;\">\n      <th></th>\n      <th>Delay time</th>\n    </tr>\n  </thead>\n  <tbody>\n    <tr>\n      <th>count</th>\n      <td>440943.000000</td>\n    </tr>\n    <tr>\n      <th>mean</th>\n      <td>122.892338</td>\n    </tr>\n    <tr>\n      <th>std</th>\n      <td>350.910273</td>\n    </tr>\n    <tr>\n      <th>min</th>\n      <td>0.000000</td>\n    </tr>\n    <tr>\n      <th>25%</th>\n      <td>0.000000</td>\n    </tr>\n    <tr>\n      <th>50%</th>\n      <td>31.000000</td>\n    </tr>\n    <tr>\n      <th>75%</th>\n      <td>123.000000</td>\n    </tr>\n    <tr>\n      <th>max</th>\n      <td>24536.000000</td>\n    </tr>\n  </tbody>\n</table>\n</div>"
     },
     "execution_count": 24,
     "metadata": {},
     "output_type": "execute_result"
    }
   ],
   "source": [
    "trips = data.full_trips\n",
    "# trips = trips.dropna(subset=['Time of real arrival', 'Time of planned arrival']) # we cant calculate the delay: delete them\n",
    "trips[[\"Delay time\"]].describe()"
   ],
   "metadata": {
    "collapsed": false
   }
  },
  {
   "cell_type": "code",
   "execution_count": 25,
   "outputs": [
    {
     "data": {
      "text/plain": "       Unnamed: 0 Date of departure  Train number Relation Railway operators  \\\n9689         9689        2020-09-22          1785   L B1-1         SNCB/NMBS   \n61013       61013        2020-09-22          3485     L B7         SNCB/NMBS   \n42349       42349        2020-09-21           324      INT         SNCB/NMBS   \n1335         1335        2020-09-21           324      INT         SNCB/NMBS   \n42352       42352        2020-09-21           324      INT         SNCB/NMBS   \n...           ...               ...           ...      ...               ...   \n45426       45426        2020-09-25          2440    IC 18         SNCB/NMBS   \n39932       39932        2020-09-22          1717    IC 14         SNCB/NMBS   \n25814       25814        2020-09-26           537    IC 01         SNCB/NMBS   \n45429       45429        2020-09-25          2440    IC 18         SNCB/NMBS   \n54030       54030        2020-09-23          4763     L C3         SNCB/NMBS   \n\n      Railway of departure Time of real arrival Time of real departure  \\\n9689                   NaN  2020-09-22 21:19:56                    NaT   \n61013                  NaN  2020-09-22 21:20:16                    NaT   \n42349                   37  2020-09-21 14:42:47    2020-09-21 14:42:47   \n1335                    37  2020-09-21 14:46:53    2020-09-21 14:49:16   \n42352                   37  2020-09-21 14:54:16    2020-09-21 14:54:16   \n...                    ...                  ...                    ...   \n45426                  125  2020-09-25 19:07:37    2020-09-25 19:07:37   \n39932                   96  2020-09-22 18:00:55    2020-09-22 18:00:55   \n25814                  50A  2020-09-26 16:49:34    2020-09-26 16:49:34   \n45429                  125  2020-09-25 19:11:37    2020-09-25 19:12:36   \n54030                 130A                  NaT    2020-09-23 13:54:30   \n\n      Time of planned arrival Time of planned departure  \\\n9689      2020-09-22 14:31:00                       NaT   \n61013     2020-09-22 14:36:00                       NaT   \n42349     2020-09-21 08:50:00       2020-09-21 08:50:00   \n1335      2020-09-21 08:56:00       2020-09-21 09:11:00   \n42352     2020-09-21 09:16:00       2020-09-21 09:16:00   \n...                       ...                       ...   \n45426     2020-09-25 19:08:00       2020-09-25 19:08:00   \n39932     2020-09-22 18:01:00       2020-09-22 18:01:00   \n25814     2020-09-26 16:51:00       2020-09-26 16:51:00   \n45429     2020-09-25 19:12:00       2020-09-25 19:13:00   \n54030                     NaT       2020-09-23 13:52:00   \n\n                            Direction of relation     Name of the stop  \\\n9689       L B1-1: ANTWERPEN-CENTRAAL -> NIVELLES            vilvoorde   \n61013                     L B7: MECHELEN -> HALLE            vilvoorde   \n42349               INT: WIEN HBF -> BRUSSEL-ZUID           hergenrath   \n1335                INT: WIEN HBF -> BRUSSEL-ZUID          welkenraedt   \n42352               INT: WIEN HBF -> BRUSSEL-ZUID      dolhain-gileppe   \n...                                           ...                  ...   \n45426  IC 18: LIEGE-SAINT-LAMBERT -> BRUSSEL-ZUID                 amay   \n39932        IC 14: QUIEVRAIN -> LIEGE-GUILLEMINS  masnuy-saint-pierre   \n25814                    IC 01: EUPEN -> OOSTENDE              beernem   \n45429  IC 18: LIEGE-SAINT-LAMBERT -> BRUSSEL-ZUID                  huy   \n54030          L C3: CHARLEROI-SUD -> ERQUELINNES        charleroi-sud   \n\n      Railway of arrival Date of planned arrival Date of planned departure  \\\n9689                  27              2020-09-22                       NaT   \n61013                 27              2020-09-22                       NaT   \n42349                 37              2020-09-21                2020-09-21   \n1335                  37              2020-09-21                2020-09-21   \n42352                 37              2020-09-21                2020-09-21   \n...                  ...                     ...                       ...   \n45426                125              2020-09-25                2020-09-25   \n39932                 96              2020-09-22                2020-09-22   \n25814                50A              2020-09-26                2020-09-26   \n45429                125              2020-09-25                2020-09-25   \n54030                NaN                     NaT                2020-09-23   \n\n      Date of real arrival Date of real departure  Delay time  \n9689            2020-09-22                    NaT     24536.0  \n61013           2020-09-22                    NaT     24256.0  \n42349           2020-09-21             2020-09-21     21167.0  \n1335            2020-09-21             2020-09-21     21053.0  \n42352           2020-09-21             2020-09-21     20296.0  \n...                    ...                    ...         ...  \n45426           2020-09-25             2020-09-25         0.0  \n39932           2020-09-22             2020-09-22         0.0  \n25814           2020-09-26             2020-09-26         0.0  \n45429           2020-09-25             2020-09-25         0.0  \n54030                  NaT             2020-09-23         0.0  \n\n[440943 rows x 18 columns]",
      "text/html": "<div>\n<style scoped>\n    .dataframe tbody tr th:only-of-type {\n        vertical-align: middle;\n    }\n\n    .dataframe tbody tr th {\n        vertical-align: top;\n    }\n\n    .dataframe thead th {\n        text-align: right;\n    }\n</style>\n<table border=\"1\" class=\"dataframe\">\n  <thead>\n    <tr style=\"text-align: right;\">\n      <th></th>\n      <th>Unnamed: 0</th>\n      <th>Date of departure</th>\n      <th>Train number</th>\n      <th>Relation</th>\n      <th>Railway operators</th>\n      <th>Railway of departure</th>\n      <th>Time of real arrival</th>\n      <th>Time of real departure</th>\n      <th>Time of planned arrival</th>\n      <th>Time of planned departure</th>\n      <th>Direction of relation</th>\n      <th>Name of the stop</th>\n      <th>Railway of arrival</th>\n      <th>Date of planned arrival</th>\n      <th>Date of planned departure</th>\n      <th>Date of real arrival</th>\n      <th>Date of real departure</th>\n      <th>Delay time</th>\n    </tr>\n  </thead>\n  <tbody>\n    <tr>\n      <th>9689</th>\n      <td>9689</td>\n      <td>2020-09-22</td>\n      <td>1785</td>\n      <td>L B1-1</td>\n      <td>SNCB/NMBS</td>\n      <td>NaN</td>\n      <td>2020-09-22 21:19:56</td>\n      <td>NaT</td>\n      <td>2020-09-22 14:31:00</td>\n      <td>NaT</td>\n      <td>L B1-1: ANTWERPEN-CENTRAAL -&gt; NIVELLES</td>\n      <td>vilvoorde</td>\n      <td>27</td>\n      <td>2020-09-22</td>\n      <td>NaT</td>\n      <td>2020-09-22</td>\n      <td>NaT</td>\n      <td>24536.0</td>\n    </tr>\n    <tr>\n      <th>61013</th>\n      <td>61013</td>\n      <td>2020-09-22</td>\n      <td>3485</td>\n      <td>L B7</td>\n      <td>SNCB/NMBS</td>\n      <td>NaN</td>\n      <td>2020-09-22 21:20:16</td>\n      <td>NaT</td>\n      <td>2020-09-22 14:36:00</td>\n      <td>NaT</td>\n      <td>L B7: MECHELEN -&gt; HALLE</td>\n      <td>vilvoorde</td>\n      <td>27</td>\n      <td>2020-09-22</td>\n      <td>NaT</td>\n      <td>2020-09-22</td>\n      <td>NaT</td>\n      <td>24256.0</td>\n    </tr>\n    <tr>\n      <th>42349</th>\n      <td>42349</td>\n      <td>2020-09-21</td>\n      <td>324</td>\n      <td>INT</td>\n      <td>SNCB/NMBS</td>\n      <td>37</td>\n      <td>2020-09-21 14:42:47</td>\n      <td>2020-09-21 14:42:47</td>\n      <td>2020-09-21 08:50:00</td>\n      <td>2020-09-21 08:50:00</td>\n      <td>INT: WIEN HBF -&gt; BRUSSEL-ZUID</td>\n      <td>hergenrath</td>\n      <td>37</td>\n      <td>2020-09-21</td>\n      <td>2020-09-21</td>\n      <td>2020-09-21</td>\n      <td>2020-09-21</td>\n      <td>21167.0</td>\n    </tr>\n    <tr>\n      <th>1335</th>\n      <td>1335</td>\n      <td>2020-09-21</td>\n      <td>324</td>\n      <td>INT</td>\n      <td>SNCB/NMBS</td>\n      <td>37</td>\n      <td>2020-09-21 14:46:53</td>\n      <td>2020-09-21 14:49:16</td>\n      <td>2020-09-21 08:56:00</td>\n      <td>2020-09-21 09:11:00</td>\n      <td>INT: WIEN HBF -&gt; BRUSSEL-ZUID</td>\n      <td>welkenraedt</td>\n      <td>37</td>\n      <td>2020-09-21</td>\n      <td>2020-09-21</td>\n      <td>2020-09-21</td>\n      <td>2020-09-21</td>\n      <td>21053.0</td>\n    </tr>\n    <tr>\n      <th>42352</th>\n      <td>42352</td>\n      <td>2020-09-21</td>\n      <td>324</td>\n      <td>INT</td>\n      <td>SNCB/NMBS</td>\n      <td>37</td>\n      <td>2020-09-21 14:54:16</td>\n      <td>2020-09-21 14:54:16</td>\n      <td>2020-09-21 09:16:00</td>\n      <td>2020-09-21 09:16:00</td>\n      <td>INT: WIEN HBF -&gt; BRUSSEL-ZUID</td>\n      <td>dolhain-gileppe</td>\n      <td>37</td>\n      <td>2020-09-21</td>\n      <td>2020-09-21</td>\n      <td>2020-09-21</td>\n      <td>2020-09-21</td>\n      <td>20296.0</td>\n    </tr>\n    <tr>\n      <th>...</th>\n      <td>...</td>\n      <td>...</td>\n      <td>...</td>\n      <td>...</td>\n      <td>...</td>\n      <td>...</td>\n      <td>...</td>\n      <td>...</td>\n      <td>...</td>\n      <td>...</td>\n      <td>...</td>\n      <td>...</td>\n      <td>...</td>\n      <td>...</td>\n      <td>...</td>\n      <td>...</td>\n      <td>...</td>\n      <td>...</td>\n    </tr>\n    <tr>\n      <th>45426</th>\n      <td>45426</td>\n      <td>2020-09-25</td>\n      <td>2440</td>\n      <td>IC 18</td>\n      <td>SNCB/NMBS</td>\n      <td>125</td>\n      <td>2020-09-25 19:07:37</td>\n      <td>2020-09-25 19:07:37</td>\n      <td>2020-09-25 19:08:00</td>\n      <td>2020-09-25 19:08:00</td>\n      <td>IC 18: LIEGE-SAINT-LAMBERT -&gt; BRUSSEL-ZUID</td>\n      <td>amay</td>\n      <td>125</td>\n      <td>2020-09-25</td>\n      <td>2020-09-25</td>\n      <td>2020-09-25</td>\n      <td>2020-09-25</td>\n      <td>0.0</td>\n    </tr>\n    <tr>\n      <th>39932</th>\n      <td>39932</td>\n      <td>2020-09-22</td>\n      <td>1717</td>\n      <td>IC 14</td>\n      <td>SNCB/NMBS</td>\n      <td>96</td>\n      <td>2020-09-22 18:00:55</td>\n      <td>2020-09-22 18:00:55</td>\n      <td>2020-09-22 18:01:00</td>\n      <td>2020-09-22 18:01:00</td>\n      <td>IC 14: QUIEVRAIN -&gt; LIEGE-GUILLEMINS</td>\n      <td>masnuy-saint-pierre</td>\n      <td>96</td>\n      <td>2020-09-22</td>\n      <td>2020-09-22</td>\n      <td>2020-09-22</td>\n      <td>2020-09-22</td>\n      <td>0.0</td>\n    </tr>\n    <tr>\n      <th>25814</th>\n      <td>25814</td>\n      <td>2020-09-26</td>\n      <td>537</td>\n      <td>IC 01</td>\n      <td>SNCB/NMBS</td>\n      <td>50A</td>\n      <td>2020-09-26 16:49:34</td>\n      <td>2020-09-26 16:49:34</td>\n      <td>2020-09-26 16:51:00</td>\n      <td>2020-09-26 16:51:00</td>\n      <td>IC 01: EUPEN -&gt; OOSTENDE</td>\n      <td>beernem</td>\n      <td>50A</td>\n      <td>2020-09-26</td>\n      <td>2020-09-26</td>\n      <td>2020-09-26</td>\n      <td>2020-09-26</td>\n      <td>0.0</td>\n    </tr>\n    <tr>\n      <th>45429</th>\n      <td>45429</td>\n      <td>2020-09-25</td>\n      <td>2440</td>\n      <td>IC 18</td>\n      <td>SNCB/NMBS</td>\n      <td>125</td>\n      <td>2020-09-25 19:11:37</td>\n      <td>2020-09-25 19:12:36</td>\n      <td>2020-09-25 19:12:00</td>\n      <td>2020-09-25 19:13:00</td>\n      <td>IC 18: LIEGE-SAINT-LAMBERT -&gt; BRUSSEL-ZUID</td>\n      <td>huy</td>\n      <td>125</td>\n      <td>2020-09-25</td>\n      <td>2020-09-25</td>\n      <td>2020-09-25</td>\n      <td>2020-09-25</td>\n      <td>0.0</td>\n    </tr>\n    <tr>\n      <th>54030</th>\n      <td>54030</td>\n      <td>2020-09-23</td>\n      <td>4763</td>\n      <td>L C3</td>\n      <td>SNCB/NMBS</td>\n      <td>130A</td>\n      <td>NaT</td>\n      <td>2020-09-23 13:54:30</td>\n      <td>NaT</td>\n      <td>2020-09-23 13:52:00</td>\n      <td>L C3: CHARLEROI-SUD -&gt; ERQUELINNES</td>\n      <td>charleroi-sud</td>\n      <td>NaN</td>\n      <td>NaT</td>\n      <td>2020-09-23</td>\n      <td>NaT</td>\n      <td>2020-09-23</td>\n      <td>0.0</td>\n    </tr>\n  </tbody>\n</table>\n<p>440943 rows × 18 columns</p>\n</div>"
     },
     "execution_count": 25,
     "metadata": {},
     "output_type": "execute_result"
    }
   ],
   "source": [
    "trips.sort_values(by = \"Delay time\" , ascending = False)"
   ],
   "metadata": {
    "collapsed": false
   }
  },
  {
   "cell_type": "markdown",
   "source": [
    "We delete all delay times > 85.000 seconds, which is equal to almost 24 hours."
   ],
   "metadata": {
    "collapsed": false
   }
  },
  {
   "cell_type": "code",
   "execution_count": 26,
   "outputs": [
    {
     "data": {
      "text/plain": "          Delay time\ncount  440943.000000\nmean      122.892338\nstd       350.910273\nmin         0.000000\n25%         0.000000\n50%        31.000000\n75%       123.000000\nmax     24536.000000",
      "text/html": "<div>\n<style scoped>\n    .dataframe tbody tr th:only-of-type {\n        vertical-align: middle;\n    }\n\n    .dataframe tbody tr th {\n        vertical-align: top;\n    }\n\n    .dataframe thead th {\n        text-align: right;\n    }\n</style>\n<table border=\"1\" class=\"dataframe\">\n  <thead>\n    <tr style=\"text-align: right;\">\n      <th></th>\n      <th>Delay time</th>\n    </tr>\n  </thead>\n  <tbody>\n    <tr>\n      <th>count</th>\n      <td>440943.000000</td>\n    </tr>\n    <tr>\n      <th>mean</th>\n      <td>122.892338</td>\n    </tr>\n    <tr>\n      <th>std</th>\n      <td>350.910273</td>\n    </tr>\n    <tr>\n      <th>min</th>\n      <td>0.000000</td>\n    </tr>\n    <tr>\n      <th>25%</th>\n      <td>0.000000</td>\n    </tr>\n    <tr>\n      <th>50%</th>\n      <td>31.000000</td>\n    </tr>\n    <tr>\n      <th>75%</th>\n      <td>123.000000</td>\n    </tr>\n    <tr>\n      <th>max</th>\n      <td>24536.000000</td>\n    </tr>\n  </tbody>\n</table>\n</div>"
     },
     "execution_count": 26,
     "metadata": {},
     "output_type": "execute_result"
    }
   ],
   "source": [
    "\n",
    "trips = data.full_trips\n",
    "for x in trips[['Delay time']]:\n",
    "    trips.loc[trips[x] > 85000,x] = np.nan\n",
    "trips[[\"Delay time\"]].describe()"
   ],
   "metadata": {
    "collapsed": false
   }
  },
  {
   "cell_type": "markdown",
   "source": [
    "We assume that a train route is an array of subsequent train stops"
   ],
   "metadata": {
    "collapsed": false
   }
  },
  {
   "cell_type": "code",
   "execution_count": 27,
   "outputs": [
    {
     "ename": "KeyError",
     "evalue": "'Day of real arrival'",
     "output_type": "error",
     "traceback": [
      "\u001B[0;31m---------------------------------------------------------------------------\u001B[0m",
      "\u001B[0;31mKeyError\u001B[0m                                  Traceback (most recent call last)",
      "Cell \u001B[0;32mIn [27], line 3\u001B[0m\n\u001B[1;32m      1\u001B[0m routes_by_day \u001B[38;5;241m=\u001B[39m {}\n\u001B[1;32m      2\u001B[0m \u001B[38;5;28;01mfor\u001B[39;00m train_number \u001B[38;5;129;01min\u001B[39;00m train_numbers:\n\u001B[0;32m----> 3\u001B[0m     routes_by_day[train_number] \u001B[38;5;241m=\u001B[39m [group \u001B[38;5;28;01mfor\u001B[39;00m _, group \u001B[38;5;129;01min\u001B[39;00m routes[train_number]\u001B[38;5;241m.\u001B[39mgroupby(\u001B[38;5;124m\"\u001B[39m\u001B[38;5;124mDay of real arrival\u001B[39m\u001B[38;5;124m\"\u001B[39m)]\n",
      "File \u001B[0;32m/Library/Frameworks/Python.framework/Versions/3.10/lib/python3.10/site-packages/pandas/core/frame.py:8392\u001B[0m, in \u001B[0;36mDataFrame.groupby\u001B[0;34m(self, by, axis, level, as_index, sort, group_keys, squeeze, observed, dropna)\u001B[0m\n\u001B[1;32m   8389\u001B[0m     \u001B[38;5;28;01mraise\u001B[39;00m \u001B[38;5;167;01mTypeError\u001B[39;00m(\u001B[38;5;124m\"\u001B[39m\u001B[38;5;124mYou have to supply one of \u001B[39m\u001B[38;5;124m'\u001B[39m\u001B[38;5;124mby\u001B[39m\u001B[38;5;124m'\u001B[39m\u001B[38;5;124m and \u001B[39m\u001B[38;5;124m'\u001B[39m\u001B[38;5;124mlevel\u001B[39m\u001B[38;5;124m'\u001B[39m\u001B[38;5;124m\"\u001B[39m)\n\u001B[1;32m   8390\u001B[0m axis \u001B[38;5;241m=\u001B[39m \u001B[38;5;28mself\u001B[39m\u001B[38;5;241m.\u001B[39m_get_axis_number(axis)\n\u001B[0;32m-> 8392\u001B[0m \u001B[38;5;28;01mreturn\u001B[39;00m \u001B[43mDataFrameGroupBy\u001B[49m\u001B[43m(\u001B[49m\n\u001B[1;32m   8393\u001B[0m \u001B[43m    \u001B[49m\u001B[43mobj\u001B[49m\u001B[38;5;241;43m=\u001B[39;49m\u001B[38;5;28;43mself\u001B[39;49m\u001B[43m,\u001B[49m\n\u001B[1;32m   8394\u001B[0m \u001B[43m    \u001B[49m\u001B[43mkeys\u001B[49m\u001B[38;5;241;43m=\u001B[39;49m\u001B[43mby\u001B[49m\u001B[43m,\u001B[49m\n\u001B[1;32m   8395\u001B[0m \u001B[43m    \u001B[49m\u001B[43maxis\u001B[49m\u001B[38;5;241;43m=\u001B[39;49m\u001B[43maxis\u001B[49m\u001B[43m,\u001B[49m\n\u001B[1;32m   8396\u001B[0m \u001B[43m    \u001B[49m\u001B[43mlevel\u001B[49m\u001B[38;5;241;43m=\u001B[39;49m\u001B[43mlevel\u001B[49m\u001B[43m,\u001B[49m\n\u001B[1;32m   8397\u001B[0m \u001B[43m    \u001B[49m\u001B[43mas_index\u001B[49m\u001B[38;5;241;43m=\u001B[39;49m\u001B[43mas_index\u001B[49m\u001B[43m,\u001B[49m\n\u001B[1;32m   8398\u001B[0m \u001B[43m    \u001B[49m\u001B[43msort\u001B[49m\u001B[38;5;241;43m=\u001B[39;49m\u001B[43msort\u001B[49m\u001B[43m,\u001B[49m\n\u001B[1;32m   8399\u001B[0m \u001B[43m    \u001B[49m\u001B[43mgroup_keys\u001B[49m\u001B[38;5;241;43m=\u001B[39;49m\u001B[43mgroup_keys\u001B[49m\u001B[43m,\u001B[49m\n\u001B[1;32m   8400\u001B[0m \u001B[43m    \u001B[49m\u001B[43msqueeze\u001B[49m\u001B[38;5;241;43m=\u001B[39;49m\u001B[43msqueeze\u001B[49m\u001B[43m,\u001B[49m\n\u001B[1;32m   8401\u001B[0m \u001B[43m    \u001B[49m\u001B[43mobserved\u001B[49m\u001B[38;5;241;43m=\u001B[39;49m\u001B[43mobserved\u001B[49m\u001B[43m,\u001B[49m\n\u001B[1;32m   8402\u001B[0m \u001B[43m    \u001B[49m\u001B[43mdropna\u001B[49m\u001B[38;5;241;43m=\u001B[39;49m\u001B[43mdropna\u001B[49m\u001B[43m,\u001B[49m\n\u001B[1;32m   8403\u001B[0m \u001B[43m\u001B[49m\u001B[43m)\u001B[49m\n",
      "File \u001B[0;32m/Library/Frameworks/Python.framework/Versions/3.10/lib/python3.10/site-packages/pandas/core/groupby/groupby.py:959\u001B[0m, in \u001B[0;36mGroupBy.__init__\u001B[0;34m(self, obj, keys, axis, level, grouper, exclusions, selection, as_index, sort, group_keys, squeeze, observed, mutated, dropna)\u001B[0m\n\u001B[1;32m    956\u001B[0m \u001B[38;5;28;01mif\u001B[39;00m grouper \u001B[38;5;129;01mis\u001B[39;00m \u001B[38;5;28;01mNone\u001B[39;00m:\n\u001B[1;32m    957\u001B[0m     \u001B[38;5;28;01mfrom\u001B[39;00m \u001B[38;5;21;01mpandas\u001B[39;00m\u001B[38;5;21;01m.\u001B[39;00m\u001B[38;5;21;01mcore\u001B[39;00m\u001B[38;5;21;01m.\u001B[39;00m\u001B[38;5;21;01mgroupby\u001B[39;00m\u001B[38;5;21;01m.\u001B[39;00m\u001B[38;5;21;01mgrouper\u001B[39;00m \u001B[38;5;28;01mimport\u001B[39;00m get_grouper\n\u001B[0;32m--> 959\u001B[0m     grouper, exclusions, obj \u001B[38;5;241m=\u001B[39m \u001B[43mget_grouper\u001B[49m\u001B[43m(\u001B[49m\n\u001B[1;32m    960\u001B[0m \u001B[43m        \u001B[49m\u001B[43mobj\u001B[49m\u001B[43m,\u001B[49m\n\u001B[1;32m    961\u001B[0m \u001B[43m        \u001B[49m\u001B[43mkeys\u001B[49m\u001B[43m,\u001B[49m\n\u001B[1;32m    962\u001B[0m \u001B[43m        \u001B[49m\u001B[43maxis\u001B[49m\u001B[38;5;241;43m=\u001B[39;49m\u001B[43maxis\u001B[49m\u001B[43m,\u001B[49m\n\u001B[1;32m    963\u001B[0m \u001B[43m        \u001B[49m\u001B[43mlevel\u001B[49m\u001B[38;5;241;43m=\u001B[39;49m\u001B[43mlevel\u001B[49m\u001B[43m,\u001B[49m\n\u001B[1;32m    964\u001B[0m \u001B[43m        \u001B[49m\u001B[43msort\u001B[49m\u001B[38;5;241;43m=\u001B[39;49m\u001B[43msort\u001B[49m\u001B[43m,\u001B[49m\n\u001B[1;32m    965\u001B[0m \u001B[43m        \u001B[49m\u001B[43mobserved\u001B[49m\u001B[38;5;241;43m=\u001B[39;49m\u001B[43mobserved\u001B[49m\u001B[43m,\u001B[49m\n\u001B[1;32m    966\u001B[0m \u001B[43m        \u001B[49m\u001B[43mmutated\u001B[49m\u001B[38;5;241;43m=\u001B[39;49m\u001B[38;5;28;43mself\u001B[39;49m\u001B[38;5;241;43m.\u001B[39;49m\u001B[43mmutated\u001B[49m\u001B[43m,\u001B[49m\n\u001B[1;32m    967\u001B[0m \u001B[43m        \u001B[49m\u001B[43mdropna\u001B[49m\u001B[38;5;241;43m=\u001B[39;49m\u001B[38;5;28;43mself\u001B[39;49m\u001B[38;5;241;43m.\u001B[39;49m\u001B[43mdropna\u001B[49m\u001B[43m,\u001B[49m\n\u001B[1;32m    968\u001B[0m \u001B[43m    \u001B[49m\u001B[43m)\u001B[49m\n\u001B[1;32m    970\u001B[0m \u001B[38;5;28mself\u001B[39m\u001B[38;5;241m.\u001B[39mobj \u001B[38;5;241m=\u001B[39m obj\n\u001B[1;32m    971\u001B[0m \u001B[38;5;28mself\u001B[39m\u001B[38;5;241m.\u001B[39maxis \u001B[38;5;241m=\u001B[39m obj\u001B[38;5;241m.\u001B[39m_get_axis_number(axis)\n",
      "File \u001B[0;32m/Library/Frameworks/Python.framework/Versions/3.10/lib/python3.10/site-packages/pandas/core/groupby/grouper.py:889\u001B[0m, in \u001B[0;36mget_grouper\u001B[0;34m(obj, key, axis, level, sort, observed, mutated, validate, dropna)\u001B[0m\n\u001B[1;32m    887\u001B[0m         in_axis, level, gpr \u001B[38;5;241m=\u001B[39m \u001B[38;5;28;01mFalse\u001B[39;00m, gpr, \u001B[38;5;28;01mNone\u001B[39;00m\n\u001B[1;32m    888\u001B[0m     \u001B[38;5;28;01melse\u001B[39;00m:\n\u001B[0;32m--> 889\u001B[0m         \u001B[38;5;28;01mraise\u001B[39;00m \u001B[38;5;167;01mKeyError\u001B[39;00m(gpr)\n\u001B[1;32m    890\u001B[0m \u001B[38;5;28;01melif\u001B[39;00m \u001B[38;5;28misinstance\u001B[39m(gpr, Grouper) \u001B[38;5;129;01mand\u001B[39;00m gpr\u001B[38;5;241m.\u001B[39mkey \u001B[38;5;129;01mis\u001B[39;00m \u001B[38;5;129;01mnot\u001B[39;00m \u001B[38;5;28;01mNone\u001B[39;00m:\n\u001B[1;32m    891\u001B[0m     \u001B[38;5;66;03m# Add key to exclusions\u001B[39;00m\n\u001B[1;32m    892\u001B[0m     exclusions\u001B[38;5;241m.\u001B[39madd(gpr\u001B[38;5;241m.\u001B[39mkey)\n",
      "\u001B[0;31mKeyError\u001B[0m: 'Day of real arrival'"
     ]
    }
   ],
   "source": [],
   "metadata": {
    "collapsed": false
   }
  },
  {
   "cell_type": "code",
   "execution_count": 28,
   "outputs": [],
   "source": [
    "train_numbers = trips[\"Train number\"].unique()\n",
    "routes = {}\n",
    "for train_number in train_numbers:\n",
    "    routes[train_number] = trips[trips[\"Train number\"] == train_number].sort_values(by= [ \"Time of real departure\"])"
   ],
   "metadata": {
    "collapsed": false
   }
  },
  {
   "cell_type": "code",
   "execution_count": 32,
   "outputs": [],
   "source": [
    "routes_by_day = {}\n",
    "for train_number in train_numbers:\n",
    "    routes_by_day[train_number] = [group for _, group in routes[train_number].groupby(\"Date of departure\")]\n"
   ],
   "metadata": {
    "collapsed": false
   }
  },
  {
   "cell_type": "code",
   "execution_count": 36,
   "outputs": [
    {
     "data": {
      "text/plain": "7"
     },
     "execution_count": 36,
     "metadata": {},
     "output_type": "execute_result"
    }
   ],
   "source": [
    "len(routes_by_day.get(10))"
   ],
   "metadata": {
    "collapsed": false
   }
  },
  {
   "cell_type": "markdown",
   "source": [
    "Each routes value actually contains multiple times the same set of subsequent stops (1 route per day, 7 days)"
   ],
   "metadata": {
    "collapsed": false
   }
  },
  {
   "cell_type": "code",
   "execution_count": null,
   "outputs": [],
   "source": [
    "routes.get(18).groupby(\"Name of the stop\").size().reset_index(name=\"count\")\n",
    "routes.get(18)\n"
   ],
   "metadata": {
    "collapsed": false
   }
  },
  {
   "cell_type": "markdown",
   "source": [
    "Create a dictionary so we can get the \"number of delays/ total train stops\" per route"
   ],
   "metadata": {
    "collapsed": false
   }
  },
  {
   "cell_type": "code",
   "execution_count": 44,
   "outputs": [
    {
     "data": {
      "text/plain": "0.775"
     },
     "execution_count": 44,
     "metadata": {},
     "output_type": "execute_result"
    }
   ],
   "source": [
    "# #for train_number in train_numbers:\n",
    "#     routes[train_number][\"Number of delays\"] = len(routes.get(train_number)[routes.get(train_number)[\"Delay time\"] > 0])\n",
    "#     routes[train_number][\"Total train stops\"] = len(routes.get(train_number))\n",
    "#     routes[train_number][\"Number of delays/ Total train stops\"] = routes[train_number][\"Number of delays\"]/routes[train_number][\"Total train stops\"]\n",
    "# routes.get(10)\n",
    "delay_occurences_per_route = {}\n",
    "for train_number in train_numbers:\n",
    "    delay_occurences_per_route [train_number]  = len(routes.get(train_number)[routes.get(train_number)[\"Delay time\"] > 0])/len(routes.get(train_number))\n",
    "\n",
    "delay_occurences_per_route.get(12)"
   ],
   "metadata": {
    "collapsed": false
   }
  },
  {
   "cell_type": "code",
   "execution_count": 37,
   "outputs": [],
   "source": [
    "percentage_of_delays = {}\n",
    "for train_number in train_numbers:\n",
    "    percentage_of_delays[train_number] = []\n",
    "    for day in routes_by_day.get(train_number):\n",
    "        percentage_of_delays.get(train_number).append(day[day[\"Delay time\"] > 0].shape[0] / day.shape[0])"
   ],
   "metadata": {
    "collapsed": false
   }
  },
  {
   "cell_type": "code",
   "execution_count": 38,
   "outputs": [
    {
     "data": {
      "text/plain": "[1.0, 0.1, 0.25, 1.0, 1.0, 0.85, 0.0]"
     },
     "execution_count": 38,
     "metadata": {},
     "output_type": "execute_result"
    }
   ],
   "source": [
    "percentage_of_delays.get(10)"
   ],
   "metadata": {
    "collapsed": false
   }
  },
  {
   "cell_type": "code",
   "execution_count": 39,
   "outputs": [],
   "source": [
    "average_percentage_of_delays = {}\n",
    "for train_number in train_numbers:\n",
    "    average_percentage_of_delays[train_number] = sum(percentage_of_delays.get(train_number)) / len(percentage_of_delays.get(train_number))"
   ],
   "metadata": {
    "collapsed": false
   }
  },
  {
   "cell_type": "code",
   "execution_count": 45,
   "outputs": [
    {
     "data": {
      "text/plain": "0.775"
     },
     "execution_count": 45,
     "metadata": {},
     "output_type": "execute_result"
    }
   ],
   "source": [
    "average_percentage_of_delays.get(12)"
   ],
   "metadata": {
    "collapsed": false
   }
  },
  {
   "cell_type": "code",
   "execution_count": null,
   "outputs": [],
   "source": [
    "delay_occurences_per_route_df = pd.DataFrame.from_dict(delay_occurences_per_route, orient =\"index\").reset_index().rename(columns = {\"index\": \"Route\", 0: \"Delay_frequency\"})\n",
    "delay_occurences_per_route_df[\"Re\"]  = delay_occurences_per_route_df.reset_index()[\"Route\"].apply(lambda x: routes.get(x)[\"Direction of relation\"].iloc[0])\n",
    "delay_occurences_per_route_df"
   ],
   "metadata": {
    "collapsed": false
   }
  },
  {
   "cell_type": "code",
   "execution_count": null,
   "outputs": [],
   "source": [
    "delay_occurences_per_route_df[\"Delay_frequency\"].plot.hist(bins = 100)"
   ],
   "metadata": {
    "collapsed": false
   }
  },
  {
   "cell_type": "code",
   "execution_count": null,
   "outputs": [],
   "source": [
    "delay_occurences_per_route_df[\"Delay_frequency\"].plot.hist(cumulative = True, bins = 100)"
   ],
   "metadata": {
    "collapsed": false
   }
  },
  {
   "cell_type": "code",
   "execution_count": null,
   "outputs": [],
   "source": [
    "delay_occurences_per_route_df[\"Delay_frequency\"].describe()"
   ],
   "metadata": {
    "collapsed": false
   }
  },
  {
   "cell_type": "markdown",
   "source": [
    "Intriguing that train routes that always have delays are not considered outliers. All routes but the the train routes from the output below are more likely to experience delays. We can also see this by calculating the p value and z-score"
   ],
   "metadata": {
    "collapsed": false
   }
  },
  {
   "cell_type": "code",
   "execution_count": null,
   "outputs": [],
   "source": [
    "def get_outlier(df, column):\n",
    "    q1 = df[column].quantile(0.25)\n",
    "    q3 = df[column].quantile(0.75)\n",
    "    iqr = q3 - q1\n",
    "    print(iqr)\n",
    "    outlier = df[(df[column] > q3 + 1.5 * iqr) | (df[column] < q1 - 1.5 * iqr)]\n",
    "    print(outlier)\n",
    "    return outlier\n",
    "\n",
    "df = get_outlier(delay_occurences_per_route_df, \"Delay_frequency\")\n"
   ],
   "metadata": {
    "collapsed": false
   }
  },
  {
   "cell_type": "code",
   "execution_count": null,
   "outputs": [],
   "source": [],
   "metadata": {
    "collapsed": false
   }
  },
  {
   "cell_type": "code",
   "execution_count": null,
   "outputs": [],
   "source": [
    "\n",
    "import scipy.stats as stats\n",
    "def calculate_z_score(df, column):\n",
    "    df[\"z_score\"] = (df[column] - df[column].mean()) / df[column].std(ddof=0)\n",
    "    return df\n",
    "def calculate_p_value(df):\n",
    "    df[\"p_value\"] = stats.norm.sf(abs(df[\"z_score\"])) * 2\n",
    "    return df\n",
    "\n",
    "calculate_z_score(delay_occurences_per_route_df, \"Delay_frequency\")\n",
    "pd.options.display.max_rows = 400000\n",
    "calculate_p_value(delay_occurences_per_route_df)\n",
    "delay_occurences_per_route_df"
   ],
   "metadata": {
    "collapsed": false
   }
  },
  {
   "cell_type": "code",
   "execution_count": null,
   "outputs": [],
   "source": [
    "delay_occurences_per_route_df.sort_values(by = [\"Delay_frequency\",\"Re\"], ascending=False)"
   ],
   "metadata": {
    "collapsed": false
   }
  },
  {
   "cell_type": "markdown",
   "source": [
    "\n",
    "Maybe get the mean delay frequency per Re"
   ],
   "metadata": {
    "collapsed": false
   }
  },
  {
   "cell_type": "code",
   "execution_count": null,
   "outputs": [],
   "source": [
    "delay_occurences_per_route_df[\"test\"] = delay_occurences_per_route_df.groupby(\"Re\")[\"Delay_frequency\"].transform(\"mean\")\n",
    "delays_per_relation = delay_occurences_per_route_df[[\"Re\", \"Delay_frequency\"]]\n",
    "delays_per_relation[\"avg_delay_freq\"] = delays_per_relation.groupby(\"Re\")[\"Delay_frequency\"].transform(\"mean\")\n",
    "delays_per_relation = delays_per_relation.drop(columns = [\"Delay_frequency\"]).drop_duplicates()\n",
    "delays_per_relation"
   ],
   "metadata": {
    "collapsed": false
   }
  },
  {
   "cell_type": "code",
   "execution_count": null,
   "outputs": [],
   "source": [
    "delays_per_relation"
   ],
   "metadata": {
    "collapsed": false
   }
  },
  {
   "cell_type": "code",
   "execution_count": null,
   "outputs": [],
   "source": [
    "get_outlier(delays_per_relation, \"avg_delay_freq\")\n"
   ],
   "metadata": {
    "collapsed": false
   }
  },
  {
   "cell_type": "code",
   "execution_count": null,
   "outputs": [],
   "source": [
    "delays_per_relation.plot.hist()"
   ],
   "metadata": {
    "collapsed": false
   }
  },
  {
   "cell_type": "code",
   "execution_count": null,
   "outputs": [],
   "source": [
    "routes.get(17209)"
   ],
   "metadata": {
    "collapsed": false
   }
  },
  {
   "cell_type": "code",
   "execution_count": null,
   "outputs": [],
   "source": [
    "delay_occurences_per_route_df[delay_occurences_per_route_df[\"p_value\"] <0.05]"
   ],
   "metadata": {
    "collapsed": false
   }
  },
  {
   "cell_type": "code",
   "execution_count": null,
   "outputs": [],
   "source": [],
   "metadata": {
    "collapsed": false
   }
  },
  {
   "cell_type": "code",
   "execution_count": null,
   "outputs": [],
   "source": [],
   "metadata": {
    "collapsed": false
   }
  },
  {
   "cell_type": "code",
   "execution_count": null,
   "outputs": [],
   "source": [],
   "metadata": {
    "collapsed": false
   }
  },
  {
   "cell_type": "code",
   "execution_count": null,
   "outputs": [],
   "source": [],
   "metadata": {
    "collapsed": false
   }
  },
  {
   "cell_type": "code",
   "execution_count": null,
   "outputs": [],
   "source": [],
   "metadata": {
    "collapsed": false
   }
  },
  {
   "cell_type": "code",
   "execution_count": null,
   "outputs": [],
   "source": [],
   "metadata": {
    "collapsed": false
   }
  },
  {
   "cell_type": "code",
   "execution_count": null,
   "outputs": [],
   "source": [
    "\n"
   ],
   "metadata": {
    "collapsed": false
   }
  }
 ],
 "metadata": {
  "kernelspec": {
   "display_name": "Python 3",
   "language": "python",
   "name": "python3"
  },
  "language_info": {
   "codemirror_mode": {
    "name": "ipython",
    "version": 2
   },
   "file_extension": ".py",
   "mimetype": "text/x-python",
   "name": "python",
   "nbconvert_exporter": "python",
   "pygments_lexer": "ipython2",
   "version": "2.7.6"
  }
 },
 "nbformat": 4,
 "nbformat_minor": 0
}
