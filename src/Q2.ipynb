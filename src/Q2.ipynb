{
 "cells": [
  {
   "cell_type": "markdown",
   "source": [
    "# Question_2: Plot the average delay time per provider (EUROSTAR, NMBS, THALYS).\n"
   ],
   "metadata": {
    "collapsed": false
   }
  },
  {
   "cell_type": "code",
   "execution_count": null,
   "outputs": [],
   "source": [
    "import glob as glob\n",
    "import pandas as pd\n",
    "import matplotlib.pyplot as plt"
   ],
   "metadata": {
    "collapsed": false,
    "pycharm": {
     "is_executing": true
    }
   }
  },
  {
   "cell_type": "code",
   "execution_count": 3,
   "metadata": {
    "collapsed": true
   },
   "outputs": [],
   "source": [
    "import src.data_processing.data as data"
   ]
  },
  {
   "cell_type": "code",
   "execution_count": 4,
   "outputs": [
    {
     "data": {
      "text/plain": "       Unnamed: 0 Date of departure  Train number Relation Railway operators  \\\n0               0        2020-09-20         12408    EXTRA         SNCB/NMBS   \n1               1        2020-09-20         12941    EXTRA         SNCB/NMBS   \n2               2        2020-09-20         12410    EXTRA         SNCB/NMBS   \n3               3        2020-09-20         12410    EXTRA         SNCB/NMBS   \n4               4        2020-09-20         12442    EXTRA         SNCB/NMBS   \n...           ...               ...           ...      ...               ...   \n39732       39732        2020-09-26           872     L 28         SNCB/NMBS   \n39733       39733        2020-09-26         17201    EXTRA         SNCB/NMBS   \n39734       39734        2020-09-26         17201    EXTRA         SNCB/NMBS   \n39735       39735        2020-09-26         17203    EXTRA         SNCB/NMBS   \n39736       39736        2020-09-26         17203    EXTRA         SNCB/NMBS   \n\n      Railway of departure Time of real arrival Time of real departure  \\\n0                       19  2022-10-27 09:50:07    2022-10-27 09:50:31   \n1                      21A  2022-10-27 18:16:52    2022-10-27 18:16:52   \n2                       19  2022-10-27 11:56:31    2022-10-27 11:56:58   \n3                      NaN  2022-10-27 12:08:31                    NaT   \n4                      NaN  2022-10-27 22:18:13                    NaT   \n...                    ...                  ...                    ...   \n39732                  NaN  2022-10-27 23:25:11                    NaT   \n39733                   25                  NaT    2022-10-27 20:59:27   \n39734                  NaN  2022-10-27 21:13:19                    NaT   \n39735                   25  2022-10-27 21:31:27    2022-10-27 21:31:27   \n39736                  NaN  2022-10-27 21:34:53                    NaT   \n\n      Time of planned arrival Time of planned departure  \\\n0         2022-10-27 09:50:00       2022-10-27 09:50:00   \n1         2022-10-27 18:12:00       2022-10-27 18:12:00   \n2         2022-10-27 11:57:00       2022-10-27 11:57:00   \n3         2022-10-27 12:09:00                       NaT   \n4         2022-10-27 22:20:00                       NaT   \n...                       ...                       ...   \n39732     2022-10-27 23:26:00                       NaT   \n39733                     NaT       2022-10-27 20:44:00   \n39734     2022-10-27 20:59:00                       NaT   \n39735     2022-10-27 21:12:00       2022-10-27 21:12:00   \n39736     2022-10-27 21:16:00                       NaT   \n\n            Direction of relation    Name of the stop Railway of arrival  \\\n0                             NaN              LOMMEL                 19   \n1                             NaN              KIEWIT                21A   \n2                             NaN            OVERPELT                 19   \n3                             NaN              HAMONT                 19   \n4                             NaN                 MOL                 19   \n...                           ...                 ...                ...   \n39732  L 28: KORTRIJK -> MECHELEN         DENDERMONDE                 53   \n39733                         NaN  ANTWERPEN-CENTRAAL                NaN   \n39734                         NaN       NOORDERKEMPEN                  4   \n39735                         NaN  ANTWERPEN-LUCHTBAL                 25   \n39736                         NaN  ANTWERPEN-CENTRAAL                 25   \n\n      Date of planned arrival Date of planned departure Date of real arrival  \\\n0         2020-09-20 00:00:00                2020-09-20           2020-09-20   \n1         2020-09-20 00:00:00                2020-09-20           2020-09-20   \n2         2020-09-20 00:00:00                2020-09-20           2020-09-20   \n3         2020-09-20 00:00:00                       NaN           2020-09-20   \n4         2020-09-20 00:00:00                       NaN           2020-09-20   \n...                       ...                       ...                  ...   \n39732     2020-09-26 00:00:00                       NaN           2020-09-26   \n39733                     NaN                2020-09-26                  NaN   \n39734     2020-09-26 00:00:00                       NaN           2020-09-26   \n39735     2020-09-26 00:00:00                2020-09-26           2020-09-26   \n39736     2020-09-26 00:00:00                       NaN           2020-09-26   \n\n      Date of real departure  Delay time  \n0                 2020-09-20           7  \n1                 2020-09-20         292  \n2                 2020-09-20           0  \n3                        NaN           0  \n4                        NaN           0  \n...                      ...         ...  \n39732                    NaN           0  \n39733             2020-09-26           0  \n39734                    NaN         859  \n39735             2020-09-26        1167  \n39736                    NaN        1133  \n\n[440943 rows x 18 columns]",
      "text/html": "<div>\n<style scoped>\n    .dataframe tbody tr th:only-of-type {\n        vertical-align: middle;\n    }\n\n    .dataframe tbody tr th {\n        vertical-align: top;\n    }\n\n    .dataframe thead th {\n        text-align: right;\n    }\n</style>\n<table border=\"1\" class=\"dataframe\">\n  <thead>\n    <tr style=\"text-align: right;\">\n      <th></th>\n      <th>Unnamed: 0</th>\n      <th>Date of departure</th>\n      <th>Train number</th>\n      <th>Relation</th>\n      <th>Railway operators</th>\n      <th>Railway of departure</th>\n      <th>Time of real arrival</th>\n      <th>Time of real departure</th>\n      <th>Time of planned arrival</th>\n      <th>Time of planned departure</th>\n      <th>Direction of relation</th>\n      <th>Name of the stop</th>\n      <th>Railway of arrival</th>\n      <th>Date of planned arrival</th>\n      <th>Date of planned departure</th>\n      <th>Date of real arrival</th>\n      <th>Date of real departure</th>\n      <th>Delay time</th>\n    </tr>\n  </thead>\n  <tbody>\n    <tr>\n      <th>0</th>\n      <td>0</td>\n      <td>2020-09-20</td>\n      <td>12408</td>\n      <td>EXTRA</td>\n      <td>SNCB/NMBS</td>\n      <td>19</td>\n      <td>2022-10-27 09:50:07</td>\n      <td>2022-10-27 09:50:31</td>\n      <td>2022-10-27 09:50:00</td>\n      <td>2022-10-27 09:50:00</td>\n      <td>NaN</td>\n      <td>LOMMEL</td>\n      <td>19</td>\n      <td>2020-09-20 00:00:00</td>\n      <td>2020-09-20</td>\n      <td>2020-09-20</td>\n      <td>2020-09-20</td>\n      <td>7</td>\n    </tr>\n    <tr>\n      <th>1</th>\n      <td>1</td>\n      <td>2020-09-20</td>\n      <td>12941</td>\n      <td>EXTRA</td>\n      <td>SNCB/NMBS</td>\n      <td>21A</td>\n      <td>2022-10-27 18:16:52</td>\n      <td>2022-10-27 18:16:52</td>\n      <td>2022-10-27 18:12:00</td>\n      <td>2022-10-27 18:12:00</td>\n      <td>NaN</td>\n      <td>KIEWIT</td>\n      <td>21A</td>\n      <td>2020-09-20 00:00:00</td>\n      <td>2020-09-20</td>\n      <td>2020-09-20</td>\n      <td>2020-09-20</td>\n      <td>292</td>\n    </tr>\n    <tr>\n      <th>2</th>\n      <td>2</td>\n      <td>2020-09-20</td>\n      <td>12410</td>\n      <td>EXTRA</td>\n      <td>SNCB/NMBS</td>\n      <td>19</td>\n      <td>2022-10-27 11:56:31</td>\n      <td>2022-10-27 11:56:58</td>\n      <td>2022-10-27 11:57:00</td>\n      <td>2022-10-27 11:57:00</td>\n      <td>NaN</td>\n      <td>OVERPELT</td>\n      <td>19</td>\n      <td>2020-09-20 00:00:00</td>\n      <td>2020-09-20</td>\n      <td>2020-09-20</td>\n      <td>2020-09-20</td>\n      <td>0</td>\n    </tr>\n    <tr>\n      <th>3</th>\n      <td>3</td>\n      <td>2020-09-20</td>\n      <td>12410</td>\n      <td>EXTRA</td>\n      <td>SNCB/NMBS</td>\n      <td>NaN</td>\n      <td>2022-10-27 12:08:31</td>\n      <td>NaT</td>\n      <td>2022-10-27 12:09:00</td>\n      <td>NaT</td>\n      <td>NaN</td>\n      <td>HAMONT</td>\n      <td>19</td>\n      <td>2020-09-20 00:00:00</td>\n      <td>NaN</td>\n      <td>2020-09-20</td>\n      <td>NaN</td>\n      <td>0</td>\n    </tr>\n    <tr>\n      <th>4</th>\n      <td>4</td>\n      <td>2020-09-20</td>\n      <td>12442</td>\n      <td>EXTRA</td>\n      <td>SNCB/NMBS</td>\n      <td>NaN</td>\n      <td>2022-10-27 22:18:13</td>\n      <td>NaT</td>\n      <td>2022-10-27 22:20:00</td>\n      <td>NaT</td>\n      <td>NaN</td>\n      <td>MOL</td>\n      <td>19</td>\n      <td>2020-09-20 00:00:00</td>\n      <td>NaN</td>\n      <td>2020-09-20</td>\n      <td>NaN</td>\n      <td>0</td>\n    </tr>\n    <tr>\n      <th>...</th>\n      <td>...</td>\n      <td>...</td>\n      <td>...</td>\n      <td>...</td>\n      <td>...</td>\n      <td>...</td>\n      <td>...</td>\n      <td>...</td>\n      <td>...</td>\n      <td>...</td>\n      <td>...</td>\n      <td>...</td>\n      <td>...</td>\n      <td>...</td>\n      <td>...</td>\n      <td>...</td>\n      <td>...</td>\n      <td>...</td>\n    </tr>\n    <tr>\n      <th>39732</th>\n      <td>39732</td>\n      <td>2020-09-26</td>\n      <td>872</td>\n      <td>L 28</td>\n      <td>SNCB/NMBS</td>\n      <td>NaN</td>\n      <td>2022-10-27 23:25:11</td>\n      <td>NaT</td>\n      <td>2022-10-27 23:26:00</td>\n      <td>NaT</td>\n      <td>L 28: KORTRIJK -&gt; MECHELEN</td>\n      <td>DENDERMONDE</td>\n      <td>53</td>\n      <td>2020-09-26 00:00:00</td>\n      <td>NaN</td>\n      <td>2020-09-26</td>\n      <td>NaN</td>\n      <td>0</td>\n    </tr>\n    <tr>\n      <th>39733</th>\n      <td>39733</td>\n      <td>2020-09-26</td>\n      <td>17201</td>\n      <td>EXTRA</td>\n      <td>SNCB/NMBS</td>\n      <td>25</td>\n      <td>NaT</td>\n      <td>2022-10-27 20:59:27</td>\n      <td>NaT</td>\n      <td>2022-10-27 20:44:00</td>\n      <td>NaN</td>\n      <td>ANTWERPEN-CENTRAAL</td>\n      <td>NaN</td>\n      <td>NaN</td>\n      <td>2020-09-26</td>\n      <td>NaN</td>\n      <td>2020-09-26</td>\n      <td>0</td>\n    </tr>\n    <tr>\n      <th>39734</th>\n      <td>39734</td>\n      <td>2020-09-26</td>\n      <td>17201</td>\n      <td>EXTRA</td>\n      <td>SNCB/NMBS</td>\n      <td>NaN</td>\n      <td>2022-10-27 21:13:19</td>\n      <td>NaT</td>\n      <td>2022-10-27 20:59:00</td>\n      <td>NaT</td>\n      <td>NaN</td>\n      <td>NOORDERKEMPEN</td>\n      <td>4</td>\n      <td>2020-09-26 00:00:00</td>\n      <td>NaN</td>\n      <td>2020-09-26</td>\n      <td>NaN</td>\n      <td>859</td>\n    </tr>\n    <tr>\n      <th>39735</th>\n      <td>39735</td>\n      <td>2020-09-26</td>\n      <td>17203</td>\n      <td>EXTRA</td>\n      <td>SNCB/NMBS</td>\n      <td>25</td>\n      <td>2022-10-27 21:31:27</td>\n      <td>2022-10-27 21:31:27</td>\n      <td>2022-10-27 21:12:00</td>\n      <td>2022-10-27 21:12:00</td>\n      <td>NaN</td>\n      <td>ANTWERPEN-LUCHTBAL</td>\n      <td>25</td>\n      <td>2020-09-26 00:00:00</td>\n      <td>2020-09-26</td>\n      <td>2020-09-26</td>\n      <td>2020-09-26</td>\n      <td>1167</td>\n    </tr>\n    <tr>\n      <th>39736</th>\n      <td>39736</td>\n      <td>2020-09-26</td>\n      <td>17203</td>\n      <td>EXTRA</td>\n      <td>SNCB/NMBS</td>\n      <td>NaN</td>\n      <td>2022-10-27 21:34:53</td>\n      <td>NaT</td>\n      <td>2022-10-27 21:16:00</td>\n      <td>NaT</td>\n      <td>NaN</td>\n      <td>ANTWERPEN-CENTRAAL</td>\n      <td>25</td>\n      <td>2020-09-26 00:00:00</td>\n      <td>NaN</td>\n      <td>2020-09-26</td>\n      <td>NaN</td>\n      <td>1133</td>\n    </tr>\n  </tbody>\n</table>\n<p>440943 rows × 18 columns</p>\n</div>"
     },
     "execution_count": 4,
     "metadata": {},
     "output_type": "execute_result"
    }
   ],
   "source": [
    "trips = data.full_trips\n",
    "trips.head(5)"
   ],
   "metadata": {
    "collapsed": false
   }
  },
  {
   "cell_type": "code",
   "execution_count": 28,
   "outputs": [],
   "source": [
    "all_files = glob.glob(r'C:\\users\\Annelien\\Documents\\SCHOOL\\ACRM\\Project NMBS\\group7-group-assignment-\\Data\\Trips\\*.csv')\n"
   ],
   "metadata": {
    "collapsed": false
   }
  },
  {
   "cell_type": "code",
   "execution_count": 29,
   "outputs": [
    {
     "data": {
      "text/plain": "['C:\\\\users\\\\Annelien\\\\Documents\\\\SCHOOL\\\\ACRM\\\\Project NMBS\\\\group7-group-assignment-\\\\Data\\\\Trips\\\\trips_20_9.csv_processed.csv',\n 'C:\\\\users\\\\Annelien\\\\Documents\\\\SCHOOL\\\\ACRM\\\\Project NMBS\\\\group7-group-assignment-\\\\Data\\\\Trips\\\\trips_21_9.csv_processed.csv',\n 'C:\\\\users\\\\Annelien\\\\Documents\\\\SCHOOL\\\\ACRM\\\\Project NMBS\\\\group7-group-assignment-\\\\Data\\\\Trips\\\\trips_22_9.csv_processed.csv',\n 'C:\\\\users\\\\Annelien\\\\Documents\\\\SCHOOL\\\\ACRM\\\\Project NMBS\\\\group7-group-assignment-\\\\Data\\\\Trips\\\\trips_23_9.csv_processed.csv',\n 'C:\\\\users\\\\Annelien\\\\Documents\\\\SCHOOL\\\\ACRM\\\\Project NMBS\\\\group7-group-assignment-\\\\Data\\\\Trips\\\\trips_24_9.csv_processed.csv',\n 'C:\\\\users\\\\Annelien\\\\Documents\\\\SCHOOL\\\\ACRM\\\\Project NMBS\\\\group7-group-assignment-\\\\Data\\\\Trips\\\\trips_25_9.csv_processed.csv',\n 'C:\\\\users\\\\Annelien\\\\Documents\\\\SCHOOL\\\\ACRM\\\\Project NMBS\\\\group7-group-assignment-\\\\Data\\\\Trips\\\\trips_26_9.csv_processed.csv']"
     },
     "execution_count": 29,
     "metadata": {},
     "output_type": "execute_result"
    }
   ],
   "source": [
    "all_files"
   ],
   "metadata": {
    "collapsed": false
   }
  },
  {
   "cell_type": "code",
   "execution_count": 47,
   "outputs": [],
   "source": [
    "df = pd.concat((pd.read_csv(f) for f in all_files))"
   ],
   "metadata": {
    "collapsed": false
   }
  },
  {
   "cell_type": "code",
   "execution_count": null,
   "outputs": [],
   "source": [
    "df.head()"
   ],
   "metadata": {
    "collapsed": false,
    "pycharm": {
     "is_executing": true
    }
   }
  },
  {
   "cell_type": "code",
   "execution_count": 49,
   "outputs": [],
   "source": [
    "df = df[['Train number', 'Railway operators', 'Time of real arrival','Time of planned arrival', 'Name of the stop']]    #filteren op kolommen dat je nodig hebt\n",
    "df.dropna(subset = ['Time of planned arrival'], inplace = True) #lege values laten vallen, want je kan hier geen delay van berekenen"
   ],
   "metadata": {
    "collapsed": false
   }
  },
  {
   "cell_type": "code",
   "execution_count": 50,
   "outputs": [
    {
     "data": {
      "text/plain": "Index(['Train number', 'Railway operators', 'Time of real arrival',\n       'Time of planned arrival', 'Name of the stop'],\n      dtype='object')"
     },
     "execution_count": 50,
     "metadata": {},
     "output_type": "execute_result"
    }
   ],
   "source": [
    "df.columns"
   ],
   "metadata": {
    "collapsed": false
   }
  },
  {
   "cell_type": "code",
   "execution_count": 53,
   "outputs": [],
   "source": [
    "difference = df.sort_values(by=['Train number', 'Time of planned arrival'], ascending = True).groupby('Train number').tail(1)   #je moet sorteren zowel volgens trein nummer & dan op tijd anders staan je routes niet bijeen (volgens wat gepland is! )\n",
    "# groupby ( per route wil je de vertraging berekenen & tail: de laatste houd je over omdat dit je delay is tov je aankomst)"
   ],
   "metadata": {
    "collapsed": false
   }
  },
  {
   "cell_type": "code",
   "execution_count": 78,
   "outputs": [
    {
     "data": {
      "text/plain": "       Train number Railway operators Time of real arrival  \\\n768              10         SNCB/NMBS  1900-01-01 21:33:24   \n164              11         SNCB/NMBS  1900-01-01 07:38:56   \n36329            12         SNCB/NMBS  1900-01-01 20:09:27   \n4566             13         SNCB/NMBS  1900-01-01 09:30:00   \n6781             14         SNCB/NMBS  1900-01-01 17:54:22   \n\n      Time of planned arrival Name of the stop   Delta  \n768       1900-01-01 21:35:00     BRUSSEL-ZUID     0.0  \n164       1900-01-01 07:30:00       HERGENRATH   536.0  \n36329     1900-01-01 19:35:00     BRUSSEL-ZUID  2067.0  \n4566      1900-01-01 09:30:00       HERGENRATH     0.0  \n6781      1900-01-01 17:35:00     BRUSSEL-ZUID  1162.0  ",
      "text/html": "<div>\n<style scoped>\n    .dataframe tbody tr th:only-of-type {\n        vertical-align: middle;\n    }\n\n    .dataframe tbody tr th {\n        vertical-align: top;\n    }\n\n    .dataframe thead th {\n        text-align: right;\n    }\n</style>\n<table border=\"1\" class=\"dataframe\">\n  <thead>\n    <tr style=\"text-align: right;\">\n      <th></th>\n      <th>Train number</th>\n      <th>Railway operators</th>\n      <th>Time of real arrival</th>\n      <th>Time of planned arrival</th>\n      <th>Name of the stop</th>\n      <th>Delta</th>\n    </tr>\n  </thead>\n  <tbody>\n    <tr>\n      <th>768</th>\n      <td>10</td>\n      <td>SNCB/NMBS</td>\n      <td>1900-01-01 21:33:24</td>\n      <td>1900-01-01 21:35:00</td>\n      <td>BRUSSEL-ZUID</td>\n      <td>0.0</td>\n    </tr>\n    <tr>\n      <th>164</th>\n      <td>11</td>\n      <td>SNCB/NMBS</td>\n      <td>1900-01-01 07:38:56</td>\n      <td>1900-01-01 07:30:00</td>\n      <td>HERGENRATH</td>\n      <td>536.0</td>\n    </tr>\n    <tr>\n      <th>36329</th>\n      <td>12</td>\n      <td>SNCB/NMBS</td>\n      <td>1900-01-01 20:09:27</td>\n      <td>1900-01-01 19:35:00</td>\n      <td>BRUSSEL-ZUID</td>\n      <td>2067.0</td>\n    </tr>\n    <tr>\n      <th>4566</th>\n      <td>13</td>\n      <td>SNCB/NMBS</td>\n      <td>1900-01-01 09:30:00</td>\n      <td>1900-01-01 09:30:00</td>\n      <td>HERGENRATH</td>\n      <td>0.0</td>\n    </tr>\n    <tr>\n      <th>6781</th>\n      <td>14</td>\n      <td>SNCB/NMBS</td>\n      <td>1900-01-01 17:54:22</td>\n      <td>1900-01-01 17:35:00</td>\n      <td>BRUSSEL-ZUID</td>\n      <td>1162.0</td>\n    </tr>\n  </tbody>\n</table>\n</div>"
     },
     "execution_count": 78,
     "metadata": {},
     "output_type": "execute_result"
    }
   ],
   "source": [
    "difference.head(5)"
   ],
   "metadata": {
    "collapsed": false
   }
  },
  {
   "cell_type": "code",
   "execution_count": 83,
   "outputs": [],
   "source": [
    "difference['Time of real arrival'] = pd.to_datetime(difference['Time of real arrival'], format='%H:%M:%S')      #je format je real arrival into datetime\n",
    "difference['Time of planned arrival'] = pd.to_datetime(difference['Time of planned arrival'], format='%H:%M:%S')      #je format je planned arrival into datetime\n",
    "difference['Delta'] = difference.apply(lambda x: (x['Time of real arrival']-x['Time of planned arrival']).total_seconds(), axis = 1)    #average delay time in seconds"
   ],
   "metadata": {
    "collapsed": false
   }
  },
  {
   "cell_type": "code",
   "execution_count": 84,
   "outputs": [
    {
     "data": {
      "text/plain": "768       -96.0\n164       536.0\n36329    2067.0\n4566        0.0\n6781     1162.0\nName: Delta, dtype: float64"
     },
     "execution_count": 84,
     "metadata": {},
     "output_type": "execute_result"
    }
   ],
   "source": [
    "difference['Delta'].head()"
   ],
   "metadata": {
    "collapsed": false
   }
  },
  {
   "cell_type": "code",
   "execution_count": null,
   "outputs": [],
   "source": [
    "difference.loc[difference['Delta'] < 0, \"Delta\"]=0"
   ],
   "metadata": {
    "collapsed": false,
    "pycharm": {
     "is_executing": true
    }
   }
  },
  {
   "cell_type": "code",
   "execution_count": 70,
   "outputs": [
    {
     "data": {
      "text/plain": "768         0.0\n164       536.0\n36329    2067.0\n4566        0.0\n6781     1162.0\nName: Delta, dtype: float64"
     },
     "execution_count": 70,
     "metadata": {},
     "output_type": "execute_result"
    }
   ],
   "source": [
    "difference['Delta'].head()"
   ],
   "metadata": {
    "collapsed": false
   }
  },
  {
   "cell_type": "code",
   "execution_count": 71,
   "outputs": [
    {
     "data": {
      "text/plain": "       Train number Railway operators Time of real arrival  \\\n768              10         SNCB/NMBS  1900-01-01 21:33:24   \n164              11         SNCB/NMBS  1900-01-01 07:38:56   \n36329            12         SNCB/NMBS  1900-01-01 20:09:27   \n4566             13         SNCB/NMBS  1900-01-01 09:30:00   \n6781             14         SNCB/NMBS  1900-01-01 17:54:22   \n\n      Time of planned arrival Name of the stop   Delta  \n768       1900-01-01 21:35:00     BRUSSEL-ZUID     0.0  \n164       1900-01-01 07:30:00       HERGENRATH   536.0  \n36329     1900-01-01 19:35:00     BRUSSEL-ZUID  2067.0  \n4566      1900-01-01 09:30:00       HERGENRATH     0.0  \n6781      1900-01-01 17:35:00     BRUSSEL-ZUID  1162.0  ",
      "text/html": "<div>\n<style scoped>\n    .dataframe tbody tr th:only-of-type {\n        vertical-align: middle;\n    }\n\n    .dataframe tbody tr th {\n        vertical-align: top;\n    }\n\n    .dataframe thead th {\n        text-align: right;\n    }\n</style>\n<table border=\"1\" class=\"dataframe\">\n  <thead>\n    <tr style=\"text-align: right;\">\n      <th></th>\n      <th>Train number</th>\n      <th>Railway operators</th>\n      <th>Time of real arrival</th>\n      <th>Time of planned arrival</th>\n      <th>Name of the stop</th>\n      <th>Delta</th>\n    </tr>\n  </thead>\n  <tbody>\n    <tr>\n      <th>768</th>\n      <td>10</td>\n      <td>SNCB/NMBS</td>\n      <td>1900-01-01 21:33:24</td>\n      <td>1900-01-01 21:35:00</td>\n      <td>BRUSSEL-ZUID</td>\n      <td>0.0</td>\n    </tr>\n    <tr>\n      <th>164</th>\n      <td>11</td>\n      <td>SNCB/NMBS</td>\n      <td>1900-01-01 07:38:56</td>\n      <td>1900-01-01 07:30:00</td>\n      <td>HERGENRATH</td>\n      <td>536.0</td>\n    </tr>\n    <tr>\n      <th>36329</th>\n      <td>12</td>\n      <td>SNCB/NMBS</td>\n      <td>1900-01-01 20:09:27</td>\n      <td>1900-01-01 19:35:00</td>\n      <td>BRUSSEL-ZUID</td>\n      <td>2067.0</td>\n    </tr>\n    <tr>\n      <th>4566</th>\n      <td>13</td>\n      <td>SNCB/NMBS</td>\n      <td>1900-01-01 09:30:00</td>\n      <td>1900-01-01 09:30:00</td>\n      <td>HERGENRATH</td>\n      <td>0.0</td>\n    </tr>\n    <tr>\n      <th>6781</th>\n      <td>14</td>\n      <td>SNCB/NMBS</td>\n      <td>1900-01-01 17:54:22</td>\n      <td>1900-01-01 17:35:00</td>\n      <td>BRUSSEL-ZUID</td>\n      <td>1162.0</td>\n    </tr>\n  </tbody>\n</table>\n</div>"
     },
     "execution_count": 71,
     "metadata": {},
     "output_type": "execute_result"
    }
   ],
   "source": [
    "difference.head()"
   ],
   "metadata": {
    "collapsed": false
   }
  },
  {
   "cell_type": "code",
   "execution_count": 75,
   "outputs": [],
   "source": [
    "differencePerOp = difference.groupby('Railway operators')['Delta'].mean().reset_index(name = 'mean').round(0)\n",
    "#pak mean van average delay time & reset_index maakt nieuwe kolom aan voor mean"
   ],
   "metadata": {
    "collapsed": false
   }
  },
  {
   "cell_type": "code",
   "execution_count": 76,
   "outputs": [
    {
     "data": {
      "text/plain": "  Railway operators   mean\n0        EUROSTARFR  120.0\n1         SNCB/NMBS  143.0\n2          THI-FACT  658.0",
      "text/html": "<div>\n<style scoped>\n    .dataframe tbody tr th:only-of-type {\n        vertical-align: middle;\n    }\n\n    .dataframe tbody tr th {\n        vertical-align: top;\n    }\n\n    .dataframe thead th {\n        text-align: right;\n    }\n</style>\n<table border=\"1\" class=\"dataframe\">\n  <thead>\n    <tr style=\"text-align: right;\">\n      <th></th>\n      <th>Railway operators</th>\n      <th>mean</th>\n    </tr>\n  </thead>\n  <tbody>\n    <tr>\n      <th>0</th>\n      <td>EUROSTARFR</td>\n      <td>120.0</td>\n    </tr>\n    <tr>\n      <th>1</th>\n      <td>SNCB/NMBS</td>\n      <td>143.0</td>\n    </tr>\n    <tr>\n      <th>2</th>\n      <td>THI-FACT</td>\n      <td>658.0</td>\n    </tr>\n  </tbody>\n</table>\n</div>"
     },
     "execution_count": 76,
     "metadata": {},
     "output_type": "execute_result"
    }
   ],
   "source": [
    "differencePerOp.head()"
   ],
   "metadata": {
    "collapsed": false
   }
  },
  {
   "cell_type": "code",
   "execution_count": null,
   "outputs": [],
   "source": [
    "def addvaluelabels(x,y):\n",
    "    for i in range(len(x)):\n",
    "        plt.text(i, y[i], y[i], ha='center')\n"
   ],
   "metadata": {
    "collapsed": false
   }
  },
  {
   "cell_type": "code",
   "execution_count": null,
   "outputs": [],
   "source": [
    "plt.bar(differencePerOp['Railway operators'], differencePerOp['mean'], color='blue')\n",
    "addvaluelabels(differencePerOp['Railway operators'], differencePerOp['mean'])\n",
    "plt.title('Average delay time per provider')\n",
    "plt.xlabel(\"Provider\")\n",
    "plt.ylabel(\"Average delay time\")\n",
    "plt.legend(loc=\"upper left\")\n",
    "plt.xticks(rotation= \"vertical\")\n",
    "plt.show()\n"
   ],
   "metadata": {
    "collapsed": false,
    "pycharm": {
     "is_executing": true
    }
   }
  },
  {
   "cell_type": "code",
   "execution_count": 62,
   "outputs": [
    {
     "data": {
      "text/plain": "768     1900-01-01 21:33:24\n164     1900-01-01 07:38:56\n36329   1900-01-01 20:09:27\n4566    1900-01-01 09:30:00\n6781    1900-01-01 17:54:22\nName: Time of real arrival, dtype: datetime64[ns]"
     },
     "execution_count": 62,
     "metadata": {},
     "output_type": "execute_result"
    }
   ],
   "source": [
    "difference['Time of real arrival'].head()"
   ],
   "metadata": {
    "collapsed": false
   }
  },
  {
   "cell_type": "code",
   "execution_count": 34,
   "outputs": [
    {
     "ename": "SyntaxError",
     "evalue": "(unicode error) 'unicodeescape' codec can't decode bytes in position 2-3: truncated \\UXXXXXXXX escape (1875775456.py, line 33)",
     "output_type": "error",
     "traceback": [
      "\u001B[1;36m  Cell \u001B[1;32mIn [34], line 33\u001B[1;36m\u001B[0m\n\u001B[1;33m    all_files = glob.glob('C:\\Users\\Annelien\\Documents\\SCHOOL\\ACRM\\Project NMBS\\group7-group-assignment-\\Data\\Trips')\u001B[0m\n\u001B[1;37m                                                                                                                    ^\u001B[0m\n\u001B[1;31mSyntaxError\u001B[0m\u001B[1;31m:\u001B[0m (unicode error) 'unicodeescape' codec can't decode bytes in position 2-3: truncated \\UXXXXXXXX escape\n"
     ]
    }
   ],
   "source": [
    "#vraag5\n",
    "all_files = glob.glob('C:\\Users\\Annelien\\Documents\\SCHOOL\\ACRM\\Project NMBS\\group7-group-assignment-\\Data\\Trips')\n",
    "df = pd.concat((pd.read_csv(f) for f in all_files))\n",
    "difference = df.sort_values(by=['Train number', 'Time of planned arrival'], ascend = True, inplace = True).groupby('Train number').tail(1)   #je moet sorteren anders staan je routes niet bijeen (volgens wat gepland is! )\n",
    "difference['Time of real arrival'] = pd.to_datatime(difference['Time of real arrival'], format='%H::%M:%S')      #je format je real arrival into datetime\n",
    "difference['Time of planned arrival'] = pd.to_datatime(difference['Time of planned arrival'], format='%H::%M:%S')      #je format je planned arrival into datetime\n",
    "difference['Delta'] = (difference['Time of real arrival'], difference['Time of planned arrival']).df.total_seconds()      #average delay time in seconds\n",
    "difference.loc[difference['Delta'] < 0, \"Delta\"]=0\n",
    "\n"
   ],
   "metadata": {
    "collapsed": false
   }
  },
  {
   "cell_type": "code",
   "execution_count": 33,
   "outputs": [
    {
     "ename": "SyntaxError",
     "evalue": "(unicode error) 'unicodeescape' codec can't decode bytes in position 2-3: truncated \\UXXXXXXXX escape (3108808883.py, line 33)",
     "output_type": "error",
     "traceback": [
      "\u001B[1;36m  Cell \u001B[1;32mIn [33], line 33\u001B[1;36m\u001B[0m\n\u001B[1;33m    all_files = glob.glob('C:\\Users\\Annelien\\Documents\\SCHOOL\\ACRM\\Project NMBS\\group7-group-assignment-\\Data\\Trips')\u001B[0m\n\u001B[1;37m                                                                                                                    ^\u001B[0m\n\u001B[1;31mSyntaxError\u001B[0m\u001B[1;31m:\u001B[0m (unicode error) 'unicodeescape' codec can't decode bytes in position 2-3: truncated \\UXXXXXXXX escape\n"
     ]
    }
   ],
   "source": [
    "#vraag8\n",
    "station = gpd.read_file(r'C:\\users\\Annelien\\Documents\\SCHOOL\\ACRM\\Project NMBS\\group7-group-assignment-\\Data\\stations.csv', sep=',')\n",
    "stations[\"name\"] = stations[\"name\"].str.lower()\n",
    "train_trips_sorted = stations.sort_values(by=\"Time of real departure\")\n",
    "\n",
    "train_trips_sorted[\"Name of the stop\"] = train_trips_sorted[\"Name of the stop\"].str.lower()\n",
    "\n",
    "\n",
    "#draw all train routes on the map\n",
    "stations = pd.read_csv(r'C:\\users\\Annelien\\Documents\\SCHOOL\\ACRM\\Project NMBS\\group7-group-assignment-\\Data\\stations.csv', sep=',')\n",
    "stations[\"name\"] = stations[\"name\"].str.lower()\n",
    "trainTripsSorted[\"Name of the stop\"] = trainTripsSorted[\"Name of the stop\"].str.lower()\n",
    "#merge both dataframes:\n",
    "trainTripsSorted = trainTripsSorted.merge(stations, left_on=\"Name of the stop\", right_on=\"name\")\n",
    "trainTripsSorted[[\"name\",\"longitude\", \"latitude\", \"Time of real arrival\", \"Time of real departure\"]]\n",
    "\n",
    "plt.figure(figsize = (8,5))\n",
    "## map_df.plot(color = 'black', zorder=1) ===> map importeren ( kaart van belgie, zie shapefile op jupyter )\n",
    "\n",
    "#loop to all the sorted train trips but not the last one, bcs no value\n",
    "for i in range(len(trainTripsSorted) -1):\n",
    "    #get longitude & latitude of the start (=current observation)\n",
    "    x_start = trainTripsSorted[\"longitude\"].iloc[i]\n",
    "    y_start = trainTripsSorted[\"latitude\"].iloc[i+1]\n",
    "\n",
    "    #get longitude and latitude of the stop (= next observation)\n",
    "    x_end = trainTripsSorted[\"longitude\"].iloc[i+1]\n",
    "    y_end = trainTripsSorted[\"longitude\"].iloc[i+1]\n",
    "\n",
    "    #plot line with the x-coordinates being the longitude of the start & stop\n",
    "    # and the y-coordinates being the latitude of the start & stop\n",
    "    plt.plot([x_start,x_end],[y_start, y_end], zorder = 2)\n",
    "\n",
    "    # show plot\n",
    "    plt.xlabel(\"Longitude\")\n",
    "    plt.ylabel(\"Latitude\")\n",
    "    plt.title(\"Train trajectory (train nr. 3612\")\n",
    "    plt.show()"
   ],
   "metadata": {
    "collapsed": false
   }
  },
  {
   "cell_type": "code",
   "execution_count": null,
   "outputs": [],
   "source": [],
   "metadata": {
    "collapsed": false
   }
  }
 ],
 "metadata": {
  "kernelspec": {
   "display_name": "Python 3",
   "language": "python",
   "name": "python3"
  },
  "language_info": {
   "codemirror_mode": {
    "name": "ipython",
    "version": 2
   },
   "file_extension": ".py",
   "mimetype": "text/x-python",
   "name": "python",
   "nbconvert_exporter": "python",
   "pygments_lexer": "ipython2",
   "version": "2.7.6"
  }
 },
 "nbformat": 4,
 "nbformat_minor": 0
}
