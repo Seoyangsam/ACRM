{
 "cells": [
  {
   "cell_type": "markdown",
   "source": [
    "# Question_2: Plot the average delay time per provider (EUROSTAR, NMBS, THALYS).\n",
    "\n"
   ],
   "metadata": {
    "collapsed": false
   }
  },
  {
   "cell_type": "code",
   "execution_count": 2,
   "metadata": {
    "collapsed": true
   },
   "outputs": [],
   "source": [
    "import src.data_processing.data as data\n",
    "import matplotlib.pyplot as plt\n",
    "import pandas as pd"
   ]
  },
  {
   "cell_type": "code",
   "execution_count": 6,
   "outputs": [
    {
     "data": {
      "text/plain": "Index(['Unnamed: 0', 'Date of departure', 'Train number', 'Relation',\n       'Railway operators', 'Railway of departure', 'Time of real arrival',\n       'Time of real departure', 'Time of planned arrival',\n       'Time of planned departure', 'Direction of relation',\n       'Name of the stop', 'Railway of arrival', 'Date of planned arrival',\n       'Date of planned departure', 'Date of real arrival',\n       'Date of real departure', 'Delay time'],\n      dtype='object')"
     },
     "execution_count": 6,
     "metadata": {},
     "output_type": "execute_result"
    }
   ],
   "source": [
    "trips = data.full_trips\n",
    "trips.columns"
   ],
   "metadata": {
    "collapsed": false
   }
  },
  {
   "cell_type": "code",
   "execution_count": 45,
   "outputs": [
    {
     "data": {
      "text/plain": "<Figure size 640x480 with 1 Axes>",
      "image/png": "[encoded data removed]"
     },
     "metadata": {},
     "output_type": "display_data"
    },
    {
     "data": {
      "text/plain": "<Figure size 1000x1000 with 0 Axes>"
     },
     "metadata": {},
     "output_type": "display_data"
    }
   ],
   "source": [
    "trips = data.full_trips\n",
    "def addvaluelabels(x,y):\n",
    "    for i in range(len(x)):\n",
    "        plt.text(i, y[i], y[i], ha='center')\n",
    "\n",
    "delay_provider = trips.groupby(\"Railway operators\")[\"Delay time\"].mean().reset_index().round()\n",
    "plt.bar(delay_provider[\"Railway operators\"], delay_provider[\"Delay time\"])\n",
    "\n",
    "addvaluelabels(delay_provider[\"Railway operators\"], delay_provider[\"Delay time\"])\n",
    "\n",
    "plt.title(\"Average delay time per provider in minutes\")\n",
    "plt.xticks(rotation=0)\n",
    "plt.xlabel(\"Provider\")\n",
    "plt.ylabel(\"Average delay time\")\n",
    "plt.figure(figsize=(10,10))\n",
    "plt.show()\n",
    "\n",
    "\n",
    "\n"
   ],
   "metadata": {
    "collapsed": false
   }
  },
  {
   "cell_type": "code",
   "execution_count": 27,
   "outputs": [
    {
     "data": {
      "text/plain": "       Unnamed: 0 Date of departure  Train number Relation Railway operators  \\\n0               0        2020-09-22            11      ICE         SNCB/NMBS   \n1               1        2020-09-22            11      ICE         SNCB/NMBS   \n2               2        2020-09-22            11      ICE         SNCB/NMBS   \n3               3        2020-09-22            11      ICE         SNCB/NMBS   \n4               4        2020-09-22            11      ICE         SNCB/NMBS   \n...           ...               ...           ...      ...               ...   \n38283       38283        2020-09-24            11      ICE         SNCB/NMBS   \n38286       38286        2020-09-24            11      ICE         SNCB/NMBS   \n38289       38289        2020-09-24            11      ICE         SNCB/NMBS   \n38292       38292        2020-09-24            11      ICE         SNCB/NMBS   \n38295       38295        2020-09-24            11      ICE         SNCB/NMBS   \n\n      Railway of departure Time of real arrival Time of real departure  \\\n0                      36N  2022-11-03 06:31:22    2022-11-03 06:33:27   \n1                      36N  2022-11-03 06:36:23    2022-11-03 06:36:23   \n2                      36N  2022-11-03 06:37:44    2022-11-03 06:37:44   \n3                      36N  2022-11-03 06:38:39    2022-11-03 06:38:39   \n4                      36N  2022-11-03 06:39:47    2022-11-03 06:39:47   \n...                    ...                  ...                    ...   \n38283                  36N  2022-11-03 06:37:23    2022-11-03 06:37:23   \n38286                  36N  2022-11-03 06:38:22    2022-11-03 06:38:22   \n38289                   37  2022-11-03 07:20:04    2022-11-03 07:20:04   \n38292                    3  2022-11-03 07:20:04    2022-11-03 07:20:04   \n38295                   37  2022-11-03 07:34:32    2022-11-03 07:34:32   \n\n      Time of planned arrival Time of planned departure  \\\n0         2022-11-03 06:31:00       2022-11-03 06:33:00   \n1         2022-11-03 06:36:00       2022-11-03 06:36:00   \n2         2022-11-03 06:37:00       2022-11-03 06:37:00   \n3         2022-11-03 06:38:00       2022-11-03 06:38:00   \n4         2022-11-03 06:40:00       2022-11-03 06:40:00   \n...                       ...                       ...   \n38283     2022-11-03 06:37:00       2022-11-03 06:37:00   \n38286     2022-11-03 06:38:00       2022-11-03 06:38:00   \n38289     2022-11-03 07:15:00       2022-11-03 07:15:00   \n38292     2022-11-03 07:15:00       2022-11-03 07:15:00   \n38295     2022-11-03 07:30:00       2022-11-03 07:30:00   \n\n                          Direction of relation              Name of the stop  \\\n0      ICE: BRUSSEL-ZUID -> FRANKFURT(MAIN) HBF  brussel-noord/bruxelles-nord   \n1      ICE: BRUSSEL-ZUID -> FRANKFURT(MAIN) HBF         schaarbeek/schaerbeek   \n2      ICE: BRUSSEL-ZUID -> FRANKFURT(MAIN) HBF          haren-sud/haren-zuid   \n3      ICE: BRUSSEL-ZUID -> FRANKFURT(MAIN) HBF                        diegem   \n4      ICE: BRUSSEL-ZUID -> FRANKFURT(MAIN) HBF                    kortenberg   \n...                                         ...                           ...   \n38283  ICE: BRUSSEL-ZUID -> FRANKFURT(MAIN) HBF          haren-sud/haren-zuid   \n38286  ICE: BRUSSEL-ZUID -> FRANKFURT(MAIN) HBF                        diegem   \n38289  ICE: BRUSSEL-ZUID -> FRANKFURT(MAIN) HBF                       angleur   \n38292  ICE: BRUSSEL-ZUID -> FRANKFURT(MAIN) HBF                        chênée   \n38295  ICE: BRUSSEL-ZUID -> FRANKFURT(MAIN) HBF                    hergenrath   \n\n      Railway of arrival Date of planned arrival Date of planned departure  \\\n0                    0/1              2020-09-22                2020-09-22   \n1                    36N              2020-09-22                2020-09-22   \n2                    36N              2020-09-22                2020-09-22   \n3                    36N              2020-09-22                2020-09-22   \n4                    36N              2020-09-22                2020-09-22   \n...                  ...                     ...                       ...   \n38283                36N              2020-09-24                2020-09-24   \n38286                36N              2020-09-24                2020-09-24   \n38289                 37              2020-09-24                2020-09-24   \n38292                 37              2020-09-24                2020-09-24   \n38295                 37              2020-09-24                2020-09-24   \n\n      Date of real arrival Date of real departure  Delay time  \n0               2020-09-22             2020-09-22          22  \n1               2020-09-22             2020-09-22          23  \n2               2020-09-22             2020-09-22          44  \n3               2020-09-22             2020-09-22          39  \n4               2020-09-22             2020-09-22           0  \n...                    ...                    ...         ...  \n38283           2020-09-24             2020-09-24          23  \n38286           2020-09-24             2020-09-24          22  \n38289           2020-09-24             2020-09-24         304  \n38292           2020-09-24             2020-09-24         304  \n38295           2020-09-24             2020-09-24         272  \n\n[120 rows x 18 columns]",
      "text/html": "<div>\n<style scoped>\n    .dataframe tbody tr th:only-of-type {\n        vertical-align: middle;\n    }\n\n    .dataframe tbody tr th {\n        vertical-align: top;\n    }\n\n    .dataframe thead th {\n        text-align: right;\n    }\n</style>\n<table border=\"1\" class=\"dataframe\">\n  <thead>\n    <tr style=\"text-align: right;\">\n      <th></th>\n      <th>Unnamed: 0</th>\n      <th>Date of departure</th>\n      <th>Train number</th>\n      <th>Relation</th>\n      <th>Railway operators</th>\n      <th>Railway of departure</th>\n      <th>Time of real arrival</th>\n      <th>Time of real departure</th>\n      <th>Time of planned arrival</th>\n      <th>Time of planned departure</th>\n      <th>Direction of relation</th>\n      <th>Name of the stop</th>\n      <th>Railway of arrival</th>\n      <th>Date of planned arrival</th>\n      <th>Date of planned departure</th>\n      <th>Date of real arrival</th>\n      <th>Date of real departure</th>\n      <th>Delay time</th>\n    </tr>\n  </thead>\n  <tbody>\n    <tr>\n      <th>0</th>\n      <td>0</td>\n      <td>2020-09-22</td>\n      <td>11</td>\n      <td>ICE</td>\n      <td>SNCB/NMBS</td>\n      <td>36N</td>\n      <td>2022-11-03 06:31:22</td>\n      <td>2022-11-03 06:33:27</td>\n      <td>2022-11-03 06:31:00</td>\n      <td>2022-11-03 06:33:00</td>\n      <td>ICE: BRUSSEL-ZUID -&gt; FRANKFURT(MAIN) HBF</td>\n      <td>brussel-noord/bruxelles-nord</td>\n      <td>0/1</td>\n      <td>2020-09-22</td>\n      <td>2020-09-22</td>\n      <td>2020-09-22</td>\n      <td>2020-09-22</td>\n      <td>22</td>\n    </tr>\n    <tr>\n      <th>1</th>\n      <td>1</td>\n      <td>2020-09-22</td>\n      <td>11</td>\n      <td>ICE</td>\n      <td>SNCB/NMBS</td>\n      <td>36N</td>\n      <td>2022-11-03 06:36:23</td>\n      <td>2022-11-03 06:36:23</td>\n      <td>2022-11-03 06:36:00</td>\n      <td>2022-11-03 06:36:00</td>\n      <td>ICE: BRUSSEL-ZUID -&gt; FRANKFURT(MAIN) HBF</td>\n      <td>schaarbeek/schaerbeek</td>\n      <td>36N</td>\n      <td>2020-09-22</td>\n      <td>2020-09-22</td>\n      <td>2020-09-22</td>\n      <td>2020-09-22</td>\n      <td>23</td>\n    </tr>\n    <tr>\n      <th>2</th>\n      <td>2</td>\n      <td>2020-09-22</td>\n      <td>11</td>\n      <td>ICE</td>\n      <td>SNCB/NMBS</td>\n      <td>36N</td>\n      <td>2022-11-03 06:37:44</td>\n      <td>2022-11-03 06:37:44</td>\n      <td>2022-11-03 06:37:00</td>\n      <td>2022-11-03 06:37:00</td>\n      <td>ICE: BRUSSEL-ZUID -&gt; FRANKFURT(MAIN) HBF</td>\n      <td>haren-sud/haren-zuid</td>\n      <td>36N</td>\n      <td>2020-09-22</td>\n      <td>2020-09-22</td>\n      <td>2020-09-22</td>\n      <td>2020-09-22</td>\n      <td>44</td>\n    </tr>\n    <tr>\n      <th>3</th>\n      <td>3</td>\n      <td>2020-09-22</td>\n      <td>11</td>\n      <td>ICE</td>\n      <td>SNCB/NMBS</td>\n      <td>36N</td>\n      <td>2022-11-03 06:38:39</td>\n      <td>2022-11-03 06:38:39</td>\n      <td>2022-11-03 06:38:00</td>\n      <td>2022-11-03 06:38:00</td>\n      <td>ICE: BRUSSEL-ZUID -&gt; FRANKFURT(MAIN) HBF</td>\n      <td>diegem</td>\n      <td>36N</td>\n      <td>2020-09-22</td>\n      <td>2020-09-22</td>\n      <td>2020-09-22</td>\n      <td>2020-09-22</td>\n      <td>39</td>\n    </tr>\n    <tr>\n      <th>4</th>\n      <td>4</td>\n      <td>2020-09-22</td>\n      <td>11</td>\n      <td>ICE</td>\n      <td>SNCB/NMBS</td>\n      <td>36N</td>\n      <td>2022-11-03 06:39:47</td>\n      <td>2022-11-03 06:39:47</td>\n      <td>2022-11-03 06:40:00</td>\n      <td>2022-11-03 06:40:00</td>\n      <td>ICE: BRUSSEL-ZUID -&gt; FRANKFURT(MAIN) HBF</td>\n      <td>kortenberg</td>\n      <td>36N</td>\n      <td>2020-09-22</td>\n      <td>2020-09-22</td>\n      <td>2020-09-22</td>\n      <td>2020-09-22</td>\n      <td>0</td>\n    </tr>\n    <tr>\n      <th>...</th>\n      <td>...</td>\n      <td>...</td>\n      <td>...</td>\n      <td>...</td>\n      <td>...</td>\n      <td>...</td>\n      <td>...</td>\n      <td>...</td>\n      <td>...</td>\n      <td>...</td>\n      <td>...</td>\n      <td>...</td>\n      <td>...</td>\n      <td>...</td>\n      <td>...</td>\n      <td>...</td>\n      <td>...</td>\n      <td>...</td>\n    </tr>\n    <tr>\n      <th>38283</th>\n      <td>38283</td>\n      <td>2020-09-24</td>\n      <td>11</td>\n      <td>ICE</td>\n      <td>SNCB/NMBS</td>\n      <td>36N</td>\n      <td>2022-11-03 06:37:23</td>\n      <td>2022-11-03 06:37:23</td>\n      <td>2022-11-03 06:37:00</td>\n      <td>2022-11-03 06:37:00</td>\n      <td>ICE: BRUSSEL-ZUID -&gt; FRANKFURT(MAIN) HBF</td>\n      <td>haren-sud/haren-zuid</td>\n      <td>36N</td>\n      <td>2020-09-24</td>\n      <td>2020-09-24</td>\n      <td>2020-09-24</td>\n      <td>2020-09-24</td>\n      <td>23</td>\n    </tr>\n    <tr>\n      <th>38286</th>\n      <td>38286</td>\n      <td>2020-09-24</td>\n      <td>11</td>\n      <td>ICE</td>\n      <td>SNCB/NMBS</td>\n      <td>36N</td>\n      <td>2022-11-03 06:38:22</td>\n      <td>2022-11-03 06:38:22</td>\n      <td>2022-11-03 06:38:00</td>\n      <td>2022-11-03 06:38:00</td>\n      <td>ICE: BRUSSEL-ZUID -&gt; FRANKFURT(MAIN) HBF</td>\n      <td>diegem</td>\n      <td>36N</td>\n      <td>2020-09-24</td>\n      <td>2020-09-24</td>\n      <td>2020-09-24</td>\n      <td>2020-09-24</td>\n      <td>22</td>\n    </tr>\n    <tr>\n      <th>38289</th>\n      <td>38289</td>\n      <td>2020-09-24</td>\n      <td>11</td>\n      <td>ICE</td>\n      <td>SNCB/NMBS</td>\n      <td>37</td>\n      <td>2022-11-03 07:20:04</td>\n      <td>2022-11-03 07:20:04</td>\n      <td>2022-11-03 07:15:00</td>\n      <td>2022-11-03 07:15:00</td>\n      <td>ICE: BRUSSEL-ZUID -&gt; FRANKFURT(MAIN) HBF</td>\n      <td>angleur</td>\n      <td>37</td>\n      <td>2020-09-24</td>\n      <td>2020-09-24</td>\n      <td>2020-09-24</td>\n      <td>2020-09-24</td>\n      <td>304</td>\n    </tr>\n    <tr>\n      <th>38292</th>\n      <td>38292</td>\n      <td>2020-09-24</td>\n      <td>11</td>\n      <td>ICE</td>\n      <td>SNCB/NMBS</td>\n      <td>3</td>\n      <td>2022-11-03 07:20:04</td>\n      <td>2022-11-03 07:20:04</td>\n      <td>2022-11-03 07:15:00</td>\n      <td>2022-11-03 07:15:00</td>\n      <td>ICE: BRUSSEL-ZUID -&gt; FRANKFURT(MAIN) HBF</td>\n      <td>chênée</td>\n      <td>37</td>\n      <td>2020-09-24</td>\n      <td>2020-09-24</td>\n      <td>2020-09-24</td>\n      <td>2020-09-24</td>\n      <td>304</td>\n    </tr>\n    <tr>\n      <th>38295</th>\n      <td>38295</td>\n      <td>2020-09-24</td>\n      <td>11</td>\n      <td>ICE</td>\n      <td>SNCB/NMBS</td>\n      <td>37</td>\n      <td>2022-11-03 07:34:32</td>\n      <td>2022-11-03 07:34:32</td>\n      <td>2022-11-03 07:30:00</td>\n      <td>2022-11-03 07:30:00</td>\n      <td>ICE: BRUSSEL-ZUID -&gt; FRANKFURT(MAIN) HBF</td>\n      <td>hergenrath</td>\n      <td>37</td>\n      <td>2020-09-24</td>\n      <td>2020-09-24</td>\n      <td>2020-09-24</td>\n      <td>2020-09-24</td>\n      <td>272</td>\n    </tr>\n  </tbody>\n</table>\n<p>120 rows × 18 columns</p>\n</div>"
     },
     "execution_count": 27,
     "metadata": {},
     "output_type": "execute_result"
    }
   ],
   "source": [
    "trips[trips[\"Train number\"] == 11]"
   ],
   "metadata": {
    "collapsed": false
   }
  },
  {
   "cell_type": "code",
   "execution_count": 39,
   "outputs": [
    {
     "data": {
      "text/plain": "  Railway operators  Delay time\n0        EUROSTARFR       249.0\n1         SNCB/NMBS       131.0\n2          THI-FACT       347.0",
      "text/html": "<div>\n<style scoped>\n    .dataframe tbody tr th:only-of-type {\n        vertical-align: middle;\n    }\n\n    .dataframe tbody tr th {\n        vertical-align: top;\n    }\n\n    .dataframe thead th {\n        text-align: right;\n    }\n</style>\n<table border=\"1\" class=\"dataframe\">\n  <thead>\n    <tr style=\"text-align: right;\">\n      <th></th>\n      <th>Railway operators</th>\n      <th>Delay time</th>\n    </tr>\n  </thead>\n  <tbody>\n    <tr>\n      <th>0</th>\n      <td>EUROSTARFR</td>\n      <td>249.0</td>\n    </tr>\n    <tr>\n      <th>1</th>\n      <td>SNCB/NMBS</td>\n      <td>131.0</td>\n    </tr>\n    <tr>\n      <th>2</th>\n      <td>THI-FACT</td>\n      <td>347.0</td>\n    </tr>\n  </tbody>\n</table>\n</div>"
     },
     "execution_count": 39,
     "metadata": {},
     "output_type": "execute_result"
    }
   ],
   "source": [
    "trips.groupby(\"Railway operators\")[\"Delay time\"].mean().reset_index().round()"
   ],
   "metadata": {
    "collapsed": false
   }
  },
  {
   "cell_type": "code",
   "execution_count": 55,
   "outputs": [
    {
     "data": {
      "text/plain": "       Unnamed: 0 Date of departure  Train number Relation Railway operators  \\\n36890       36890        2020-09-24            10      ICE         SNCB/NMBS   \n38277       38277        2020-09-24            11      ICE         SNCB/NMBS   \n36968       36968        2020-09-24            12      ICE         SNCB/NMBS   \n38439       38439        2020-09-24            13      ICE         SNCB/NMBS   \n40520       40520        2020-09-24            14      ICE         SNCB/NMBS   \n\n      Railway of departure Time of real arrival Time of real departure  \\\n36890                  NaN  2022-11-03 21:44:12                    NaT   \n38277                  0/1                  NaT    2022-11-03 06:25:08   \n36968                  NaN  2022-11-03 19:36:09                    NaT   \n38439                  0/1                  NaT    2022-11-03 08:22:45   \n40520                  NaN  2022-11-03 17:47:00                    NaT   \n\n      Time of planned arrival Time of planned departure  \\\n36890     2022-11-03 21:35:00                       NaT   \n38277                     NaT       2022-11-03 06:25:00   \n36968     2022-11-03 19:35:00                       NaT   \n38439                     NaT       2022-11-03 08:23:00   \n40520     2022-11-03 17:35:00                       NaT   \n\n                          Direction of relation             Name of the stop  \\\n36890  ICE: FRANKFURT(MAIN) HBF -> BRUSSEL-ZUID  brussel-zuid/bruxelles-midi   \n38277  ICE: BRUSSEL-ZUID -> FRANKFURT(MAIN) HBF  brussel-zuid/bruxelles-midi   \n36968  ICE: FRANKFURT(MAIN) HBF -> BRUSSEL-ZUID  brussel-zuid/bruxelles-midi   \n38439  ICE: BRUSSEL-ZUID -> FRANKFURT(MAIN) HBF  brussel-zuid/bruxelles-midi   \n40520  ICE: FRANKFURT(MAIN) HBF -> BRUSSEL-ZUID  brussel-zuid/bruxelles-midi   \n\n      Railway of arrival Date of planned arrival Date of planned departure  \\\n36890                0/2              2020-09-24                       NaT   \n38277                NaN                     NaT                2020-09-24   \n36968                0/2              2020-09-24                       NaT   \n38439                NaN                     NaT                2020-09-24   \n40520                0/2              2020-09-24                       NaT   \n\n      Date of real arrival Date of real departure  Delay time  \n36890           2020-09-24                    NaT         552  \n38277                  NaT             2020-09-24           0  \n36968           2020-09-24                    NaT          69  \n38439                  NaT             2020-09-24           0  \n40520           2020-09-24                    NaT         720  ",
      "text/html": "<div>\n<style scoped>\n    .dataframe tbody tr th:only-of-type {\n        vertical-align: middle;\n    }\n\n    .dataframe tbody tr th {\n        vertical-align: top;\n    }\n\n    .dataframe thead th {\n        text-align: right;\n    }\n</style>\n<table border=\"1\" class=\"dataframe\">\n  <thead>\n    <tr style=\"text-align: right;\">\n      <th></th>\n      <th>Unnamed: 0</th>\n      <th>Date of departure</th>\n      <th>Train number</th>\n      <th>Relation</th>\n      <th>Railway operators</th>\n      <th>Railway of departure</th>\n      <th>Time of real arrival</th>\n      <th>Time of real departure</th>\n      <th>Time of planned arrival</th>\n      <th>Time of planned departure</th>\n      <th>Direction of relation</th>\n      <th>Name of the stop</th>\n      <th>Railway of arrival</th>\n      <th>Date of planned arrival</th>\n      <th>Date of planned departure</th>\n      <th>Date of real arrival</th>\n      <th>Date of real departure</th>\n      <th>Delay time</th>\n    </tr>\n  </thead>\n  <tbody>\n    <tr>\n      <th>36890</th>\n      <td>36890</td>\n      <td>2020-09-24</td>\n      <td>10</td>\n      <td>ICE</td>\n      <td>SNCB/NMBS</td>\n      <td>NaN</td>\n      <td>2022-11-03 21:44:12</td>\n      <td>NaT</td>\n      <td>2022-11-03 21:35:00</td>\n      <td>NaT</td>\n      <td>ICE: FRANKFURT(MAIN) HBF -&gt; BRUSSEL-ZUID</td>\n      <td>brussel-zuid/bruxelles-midi</td>\n      <td>0/2</td>\n      <td>2020-09-24</td>\n      <td>NaT</td>\n      <td>2020-09-24</td>\n      <td>NaT</td>\n      <td>552</td>\n    </tr>\n    <tr>\n      <th>38277</th>\n      <td>38277</td>\n      <td>2020-09-24</td>\n      <td>11</td>\n      <td>ICE</td>\n      <td>SNCB/NMBS</td>\n      <td>0/1</td>\n      <td>NaT</td>\n      <td>2022-11-03 06:25:08</td>\n      <td>NaT</td>\n      <td>2022-11-03 06:25:00</td>\n      <td>ICE: BRUSSEL-ZUID -&gt; FRANKFURT(MAIN) HBF</td>\n      <td>brussel-zuid/bruxelles-midi</td>\n      <td>NaN</td>\n      <td>NaT</td>\n      <td>2020-09-24</td>\n      <td>NaT</td>\n      <td>2020-09-24</td>\n      <td>0</td>\n    </tr>\n    <tr>\n      <th>36968</th>\n      <td>36968</td>\n      <td>2020-09-24</td>\n      <td>12</td>\n      <td>ICE</td>\n      <td>SNCB/NMBS</td>\n      <td>NaN</td>\n      <td>2022-11-03 19:36:09</td>\n      <td>NaT</td>\n      <td>2022-11-03 19:35:00</td>\n      <td>NaT</td>\n      <td>ICE: FRANKFURT(MAIN) HBF -&gt; BRUSSEL-ZUID</td>\n      <td>brussel-zuid/bruxelles-midi</td>\n      <td>0/2</td>\n      <td>2020-09-24</td>\n      <td>NaT</td>\n      <td>2020-09-24</td>\n      <td>NaT</td>\n      <td>69</td>\n    </tr>\n    <tr>\n      <th>38439</th>\n      <td>38439</td>\n      <td>2020-09-24</td>\n      <td>13</td>\n      <td>ICE</td>\n      <td>SNCB/NMBS</td>\n      <td>0/1</td>\n      <td>NaT</td>\n      <td>2022-11-03 08:22:45</td>\n      <td>NaT</td>\n      <td>2022-11-03 08:23:00</td>\n      <td>ICE: BRUSSEL-ZUID -&gt; FRANKFURT(MAIN) HBF</td>\n      <td>brussel-zuid/bruxelles-midi</td>\n      <td>NaN</td>\n      <td>NaT</td>\n      <td>2020-09-24</td>\n      <td>NaT</td>\n      <td>2020-09-24</td>\n      <td>0</td>\n    </tr>\n    <tr>\n      <th>40520</th>\n      <td>40520</td>\n      <td>2020-09-24</td>\n      <td>14</td>\n      <td>ICE</td>\n      <td>SNCB/NMBS</td>\n      <td>NaN</td>\n      <td>2022-11-03 17:47:00</td>\n      <td>NaT</td>\n      <td>2022-11-03 17:35:00</td>\n      <td>NaT</td>\n      <td>ICE: FRANKFURT(MAIN) HBF -&gt; BRUSSEL-ZUID</td>\n      <td>brussel-zuid/bruxelles-midi</td>\n      <td>0/2</td>\n      <td>2020-09-24</td>\n      <td>NaT</td>\n      <td>2020-09-24</td>\n      <td>NaT</td>\n      <td>720</td>\n    </tr>\n  </tbody>\n</table>\n</div>"
     },
     "execution_count": 55,
     "metadata": {},
     "output_type": "execute_result"
    }
   ],
   "source": [
    "\n"
   ],
   "metadata": {
    "collapsed": false
   }
  },
  {
   "cell_type": "code",
   "execution_count": 78,
   "outputs": [
    {
     "name": "stderr",
     "output_type": "stream",
     "text": [
      "/var/folders/v2/875x9vcs3ylbf36njx44yk5r0000gn/T/ipykernel_50329/1258043647.py:2: SettingWithCopyWarning: \n",
      "A value is trying to be set on a copy of a slice from a DataFrame\n",
      "\n",
      "See the caveats in the documentation: https://pandas.pydata.org/pandas-docs/stable/user_guide/indexing.html#returning-a-view-versus-a-copy\n",
      "  df.dropna(subset = ['Time of planned arrival'], inplace = True) #lege values laten vallen, want je kan hier geen delay van berekenen\n"
     ]
    }
   ],
   "source": [
    "df = trips[['Train number', 'Railway operators', 'Time of real arrival','Time of planned arrival', 'Name of the stop']]    #filteren op kolommen dat je nodig hebt\n",
    "df.dropna(subset = ['Time of planned arrival'], inplace = True) #lege values laten vallen, want je kan hier geen delay van berekenen"
   ],
   "metadata": {
    "collapsed": false
   }
  },
  {
   "cell_type": "code",
   "execution_count": 79,
   "outputs": [
    {
     "data": {
      "text/plain": "       Train number Railway operators Time of real arrival  \\\n36890            10         SNCB/NMBS  2022-11-03 21:44:12   \n38295            11         SNCB/NMBS  2022-11-03 07:34:32   \n36968            12         SNCB/NMBS  2022-11-03 19:36:09   \n36983            13         SNCB/NMBS  2022-11-03 09:31:57   \n40520            14         SNCB/NMBS  2022-11-03 17:47:00   \n\n      Time of planned arrival             Name of the stop  \n36890     2022-11-03 21:35:00  brussel-zuid/bruxelles-midi  \n38295     2022-11-03 07:30:00                   hergenrath  \n36968     2022-11-03 19:35:00  brussel-zuid/bruxelles-midi  \n36983     2022-11-03 09:30:00                   hergenrath  \n40520     2022-11-03 17:35:00  brussel-zuid/bruxelles-midi  ",
      "text/html": "<div>\n<style scoped>\n    .dataframe tbody tr th:only-of-type {\n        vertical-align: middle;\n    }\n\n    .dataframe tbody tr th {\n        vertical-align: top;\n    }\n\n    .dataframe thead th {\n        text-align: right;\n    }\n</style>\n<table border=\"1\" class=\"dataframe\">\n  <thead>\n    <tr style=\"text-align: right;\">\n      <th></th>\n      <th>Train number</th>\n      <th>Railway operators</th>\n      <th>Time of real arrival</th>\n      <th>Time of planned arrival</th>\n      <th>Name of the stop</th>\n    </tr>\n  </thead>\n  <tbody>\n    <tr>\n      <th>36890</th>\n      <td>10</td>\n      <td>SNCB/NMBS</td>\n      <td>2022-11-03 21:44:12</td>\n      <td>2022-11-03 21:35:00</td>\n      <td>brussel-zuid/bruxelles-midi</td>\n    </tr>\n    <tr>\n      <th>38295</th>\n      <td>11</td>\n      <td>SNCB/NMBS</td>\n      <td>2022-11-03 07:34:32</td>\n      <td>2022-11-03 07:30:00</td>\n      <td>hergenrath</td>\n    </tr>\n    <tr>\n      <th>36968</th>\n      <td>12</td>\n      <td>SNCB/NMBS</td>\n      <td>2022-11-03 19:36:09</td>\n      <td>2022-11-03 19:35:00</td>\n      <td>brussel-zuid/bruxelles-midi</td>\n    </tr>\n    <tr>\n      <th>36983</th>\n      <td>13</td>\n      <td>SNCB/NMBS</td>\n      <td>2022-11-03 09:31:57</td>\n      <td>2022-11-03 09:30:00</td>\n      <td>hergenrath</td>\n    </tr>\n    <tr>\n      <th>40520</th>\n      <td>14</td>\n      <td>SNCB/NMBS</td>\n      <td>2022-11-03 17:47:00</td>\n      <td>2022-11-03 17:35:00</td>\n      <td>brussel-zuid/bruxelles-midi</td>\n    </tr>\n  </tbody>\n</table>\n</div>"
     },
     "execution_count": 79,
     "metadata": {},
     "output_type": "execute_result"
    }
   ],
   "source": [
    "difference = df.sort_values(by=['Train number', 'Time of planned arrival'], ascending = True).groupby('Train number').tail(1)\n",
    "difference.head(5)"
   ],
   "metadata": {
    "collapsed": false
   }
  },
  {
   "cell_type": "code",
   "execution_count": 80,
   "outputs": [],
   "source": [
    "difference['Time of real arrival'] = pd.to_datetime(difference['Time of real arrival'], format='%H:%M:%S')      #je format je real arrival into datetime\n",
    "difference['Time of planned arrival'] = pd.to_datetime(difference['Time of planned arrival'], format='%H:%M:%S')      #je format je planned arrival into datetime\n",
    "difference['Delta'] = difference.apply(lambda x: (x['Time of real arrival']-x['Time of planned arrival']).total_seconds(), axis = 1)    #average delay time in seconds"
   ],
   "metadata": {
    "collapsed": false
   }
  },
  {
   "cell_type": "code",
   "execution_count": 81,
   "outputs": [
    {
     "data": {
      "text/plain": "36890    552.0\n38295    272.0\n36968     69.0\n36983    117.0\n40520    720.0\nName: Delta, dtype: float64"
     },
     "execution_count": 81,
     "metadata": {},
     "output_type": "execute_result"
    }
   ],
   "source": [
    "difference['Delta'].head()"
   ],
   "metadata": {
    "collapsed": false
   }
  },
  {
   "cell_type": "code",
   "execution_count": 82,
   "outputs": [],
   "source": [
    "difference.loc[difference['Delta'] < 0, \"Delta\"]=0"
   ],
   "metadata": {
    "collapsed": false
   }
  },
  {
   "cell_type": "code",
   "execution_count": 83,
   "outputs": [],
   "source": [
    "differencePerOp = difference.groupby('Railway operators')['Delta'].mean().reset_index(name = 'mean').round(0)\n",
    "#pak mean van average delay time & reset_index maakt nieuwe kolom aan voor mean"
   ],
   "metadata": {
    "collapsed": false
   }
  },
  {
   "cell_type": "code",
   "execution_count": 84,
   "outputs": [
    {
     "data": {
      "text/plain": "  Railway operators   mean\n0        EUROSTARFR  160.0\n1         SNCB/NMBS  123.0\n2          THI-FACT  288.0",
      "text/html": "<div>\n<style scoped>\n    .dataframe tbody tr th:only-of-type {\n        vertical-align: middle;\n    }\n\n    .dataframe tbody tr th {\n        vertical-align: top;\n    }\n\n    .dataframe thead th {\n        text-align: right;\n    }\n</style>\n<table border=\"1\" class=\"dataframe\">\n  <thead>\n    <tr style=\"text-align: right;\">\n      <th></th>\n      <th>Railway operators</th>\n      <th>mean</th>\n    </tr>\n  </thead>\n  <tbody>\n    <tr>\n      <th>0</th>\n      <td>EUROSTARFR</td>\n      <td>160.0</td>\n    </tr>\n    <tr>\n      <th>1</th>\n      <td>SNCB/NMBS</td>\n      <td>123.0</td>\n    </tr>\n    <tr>\n      <th>2</th>\n      <td>THI-FACT</td>\n      <td>288.0</td>\n    </tr>\n  </tbody>\n</table>\n</div>"
     },
     "execution_count": 84,
     "metadata": {},
     "output_type": "execute_result"
    }
   ],
   "source": [
    "\n",
    "differencePerOp.head()"
   ],
   "metadata": {
    "collapsed": false
   }
  },
  {
   "cell_type": "code",
   "execution_count": null,
   "outputs": [],
   "source": [],
   "metadata": {
    "collapsed": false,
    "pycharm": {
     "is_executing": true
    }
   }
  },
  {
   "cell_type": "code",
   "execution_count": null,
   "outputs": [],
   "source": [],
   "metadata": {
    "collapsed": false,
    "pycharm": {
     "is_executing": true
    }
   }
  },
  {
   "cell_type": "code",
   "execution_count": null,
   "outputs": [],
   "source": [],
   "metadata": {
    "collapsed": false,
    "pycharm": {
     "is_executing": true
    }
   }
  },
  {
   "cell_type": "code",
   "execution_count": null,
   "outputs": [],
   "source": [],
   "metadata": {
    "collapsed": false,
    "pycharm": {
     "is_executing": true
    }
   }
  },
  {
   "cell_type": "code",
   "execution_count": 73,
   "outputs": [],
   "source": [],
   "metadata": {
    "collapsed": false
   }
  }
 ],
 "metadata": {
  "kernelspec": {
   "display_name": "Python 3",
   "language": "python",
   "name": "python3"
  },
  "language_info": {
   "codemirror_mode": {
    "name": "ipython",
    "version": 2
   },
   "file_extension": ".py",
   "mimetype": "text/x-python",
   "name": "python",
   "nbconvert_exporter": "python",
   "pygments_lexer": "ipython2",
   "version": "2.7.6"
  }
 },
 "nbformat": 4,
 "nbformat_minor": 0
}
