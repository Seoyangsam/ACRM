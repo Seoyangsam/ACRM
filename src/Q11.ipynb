{
 "cells": [
  {
   "cell_type": "markdown",
   "source": [
    "# Plot how the number of stations differs across Belgian provinces using a color-coded heat map. Do the same while adjusting for the number of inhabitants."
   ],
   "metadata": {
    "collapsed": false
   }
  },
  {
   "cell_type": "code",
   "execution_count": null,
   "metadata": {
    "collapsed": true
   },
   "outputs": [],
   "source": [
    "import src.data_processing.data as data\n",
    "import pandas as pd\n",
    "import matplotlib.pyplot as plt\n",
    "from shapely.geometry import Point"
   ]
  },
  {
   "cell_type": "code",
   "execution_count": null,
   "outputs": [],
   "source": [
    "provinces = data.provinces\n",
    "stations = data.stations\n",
    "inhabitants = data.inhabitants_per_province\n",
    "provinces.plot()"
   ],
   "metadata": {
    "collapsed": false
   }
  },
  {
   "cell_type": "markdown",
   "source": [
    "Get the number of stations per province THIS TOOK ME SO LONG TO MAKE"
   ],
   "metadata": {
    "collapsed": false
   }
  },
  {
   "cell_type": "code",
   "execution_count": null,
   "outputs": [],
   "source": [
    "\n",
    "provinces_count = df = pd.DataFrame(columns=['province', 'station'])\n",
    "for index, row in stations.iterrows():\n",
    "        for index2, row2 in provinces.iterrows():\n",
    "                if row2['geometry'].contains(Point(row['longitude'], row['latitude'])):\n",
    "                    provinces_count = pd.concat([provinces_count, pd.DataFrame([[row['name'], row2['NE_Name']]], columns=['station', 'province'])])\n",
    "                    # provinces_count = provinces_count.append({'station': row['name'], 'province': row2['NE_Name']}, ignore_index=True)\n",
    "                     # print(row['name'] + ' is located in ' + row2['NE_Name'])\n",
    "province_count = pd.DataFrame(provinces_count[\"province\"].value_counts())\n",
    "provinces_count['count'] = provinces_count.groupby('province')['province'].transform('count')\n",
    "del provinces_count['station']\n",
    "provinces_count = provinces_count.drop_duplicates()\n",
    "provinces_count = provinces_count.rename(index=str, columns={'province': 'NE_Name'})\n",
    "provinces_count\n",
    "\n"
   ],
   "metadata": {
    "collapsed": false
   }
  },
  {
   "cell_type": "code",
   "execution_count": null,
   "outputs": [],
   "source": [
    "provinces_count[\"count\"] = provinces_count[\"count\"].astype(float)\n",
    "provinces = provinces.merge(provinces_count, on='NE_Name')\n",
    "provinces"
   ],
   "metadata": {
    "collapsed": false
   }
  },
  {
   "cell_type": "markdown",
   "source": [
    "Heatmap of provinces with weight number of stations"
   ],
   "metadata": {
    "collapsed": false
   }
  },
  {
   "cell_type": "code",
   "execution_count": null,
   "outputs": [],
   "source": [
    "fig, ax = plt.subplots(1, figsize=(10, 6))\n",
    "provinces.plot(column='count', cmap='BuGn', linewidth=0.8, ax=ax)"
   ],
   "metadata": {
    "collapsed": false
   }
  },
  {
   "cell_type": "code",
   "execution_count": null,
   "outputs": [],
   "source": [
    "inhabitants = inhabitants.rename(index = str, columns = {\"Province\" : \"NE_Name\"})\n",
    "inhabitants['Inhabitants']= inhabitants['Inhabitants'].astype(float)\n",
    "provinces = provinces.merge(inhabitants, on = \"NE_Name\")\n",
    "provinces\n"
   ],
   "metadata": {
    "collapsed": false
   }
  },
  {
   "cell_type": "markdown",
   "source": [
    "Heatmap of provinces with weight Inhabitants"
   ],
   "metadata": {
    "collapsed": false
   }
  },
  {
   "cell_type": "code",
   "execution_count": null,
   "outputs": [],
   "source": [
    "fig, ax = plt.subplots(1, figsize=(10, 6))\n",
    "provinces.plot(column='Inhabitants', cmap='BuGn', linewidth=0.8, ax=ax)"
   ],
   "metadata": {
    "collapsed": false
   }
  },
  {
   "cell_type": "code",
   "execution_count": null,
   "outputs": [],
   "source": [
    "provinces[\"stations_adjusted\"] = provinces[\"count\"] / provinces[\"Inhabitants\"]\n",
    "provinces"
   ],
   "metadata": {
    "collapsed": false
   }
  },
  {
   "cell_type": "markdown",
   "source": [
    "Heatmap of provinces with weight number of stations divided by the number of inhabitants"
   ],
   "metadata": {
    "collapsed": false
   }
  },
  {
   "cell_type": "code",
   "execution_count": null,
   "outputs": [],
   "source": [
    "fig, ax = plt.subplots(1, figsize=(10, 6))\n",
    "provinces.plot(column='stations_adjusted', cmap='BuGn', linewidth=0.8, ax=ax)"
   ],
   "metadata": {
    "collapsed": false
   }
  },
  {
   "cell_type": "markdown",
   "source": [
    "Plot the stations on the map"
   ],
   "metadata": {
    "collapsed": false
   }
  },
  {
   "cell_type": "code",
   "execution_count": null,
   "outputs": [],
   "source": [
    "dict = {'Name': stations[\"name\"], 'lat': stations[\"latitude\"], 'lon': stations[\"longitude\"]}\n",
    "stations_df = pd.DataFrame(dict, columns = ['Name', 'lat', 'lon'])\n",
    "stations_df"
   ],
   "metadata": {
    "collapsed": false
   }
  },
  {
   "cell_type": "code",
   "execution_count": null,
   "outputs": [],
   "source": [
    "dict = {'Name': stations[\"name\"], 'lat': stations[\"latitude\"], 'lon': stations[\"longitude\"]}\n",
    "# create data frame\n",
    "stations_df = pd.DataFrame(dict, columns = ['Name', 'lat', 'lon'])\n",
    "ax = stations_df.plot('lon', 'lat', 'scatter',  color='red', zorder =10)\n",
    "provinces.plot(column='stations_adjusted', cmap='BuGn', linewidth=0.8, ax=ax)\n",
    "\n"
   ],
   "metadata": {
    "collapsed": false
   }
  },
  {
   "cell_type": "code",
   "execution_count": null,
   "outputs": [],
   "source": [
    "type(provinces)"
   ],
   "metadata": {
    "collapsed": false
   }
  },
  {
   "cell_type": "code",
   "execution_count": null,
   "outputs": [],
   "source": [],
   "metadata": {
    "collapsed": false
   }
  },
  {
   "cell_type": "code",
   "execution_count": null,
   "outputs": [],
   "source": [],
   "metadata": {
    "collapsed": false
   }
  },
  {
   "cell_type": "code",
   "execution_count": null,
   "outputs": [],
   "source": [],
   "metadata": {
    "collapsed": false
   }
  },
  {
   "cell_type": "code",
   "execution_count": null,
   "outputs": [],
   "source": [],
   "metadata": {
    "collapsed": false
   }
  }
 ],
 "metadata": {
  "kernelspec": {
   "display_name": "Python 3",
   "language": "python",
   "name": "python3"
  },
  "language_info": {
   "codemirror_mode": {
    "name": "ipython",
    "version": 2
   },
   "file_extension": ".py",
   "mimetype": "text/x-python",
   "name": "python",
   "nbconvert_exporter": "python",
   "pygments_lexer": "ipython2",
   "version": "2.7.6"
  }
 },
 "nbformat": 4,
 "nbformat_minor": 0
}
