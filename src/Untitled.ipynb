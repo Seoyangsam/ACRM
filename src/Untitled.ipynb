{
 "cells": [
  {
   "cell_type": "code",
   "execution_count": 1,
   "id": "a43626cf",
   "metadata": {},
   "outputs": [
    {
     "name": "stdout",
     "output_type": "stream",
     "text": [
      "Dot Product of scalar values :  20\n",
      "Dot Product :  (-7+22j)\n"
     ]
    }
   ],
   "source": [
    "# Python Program illustrating\n",
    "# numpy.dot() method\n",
    "\n",
    "import numpy as geek\n",
    "\n",
    "# Scalars\n",
    "product = geek.dot(5, 4)\n",
    "print(\"Dot Product of scalar values : \", product)\n",
    "\n",
    "# 1D array\n",
    "vector_a = 2 + 3j\n",
    "vector_b = 4 + 5j\n",
    "\n",
    "product = geek.dot(vector_a, vector_b)\n",
    "print(\"Dot Product : \", product)\n"
   ]
  },
  {
   "cell_type": "code",
   "execution_count": 10,
   "id": "c227f8aa",
   "metadata": {},
   "outputs": [
    {
     "data": {
      "text/plain": [
       "[2, 4, 6]"
      ]
     },
     "execution_count": 10,
     "metadata": {},
     "output_type": "execute_result"
    }
   ],
   "source": [
    "[x*2 for x in range(1,4)]"
   ]
  },
  {
   "cell_type": "code",
   "execution_count": 6,
   "id": "cc1a18a8",
   "metadata": {},
   "outputs": [
    {
     "data": {
      "text/plain": [
       "[1, 2, 3, 1, 2, 3, 1, 2, 3]"
      ]
     },
     "execution_count": 6,
     "metadata": {},
     "output_type": "execute_result"
    }
   ],
   "source": [
    "[1,2,3]*3"
   ]
  }
 ],
 "metadata": {
  "kernelspec": {
   "display_name": "Python 3 (ipykernel)",
   "language": "python",
   "name": "python3"
  },
  "language_info": {
   "codemirror_mode": {
    "name": "ipython",
    "version": 3
   },
   "file_extension": ".py",
   "mimetype": "text/x-python",
   "name": "python",
   "nbconvert_exporter": "python",
   "pygments_lexer": "ipython3",
   "version": "3.8.10"
  }
 },
 "nbformat": 4,
 "nbformat_minor": 5
}
