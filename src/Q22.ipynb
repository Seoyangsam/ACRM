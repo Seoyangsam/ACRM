{
 "cells": [
  {
   "cell_type": "markdown",
   "id": "5cac4840",
   "metadata": {},
   "source": [
    "# 22. Cluster stations based on week-weekend distribution of travelers (hint: consider rescaling).Do you observe similar clusters to the ones observed with regard to facilities-based clustering?"
   ]
  },
  {
   "cell_type": "code",
   "execution_count": 1,
   "id": "b48bb732",
   "metadata": {},
   "outputs": [
    {
     "name": "stdout",
     "output_type": "stream",
     "text": [
      "/home/seoyangsam/PycharmProjects/group7-group-assignment-\n"
     ]
    }
   ],
   "source": [
    "%cd ..\n"
   ]
  },
  {
   "cell_type": "code",
   "execution_count": 4,
   "id": "1b3ce98c",
   "metadata": {},
   "outputs": [
    {
     "ename": "KeyboardInterrupt",
     "evalue": "",
     "output_type": "error",
     "traceback": [
      "\u001b[0;31m---------------------------------------------------------------------------\u001b[0m",
      "\u001b[0;31mKeyboardInterrupt\u001b[0m                         Traceback (most recent call last)",
      "Cell \u001b[0;32mIn [4], line 1\u001b[0m\n\u001b[0;32m----> 1\u001b[0m \u001b[38;5;28;01mfrom\u001b[39;00m \u001b[38;5;21;01mdata_processing\u001b[39;00m \u001b[38;5;28;01mimport\u001b[39;00m data\n\u001b[1;32m      2\u001b[0m \u001b[38;5;28;01mimport\u001b[39;00m \u001b[38;5;21;01mutils\u001b[39;00m \u001b[38;5;28;01mas\u001b[39;00m \u001b[38;5;21;01mutils\u001b[39;00m\n\u001b[1;32m      3\u001b[0m \u001b[38;5;28;01mimport\u001b[39;00m \u001b[38;5;21;01mnumpy\u001b[39;00m \u001b[38;5;28;01mas\u001b[39;00m \u001b[38;5;21;01mnp\u001b[39;00m\n",
      "File \u001b[0;32m~/PycharmProjects/group7-group-assignment-/src/data_processing/data.py:172\u001b[0m\n\u001b[1;32m    169\u001b[0m full_trips[\u001b[38;5;124m'\u001b[39m\u001b[38;5;124mDate of real departure\u001b[39m\u001b[38;5;124m'\u001b[39m] \u001b[38;5;241m=\u001b[39m pd\u001b[38;5;241m.\u001b[39mto_datetime(full_trips[\u001b[38;5;124m'\u001b[39m\u001b[38;5;124mDate of real departure\u001b[39m\u001b[38;5;124m'\u001b[39m])\n\u001b[1;32m    170\u001b[0m full_trips[\u001b[38;5;124m'\u001b[39m\u001b[38;5;124mDate of planned departure\u001b[39m\u001b[38;5;124m'\u001b[39m] \u001b[38;5;241m=\u001b[39m pd\u001b[38;5;241m.\u001b[39mto_datetime(full_trips[\u001b[38;5;124m'\u001b[39m\u001b[38;5;124mDate of planned departure\u001b[39m\u001b[38;5;124m'\u001b[39m])\n\u001b[0;32m--> 172\u001b[0m full_trips[\u001b[38;5;124m'\u001b[39m\u001b[38;5;124mTime of real arrival\u001b[39m\u001b[38;5;124m'\u001b[39m] \u001b[38;5;241m=\u001b[39m \u001b[43mfull_trips\u001b[49m\u001b[38;5;241;43m.\u001b[39;49m\u001b[43mapply\u001b[49m\u001b[43m(\u001b[49m\u001b[38;5;28;43;01mlambda\u001b[39;49;00m\u001b[43m \u001b[49m\u001b[43mx\u001b[49m\u001b[43m:\u001b[49m\u001b[43m \u001b[49m\u001b[43mx\u001b[49m\u001b[43m[\u001b[49m\u001b[38;5;124;43m'\u001b[39;49m\u001b[38;5;124;43mDate of real arrival\u001b[39;49m\u001b[38;5;124;43m'\u001b[39;49m\u001b[43m]\u001b[49m\u001b[38;5;241;43m.\u001b[39;49m\u001b[43mreplace\u001b[49m\u001b[43m(\u001b[49m\u001b[43mhour\u001b[49m\u001b[38;5;241;43m=\u001b[39;49m\u001b[43mx\u001b[49m\u001b[43m[\u001b[49m\u001b[38;5;124;43m'\u001b[39;49m\u001b[38;5;124;43mTime of real arrival\u001b[39;49m\u001b[38;5;124;43m'\u001b[39;49m\u001b[43m]\u001b[49m\u001b[38;5;241;43m.\u001b[39;49m\u001b[43mhour\u001b[49m\u001b[43m,\u001b[49m\u001b[43m \u001b[49m\u001b[43mminute\u001b[49m\u001b[38;5;241;43m=\u001b[39;49m\u001b[43mx\u001b[49m\u001b[43m[\u001b[49m\u001b[38;5;124;43m'\u001b[39;49m\u001b[38;5;124;43mTime of real arrival\u001b[39;49m\u001b[38;5;124;43m'\u001b[39;49m\u001b[43m]\u001b[49m\u001b[38;5;241;43m.\u001b[39;49m\u001b[43mminute\u001b[49m\u001b[43m,\u001b[49m\u001b[43m \u001b[49m\u001b[43msecond\u001b[49m\u001b[38;5;241;43m=\u001b[39;49m\u001b[43mx\u001b[49m\u001b[43m[\u001b[49m\u001b[38;5;124;43m'\u001b[39;49m\u001b[38;5;124;43mTime of real arrival\u001b[39;49m\u001b[38;5;124;43m'\u001b[39;49m\u001b[43m]\u001b[49m\u001b[38;5;241;43m.\u001b[39;49m\u001b[43msecond\u001b[49m\u001b[43m)\u001b[49m\u001b[43m,\u001b[49m\u001b[43m \u001b[49m\u001b[43maxis\u001b[49m\u001b[38;5;241;43m=\u001b[39;49m\u001b[38;5;241;43m1\u001b[39;49m\u001b[43m)\u001b[49m\n\u001b[1;32m    173\u001b[0m full_trips[\u001b[38;5;124m'\u001b[39m\u001b[38;5;124mTime of planned arrival\u001b[39m\u001b[38;5;124m'\u001b[39m] \u001b[38;5;241m=\u001b[39m full_trips\u001b[38;5;241m.\u001b[39mapply(\u001b[38;5;28;01mlambda\u001b[39;00m x: x[\u001b[38;5;124m'\u001b[39m\u001b[38;5;124mDate of planned arrival\u001b[39m\u001b[38;5;124m'\u001b[39m]\u001b[38;5;241m.\u001b[39mreplace(hour\u001b[38;5;241m=\u001b[39mx[\u001b[38;5;124m'\u001b[39m\u001b[38;5;124mTime of planned arrival\u001b[39m\u001b[38;5;124m'\u001b[39m]\u001b[38;5;241m.\u001b[39mhour, minute\u001b[38;5;241m=\u001b[39mx[\u001b[38;5;124m'\u001b[39m\u001b[38;5;124mTime of planned arrival\u001b[39m\u001b[38;5;124m'\u001b[39m]\u001b[38;5;241m.\u001b[39mminute, second\u001b[38;5;241m=\u001b[39mx[\u001b[38;5;124m'\u001b[39m\u001b[38;5;124mTime of planned arrival\u001b[39m\u001b[38;5;124m'\u001b[39m]\u001b[38;5;241m.\u001b[39msecond), axis\u001b[38;5;241m=\u001b[39m\u001b[38;5;241m1\u001b[39m)\n\u001b[1;32m    174\u001b[0m full_trips[\u001b[38;5;124m'\u001b[39m\u001b[38;5;124mTime of real departure\u001b[39m\u001b[38;5;124m'\u001b[39m] \u001b[38;5;241m=\u001b[39m full_trips\u001b[38;5;241m.\u001b[39mapply(\u001b[38;5;28;01mlambda\u001b[39;00m x: x[\u001b[38;5;124m'\u001b[39m\u001b[38;5;124mDate of real departure\u001b[39m\u001b[38;5;124m'\u001b[39m]\u001b[38;5;241m.\u001b[39mreplace(hour\u001b[38;5;241m=\u001b[39mx[\u001b[38;5;124m'\u001b[39m\u001b[38;5;124mTime of real departure\u001b[39m\u001b[38;5;124m'\u001b[39m]\u001b[38;5;241m.\u001b[39mhour, minute\u001b[38;5;241m=\u001b[39mx[\u001b[38;5;124m'\u001b[39m\u001b[38;5;124mTime of real departure\u001b[39m\u001b[38;5;124m'\u001b[39m]\u001b[38;5;241m.\u001b[39mminute, second\u001b[38;5;241m=\u001b[39mx[\u001b[38;5;124m'\u001b[39m\u001b[38;5;124mTime of real departure\u001b[39m\u001b[38;5;124m'\u001b[39m]\u001b[38;5;241m.\u001b[39msecond), axis\u001b[38;5;241m=\u001b[39m\u001b[38;5;241m1\u001b[39m)\n",
      "File \u001b[0;32m~/.local/lib/python3.8/site-packages/pandas/core/frame.py:9558\u001b[0m, in \u001b[0;36mDataFrame.apply\u001b[0;34m(self, func, axis, raw, result_type, args, **kwargs)\u001b[0m\n\u001b[1;32m   9547\u001b[0m \u001b[38;5;28;01mfrom\u001b[39;00m \u001b[38;5;21;01mpandas\u001b[39;00m\u001b[38;5;21;01m.\u001b[39;00m\u001b[38;5;21;01mcore\u001b[39;00m\u001b[38;5;21;01m.\u001b[39;00m\u001b[38;5;21;01mapply\u001b[39;00m \u001b[38;5;28;01mimport\u001b[39;00m frame_apply\n\u001b[1;32m   9549\u001b[0m op \u001b[38;5;241m=\u001b[39m frame_apply(\n\u001b[1;32m   9550\u001b[0m     \u001b[38;5;28mself\u001b[39m,\n\u001b[1;32m   9551\u001b[0m     func\u001b[38;5;241m=\u001b[39mfunc,\n\u001b[0;32m   (...)\u001b[0m\n\u001b[1;32m   9556\u001b[0m     kwargs\u001b[38;5;241m=\u001b[39mkwargs,\n\u001b[1;32m   9557\u001b[0m )\n\u001b[0;32m-> 9558\u001b[0m \u001b[38;5;28;01mreturn\u001b[39;00m \u001b[43mop\u001b[49m\u001b[38;5;241;43m.\u001b[39;49m\u001b[43mapply\u001b[49m\u001b[43m(\u001b[49m\u001b[43m)\u001b[49m\u001b[38;5;241m.\u001b[39m__finalize__(\u001b[38;5;28mself\u001b[39m, method\u001b[38;5;241m=\u001b[39m\u001b[38;5;124m\"\u001b[39m\u001b[38;5;124mapply\u001b[39m\u001b[38;5;124m\"\u001b[39m)\n",
      "File \u001b[0;32m~/.local/lib/python3.8/site-packages/pandas/core/apply.py:741\u001b[0m, in \u001b[0;36mFrameApply.apply\u001b[0;34m(self)\u001b[0m\n\u001b[1;32m    738\u001b[0m \u001b[38;5;28;01melif\u001b[39;00m \u001b[38;5;28mself\u001b[39m\u001b[38;5;241m.\u001b[39mraw:\n\u001b[1;32m    739\u001b[0m     \u001b[38;5;28;01mreturn\u001b[39;00m \u001b[38;5;28mself\u001b[39m\u001b[38;5;241m.\u001b[39mapply_raw()\n\u001b[0;32m--> 741\u001b[0m \u001b[38;5;28;01mreturn\u001b[39;00m \u001b[38;5;28;43mself\u001b[39;49m\u001b[38;5;241;43m.\u001b[39;49m\u001b[43mapply_standard\u001b[49m\u001b[43m(\u001b[49m\u001b[43m)\u001b[49m\n",
      "File \u001b[0;32m~/.local/lib/python3.8/site-packages/pandas/core/apply.py:868\u001b[0m, in \u001b[0;36mFrameApply.apply_standard\u001b[0;34m(self)\u001b[0m\n\u001b[1;32m    867\u001b[0m \u001b[38;5;28;01mdef\u001b[39;00m \u001b[38;5;21mapply_standard\u001b[39m(\u001b[38;5;28mself\u001b[39m):\n\u001b[0;32m--> 868\u001b[0m     results, res_index \u001b[38;5;241m=\u001b[39m \u001b[38;5;28;43mself\u001b[39;49m\u001b[38;5;241;43m.\u001b[39;49m\u001b[43mapply_series_generator\u001b[49m\u001b[43m(\u001b[49m\u001b[43m)\u001b[49m\n\u001b[1;32m    870\u001b[0m     \u001b[38;5;66;03m# wrap results\u001b[39;00m\n\u001b[1;32m    871\u001b[0m     \u001b[38;5;28;01mreturn\u001b[39;00m \u001b[38;5;28mself\u001b[39m\u001b[38;5;241m.\u001b[39mwrap_results(results, res_index)\n",
      "File \u001b[0;32m~/.local/lib/python3.8/site-packages/pandas/core/apply.py:884\u001b[0m, in \u001b[0;36mFrameApply.apply_series_generator\u001b[0;34m(self)\u001b[0m\n\u001b[1;32m    881\u001b[0m \u001b[38;5;28;01mwith\u001b[39;00m option_context(\u001b[38;5;124m\"\u001b[39m\u001b[38;5;124mmode.chained_assignment\u001b[39m\u001b[38;5;124m\"\u001b[39m, \u001b[38;5;28;01mNone\u001b[39;00m):\n\u001b[1;32m    882\u001b[0m     \u001b[38;5;28;01mfor\u001b[39;00m i, v \u001b[38;5;129;01min\u001b[39;00m \u001b[38;5;28menumerate\u001b[39m(series_gen):\n\u001b[1;32m    883\u001b[0m         \u001b[38;5;66;03m# ignore SettingWithCopy here in case the user mutates\u001b[39;00m\n\u001b[0;32m--> 884\u001b[0m         results[i] \u001b[38;5;241m=\u001b[39m \u001b[38;5;28;43mself\u001b[39;49m\u001b[38;5;241;43m.\u001b[39;49m\u001b[43mf\u001b[49m\u001b[43m(\u001b[49m\u001b[43mv\u001b[49m\u001b[43m)\u001b[49m\n\u001b[1;32m    885\u001b[0m         \u001b[38;5;28;01mif\u001b[39;00m \u001b[38;5;28misinstance\u001b[39m(results[i], ABCSeries):\n\u001b[1;32m    886\u001b[0m             \u001b[38;5;66;03m# If we have a view on v, we need to make a copy because\u001b[39;00m\n\u001b[1;32m    887\u001b[0m             \u001b[38;5;66;03m#  series_generator will swap out the underlying data\u001b[39;00m\n\u001b[1;32m    888\u001b[0m             results[i] \u001b[38;5;241m=\u001b[39m results[i]\u001b[38;5;241m.\u001b[39mcopy(deep\u001b[38;5;241m=\u001b[39m\u001b[38;5;28;01mFalse\u001b[39;00m)\n",
      "File \u001b[0;32m~/PycharmProjects/group7-group-assignment-/src/data_processing/data.py:172\u001b[0m, in \u001b[0;36m<lambda>\u001b[0;34m(x)\u001b[0m\n\u001b[1;32m    169\u001b[0m full_trips[\u001b[38;5;124m'\u001b[39m\u001b[38;5;124mDate of real departure\u001b[39m\u001b[38;5;124m'\u001b[39m] \u001b[38;5;241m=\u001b[39m pd\u001b[38;5;241m.\u001b[39mto_datetime(full_trips[\u001b[38;5;124m'\u001b[39m\u001b[38;5;124mDate of real departure\u001b[39m\u001b[38;5;124m'\u001b[39m])\n\u001b[1;32m    170\u001b[0m full_trips[\u001b[38;5;124m'\u001b[39m\u001b[38;5;124mDate of planned departure\u001b[39m\u001b[38;5;124m'\u001b[39m] \u001b[38;5;241m=\u001b[39m pd\u001b[38;5;241m.\u001b[39mto_datetime(full_trips[\u001b[38;5;124m'\u001b[39m\u001b[38;5;124mDate of planned departure\u001b[39m\u001b[38;5;124m'\u001b[39m])\n\u001b[0;32m--> 172\u001b[0m full_trips[\u001b[38;5;124m'\u001b[39m\u001b[38;5;124mTime of real arrival\u001b[39m\u001b[38;5;124m'\u001b[39m] \u001b[38;5;241m=\u001b[39m full_trips\u001b[38;5;241m.\u001b[39mapply(\u001b[38;5;28;01mlambda\u001b[39;00m x: x[\u001b[38;5;124m'\u001b[39m\u001b[38;5;124mDate of real arrival\u001b[39m\u001b[38;5;124m'\u001b[39m]\u001b[38;5;241m.\u001b[39mreplace(hour\u001b[38;5;241m=\u001b[39mx[\u001b[38;5;124m'\u001b[39m\u001b[38;5;124mTime of real arrival\u001b[39m\u001b[38;5;124m'\u001b[39m]\u001b[38;5;241m.\u001b[39mhour, minute\u001b[38;5;241m=\u001b[39mx[\u001b[38;5;124m'\u001b[39m\u001b[38;5;124mTime of real arrival\u001b[39m\u001b[38;5;124m'\u001b[39m]\u001b[38;5;241m.\u001b[39mminute, second\u001b[38;5;241m=\u001b[39m\u001b[43mx\u001b[49m\u001b[43m[\u001b[49m\u001b[38;5;124;43m'\u001b[39;49m\u001b[38;5;124;43mTime of real arrival\u001b[39;49m\u001b[38;5;124;43m'\u001b[39;49m\u001b[43m]\u001b[49m\u001b[38;5;241;43m.\u001b[39;49m\u001b[43msecond\u001b[49m), axis\u001b[38;5;241m=\u001b[39m\u001b[38;5;241m1\u001b[39m)\n\u001b[1;32m    173\u001b[0m full_trips[\u001b[38;5;124m'\u001b[39m\u001b[38;5;124mTime of planned arrival\u001b[39m\u001b[38;5;124m'\u001b[39m] \u001b[38;5;241m=\u001b[39m full_trips\u001b[38;5;241m.\u001b[39mapply(\u001b[38;5;28;01mlambda\u001b[39;00m x: x[\u001b[38;5;124m'\u001b[39m\u001b[38;5;124mDate of planned arrival\u001b[39m\u001b[38;5;124m'\u001b[39m]\u001b[38;5;241m.\u001b[39mreplace(hour\u001b[38;5;241m=\u001b[39mx[\u001b[38;5;124m'\u001b[39m\u001b[38;5;124mTime of planned arrival\u001b[39m\u001b[38;5;124m'\u001b[39m]\u001b[38;5;241m.\u001b[39mhour, minute\u001b[38;5;241m=\u001b[39mx[\u001b[38;5;124m'\u001b[39m\u001b[38;5;124mTime of planned arrival\u001b[39m\u001b[38;5;124m'\u001b[39m]\u001b[38;5;241m.\u001b[39mminute, second\u001b[38;5;241m=\u001b[39mx[\u001b[38;5;124m'\u001b[39m\u001b[38;5;124mTime of planned arrival\u001b[39m\u001b[38;5;124m'\u001b[39m]\u001b[38;5;241m.\u001b[39msecond), axis\u001b[38;5;241m=\u001b[39m\u001b[38;5;241m1\u001b[39m)\n\u001b[1;32m    174\u001b[0m full_trips[\u001b[38;5;124m'\u001b[39m\u001b[38;5;124mTime of real departure\u001b[39m\u001b[38;5;124m'\u001b[39m] \u001b[38;5;241m=\u001b[39m full_trips\u001b[38;5;241m.\u001b[39mapply(\u001b[38;5;28;01mlambda\u001b[39;00m x: x[\u001b[38;5;124m'\u001b[39m\u001b[38;5;124mDate of real departure\u001b[39m\u001b[38;5;124m'\u001b[39m]\u001b[38;5;241m.\u001b[39mreplace(hour\u001b[38;5;241m=\u001b[39mx[\u001b[38;5;124m'\u001b[39m\u001b[38;5;124mTime of real departure\u001b[39m\u001b[38;5;124m'\u001b[39m]\u001b[38;5;241m.\u001b[39mhour, minute\u001b[38;5;241m=\u001b[39mx[\u001b[38;5;124m'\u001b[39m\u001b[38;5;124mTime of real departure\u001b[39m\u001b[38;5;124m'\u001b[39m]\u001b[38;5;241m.\u001b[39mminute, second\u001b[38;5;241m=\u001b[39mx[\u001b[38;5;124m'\u001b[39m\u001b[38;5;124mTime of real departure\u001b[39m\u001b[38;5;124m'\u001b[39m]\u001b[38;5;241m.\u001b[39msecond), axis\u001b[38;5;241m=\u001b[39m\u001b[38;5;241m1\u001b[39m)\n",
      "\u001b[0;31mKeyboardInterrupt\u001b[0m: "
     ]
    }
   ],
   "source": [
    "from data_processing import data\n",
    "import utils as utils\n",
    "import numpy as np\n",
    "import pandas as pd\n",
    "import matplotlib.pyplot as plt"
   ]
  },
  {
   "cell_type": "code",
   "execution_count": null,
   "id": "4da2d066",
   "metadata": {},
   "outputs": [],
   "source": [
    "col_list= ['saturday', 'sunday']\n",
    "# sum specific columns\n",
    "data.travelers['weekend'] = data.travelers[col_list].sum(axis=1)"
   ]
  },
  {
   "cell_type": "code",
   "execution_count": null,
   "id": "497d6330",
   "metadata": {},
   "outputs": [],
   "source": [
    "data.travelers.head(5)"
   ]
  },
  {
   "cell_type": "code",
   "execution_count": null,
   "id": "3ba22837",
   "metadata": {},
   "outputs": [],
   "source": [
    "data.travelers[\"week\"] = data.travelers[\"week\"].astype(int)"
   ]
  },
  {
   "cell_type": "code",
   "execution_count": null,
   "id": "9b5475d7",
   "metadata": {},
   "outputs": [],
   "source": [
    "data.travelers[\"weekend\"] = data.travelers[\"weekend\"].astype(int)"
   ]
  },
  {
   "cell_type": "code",
   "execution_count": null,
   "id": "d1ce36f4",
   "metadata": {},
   "outputs": [],
   "source": [
    "data.travelers[\"weekend\"]"
   ]
  },
  {
   "cell_type": "code",
   "execution_count": null,
   "id": "459b712f",
   "metadata": {},
   "outputs": [],
   "source": [
    "# import KMeans class from sklearn\n",
    "from sklearn.cluster import KMeans"
   ]
  },
  {
   "cell_type": "code",
   "execution_count": null,
   "id": "77832ba2",
   "metadata": {},
   "outputs": [],
   "source": [
    "# plot data\n",
    "plt.scatter(data.travelers[\"week\"], data.travelers[\"weekend\"])\n",
    "plt.xlabel('Number of travelers on weekdays')\n",
    "plt.ylabel('Number of travelers on weekends')\n",
    "plt.show()"
   ]
  },
  {
   "cell_type": "code",
   "execution_count": null,
   "id": "6884d74e",
   "metadata": {},
   "outputs": [],
   "source": [
    "inertias = []\n",
    "\n",
    "for i in range(1,10):\n",
    "    kmeans = KMeans(n_clusters=i)\n",
    "    kmeans.fit(data.travelers[[\"week\",\"weekend\"]])\n",
    "    inertias.append(kmeans.inertia_)\n",
    "\n",
    "plt.plot(range(1,10), inertias, marker='o')\n",
    "plt.title('Elbow method')\n",
    "plt.xlabel('Number of clusters')\n",
    "plt.ylabel('Inertia')\n",
    "plt.show()"
   ]
  },
  {
   "cell_type": "markdown",
   "id": "56d368b5",
   "metadata": {},
   "source": [
    "so the optimal number of cluster is 2 "
   ]
  },
  {
   "cell_type": "code",
   "execution_count": null,
   "id": "083ac574",
   "metadata": {},
   "outputs": [],
   "source": [
    "import sklearn\n",
    "from sklearn.preprocessing import StandardScaler"
   ]
  },
  {
   "cell_type": "code",
   "execution_count": null,
   "id": "574c9067",
   "metadata": {},
   "outputs": [],
   "source": [
    "# define scaler\n",
    "scaler = StandardScaler()\n",
    "\n",
    "# fit scaler on MonthlyCharges and TotalCharges\n",
    "scaler.fit(data.travelers[[\"week\", \"weekend\"]])\n",
    "\n",
    "# apply scaler on MonthlyCharges and TotalCharges\n",
    "data.travelers[[\"week\",  \"weekend\"]] = scaler.transform(data.travelers[[\"week\", \"weekend\"]])"
   ]
  },
  {
   "cell_type": "code",
   "execution_count": null,
   "id": "2f9dcc0f",
   "metadata": {},
   "outputs": [],
   "source": [
    "# inspect\n",
    "data.travelers[[\"week\",  \"weekend\"]].describe()"
   ]
  },
  {
   "cell_type": "code",
   "execution_count": null,
   "id": "868d2d67",
   "metadata": {},
   "outputs": [],
   "source": [
    "# initialize the cluster algorithm with 2 classes\n",
    "kmeans_model = KMeans(n_clusters=2)"
   ]
  },
  {
   "cell_type": "code",
   "execution_count": null,
   "id": "4287a0df",
   "metadata": {},
   "outputs": [],
   "source": [
    "# fit the kmeans model onto the data\n",
    "kmeans_model.fit(data.travelers[[\"week\",\"weekend\"]])"
   ]
  },
  {
   "cell_type": "code",
   "execution_count": null,
   "id": "525fc972",
   "metadata": {},
   "outputs": [],
   "source": [
    "# inspect the labels\n",
    "kmeans_model.labels_[:10]"
   ]
  },
  {
   "cell_type": "code",
   "execution_count": null,
   "id": "0d1a602c",
   "metadata": {},
   "outputs": [],
   "source": [
    "plt.scatter(data.travelers[\"week\"], data.travelers[\"weekend\"], c=kmeans_model.labels_)\n",
    "plt.xlabel('Number of travelers on weekdays')\n",
    "plt.ylabel('Number of travelers on weekends')\n",
    "plt.show()"
   ]
  },
  {
   "cell_type": "code",
   "execution_count": null,
   "id": "0617829e",
   "metadata": {},
   "outputs": [],
   "source": []
  }
 ],
 "metadata": {
  "kernelspec": {
   "display_name": "Python 3 (ipykernel)",
   "language": "python",
   "name": "python3"
  },
  "language_info": {
   "codemirror_mode": {
    "name": "ipython",
    "version": 3
   },
   "file_extension": ".py",
   "mimetype": "text/x-python",
   "name": "python",
   "nbconvert_exporter": "python",
   "pygments_lexer": "ipython3",
   "version": "3.8.10"
  }
 },
 "nbformat": 4,
 "nbformat_minor": 5
}
