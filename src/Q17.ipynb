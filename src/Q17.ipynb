{
 "cells": [
  {
   "cell_type": "code",
   "execution_count": 38,
   "metadata": {
    "collapsed": true
   },
   "outputs": [],
   "source": [
    "import pandas as pd\n",
    "import statsmodels.api as sm\n",
    "from pathlib import Path\n",
    "import numpy as np\n",
    "import src.utils as utils\n",
    "import matplotlib.pyplot as plt\n",
    "import seaborn as sns\n",
    "from IPython.core.pylabtools import figsize\n",
    "import src.data_processing.data as data\n",
    "from sklearn.preprocessing import MinMaxScaler"
   ]
  },
  {
   "cell_type": "code",
   "execution_count": 2,
   "outputs": [
    {
     "data": {
      "text/plain": "2      12.0\n3       1.0\n4       7.0\n5       9.0\n6       1.0\n       ... \n668     3.0\n669     3.0\n670     8.0\n672     3.0\n673     4.0\nName: number_facilities, Length: 557, dtype: float64"
     },
     "execution_count": 2,
     "metadata": {},
     "output_type": "execute_result"
    }
   ],
   "source": [
    "#Get total number of facilities per station:\n",
    "facil_col = ['ticket_vending_machine', 'luggage_lockers', 'free_parking', 'taxi', 'bicycle_spots', 'blue-bike',\n",
    "             'bus', 'tram', 'metro', 'wheelchair_available', 'ramp', 'disabled_parking_spots', 'elevated_platform',\n",
    "             'escalator_up', 'escalator_down', 'elevator_platform', 'audio_induction_loop']\n",
    "# PROBLEM: disabled_parking_spots is the number of spots instead of a dummy indicator\n",
    "# so let's create a dummy variable\n",
    "data.facilities['disabled_parking_spots_indicator'] = np.where(data.facilities['disabled_parking_spots']==0,0,1)\n",
    "# drop old variable and add new name to our list\n",
    "facil_col.remove('disabled_parking_spots')\n",
    "facil_col = facil_col + ['disabled_parking_spots_indicator']\n",
    "# compute total number of facilities per station\n",
    "data.facilities['number_facilities'] = data.facilities[facil_col].sum(axis = 1)\n",
    "data.facilities['number_facilities']"
   ],
   "metadata": {
    "collapsed": false
   }
  },
  {
   "cell_type": "code",
   "execution_count": 13,
   "outputs": [
    {
     "data": {
      "text/plain": "           URI              name                    street   zip  \\\n0    008895000             aalst           Stationsplein 9  9300   \n1    008895125  aalst-kerrebroek                  Ledebaan  9300   \n2    008891140            aalter           Stationsplein 2  9880   \n3    008833209          aarschot               Statieplein  3200   \n4    008892288           aarsele       Hogenhovenstraat Zn  8700   \n..         ...               ...                       ...   ...   \n545  008832250            zolder        Stationsstraat Z/n  3550   \n546  008832334          zonhoven            Engstegenseweg  3520   \n547  008895208          zottegem          Stationsplein 12  9620   \n548  008894821       zwijndrecht                Fortlaan 1  2070   \n549  008883212       écaussinnes  Avenue De La Déportation  7190   \n\n                 city  ticket_vending_machine  luggage_lockers  free_parking  \\\n0               Aalst                     1.0              0.0           1.0   \n1               Aalst                     0.0              0.0           1.0   \n2              Aalter                     1.0              0.0           1.0   \n3            Aarschot                     1.0              0.0           1.0   \n4             Aarsele                     1.0              0.0           0.0   \n..                ...                     ...              ...           ...   \n545  Heusden - Zolder                     1.0              0.0           1.0   \n546          Zonhoven                     1.0              0.0           1.0   \n547          Zottegem                     1.0              0.0           1.0   \n548       Zwijndrecht                     1.0              0.0           1.0   \n549       Ecaussinnes                     1.0              0.0           1.0   \n\n     taxi  bicycle_spots  ...  disabled_parking_spots_indicator  \\\n0     1.0            1.0  ...                                 1   \n1     0.0            0.0  ...                                 0   \n2     0.0            1.0  ...                                 1   \n3     0.0            1.0  ...                                 1   \n4     0.0            0.0  ...                                 0   \n..    ...            ...  ...                               ...   \n545   0.0            0.0  ...                                 1   \n546   0.0            0.0  ...                                 1   \n547   0.0            1.0  ...                                 1   \n548   0.0            1.0  ...                                 0   \n549   0.0            1.0  ...                                 0   \n\n     number_facilities  Unnamed: 0           Station    week  saturday  \\\n0                 12.0           0             aalst  6444.0    1768.0   \n1                  1.0           1  aalst-kerrebroek    27.0       0.0   \n2                  7.0           2            aalter  2288.0    1055.0   \n3                  9.0           3          aarschot  6270.0    1954.0   \n4                  1.0           4           aarsele    34.0       0.0   \n..                 ...         ...               ...     ...       ...   \n545                3.0         549            zolder   123.0      38.0   \n546                3.0         550          zonhoven    67.0      29.0   \n547                8.0         551          zottegem  4936.0     986.0   \n548                3.0         552       zwijndrecht   401.0      43.0   \n549                4.0         141       écaussinnes   710.0     286.0   \n\n     sunday     sum  week_total      avg_day  \n0    1592.0  9804.0     35580.0  5082.857143  \n1       0.0    27.0       135.0    19.285714  \n2     855.0  4198.0     13350.0  1907.142857  \n3    1395.0  9619.0     34699.0  4957.000000  \n4       0.0    34.0       170.0    24.285714  \n..      ...     ...         ...          ...  \n545    37.0   198.0       690.0    98.571429  \n546    19.0   115.0       383.0    54.714286  \n547   931.0  6853.0     26597.0  3799.571429  \n548    44.0   488.0      2092.0   298.857143  \n549   257.0  1253.0      4093.0   584.714286  \n\n[550 rows x 46 columns]",
      "text/html": "<div>\n<style scoped>\n    .dataframe tbody tr th:only-of-type {\n        vertical-align: middle;\n    }\n\n    .dataframe tbody tr th {\n        vertical-align: top;\n    }\n\n    .dataframe thead th {\n        text-align: right;\n    }\n</style>\n<table border=\"1\" class=\"dataframe\">\n  <thead>\n    <tr style=\"text-align: right;\">\n      <th></th>\n      <th>URI</th>\n      <th>name</th>\n      <th>street</th>\n      <th>zip</th>\n      <th>city</th>\n      <th>ticket_vending_machine</th>\n      <th>luggage_lockers</th>\n      <th>free_parking</th>\n      <th>taxi</th>\n      <th>bicycle_spots</th>\n      <th>...</th>\n      <th>disabled_parking_spots_indicator</th>\n      <th>number_facilities</th>\n      <th>Unnamed: 0</th>\n      <th>Station</th>\n      <th>week</th>\n      <th>saturday</th>\n      <th>sunday</th>\n      <th>sum</th>\n      <th>week_total</th>\n      <th>avg_day</th>\n    </tr>\n  </thead>\n  <tbody>\n    <tr>\n      <th>0</th>\n      <td>008895000</td>\n      <td>aalst</td>\n      <td>Stationsplein 9</td>\n      <td>9300</td>\n      <td>Aalst</td>\n      <td>1.0</td>\n      <td>0.0</td>\n      <td>1.0</td>\n      <td>1.0</td>\n      <td>1.0</td>\n      <td>...</td>\n      <td>1</td>\n      <td>12.0</td>\n      <td>0</td>\n      <td>aalst</td>\n      <td>6444.0</td>\n      <td>1768.0</td>\n      <td>1592.0</td>\n      <td>9804.0</td>\n      <td>35580.0</td>\n      <td>5082.857143</td>\n    </tr>\n    <tr>\n      <th>1</th>\n      <td>008895125</td>\n      <td>aalst-kerrebroek</td>\n      <td>Ledebaan</td>\n      <td>9300</td>\n      <td>Aalst</td>\n      <td>0.0</td>\n      <td>0.0</td>\n      <td>1.0</td>\n      <td>0.0</td>\n      <td>0.0</td>\n      <td>...</td>\n      <td>0</td>\n      <td>1.0</td>\n      <td>1</td>\n      <td>aalst-kerrebroek</td>\n      <td>27.0</td>\n      <td>0.0</td>\n      <td>0.0</td>\n      <td>27.0</td>\n      <td>135.0</td>\n      <td>19.285714</td>\n    </tr>\n    <tr>\n      <th>2</th>\n      <td>008891140</td>\n      <td>aalter</td>\n      <td>Stationsplein 2</td>\n      <td>9880</td>\n      <td>Aalter</td>\n      <td>1.0</td>\n      <td>0.0</td>\n      <td>1.0</td>\n      <td>0.0</td>\n      <td>1.0</td>\n      <td>...</td>\n      <td>1</td>\n      <td>7.0</td>\n      <td>2</td>\n      <td>aalter</td>\n      <td>2288.0</td>\n      <td>1055.0</td>\n      <td>855.0</td>\n      <td>4198.0</td>\n      <td>13350.0</td>\n      <td>1907.142857</td>\n    </tr>\n    <tr>\n      <th>3</th>\n      <td>008833209</td>\n      <td>aarschot</td>\n      <td>Statieplein</td>\n      <td>3200</td>\n      <td>Aarschot</td>\n      <td>1.0</td>\n      <td>0.0</td>\n      <td>1.0</td>\n      <td>0.0</td>\n      <td>1.0</td>\n      <td>...</td>\n      <td>1</td>\n      <td>9.0</td>\n      <td>3</td>\n      <td>aarschot</td>\n      <td>6270.0</td>\n      <td>1954.0</td>\n      <td>1395.0</td>\n      <td>9619.0</td>\n      <td>34699.0</td>\n      <td>4957.000000</td>\n    </tr>\n    <tr>\n      <th>4</th>\n      <td>008892288</td>\n      <td>aarsele</td>\n      <td>Hogenhovenstraat Zn</td>\n      <td>8700</td>\n      <td>Aarsele</td>\n      <td>1.0</td>\n      <td>0.0</td>\n      <td>0.0</td>\n      <td>0.0</td>\n      <td>0.0</td>\n      <td>...</td>\n      <td>0</td>\n      <td>1.0</td>\n      <td>4</td>\n      <td>aarsele</td>\n      <td>34.0</td>\n      <td>0.0</td>\n      <td>0.0</td>\n      <td>34.0</td>\n      <td>170.0</td>\n      <td>24.285714</td>\n    </tr>\n    <tr>\n      <th>...</th>\n      <td>...</td>\n      <td>...</td>\n      <td>...</td>\n      <td>...</td>\n      <td>...</td>\n      <td>...</td>\n      <td>...</td>\n      <td>...</td>\n      <td>...</td>\n      <td>...</td>\n      <td>...</td>\n      <td>...</td>\n      <td>...</td>\n      <td>...</td>\n      <td>...</td>\n      <td>...</td>\n      <td>...</td>\n      <td>...</td>\n      <td>...</td>\n      <td>...</td>\n      <td>...</td>\n    </tr>\n    <tr>\n      <th>545</th>\n      <td>008832250</td>\n      <td>zolder</td>\n      <td>Stationsstraat Z/n</td>\n      <td>3550</td>\n      <td>Heusden - Zolder</td>\n      <td>1.0</td>\n      <td>0.0</td>\n      <td>1.0</td>\n      <td>0.0</td>\n      <td>0.0</td>\n      <td>...</td>\n      <td>1</td>\n      <td>3.0</td>\n      <td>549</td>\n      <td>zolder</td>\n      <td>123.0</td>\n      <td>38.0</td>\n      <td>37.0</td>\n      <td>198.0</td>\n      <td>690.0</td>\n      <td>98.571429</td>\n    </tr>\n    <tr>\n      <th>546</th>\n      <td>008832334</td>\n      <td>zonhoven</td>\n      <td>Engstegenseweg</td>\n      <td>3520</td>\n      <td>Zonhoven</td>\n      <td>1.0</td>\n      <td>0.0</td>\n      <td>1.0</td>\n      <td>0.0</td>\n      <td>0.0</td>\n      <td>...</td>\n      <td>1</td>\n      <td>3.0</td>\n      <td>550</td>\n      <td>zonhoven</td>\n      <td>67.0</td>\n      <td>29.0</td>\n      <td>19.0</td>\n      <td>115.0</td>\n      <td>383.0</td>\n      <td>54.714286</td>\n    </tr>\n    <tr>\n      <th>547</th>\n      <td>008895208</td>\n      <td>zottegem</td>\n      <td>Stationsplein 12</td>\n      <td>9620</td>\n      <td>Zottegem</td>\n      <td>1.0</td>\n      <td>0.0</td>\n      <td>1.0</td>\n      <td>0.0</td>\n      <td>1.0</td>\n      <td>...</td>\n      <td>1</td>\n      <td>8.0</td>\n      <td>551</td>\n      <td>zottegem</td>\n      <td>4936.0</td>\n      <td>986.0</td>\n      <td>931.0</td>\n      <td>6853.0</td>\n      <td>26597.0</td>\n      <td>3799.571429</td>\n    </tr>\n    <tr>\n      <th>548</th>\n      <td>008894821</td>\n      <td>zwijndrecht</td>\n      <td>Fortlaan 1</td>\n      <td>2070</td>\n      <td>Zwijndrecht</td>\n      <td>1.0</td>\n      <td>0.0</td>\n      <td>1.0</td>\n      <td>0.0</td>\n      <td>1.0</td>\n      <td>...</td>\n      <td>0</td>\n      <td>3.0</td>\n      <td>552</td>\n      <td>zwijndrecht</td>\n      <td>401.0</td>\n      <td>43.0</td>\n      <td>44.0</td>\n      <td>488.0</td>\n      <td>2092.0</td>\n      <td>298.857143</td>\n    </tr>\n    <tr>\n      <th>549</th>\n      <td>008883212</td>\n      <td>écaussinnes</td>\n      <td>Avenue De La Déportation</td>\n      <td>7190</td>\n      <td>Ecaussinnes</td>\n      <td>1.0</td>\n      <td>0.0</td>\n      <td>1.0</td>\n      <td>0.0</td>\n      <td>1.0</td>\n      <td>...</td>\n      <td>0</td>\n      <td>4.0</td>\n      <td>141</td>\n      <td>écaussinnes</td>\n      <td>710.0</td>\n      <td>286.0</td>\n      <td>257.0</td>\n      <td>1253.0</td>\n      <td>4093.0</td>\n      <td>584.714286</td>\n    </tr>\n  </tbody>\n</table>\n<p>550 rows × 46 columns</p>\n</div>"
     },
     "execution_count": 13,
     "metadata": {},
     "output_type": "execute_result"
    }
   ],
   "source": [
    "## Number of daily travelers\n",
    "# create total\n",
    "data.travelers[\"week_total\"] = 5 * data.travelers[\"week\"] + data.travelers[\"saturday\"] + data.travelers[\"sunday\"]\n",
    "data.travelers[\"avg_day\"] = data.travelers[\"week_total\"] / float(7)\n",
    "merge = pd.merge(data.facilities, data.travelers, left_on='name', right_on='Station')\n",
    "data.travelers\n",
    "merge\n"
   ],
   "metadata": {
    "collapsed": false
   }
  },
  {
   "cell_type": "code",
   "execution_count": 41,
   "outputs": [
    {
     "data": {
      "text/plain": "           URI              name                    street   zip  \\\n0    008895000             aalst           Stationsplein 9  9300   \n1    008895125  aalst-kerrebroek                  Ledebaan  9300   \n2    008891140            aalter           Stationsplein 2  9880   \n3    008833209          aarschot               Statieplein  3200   \n4    008892288           aarsele       Hogenhovenstraat Zn  8700   \n..         ...               ...                       ...   ...   \n545  008832250            zolder        Stationsstraat Z/n  3550   \n546  008832334          zonhoven            Engstegenseweg  3520   \n547  008895208          zottegem          Stationsplein 12  9620   \n548  008894821       zwijndrecht                Fortlaan 1  2070   \n549  008883212       écaussinnes  Avenue De La Déportation  7190   \n\n                 city  ticket_vending_machine  luggage_lockers  free_parking  \\\n0               Aalst                     1.0              0.0           1.0   \n1               Aalst                     0.0              0.0           1.0   \n2              Aalter                     1.0              0.0           1.0   \n3            Aarschot                     1.0              0.0           1.0   \n4             Aarsele                     1.0              0.0           0.0   \n..                ...                     ...              ...           ...   \n545  Heusden - Zolder                     1.0              0.0           1.0   \n546          Zonhoven                     1.0              0.0           1.0   \n547          Zottegem                     1.0              0.0           1.0   \n548       Zwijndrecht                     1.0              0.0           1.0   \n549       Ecaussinnes                     1.0              0.0           1.0   \n\n     taxi  bicycle_spots  ...  disabled_parking_spots_indicator  \\\n0     1.0            1.0  ...                                 1   \n1     0.0            0.0  ...                                 0   \n2     0.0            1.0  ...                                 1   \n3     0.0            1.0  ...                                 1   \n4     0.0            0.0  ...                                 0   \n..    ...            ...  ...                               ...   \n545   0.0            0.0  ...                                 1   \n546   0.0            0.0  ...                                 1   \n547   0.0            1.0  ...                                 1   \n548   0.0            1.0  ...                                 0   \n549   0.0            1.0  ...                                 0   \n\n     number_facilities  Unnamed: 0           Station    week  saturday  \\\n0             0.705882           0             aalst  6444.0    1768.0   \n1             0.058824           1  aalst-kerrebroek    27.0       0.0   \n2             0.411765           2            aalter  2288.0    1055.0   \n3             0.529412           3          aarschot  6270.0    1954.0   \n4             0.058824           4           aarsele    34.0       0.0   \n..                 ...         ...               ...     ...       ...   \n545           0.176471         549            zolder   123.0      38.0   \n546           0.176471         550          zonhoven    67.0      29.0   \n547           0.470588         551          zottegem  4936.0     986.0   \n548           0.176471         552       zwijndrecht   401.0      43.0   \n549           0.235294         141       écaussinnes   710.0     286.0   \n\n     sunday     sum  week_total   avg_day  \n0    1592.0  9804.0     35580.0  0.097048  \n1       0.0    27.0       135.0  0.000284  \n2     855.0  4198.0     13350.0  0.036360  \n3    1395.0  9619.0     34699.0  0.094642  \n4       0.0    34.0       170.0  0.000379  \n..      ...     ...         ...       ...  \n545    37.0   198.0       690.0  0.001799  \n546    19.0   115.0       383.0  0.000961  \n547   931.0  6853.0     26597.0  0.072524  \n548    44.0   488.0      2092.0  0.005626  \n549   257.0  1253.0      4093.0  0.011089  \n\n[550 rows x 46 columns]",
      "text/html": "<div>\n<style scoped>\n    .dataframe tbody tr th:only-of-type {\n        vertical-align: middle;\n    }\n\n    .dataframe tbody tr th {\n        vertical-align: top;\n    }\n\n    .dataframe thead th {\n        text-align: right;\n    }\n</style>\n<table border=\"1\" class=\"dataframe\">\n  <thead>\n    <tr style=\"text-align: right;\">\n      <th></th>\n      <th>URI</th>\n      <th>name</th>\n      <th>street</th>\n      <th>zip</th>\n      <th>city</th>\n      <th>ticket_vending_machine</th>\n      <th>luggage_lockers</th>\n      <th>free_parking</th>\n      <th>taxi</th>\n      <th>bicycle_spots</th>\n      <th>...</th>\n      <th>disabled_parking_spots_indicator</th>\n      <th>number_facilities</th>\n      <th>Unnamed: 0</th>\n      <th>Station</th>\n      <th>week</th>\n      <th>saturday</th>\n      <th>sunday</th>\n      <th>sum</th>\n      <th>week_total</th>\n      <th>avg_day</th>\n    </tr>\n  </thead>\n  <tbody>\n    <tr>\n      <th>0</th>\n      <td>008895000</td>\n      <td>aalst</td>\n      <td>Stationsplein 9</td>\n      <td>9300</td>\n      <td>Aalst</td>\n      <td>1.0</td>\n      <td>0.0</td>\n      <td>1.0</td>\n      <td>1.0</td>\n      <td>1.0</td>\n      <td>...</td>\n      <td>1</td>\n      <td>0.705882</td>\n      <td>0</td>\n      <td>aalst</td>\n      <td>6444.0</td>\n      <td>1768.0</td>\n      <td>1592.0</td>\n      <td>9804.0</td>\n      <td>35580.0</td>\n      <td>0.097048</td>\n    </tr>\n    <tr>\n      <th>1</th>\n      <td>008895125</td>\n      <td>aalst-kerrebroek</td>\n      <td>Ledebaan</td>\n      <td>9300</td>\n      <td>Aalst</td>\n      <td>0.0</td>\n      <td>0.0</td>\n      <td>1.0</td>\n      <td>0.0</td>\n      <td>0.0</td>\n      <td>...</td>\n      <td>0</td>\n      <td>0.058824</td>\n      <td>1</td>\n      <td>aalst-kerrebroek</td>\n      <td>27.0</td>\n      <td>0.0</td>\n      <td>0.0</td>\n      <td>27.0</td>\n      <td>135.0</td>\n      <td>0.000284</td>\n    </tr>\n    <tr>\n      <th>2</th>\n      <td>008891140</td>\n      <td>aalter</td>\n      <td>Stationsplein 2</td>\n      <td>9880</td>\n      <td>Aalter</td>\n      <td>1.0</td>\n      <td>0.0</td>\n      <td>1.0</td>\n      <td>0.0</td>\n      <td>1.0</td>\n      <td>...</td>\n      <td>1</td>\n      <td>0.411765</td>\n      <td>2</td>\n      <td>aalter</td>\n      <td>2288.0</td>\n      <td>1055.0</td>\n      <td>855.0</td>\n      <td>4198.0</td>\n      <td>13350.0</td>\n      <td>0.036360</td>\n    </tr>\n    <tr>\n      <th>3</th>\n      <td>008833209</td>\n      <td>aarschot</td>\n      <td>Statieplein</td>\n      <td>3200</td>\n      <td>Aarschot</td>\n      <td>1.0</td>\n      <td>0.0</td>\n      <td>1.0</td>\n      <td>0.0</td>\n      <td>1.0</td>\n      <td>...</td>\n      <td>1</td>\n      <td>0.529412</td>\n      <td>3</td>\n      <td>aarschot</td>\n      <td>6270.0</td>\n      <td>1954.0</td>\n      <td>1395.0</td>\n      <td>9619.0</td>\n      <td>34699.0</td>\n      <td>0.094642</td>\n    </tr>\n    <tr>\n      <th>4</th>\n      <td>008892288</td>\n      <td>aarsele</td>\n      <td>Hogenhovenstraat Zn</td>\n      <td>8700</td>\n      <td>Aarsele</td>\n      <td>1.0</td>\n      <td>0.0</td>\n      <td>0.0</td>\n      <td>0.0</td>\n      <td>0.0</td>\n      <td>...</td>\n      <td>0</td>\n      <td>0.058824</td>\n      <td>4</td>\n      <td>aarsele</td>\n      <td>34.0</td>\n      <td>0.0</td>\n      <td>0.0</td>\n      <td>34.0</td>\n      <td>170.0</td>\n      <td>0.000379</td>\n    </tr>\n    <tr>\n      <th>...</th>\n      <td>...</td>\n      <td>...</td>\n      <td>...</td>\n      <td>...</td>\n      <td>...</td>\n      <td>...</td>\n      <td>...</td>\n      <td>...</td>\n      <td>...</td>\n      <td>...</td>\n      <td>...</td>\n      <td>...</td>\n      <td>...</td>\n      <td>...</td>\n      <td>...</td>\n      <td>...</td>\n      <td>...</td>\n      <td>...</td>\n      <td>...</td>\n      <td>...</td>\n      <td>...</td>\n    </tr>\n    <tr>\n      <th>545</th>\n      <td>008832250</td>\n      <td>zolder</td>\n      <td>Stationsstraat Z/n</td>\n      <td>3550</td>\n      <td>Heusden - Zolder</td>\n      <td>1.0</td>\n      <td>0.0</td>\n      <td>1.0</td>\n      <td>0.0</td>\n      <td>0.0</td>\n      <td>...</td>\n      <td>1</td>\n      <td>0.176471</td>\n      <td>549</td>\n      <td>zolder</td>\n      <td>123.0</td>\n      <td>38.0</td>\n      <td>37.0</td>\n      <td>198.0</td>\n      <td>690.0</td>\n      <td>0.001799</td>\n    </tr>\n    <tr>\n      <th>546</th>\n      <td>008832334</td>\n      <td>zonhoven</td>\n      <td>Engstegenseweg</td>\n      <td>3520</td>\n      <td>Zonhoven</td>\n      <td>1.0</td>\n      <td>0.0</td>\n      <td>1.0</td>\n      <td>0.0</td>\n      <td>0.0</td>\n      <td>...</td>\n      <td>1</td>\n      <td>0.176471</td>\n      <td>550</td>\n      <td>zonhoven</td>\n      <td>67.0</td>\n      <td>29.0</td>\n      <td>19.0</td>\n      <td>115.0</td>\n      <td>383.0</td>\n      <td>0.000961</td>\n    </tr>\n    <tr>\n      <th>547</th>\n      <td>008895208</td>\n      <td>zottegem</td>\n      <td>Stationsplein 12</td>\n      <td>9620</td>\n      <td>Zottegem</td>\n      <td>1.0</td>\n      <td>0.0</td>\n      <td>1.0</td>\n      <td>0.0</td>\n      <td>1.0</td>\n      <td>...</td>\n      <td>1</td>\n      <td>0.470588</td>\n      <td>551</td>\n      <td>zottegem</td>\n      <td>4936.0</td>\n      <td>986.0</td>\n      <td>931.0</td>\n      <td>6853.0</td>\n      <td>26597.0</td>\n      <td>0.072524</td>\n    </tr>\n    <tr>\n      <th>548</th>\n      <td>008894821</td>\n      <td>zwijndrecht</td>\n      <td>Fortlaan 1</td>\n      <td>2070</td>\n      <td>Zwijndrecht</td>\n      <td>1.0</td>\n      <td>0.0</td>\n      <td>1.0</td>\n      <td>0.0</td>\n      <td>1.0</td>\n      <td>...</td>\n      <td>0</td>\n      <td>0.176471</td>\n      <td>552</td>\n      <td>zwijndrecht</td>\n      <td>401.0</td>\n      <td>43.0</td>\n      <td>44.0</td>\n      <td>488.0</td>\n      <td>2092.0</td>\n      <td>0.005626</td>\n    </tr>\n    <tr>\n      <th>549</th>\n      <td>008883212</td>\n      <td>écaussinnes</td>\n      <td>Avenue De La Déportation</td>\n      <td>7190</td>\n      <td>Ecaussinnes</td>\n      <td>1.0</td>\n      <td>0.0</td>\n      <td>1.0</td>\n      <td>0.0</td>\n      <td>1.0</td>\n      <td>...</td>\n      <td>0</td>\n      <td>0.235294</td>\n      <td>141</td>\n      <td>écaussinnes</td>\n      <td>710.0</td>\n      <td>286.0</td>\n      <td>257.0</td>\n      <td>1253.0</td>\n      <td>4093.0</td>\n      <td>0.011089</td>\n    </tr>\n  </tbody>\n</table>\n<p>550 rows × 46 columns</p>\n</div>"
     },
     "execution_count": 41,
     "metadata": {},
     "output_type": "execute_result"
    }
   ],
   "source": [
    "#First we need to do scaling in order to be able to compare daily travelers with daily trains:\n",
    "scaler = MinMaxScaler()\n",
    "scaler.fit(merge[['avg_day', 'number_facilities']])\n",
    "merge[['avg_day', 'number_facilities']] = scaler.transform(merge[['avg_day', 'number_facilities']])\n",
    "#univariate regression for daily travelers:\n",
    "X = merge['avg_day']\n",
    "Y = merge['number_facilities']\n",
    "X = sm.add_constant(X) # adding a constant: Y = beta0 + beta1*X1 + beta2*X2 + espilon instead of Y = beta1*X1 + beta2*X2 + epsilon\n",
    "\n",
    "model = sm.OLS(Y, X).fit()\n",
    "print_model = model.summary()\n",
    "print_model\n",
    "merge"
   ],
   "metadata": {
    "collapsed": false
   }
  },
  {
   "cell_type": "code",
   "execution_count": 10,
   "outputs": [
    {
     "data": {
      "text/plain": "                           Name of the stop  count  count_perDay\n0               brussel-zuid/bruxelles-midi   7421   1060.142857\n1              brussel-noord/bruxelles-nord   6899    985.571429\n2    brussel-kapellekerk/bruxelles-chapelle   6892    984.571429\n3        brussel-centraal/bruxelles-central   6892    984.571429\n4         brussel-congres/bruxelles-congrès   6892    984.571429\n..                                      ...    ...           ...\n622                       oostende-zeehaven      3      0.428571\n623                         leuven-bundel m      2      0.285714\n624                    hasselt-aflos l.35/1      1      0.142857\n625               gent-sint-pieters-bundels      1      0.142857\n626                           gent-zeehaven      1      0.142857\n\n[627 rows x 3 columns]",
      "text/html": "<div>\n<style scoped>\n    .dataframe tbody tr th:only-of-type {\n        vertical-align: middle;\n    }\n\n    .dataframe tbody tr th {\n        vertical-align: top;\n    }\n\n    .dataframe thead th {\n        text-align: right;\n    }\n</style>\n<table border=\"1\" class=\"dataframe\">\n  <thead>\n    <tr style=\"text-align: right;\">\n      <th></th>\n      <th>Name of the stop</th>\n      <th>count</th>\n      <th>count_perDay</th>\n    </tr>\n  </thead>\n  <tbody>\n    <tr>\n      <th>0</th>\n      <td>brussel-zuid/bruxelles-midi</td>\n      <td>7421</td>\n      <td>1060.142857</td>\n    </tr>\n    <tr>\n      <th>1</th>\n      <td>brussel-noord/bruxelles-nord</td>\n      <td>6899</td>\n      <td>985.571429</td>\n    </tr>\n    <tr>\n      <th>2</th>\n      <td>brussel-kapellekerk/bruxelles-chapelle</td>\n      <td>6892</td>\n      <td>984.571429</td>\n    </tr>\n    <tr>\n      <th>3</th>\n      <td>brussel-centraal/bruxelles-central</td>\n      <td>6892</td>\n      <td>984.571429</td>\n    </tr>\n    <tr>\n      <th>4</th>\n      <td>brussel-congres/bruxelles-congrès</td>\n      <td>6892</td>\n      <td>984.571429</td>\n    </tr>\n    <tr>\n      <th>...</th>\n      <td>...</td>\n      <td>...</td>\n      <td>...</td>\n    </tr>\n    <tr>\n      <th>622</th>\n      <td>oostende-zeehaven</td>\n      <td>3</td>\n      <td>0.428571</td>\n    </tr>\n    <tr>\n      <th>623</th>\n      <td>leuven-bundel m</td>\n      <td>2</td>\n      <td>0.285714</td>\n    </tr>\n    <tr>\n      <th>624</th>\n      <td>hasselt-aflos l.35/1</td>\n      <td>1</td>\n      <td>0.142857</td>\n    </tr>\n    <tr>\n      <th>625</th>\n      <td>gent-sint-pieters-bundels</td>\n      <td>1</td>\n      <td>0.142857</td>\n    </tr>\n    <tr>\n      <th>626</th>\n      <td>gent-zeehaven</td>\n      <td>1</td>\n      <td>0.142857</td>\n    </tr>\n  </tbody>\n</table>\n<p>627 rows × 3 columns</p>\n</div>"
     },
     "execution_count": 10,
     "metadata": {},
     "output_type": "execute_result"
    }
   ],
   "source": [
    "## Number of daily trains\n",
    "trips = data.full_trips\n",
    "daily_trains = trips[\"Name of the stop\"].value_counts().reset_index().rename(columns={\"index\": \"Name of the stop\", \"Name of the stop\": \"count\"}).astype({\"count\": int})\n",
    "daily_trains['count_perDay'] = daily_trains[\"count\"]/7\n",
    "daily_trains"
   ],
   "metadata": {
    "collapsed": false
   }
  },
  {
   "cell_type": "code",
   "execution_count": 34,
   "outputs": [
    {
     "data": {
      "text/plain": "{'antwerpen-haven', 'bastogne-nord', 'bastogne-sud', 'florée'}"
     },
     "execution_count": 34,
     "metadata": {},
     "output_type": "execute_result"
    }
   ],
   "source": [
    "## merge: when we want to merge, we see that there are 4 stations in facilities that are not in full_trips:\n",
    "## antwerpen-haven, bastogne-nord, bastogne-sud and florée. These are 4 stations that are permanently closed now, so it is not interesting to take these stations into consideration\n",
    "## Hence, we will merge the same stations in full trips with facilities as we did for travelers\n",
    "len(list(set(data.facilities['name']).intersection(set(daily_trains['Name of the stop']))))\n",
    "intersection = list(set(data.facilities['name']).intersection(set(daily_trains['Name of the stop'])))\n",
    "still_needed = set(data.facilities['name']).difference(intersection)\n",
    "still_needed"
   ],
   "metadata": {
    "collapsed": false
   }
  },
  {
   "cell_type": "code",
   "execution_count": 35,
   "outputs": [
    {
     "data": {
      "text/plain": "           URI              name                    street   zip  \\\n0    008895000             aalst           Stationsplein 9  9300   \n1    008895125  aalst-kerrebroek                  Ledebaan  9300   \n2    008891140            aalter           Stationsplein 2  9880   \n3    008833209          aarschot               Statieplein  3200   \n4    008892288           aarsele       Hogenhovenstraat Zn  8700   \n..         ...               ...                       ...   ...   \n548  008832250            zolder        Stationsstraat Z/n  3550   \n549  008832334          zonhoven            Engstegenseweg  3520   \n550  008895208          zottegem          Stationsplein 12  9620   \n551  008894821       zwijndrecht                Fortlaan 1  2070   \n552  008883212       écaussinnes  Avenue De La Déportation  7190   \n\n                 city  ticket_vending_machine  luggage_lockers  free_parking  \\\n0               Aalst                     1.0              0.0           1.0   \n1               Aalst                     0.0              0.0           1.0   \n2              Aalter                     1.0              0.0           1.0   \n3            Aarschot                     1.0              0.0           1.0   \n4             Aarsele                     1.0              0.0           0.0   \n..                ...                     ...              ...           ...   \n548  Heusden - Zolder                     1.0              0.0           1.0   \n549          Zonhoven                     1.0              0.0           1.0   \n550          Zottegem                     1.0              0.0           1.0   \n551       Zwijndrecht                     1.0              0.0           1.0   \n552       Ecaussinnes                     1.0              0.0           1.0   \n\n     taxi  bicycle_spots  ...  sales_close_friday  sales_open_saturday  \\\n0     1.0            1.0  ...     0 days 20:00:00      0 days 06:00:00   \n1     0.0            0.0  ...     0 days 00:00:00      0 days 00:00:00   \n2     0.0            1.0  ...     0 days 14:15:00      0 days 07:45:00   \n3     0.0            1.0  ...     0 days 20:00:00      0 days 06:00:00   \n4     0.0            0.0  ...     0 days 00:00:00      0 days 00:00:00   \n..    ...            ...  ...                 ...                  ...   \n548   0.0            0.0  ...     0 days 00:00:00      0 days 00:00:00   \n549   0.0            0.0  ...     0 days 00:00:00      0 days 00:00:00   \n550   0.0            1.0  ...     0 days 20:00:00      0 days 07:15:00   \n551   0.0            1.0  ...     0 days 00:00:00      0 days 00:00:00   \n552   0.0            1.0  ...     0 days 00:00:00      0 days 00:00:00   \n\n     sales_close_saturday  sales_open_sunday  sales_close_sunday  \\\n0         0 days 20:00:00    0 days 06:00:00     0 days 20:00:00   \n1         0 days 00:00:00    0 days 00:00:00     0 days 00:00:00   \n2         0 days 15:00:00    0 days 07:45:00     0 days 15:00:00   \n3         0 days 20:00:00    0 days 07:00:00     0 days 14:15:00   \n4         0 days 00:00:00    0 days 00:00:00     0 days 00:00:00   \n..                    ...                ...                 ...   \n548       0 days 00:00:00    0 days 00:00:00     0 days 00:00:00   \n549       0 days 00:00:00    0 days 00:00:00     0 days 00:00:00   \n550       0 days 14:30:00    0 days 07:15:00     0 days 14:30:00   \n551       0 days 00:00:00    0 days 00:00:00     0 days 00:00:00   \n552       0 days 00:00:00    0 days 00:00:00     0 days 00:00:00   \n\n     disabled_parking_spots_indicator  number_facilities  Name of the stop  \\\n0                                   1               12.0             aalst   \n1                                   0                1.0  aalst-kerrebroek   \n2                                   1                7.0            aalter   \n3                                   1                9.0          aarschot   \n4                                   0                1.0           aarsele   \n..                                ...                ...               ...   \n548                                 1                3.0            zolder   \n549                                 1                3.0          zonhoven   \n550                                 1                8.0          zottegem   \n551                                 0                3.0       zwijndrecht   \n552                                 0                4.0       écaussinnes   \n\n     count  count_perDay  \n0     1262    180.285714  \n1       70     10.000000  \n2     1285    183.571429  \n3     1250    178.571429  \n4      268     38.285714  \n..     ...           ...  \n548    217     31.000000  \n549    217     31.000000  \n550    974    139.142857  \n551    827    118.142857  \n552    389     55.571429  \n\n[553 rows x 41 columns]",
      "text/html": "<div>\n<style scoped>\n    .dataframe tbody tr th:only-of-type {\n        vertical-align: middle;\n    }\n\n    .dataframe tbody tr th {\n        vertical-align: top;\n    }\n\n    .dataframe thead th {\n        text-align: right;\n    }\n</style>\n<table border=\"1\" class=\"dataframe\">\n  <thead>\n    <tr style=\"text-align: right;\">\n      <th></th>\n      <th>URI</th>\n      <th>name</th>\n      <th>street</th>\n      <th>zip</th>\n      <th>city</th>\n      <th>ticket_vending_machine</th>\n      <th>luggage_lockers</th>\n      <th>free_parking</th>\n      <th>taxi</th>\n      <th>bicycle_spots</th>\n      <th>...</th>\n      <th>sales_close_friday</th>\n      <th>sales_open_saturday</th>\n      <th>sales_close_saturday</th>\n      <th>sales_open_sunday</th>\n      <th>sales_close_sunday</th>\n      <th>disabled_parking_spots_indicator</th>\n      <th>number_facilities</th>\n      <th>Name of the stop</th>\n      <th>count</th>\n      <th>count_perDay</th>\n    </tr>\n  </thead>\n  <tbody>\n    <tr>\n      <th>0</th>\n      <td>008895000</td>\n      <td>aalst</td>\n      <td>Stationsplein 9</td>\n      <td>9300</td>\n      <td>Aalst</td>\n      <td>1.0</td>\n      <td>0.0</td>\n      <td>1.0</td>\n      <td>1.0</td>\n      <td>1.0</td>\n      <td>...</td>\n      <td>0 days 20:00:00</td>\n      <td>0 days 06:00:00</td>\n      <td>0 days 20:00:00</td>\n      <td>0 days 06:00:00</td>\n      <td>0 days 20:00:00</td>\n      <td>1</td>\n      <td>12.0</td>\n      <td>aalst</td>\n      <td>1262</td>\n      <td>180.285714</td>\n    </tr>\n    <tr>\n      <th>1</th>\n      <td>008895125</td>\n      <td>aalst-kerrebroek</td>\n      <td>Ledebaan</td>\n      <td>9300</td>\n      <td>Aalst</td>\n      <td>0.0</td>\n      <td>0.0</td>\n      <td>1.0</td>\n      <td>0.0</td>\n      <td>0.0</td>\n      <td>...</td>\n      <td>0 days 00:00:00</td>\n      <td>0 days 00:00:00</td>\n      <td>0 days 00:00:00</td>\n      <td>0 days 00:00:00</td>\n      <td>0 days 00:00:00</td>\n      <td>0</td>\n      <td>1.0</td>\n      <td>aalst-kerrebroek</td>\n      <td>70</td>\n      <td>10.000000</td>\n    </tr>\n    <tr>\n      <th>2</th>\n      <td>008891140</td>\n      <td>aalter</td>\n      <td>Stationsplein 2</td>\n      <td>9880</td>\n      <td>Aalter</td>\n      <td>1.0</td>\n      <td>0.0</td>\n      <td>1.0</td>\n      <td>0.0</td>\n      <td>1.0</td>\n      <td>...</td>\n      <td>0 days 14:15:00</td>\n      <td>0 days 07:45:00</td>\n      <td>0 days 15:00:00</td>\n      <td>0 days 07:45:00</td>\n      <td>0 days 15:00:00</td>\n      <td>1</td>\n      <td>7.0</td>\n      <td>aalter</td>\n      <td>1285</td>\n      <td>183.571429</td>\n    </tr>\n    <tr>\n      <th>3</th>\n      <td>008833209</td>\n      <td>aarschot</td>\n      <td>Statieplein</td>\n      <td>3200</td>\n      <td>Aarschot</td>\n      <td>1.0</td>\n      <td>0.0</td>\n      <td>1.0</td>\n      <td>0.0</td>\n      <td>1.0</td>\n      <td>...</td>\n      <td>0 days 20:00:00</td>\n      <td>0 days 06:00:00</td>\n      <td>0 days 20:00:00</td>\n      <td>0 days 07:00:00</td>\n      <td>0 days 14:15:00</td>\n      <td>1</td>\n      <td>9.0</td>\n      <td>aarschot</td>\n      <td>1250</td>\n      <td>178.571429</td>\n    </tr>\n    <tr>\n      <th>4</th>\n      <td>008892288</td>\n      <td>aarsele</td>\n      <td>Hogenhovenstraat Zn</td>\n      <td>8700</td>\n      <td>Aarsele</td>\n      <td>1.0</td>\n      <td>0.0</td>\n      <td>0.0</td>\n      <td>0.0</td>\n      <td>0.0</td>\n      <td>...</td>\n      <td>0 days 00:00:00</td>\n      <td>0 days 00:00:00</td>\n      <td>0 days 00:00:00</td>\n      <td>0 days 00:00:00</td>\n      <td>0 days 00:00:00</td>\n      <td>0</td>\n      <td>1.0</td>\n      <td>aarsele</td>\n      <td>268</td>\n      <td>38.285714</td>\n    </tr>\n    <tr>\n      <th>...</th>\n      <td>...</td>\n      <td>...</td>\n      <td>...</td>\n      <td>...</td>\n      <td>...</td>\n      <td>...</td>\n      <td>...</td>\n      <td>...</td>\n      <td>...</td>\n      <td>...</td>\n      <td>...</td>\n      <td>...</td>\n      <td>...</td>\n      <td>...</td>\n      <td>...</td>\n      <td>...</td>\n      <td>...</td>\n      <td>...</td>\n      <td>...</td>\n      <td>...</td>\n      <td>...</td>\n    </tr>\n    <tr>\n      <th>548</th>\n      <td>008832250</td>\n      <td>zolder</td>\n      <td>Stationsstraat Z/n</td>\n      <td>3550</td>\n      <td>Heusden - Zolder</td>\n      <td>1.0</td>\n      <td>0.0</td>\n      <td>1.0</td>\n      <td>0.0</td>\n      <td>0.0</td>\n      <td>...</td>\n      <td>0 days 00:00:00</td>\n      <td>0 days 00:00:00</td>\n      <td>0 days 00:00:00</td>\n      <td>0 days 00:00:00</td>\n      <td>0 days 00:00:00</td>\n      <td>1</td>\n      <td>3.0</td>\n      <td>zolder</td>\n      <td>217</td>\n      <td>31.000000</td>\n    </tr>\n    <tr>\n      <th>549</th>\n      <td>008832334</td>\n      <td>zonhoven</td>\n      <td>Engstegenseweg</td>\n      <td>3520</td>\n      <td>Zonhoven</td>\n      <td>1.0</td>\n      <td>0.0</td>\n      <td>1.0</td>\n      <td>0.0</td>\n      <td>0.0</td>\n      <td>...</td>\n      <td>0 days 00:00:00</td>\n      <td>0 days 00:00:00</td>\n      <td>0 days 00:00:00</td>\n      <td>0 days 00:00:00</td>\n      <td>0 days 00:00:00</td>\n      <td>1</td>\n      <td>3.0</td>\n      <td>zonhoven</td>\n      <td>217</td>\n      <td>31.000000</td>\n    </tr>\n    <tr>\n      <th>550</th>\n      <td>008895208</td>\n      <td>zottegem</td>\n      <td>Stationsplein 12</td>\n      <td>9620</td>\n      <td>Zottegem</td>\n      <td>1.0</td>\n      <td>0.0</td>\n      <td>1.0</td>\n      <td>0.0</td>\n      <td>1.0</td>\n      <td>...</td>\n      <td>0 days 20:00:00</td>\n      <td>0 days 07:15:00</td>\n      <td>0 days 14:30:00</td>\n      <td>0 days 07:15:00</td>\n      <td>0 days 14:30:00</td>\n      <td>1</td>\n      <td>8.0</td>\n      <td>zottegem</td>\n      <td>974</td>\n      <td>139.142857</td>\n    </tr>\n    <tr>\n      <th>551</th>\n      <td>008894821</td>\n      <td>zwijndrecht</td>\n      <td>Fortlaan 1</td>\n      <td>2070</td>\n      <td>Zwijndrecht</td>\n      <td>1.0</td>\n      <td>0.0</td>\n      <td>1.0</td>\n      <td>0.0</td>\n      <td>1.0</td>\n      <td>...</td>\n      <td>0 days 00:00:00</td>\n      <td>0 days 00:00:00</td>\n      <td>0 days 00:00:00</td>\n      <td>0 days 00:00:00</td>\n      <td>0 days 00:00:00</td>\n      <td>0</td>\n      <td>3.0</td>\n      <td>zwijndrecht</td>\n      <td>827</td>\n      <td>118.142857</td>\n    </tr>\n    <tr>\n      <th>552</th>\n      <td>008883212</td>\n      <td>écaussinnes</td>\n      <td>Avenue De La Déportation</td>\n      <td>7190</td>\n      <td>Ecaussinnes</td>\n      <td>1.0</td>\n      <td>0.0</td>\n      <td>1.0</td>\n      <td>0.0</td>\n      <td>1.0</td>\n      <td>...</td>\n      <td>0 days 00:00:00</td>\n      <td>0 days 00:00:00</td>\n      <td>0 days 00:00:00</td>\n      <td>0 days 00:00:00</td>\n      <td>0 days 00:00:00</td>\n      <td>0</td>\n      <td>4.0</td>\n      <td>écaussinnes</td>\n      <td>389</td>\n      <td>55.571429</td>\n    </tr>\n  </tbody>\n</table>\n<p>553 rows × 41 columns</p>\n</div>"
     },
     "execution_count": 35,
     "metadata": {},
     "output_type": "execute_result"
    }
   ],
   "source": [
    "merge_trains = pd.merge(data.facilities, daily_trains, left_on= 'name', right_on= 'Name of the stop')\n",
    "merge_trains"
   ],
   "metadata": {
    "collapsed": false
   }
  },
  {
   "cell_type": "code",
   "execution_count": 42,
   "outputs": [
    {
     "data": {
      "text/plain": "<class 'statsmodels.iolib.summary.Summary'>\n\"\"\"\n                            OLS Regression Results                            \n==============================================================================\nDep. Variable:      number_facilities   R-squared:                       0.178\nModel:                            OLS   Adj. R-squared:                  0.177\nMethod:                 Least Squares   F-statistic:                     119.6\nDate:                Sat, 05 Nov 2022   Prob (F-statistic):           2.47e-25\nTime:                        12:38:39   Log-Likelihood:                 206.85\nNo. Observations:                 553   AIC:                            -409.7\nDf Residuals:                     551   BIC:                            -401.1\nDf Model:                           1                                         \nCovariance Type:            nonrobust                                         \n================================================================================\n                   coef    std err          t      P>|t|      [0.025      0.975]\n--------------------------------------------------------------------------------\nconst            0.1732      0.009     18.555      0.000       0.155       0.192\ncount_perDay     0.6676      0.061     10.938      0.000       0.548       0.788\n==============================================================================\nOmnibus:                       39.538   Durbin-Watson:                   1.886\nProb(Omnibus):                  0.000   Jarque-Bera (JB):               49.182\nSkew:                           0.613   Prob(JB):                     2.09e-11\nKurtosis:                       3.794   Cond. No.                         8.69\n==============================================================================\n\nNotes:\n[1] Standard Errors assume that the covariance matrix of the errors is correctly specified.\n\"\"\"",
      "text/html": "<table class=\"simpletable\">\n<caption>OLS Regression Results</caption>\n<tr>\n  <th>Dep. Variable:</th>    <td>number_facilities</td> <th>  R-squared:         </th> <td>   0.178</td>\n</tr>\n<tr>\n  <th>Model:</th>                   <td>OLS</td>        <th>  Adj. R-squared:    </th> <td>   0.177</td>\n</tr>\n<tr>\n  <th>Method:</th>             <td>Least Squares</td>   <th>  F-statistic:       </th> <td>   119.6</td>\n</tr>\n<tr>\n  <th>Date:</th>             <td>Sat, 05 Nov 2022</td>  <th>  Prob (F-statistic):</th> <td>2.47e-25</td>\n</tr>\n<tr>\n  <th>Time:</th>                 <td>12:38:39</td>      <th>  Log-Likelihood:    </th> <td>  206.85</td>\n</tr>\n<tr>\n  <th>No. Observations:</th>      <td>   553</td>       <th>  AIC:               </th> <td>  -409.7</td>\n</tr>\n<tr>\n  <th>Df Residuals:</th>          <td>   551</td>       <th>  BIC:               </th> <td>  -401.1</td>\n</tr>\n<tr>\n  <th>Df Model:</th>              <td>     1</td>       <th>                     </th>     <td> </td>   \n</tr>\n<tr>\n  <th>Covariance Type:</th>      <td>nonrobust</td>     <th>                     </th>     <td> </td>   \n</tr>\n</table>\n<table class=\"simpletable\">\n<tr>\n        <td></td>          <th>coef</th>     <th>std err</th>      <th>t</th>      <th>P>|t|</th>  <th>[0.025</th>    <th>0.975]</th>  \n</tr>\n<tr>\n  <th>const</th>        <td>    0.1732</td> <td>    0.009</td> <td>   18.555</td> <td> 0.000</td> <td>    0.155</td> <td>    0.192</td>\n</tr>\n<tr>\n  <th>count_perDay</th> <td>    0.6676</td> <td>    0.061</td> <td>   10.938</td> <td> 0.000</td> <td>    0.548</td> <td>    0.788</td>\n</tr>\n</table>\n<table class=\"simpletable\">\n<tr>\n  <th>Omnibus:</th>       <td>39.538</td> <th>  Durbin-Watson:     </th> <td>   1.886</td>\n</tr>\n<tr>\n  <th>Prob(Omnibus):</th> <td> 0.000</td> <th>  Jarque-Bera (JB):  </th> <td>  49.182</td>\n</tr>\n<tr>\n  <th>Skew:</th>          <td> 0.613</td> <th>  Prob(JB):          </th> <td>2.09e-11</td>\n</tr>\n<tr>\n  <th>Kurtosis:</th>      <td> 3.794</td> <th>  Cond. No.          </th> <td>    8.69</td>\n</tr>\n</table><br/><br/>Notes:<br/>[1] Standard Errors assume that the covariance matrix of the errors is correctly specified."
     },
     "execution_count": 42,
     "metadata": {},
     "output_type": "execute_result"
    }
   ],
   "source": [
    "#First we need to do scaling in order to be able to compare daily travelers with daily trains:\n",
    "scaler = MinMaxScaler()\n",
    "scaler.fit(merge_trains[['count_perDay', 'number_facilities']])\n",
    "merge_trains[['count_perDay', 'number_facilities']] = scaler.transform(merge_trains[['count_perDay', 'number_facilities']])\n",
    "#univariate regression for daily travelers:\n",
    "X = merge_trains['count_perDay']\n",
    "Y = merge_trains['number_facilities']\n",
    "X = sm.add_constant(X) # adding a constant: Y = beta0 + beta1*X1 + beta2*X2 + espilon instead of Y = beta1*X1 + beta2*X2 + epsilon\n",
    "\n",
    "model = sm.OLS(Y, X).fit()\n",
    "print_model = model.summary()\n",
    "print_model"
   ],
   "metadata": {
    "collapsed": false
   }
  },
  {
   "cell_type": "code",
   "execution_count": null,
   "outputs": [],
   "source": [
    "##As we see the daily travelers Adj R² = 0.336 while the Adj R² for daily trains is only 0.177. Based on this goodness-of-fit measure we can say that daily travelers will be more a primary driver than daily trains. This is quite logical because the number of facilities is important for travelers. If you have a lot of trains but each time with a low amount of travelers, than the number of facilities will be less important than if you have a lot of travelers travelling in less trains."
   ],
   "metadata": {
    "collapsed": false
   }
  }
 ],
 "metadata": {
  "kernelspec": {
   "display_name": "Python 3",
   "language": "python",
   "name": "python3"
  },
  "language_info": {
   "codemirror_mode": {
    "name": "ipython",
    "version": 2
   },
   "file_extension": ".py",
   "mimetype": "text/x-python",
   "name": "python",
   "nbconvert_exporter": "python",
   "pygments_lexer": "ipython2",
   "version": "2.7.6"
  }
 },
 "nbformat": 4,
 "nbformat_minor": 0
}
