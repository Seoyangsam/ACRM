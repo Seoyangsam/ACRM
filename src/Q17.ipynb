{
 "cells": [
  {
   "cell_type": "code",
   "execution_count": null,
   "metadata": {
    "collapsed": true,
    "pycharm": {
     "is_executing": true
    }
   },
   "outputs": [],
   "source": [
    "import pandas as pd\n",
    "from pathlib import Path\n",
    "from pandas.api.types import is_datetime64_any_dtype as is_datetime\n",
    "import numpy as np\n",
    "import src.utils as utils\n",
    "import matplotlib.pyplot as plt\n",
    "import seaborn as sns\n",
    "from IPython.core.pylabtools import figsize\n",
    "import src.data_processing.data as data\n",
    "from shapely.geometry import Point"
   ]
  },
  {
   "cell_type": "code",
   "execution_count": null,
   "outputs": [],
   "source": [
    "#Get total number of facilities per station:\n",
    "facil_col = ['ticket_vending_machine', 'luggage_lockers', 'free_parking', 'taxi', 'bicycle_spots', 'blue-bike',\n",
    "             'bus', 'tram', 'metro', 'wheelchair_available', 'ramp', 'disabled_parking_spots', 'elevated_platform',\n",
    "             'escalator_up', 'escalator_down', 'elevator_platform', 'audio_induction_loop']\n",
    "# PROBLEM: disabled_parking_spots is the number of spots instead of a dummy indicator\n",
    "# so let's create a dummy variable\n",
    "data.facilities['disabled_parking_spots_indicator'] = np.where(data.facilities['disabled_parking_spots']==0,0,1)\n",
    "# drop old variable and add new name to our list\n",
    "facil_col.remove('disabled_parking_spots')\n",
    "facil_col = facil_col + ['disabled_parking_spots_indicator']\n",
    "# compute total number of facilities per station\n",
    "data.facilities['number_facilities'] = data.facilities[facil_col].sum(axis = 1)\n",
    "data.facilities['number_facilities']"
   ],
   "metadata": {
    "collapsed": false
   }
  },
  {
   "cell_type": "code",
   "execution_count": null,
   "outputs": [],
   "source": [
    "## Number of daily travelers\n",
    "data.travelers[\"sum\"] = data.travelers[\"week\"] + data.travelers[\"saturday\"] + data.travelers[\"sunday\"]\n",
    "len(list(set(data.facilities['name']).intersection(set(data.travelers['Station']))))\n",
    "intersection = list(set(data.facilities['name']).intersection(set(data.travelers['Station'])))\n",
    "len(intersection)\n",
    "still_needed = set(data.travelers['Station']).difference(intersection)\n",
    "still_needed\n",
    "merge = pd.merge(data.facilities, data.travelers, left_on='name', right_on='Station')\n",
    "if(merge['sum'].empty != True):\n",
    "    merge['daily_travelers'] = merge['sum']/7\n",
    "merge"
   ],
   "metadata": {
    "collapsed": false
   }
  },
  {
   "cell_type": "code",
   "execution_count": null,
   "outputs": [],
   "source": [
    "#univariate regression for daily travelers:\n",
    "import statsmodels.api as sm\n",
    "# run multivariate regression\n",
    "X = merge['daily_travelers']\n",
    "Y = merge['number_facilities']\n",
    "X = sm.add_constant(X) # adding a constant: Y = beta0 + beta1*X1 + beta2*X2 + espilon instead of Y = beta1*X1 + beta2*X2 + epsilon\n",
    "\n",
    "model = sm.OLS(Y, X).fit()\n",
    "print_model = model.summary()\n",
    "print_model"
   ],
   "metadata": {
    "collapsed": false
   }
  }
 ],
 "metadata": {
  "kernelspec": {
   "display_name": "Python 3",
   "language": "python",
   "name": "python3"
  },
  "language_info": {
   "codemirror_mode": {
    "name": "ipython",
    "version": 2
   },
   "file_extension": ".py",
   "mimetype": "text/x-python",
   "name": "python",
   "nbconvert_exporter": "python",
   "pygments_lexer": "ipython2",
   "version": "2.7.6"
  }
 },
 "nbformat": 4,
 "nbformat_minor": 0
}
