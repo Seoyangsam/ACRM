{
 "cells": [
  {
   "cell_type": "markdown",
   "source": [
    "# Question_9: Plot all train routes on a map.\n"
   ],
   "metadata": {
    "collapsed": false
   }
  },
  {
   "cell_type": "code",
   "execution_count": null,
   "outputs": [],
   "source": [
    "import pandas as pd\n",
    "import numpy as np\n",
    "import os\n",
    "import matplotlib.pyplot as plt\n",
    "from IPython.display import Image\n",
    "import glob"
   ],
   "metadata": {
    "collapsed": false
   }
  },
  {
   "cell_type": "code",
   "execution_count": 6,
   "outputs": [
    {
     "data": {
      "text/plain": "['C:\\\\users\\\\Annelien\\\\Documents\\\\SCHOOL\\\\ACRM\\\\Project NMBS\\\\group7-group-assignment-\\\\Data\\\\Trips\\\\trips_20_9.csv_processed.csv',\n 'C:\\\\users\\\\Annelien\\\\Documents\\\\SCHOOL\\\\ACRM\\\\Project NMBS\\\\group7-group-assignment-\\\\Data\\\\Trips\\\\trips_21_9.csv_processed.csv',\n 'C:\\\\users\\\\Annelien\\\\Documents\\\\SCHOOL\\\\ACRM\\\\Project NMBS\\\\group7-group-assignment-\\\\Data\\\\Trips\\\\trips_22_9.csv_processed.csv',\n 'C:\\\\users\\\\Annelien\\\\Documents\\\\SCHOOL\\\\ACRM\\\\Project NMBS\\\\group7-group-assignment-\\\\Data\\\\Trips\\\\trips_23_9.csv_processed.csv',\n 'C:\\\\users\\\\Annelien\\\\Documents\\\\SCHOOL\\\\ACRM\\\\Project NMBS\\\\group7-group-assignment-\\\\Data\\\\Trips\\\\trips_24_9.csv_processed.csv',\n 'C:\\\\users\\\\Annelien\\\\Documents\\\\SCHOOL\\\\ACRM\\\\Project NMBS\\\\group7-group-assignment-\\\\Data\\\\Trips\\\\trips_25_9.csv_processed.csv',\n 'C:\\\\users\\\\Annelien\\\\Documents\\\\SCHOOL\\\\ACRM\\\\Project NMBS\\\\group7-group-assignment-\\\\Data\\\\Trips\\\\trips_26_9.csv_processed.csv']"
     },
     "execution_count": 6,
     "metadata": {},
     "output_type": "execute_result"
    }
   ],
   "source": [
    "all_files = glob.glob(r'C:\\users\\Annelien\\Documents\\SCHOOL\\ACRM\\Project NMBS\\group7-group-assignment-\\Data\\Trips\\*.csv')\n",
    "all_files"
   ],
   "metadata": {
    "collapsed": false
   }
  },
  {
   "cell_type": "code",
   "execution_count": 7,
   "outputs": [
    {
     "data": {
      "text/plain": "   Unnamed: 0 Date of departure  Train number Relation Railway operators  \\\n0           0        2020-09-20         12408    EXTRA         SNCB/NMBS   \n1           1        2020-09-20         12941    EXTRA         SNCB/NMBS   \n2           2        2020-09-20         12410    EXTRA         SNCB/NMBS   \n3           3        2020-09-20         12410    EXTRA         SNCB/NMBS   \n4           4        2020-09-20         12442    EXTRA         SNCB/NMBS   \n\n  Railway of departure Time of real arrival Time of real departure  \\\n0                   19             09:50:07               09:50:31   \n1                  21A             18:16:52               18:16:52   \n2                   19             11:56:31               11:56:58   \n3                  NaN             12:08:31                    NaN   \n4                  NaN             22:18:13                    NaN   \n\n  Time of planned arrival Time of planned departure Direction of relation  \\\n0                09:50:00                  09:50:00                   NaN   \n1                18:12:00                  18:12:00                   NaN   \n2                11:57:00                  11:57:00                   NaN   \n3                12:09:00                       NaN                   NaN   \n4                22:20:00                       NaN                   NaN   \n\n  Name of the stop Railway of arrival Date of planned arrival  \\\n0           LOMMEL                 19     2020-09-20 00:00:00   \n1           KIEWIT                21A     2020-09-20 00:00:00   \n2         OVERPELT                 19     2020-09-20 00:00:00   \n3           HAMONT                 19     2020-09-20 00:00:00   \n4              MOL                 19     2020-09-20 00:00:00   \n\n  Date of planned departure Date of real arrival Date of real departure  \n0                2020-09-20           2020-09-20             2020-09-20  \n1                2020-09-20           2020-09-20             2020-09-20  \n2                2020-09-20           2020-09-20             2020-09-20  \n3                       NaN           2020-09-20                    NaN  \n4                       NaN           2020-09-20                    NaN  ",
      "text/html": "<div>\n<style scoped>\n    .dataframe tbody tr th:only-of-type {\n        vertical-align: middle;\n    }\n\n    .dataframe tbody tr th {\n        vertical-align: top;\n    }\n\n    .dataframe thead th {\n        text-align: right;\n    }\n</style>\n<table border=\"1\" class=\"dataframe\">\n  <thead>\n    <tr style=\"text-align: right;\">\n      <th></th>\n      <th>Unnamed: 0</th>\n      <th>Date of departure</th>\n      <th>Train number</th>\n      <th>Relation</th>\n      <th>Railway operators</th>\n      <th>Railway of departure</th>\n      <th>Time of real arrival</th>\n      <th>Time of real departure</th>\n      <th>Time of planned arrival</th>\n      <th>Time of planned departure</th>\n      <th>Direction of relation</th>\n      <th>Name of the stop</th>\n      <th>Railway of arrival</th>\n      <th>Date of planned arrival</th>\n      <th>Date of planned departure</th>\n      <th>Date of real arrival</th>\n      <th>Date of real departure</th>\n    </tr>\n  </thead>\n  <tbody>\n    <tr>\n      <th>0</th>\n      <td>0</td>\n      <td>2020-09-20</td>\n      <td>12408</td>\n      <td>EXTRA</td>\n      <td>SNCB/NMBS</td>\n      <td>19</td>\n      <td>09:50:07</td>\n      <td>09:50:31</td>\n      <td>09:50:00</td>\n      <td>09:50:00</td>\n      <td>NaN</td>\n      <td>LOMMEL</td>\n      <td>19</td>\n      <td>2020-09-20 00:00:00</td>\n      <td>2020-09-20</td>\n      <td>2020-09-20</td>\n      <td>2020-09-20</td>\n    </tr>\n    <tr>\n      <th>1</th>\n      <td>1</td>\n      <td>2020-09-20</td>\n      <td>12941</td>\n      <td>EXTRA</td>\n      <td>SNCB/NMBS</td>\n      <td>21A</td>\n      <td>18:16:52</td>\n      <td>18:16:52</td>\n      <td>18:12:00</td>\n      <td>18:12:00</td>\n      <td>NaN</td>\n      <td>KIEWIT</td>\n      <td>21A</td>\n      <td>2020-09-20 00:00:00</td>\n      <td>2020-09-20</td>\n      <td>2020-09-20</td>\n      <td>2020-09-20</td>\n    </tr>\n    <tr>\n      <th>2</th>\n      <td>2</td>\n      <td>2020-09-20</td>\n      <td>12410</td>\n      <td>EXTRA</td>\n      <td>SNCB/NMBS</td>\n      <td>19</td>\n      <td>11:56:31</td>\n      <td>11:56:58</td>\n      <td>11:57:00</td>\n      <td>11:57:00</td>\n      <td>NaN</td>\n      <td>OVERPELT</td>\n      <td>19</td>\n      <td>2020-09-20 00:00:00</td>\n      <td>2020-09-20</td>\n      <td>2020-09-20</td>\n      <td>2020-09-20</td>\n    </tr>\n    <tr>\n      <th>3</th>\n      <td>3</td>\n      <td>2020-09-20</td>\n      <td>12410</td>\n      <td>EXTRA</td>\n      <td>SNCB/NMBS</td>\n      <td>NaN</td>\n      <td>12:08:31</td>\n      <td>NaN</td>\n      <td>12:09:00</td>\n      <td>NaN</td>\n      <td>NaN</td>\n      <td>HAMONT</td>\n      <td>19</td>\n      <td>2020-09-20 00:00:00</td>\n      <td>NaN</td>\n      <td>2020-09-20</td>\n      <td>NaN</td>\n    </tr>\n    <tr>\n      <th>4</th>\n      <td>4</td>\n      <td>2020-09-20</td>\n      <td>12442</td>\n      <td>EXTRA</td>\n      <td>SNCB/NMBS</td>\n      <td>NaN</td>\n      <td>22:18:13</td>\n      <td>NaN</td>\n      <td>22:20:00</td>\n      <td>NaN</td>\n      <td>NaN</td>\n      <td>MOL</td>\n      <td>19</td>\n      <td>2020-09-20 00:00:00</td>\n      <td>NaN</td>\n      <td>2020-09-20</td>\n      <td>NaN</td>\n    </tr>\n  </tbody>\n</table>\n</div>"
     },
     "execution_count": 7,
     "metadata": {},
     "output_type": "execute_result"
    }
   ],
   "source": [
    "trips = pd.concat((pd.read_csv(f) for f in all_files))\n",
    "trips.head(5)"
   ],
   "metadata": {
    "collapsed": false
   }
  },
  {
   "cell_type": "code",
   "execution_count": null,
   "outputs": [],
   "source": [],
   "metadata": {
    "collapsed": false
   }
  }
 ],
 "metadata": {
  "kernelspec": {
   "display_name": "Python 3",
   "language": "python",
   "name": "python3"
  },
  "language_info": {
   "codemirror_mode": {
    "name": "ipython",
    "version": 2
   },
   "file_extension": ".py",
   "mimetype": "text/x-python",
   "name": "python",
   "nbconvert_exporter": "python",
   "pygments_lexer": "ipython2",
   "version": "2.7.6"
  }
 },
 "nbformat": 4,
 "nbformat_minor": 0
}
