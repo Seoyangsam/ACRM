{
 "cells": [
  {
   "cell_type": "markdown",
   "source": [
    "# Question_6: Plot how the average delay time evolves through the week"
   ],
   "metadata": {
    "collapsed": false
   }
  },
  {
   "cell_type": "code",
   "execution_count": 242,
   "outputs": [],
   "source": [
    "import pandas as pd\n",
    "import matplotlib.pyplot as plt\n",
    "import geopandas as gpd\n",
    "import glob as glob\n",
    "import datetime as date\n"
   ],
   "metadata": {
    "collapsed": false
   }
  },
  {
   "cell_type": "code",
   "execution_count": 243,
   "outputs": [
    {
     "data": {
      "text/plain": "['C:\\\\users\\\\Annelien\\\\Documents\\\\SCHOOL\\\\ACRM\\\\Project NMBS\\\\group7-group-assignment-\\\\Data\\\\Trips\\\\trips_20_9.csv_processed.csv',\n 'C:\\\\users\\\\Annelien\\\\Documents\\\\SCHOOL\\\\ACRM\\\\Project NMBS\\\\group7-group-assignment-\\\\Data\\\\Trips\\\\trips_21_9.csv_processed.csv',\n 'C:\\\\users\\\\Annelien\\\\Documents\\\\SCHOOL\\\\ACRM\\\\Project NMBS\\\\group7-group-assignment-\\\\Data\\\\Trips\\\\trips_22_9.csv_processed.csv',\n 'C:\\\\users\\\\Annelien\\\\Documents\\\\SCHOOL\\\\ACRM\\\\Project NMBS\\\\group7-group-assignment-\\\\Data\\\\Trips\\\\trips_23_9.csv_processed.csv',\n 'C:\\\\users\\\\Annelien\\\\Documents\\\\SCHOOL\\\\ACRM\\\\Project NMBS\\\\group7-group-assignment-\\\\Data\\\\Trips\\\\trips_24_9.csv_processed.csv',\n 'C:\\\\users\\\\Annelien\\\\Documents\\\\SCHOOL\\\\ACRM\\\\Project NMBS\\\\group7-group-assignment-\\\\Data\\\\Trips\\\\trips_25_9.csv_processed.csv',\n 'C:\\\\users\\\\Annelien\\\\Documents\\\\SCHOOL\\\\ACRM\\\\Project NMBS\\\\group7-group-assignment-\\\\Data\\\\Trips\\\\trips_26_9.csv_processed.csv']"
     },
     "execution_count": 243,
     "metadata": {},
     "output_type": "execute_result"
    }
   ],
   "source": [
    "all_files = glob.glob(r'C:\\users\\Annelien\\Documents\\SCHOOL\\ACRM\\Project NMBS\\group7-group-assignment-\\Data\\Trips\\*.csv')\n",
    "all_files"
   ],
   "metadata": {
    "collapsed": false
   }
  },
  {
   "cell_type": "code",
   "execution_count": 244,
   "outputs": [
    {
     "data": {
      "text/plain": "   Unnamed: 0 Date of departure  Train number Relation Railway operators  \\\n0           0        2020-09-20         12408    EXTRA         SNCB/NMBS   \n1           1        2020-09-20         12941    EXTRA         SNCB/NMBS   \n2           2        2020-09-20         12410    EXTRA         SNCB/NMBS   \n3           3        2020-09-20         12410    EXTRA         SNCB/NMBS   \n4           4        2020-09-20         12442    EXTRA         SNCB/NMBS   \n\n  Railway of departure Time of real arrival Time of real departure  \\\n0                   19             09:50:07               09:50:31   \n1                  21A             18:16:52               18:16:52   \n2                   19             11:56:31               11:56:58   \n3                  NaN             12:08:31                    NaN   \n4                  NaN             22:18:13                    NaN   \n\n  Time of planned arrival Time of planned departure Direction of relation  \\\n0                09:50:00                  09:50:00                   NaN   \n1                18:12:00                  18:12:00                   NaN   \n2                11:57:00                  11:57:00                   NaN   \n3                12:09:00                       NaN                   NaN   \n4                22:20:00                       NaN                   NaN   \n\n  Name of the stop Railway of arrival Date of planned arrival  \\\n0           LOMMEL                 19     2020-09-20 00:00:00   \n1           KIEWIT                21A     2020-09-20 00:00:00   \n2         OVERPELT                 19     2020-09-20 00:00:00   \n3           HAMONT                 19     2020-09-20 00:00:00   \n4              MOL                 19     2020-09-20 00:00:00   \n\n  Date of planned departure Date of real arrival Date of real departure  \n0                2020-09-20           2020-09-20             2020-09-20  \n1                2020-09-20           2020-09-20             2020-09-20  \n2                2020-09-20           2020-09-20             2020-09-20  \n3                       NaN           2020-09-20                    NaN  \n4                       NaN           2020-09-20                    NaN  ",
      "text/html": "<div>\n<style scoped>\n    .dataframe tbody tr th:only-of-type {\n        vertical-align: middle;\n    }\n\n    .dataframe tbody tr th {\n        vertical-align: top;\n    }\n\n    .dataframe thead th {\n        text-align: right;\n    }\n</style>\n<table border=\"1\" class=\"dataframe\">\n  <thead>\n    <tr style=\"text-align: right;\">\n      <th></th>\n      <th>Unnamed: 0</th>\n      <th>Date of departure</th>\n      <th>Train number</th>\n      <th>Relation</th>\n      <th>Railway operators</th>\n      <th>Railway of departure</th>\n      <th>Time of real arrival</th>\n      <th>Time of real departure</th>\n      <th>Time of planned arrival</th>\n      <th>Time of planned departure</th>\n      <th>Direction of relation</th>\n      <th>Name of the stop</th>\n      <th>Railway of arrival</th>\n      <th>Date of planned arrival</th>\n      <th>Date of planned departure</th>\n      <th>Date of real arrival</th>\n      <th>Date of real departure</th>\n    </tr>\n  </thead>\n  <tbody>\n    <tr>\n      <th>0</th>\n      <td>0</td>\n      <td>2020-09-20</td>\n      <td>12408</td>\n      <td>EXTRA</td>\n      <td>SNCB/NMBS</td>\n      <td>19</td>\n      <td>09:50:07</td>\n      <td>09:50:31</td>\n      <td>09:50:00</td>\n      <td>09:50:00</td>\n      <td>NaN</td>\n      <td>LOMMEL</td>\n      <td>19</td>\n      <td>2020-09-20 00:00:00</td>\n      <td>2020-09-20</td>\n      <td>2020-09-20</td>\n      <td>2020-09-20</td>\n    </tr>\n    <tr>\n      <th>1</th>\n      <td>1</td>\n      <td>2020-09-20</td>\n      <td>12941</td>\n      <td>EXTRA</td>\n      <td>SNCB/NMBS</td>\n      <td>21A</td>\n      <td>18:16:52</td>\n      <td>18:16:52</td>\n      <td>18:12:00</td>\n      <td>18:12:00</td>\n      <td>NaN</td>\n      <td>KIEWIT</td>\n      <td>21A</td>\n      <td>2020-09-20 00:00:00</td>\n      <td>2020-09-20</td>\n      <td>2020-09-20</td>\n      <td>2020-09-20</td>\n    </tr>\n    <tr>\n      <th>2</th>\n      <td>2</td>\n      <td>2020-09-20</td>\n      <td>12410</td>\n      <td>EXTRA</td>\n      <td>SNCB/NMBS</td>\n      <td>19</td>\n      <td>11:56:31</td>\n      <td>11:56:58</td>\n      <td>11:57:00</td>\n      <td>11:57:00</td>\n      <td>NaN</td>\n      <td>OVERPELT</td>\n      <td>19</td>\n      <td>2020-09-20 00:00:00</td>\n      <td>2020-09-20</td>\n      <td>2020-09-20</td>\n      <td>2020-09-20</td>\n    </tr>\n    <tr>\n      <th>3</th>\n      <td>3</td>\n      <td>2020-09-20</td>\n      <td>12410</td>\n      <td>EXTRA</td>\n      <td>SNCB/NMBS</td>\n      <td>NaN</td>\n      <td>12:08:31</td>\n      <td>NaN</td>\n      <td>12:09:00</td>\n      <td>NaN</td>\n      <td>NaN</td>\n      <td>HAMONT</td>\n      <td>19</td>\n      <td>2020-09-20 00:00:00</td>\n      <td>NaN</td>\n      <td>2020-09-20</td>\n      <td>NaN</td>\n    </tr>\n    <tr>\n      <th>4</th>\n      <td>4</td>\n      <td>2020-09-20</td>\n      <td>12442</td>\n      <td>EXTRA</td>\n      <td>SNCB/NMBS</td>\n      <td>NaN</td>\n      <td>22:18:13</td>\n      <td>NaN</td>\n      <td>22:20:00</td>\n      <td>NaN</td>\n      <td>NaN</td>\n      <td>MOL</td>\n      <td>19</td>\n      <td>2020-09-20 00:00:00</td>\n      <td>NaN</td>\n      <td>2020-09-20</td>\n      <td>NaN</td>\n    </tr>\n  </tbody>\n</table>\n</div>"
     },
     "execution_count": 244,
     "metadata": {},
     "output_type": "execute_result"
    }
   ],
   "source": [
    "df = pd.concat((pd.read_csv(f) for f in all_files))\n",
    "df.head()"
   ],
   "metadata": {
    "collapsed": false
   }
  },
  {
   "cell_type": "code",
   "execution_count": 245,
   "outputs": [
    {
     "data": {
      "text/plain": "Index(['Train number', 'Railway operators', 'Time of real arrival',\n       'Time of planned arrival', 'Date of planned arrival'],\n      dtype='object')"
     },
     "execution_count": 245,
     "metadata": {},
     "output_type": "execute_result"
    }
   ],
   "source": [
    "df = df[['Train number','Railway operators','Time of real arrival','Time of planned arrival','Date of planned arrival']]\n",
    "   #filteren op kolommen dat je nodig hebt\n",
    "df.columns"
   ],
   "metadata": {
    "collapsed": false
   }
  },
  {
   "cell_type": "code",
   "execution_count": 246,
   "outputs": [],
   "source": [
    "df.dropna(subset = ['Time of planned arrival'], inplace = True) #lege values laten vallen, want je kan hier geen delay van berekenen"
   ],
   "metadata": {
    "collapsed": false
   }
  },
  {
   "cell_type": "code",
   "execution_count": 247,
   "outputs": [
    {
     "data": {
      "text/plain": "Index(['Train number', 'Railway operators', 'Time of real arrival',\n       'Time of planned arrival', 'Date of planned arrival'],\n      dtype='object')"
     },
     "execution_count": 247,
     "metadata": {},
     "output_type": "execute_result"
    }
   ],
   "source": [
    "df.columns"
   ],
   "metadata": {
    "collapsed": false
   }
  },
  {
   "cell_type": "code",
   "execution_count": 248,
   "outputs": [
    {
     "data": {
      "text/plain": "       Train number Railway operators Time of real arrival  \\\n768              10         SNCB/NMBS             21:33:24   \n164              11         SNCB/NMBS             07:38:56   \n36329            12         SNCB/NMBS             20:09:27   \n4566             13         SNCB/NMBS             09:30:00   \n6781             14         SNCB/NMBS             17:54:22   \n\n      Time of planned arrival Date of planned arrival  \n768                  21:35:00     2020-09-26 00:00:00  \n164                  07:30:00     2020-09-26 00:00:00  \n36329                19:35:00     2020-09-25 00:00:00  \n4566                 09:30:00     2020-09-26 00:00:00  \n6781                 17:35:00     2020-09-26 00:00:00  ",
      "text/html": "<div>\n<style scoped>\n    .dataframe tbody tr th:only-of-type {\n        vertical-align: middle;\n    }\n\n    .dataframe tbody tr th {\n        vertical-align: top;\n    }\n\n    .dataframe thead th {\n        text-align: right;\n    }\n</style>\n<table border=\"1\" class=\"dataframe\">\n  <thead>\n    <tr style=\"text-align: right;\">\n      <th></th>\n      <th>Train number</th>\n      <th>Railway operators</th>\n      <th>Time of real arrival</th>\n      <th>Time of planned arrival</th>\n      <th>Date of planned arrival</th>\n    </tr>\n  </thead>\n  <tbody>\n    <tr>\n      <th>768</th>\n      <td>10</td>\n      <td>SNCB/NMBS</td>\n      <td>21:33:24</td>\n      <td>21:35:00</td>\n      <td>2020-09-26 00:00:00</td>\n    </tr>\n    <tr>\n      <th>164</th>\n      <td>11</td>\n      <td>SNCB/NMBS</td>\n      <td>07:38:56</td>\n      <td>07:30:00</td>\n      <td>2020-09-26 00:00:00</td>\n    </tr>\n    <tr>\n      <th>36329</th>\n      <td>12</td>\n      <td>SNCB/NMBS</td>\n      <td>20:09:27</td>\n      <td>19:35:00</td>\n      <td>2020-09-25 00:00:00</td>\n    </tr>\n    <tr>\n      <th>4566</th>\n      <td>13</td>\n      <td>SNCB/NMBS</td>\n      <td>09:30:00</td>\n      <td>09:30:00</td>\n      <td>2020-09-26 00:00:00</td>\n    </tr>\n    <tr>\n      <th>6781</th>\n      <td>14</td>\n      <td>SNCB/NMBS</td>\n      <td>17:54:22</td>\n      <td>17:35:00</td>\n      <td>2020-09-26 00:00:00</td>\n    </tr>\n  </tbody>\n</table>\n</div>"
     },
     "execution_count": 248,
     "metadata": {},
     "output_type": "execute_result"
    }
   ],
   "source": [
    "difference = df.sort_values(by=['Train number', 'Time of planned arrival'], ascending=True).groupby(\n",
    "    'Train number').tail(\n",
    "    1)  #je moet sorteren zowel volgens trein nummer & dan op tijd anders staan je routes niet bijeen (volgens wat gepland is! )\n",
    "# groupby ( per route wil je de vertraging berekenen & tail: de laatste houd je over omdat dit je delay is tov je aankomst)\n",
    "\n",
    "difference.head(5)"
   ],
   "metadata": {
    "collapsed": false
   }
  },
  {
   "cell_type": "code",
   "execution_count": 249,
   "outputs": [
    {
     "data": {
      "text/plain": "768       -96.0\n164       536.0\n36329    2067.0\n4566        0.0\n6781     1162.0\nName: Delta, dtype: float64"
     },
     "execution_count": 249,
     "metadata": {},
     "output_type": "execute_result"
    }
   ],
   "source": [
    "difference['Time of real arrival'] = pd.to_datetime(difference['Time of real arrival'],format='%H:%M:%S')  #je format je real arrival into datetime\n",
    "difference['Time of planned arrival'] = pd.to_datetime(difference['Time of planned arrival'],format='%H:%M:%S') #je format je planned arrival into datetime\n",
    "\n",
    "difference['Delta'] = difference.apply(lambda x: (x['Time of real arrival'] - x['Time of planned arrival']).total_seconds(),\n",
    "    axis=1)  #average delay time in seconds\n",
    "\n",
    "\n",
    "difference['Delta'].head()"
   ],
   "metadata": {
    "collapsed": false
   }
  },
  {
   "cell_type": "code",
   "execution_count": 250,
   "outputs": [
    {
     "data": {
      "text/plain": "768         0.0\n164       536.0\n36329    2067.0\n4566        0.0\n6781     1162.0\nName: Delta, dtype: float64"
     },
     "execution_count": 250,
     "metadata": {},
     "output_type": "execute_result"
    }
   ],
   "source": [
    "difference.loc[difference['Delta'] < 0, \"Delta\"]=0\n",
    "difference['Delta'].head()"
   ],
   "metadata": {
    "collapsed": false
   }
  },
  {
   "cell_type": "code",
   "execution_count": 251,
   "outputs": [],
   "source": [
    "difference['Date of planned arrival'] = pd.to_datetime(difference['Date of planned arrival'], format = '%Y-%m-%d')"
   ],
   "metadata": {
    "collapsed": false
   }
  },
  {
   "cell_type": "code",
   "execution_count": 252,
   "outputs": [],
   "source": [
    "difference['Date_of_week'] = difference['Date of planned arrival'].dt.day_name()"
   ],
   "metadata": {
    "collapsed": false
   }
  },
  {
   "cell_type": "code",
   "execution_count": 253,
   "outputs": [],
   "source": [
    "difference['DayNumber'] = difference['Date of planned arrival'].dt.weekday\n",
    "\n"
   ],
   "metadata": {
    "collapsed": false
   }
  },
  {
   "cell_type": "code",
   "execution_count": 254,
   "outputs": [],
   "source": [
    "difference = difference[['Delta','Date of planned arrival','Date_of_week','DayNumber']]\n",
    "difference = difference.groupby(['Date_of_week', 'DayNumber'])['Delta'].mean().reset_index(name='MeanPerDay')\n",
    "\n",
    "difference['MeanPerDay'] = difference['MeanPerDay'].round(0)\n",
    "difference.sort_values(by=['DayNumber'], inplace=True)"
   ],
   "metadata": {
    "collapsed": false
   }
  },
  {
   "cell_type": "code",
   "execution_count": 255,
   "outputs": [],
   "source": [
    "def addvaluelabels(x,y):\n",
    "    for i in range(len(x)):\n",
    "        plt.text(i, y[i], y[i], ha='center')"
   ],
   "metadata": {
    "collapsed": false
   }
  },
  {
   "cell_type": "code",
   "execution_count": 256,
   "outputs": [
    {
     "name": "stderr",
     "output_type": "stream",
     "text": [
      "No artists with labels found to put in legend.  Note that artists whose label start with an underscore are ignored when legend() is called with no argument.\n"
     ]
    },
    {
     "data": {
      "text/plain": "<Figure size 640x480 with 1 Axes>",
      "image/png": "[encoded data removed]"
     },
     "metadata": {},
     "output_type": "display_data"
    }
   ],
   "source": [
    "plt.bar(difference['Date_of_week'], difference['MeanPerDay'], color='blue')\n",
    "addvaluelabels(difference['Date_of_week'], difference['MeanPerDay'])\n",
    "plt.title('The average delay time evolving through the week')\n",
    "plt.xlabel(\"Day of the week\")\n",
    "plt.ylabel(\"Average delay time per day\")\n",
    "plt.legend(loc=\"upper left\")\n",
    "plt.xticks(rotation= \"vertical\")\n",
    "plt.show()\n"
   ],
   "metadata": {
    "collapsed": false
   }
  },
  {
   "cell_type": "code",
   "execution_count": null,
   "outputs": [],
   "source": [],
   "metadata": {
    "collapsed": false
   }
  }
 ],
 "metadata": {
  "kernelspec": {
   "display_name": "Python 3",
   "language": "python",
   "name": "python3"
  },
  "language_info": {
   "codemirror_mode": {
    "name": "ipython",
    "version": 2
   },
   "file_extension": ".py",
   "mimetype": "text/x-python",
   "name": "python",
   "nbconvert_exporter": "python",
   "pygments_lexer": "ipython2",
   "version": "2.7.6"
  }
 },
 "nbformat": 4,
 "nbformat_minor": 0
}
