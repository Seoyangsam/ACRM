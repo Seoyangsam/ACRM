{
 "cells": [
  {
   "cell_type": "code",
   "execution_count": 35,
   "metadata": {
    "collapsed": true
   },
   "outputs": [],
   "source": [
    "import pandas as pd\n",
    "from pathlib import Path\n",
    "from pandas.api.types import is_datetime64_any_dtype as is_datetime\n",
    "import src.utils as utils\n",
    "import matplotlib.pyplot as plt\n",
    "import seaborn as sns\n",
    "from IPython.core.pylabtools import figsize\n",
    "import src.data_processing.data as data\n",
    "from shapely.geometry import Point"
   ]
  },
  {
   "cell_type": "code",
   "execution_count": 36,
   "outputs": [
    {
     "data": {
      "text/plain": "       Unnamed: 0 Date of departure  Train number Relation Railway operators  \\\n13572       13572        2020-09-20            10      ICE         SNCB/NMBS   \n13575       13575        2020-09-20            10      ICE         SNCB/NMBS   \n14842       14842        2020-09-20            10      ICE         SNCB/NMBS   \n14845       14845        2020-09-20            10      ICE         SNCB/NMBS   \n14848       14848        2020-09-20            10      ICE         SNCB/NMBS   \n...           ...               ...           ...      ...               ...   \n6358         6358        2020-09-20         19976  IC 19-2         SNCB/NMBS   \n23009       23009        2020-09-26         19976  IC 19-2         SNCB/NMBS   \n23012       23012        2020-09-26         19976  IC 19-2         SNCB/NMBS   \n23163       23163        2020-09-26         19979  IC 19-2         SNCB/NMBS   \n23166       23166        2020-09-26         19979  IC 19-2         SNCB/NMBS   \n\n      Railway of departure Time of real arrival Time of real departure  \\\n13572                   37  2022-10-31 20:36:30    2022-10-31 20:36:30   \n13575                   37  2022-10-31 20:47:50    2022-10-31 20:47:50   \n14842                   37  2022-10-31 20:48:43    2022-10-31 20:48:43   \n14845                   36  2022-10-31 20:51:05    2022-10-31 20:52:54   \n14848                    2  2022-10-31 20:56:54    2022-10-31 20:56:54   \n...                    ...                  ...                    ...   \n6358                    94  2022-10-31 21:52:36    2022-10-31 21:53:06   \n23009                   94                  NaT    2022-10-31 21:45:05   \n23012                   94  2022-10-31 21:49:52    2022-10-31 21:50:13   \n23163                   94  2022-10-31 07:16:42    2022-10-31 07:17:50   \n23166                  NaN  2022-10-31 07:22:03                    NaT   \n\n      Time of planned arrival Time of planned departure  \\\n13572     2022-10-31 20:29:00       2022-10-31 20:29:00   \n13575     2022-10-31 20:40:00       2022-10-31 20:40:00   \n14842     2022-10-31 20:41:00       2022-10-31 20:41:00   \n14845     2022-10-31 20:44:00       2022-10-31 20:46:00   \n14848     2022-10-31 20:51:00       2022-10-31 20:51:00   \n...                       ...                       ...   \n6358      2022-10-31 21:50:00       2022-10-31 21:50:00   \n23009                     NaT       2022-10-31 21:44:00   \n23012     2022-10-31 21:48:00       2022-10-31 21:48:00   \n23163     2022-10-31 07:17:00       2022-10-31 07:17:00   \n23166     2022-10-31 07:21:00                       NaT   \n\n                          Direction of relation  Name of the stop  \\\n13572  ICE: FRANKFURT(MAIN) HBF -> BRUSSEL-ZUID        hergenrath   \n13575  ICE: FRANKFURT(MAIN) HBF -> BRUSSEL-ZUID            chênée   \n14842  ICE: FRANKFURT(MAIN) HBF -> BRUSSEL-ZUID           angleur   \n14845  ICE: FRANKFURT(MAIN) HBF -> BRUSSEL-ZUID  liège-guillemins   \n14848  ICE: FRANKFURT(MAIN) HBF -> BRUSSEL-ZUID               ans   \n...                                         ...               ...   \n6358         IC 19-2: TOURNAI -> LILLE FLANDRES         froyennes   \n23009        IC 19-2: TOURNAI -> LILLE FLANDRES           tournai   \n23012        IC 19-2: TOURNAI -> LILLE FLANDRES         froyennes   \n23163        IC 19-2: LILLE FLANDRES -> TOURNAI         froyennes   \n23166        IC 19-2: LILLE FLANDRES -> TOURNAI           tournai   \n\n      Railway of arrival Date of planned arrival Date of planned departure  \\\n13572                 37     2020-09-20 00:00:00                2020-09-20   \n13575                  3     2020-09-20 00:00:00                2020-09-20   \n14842                 37     2020-09-20 00:00:00                2020-09-20   \n14845                 37     2020-09-20 00:00:00                2020-09-20   \n14848                 36     2020-09-20 00:00:00                2020-09-20   \n...                  ...                     ...                       ...   \n6358                  94     2020-09-20 00:00:00                2020-09-20   \n23009                NaN                     NaN                2020-09-26   \n23012                 94     2020-09-26 00:00:00                2020-09-26   \n23163                 94     2020-09-26 00:00:00                2020-09-26   \n23166                 94     2020-09-26 00:00:00                       NaN   \n\n      Date of real arrival Date of real departure  Delay time  \n13572           2020-09-20             2020-09-20         450  \n13575           2020-09-20             2020-09-20         470  \n14842           2020-09-20             2020-09-20         463  \n14845           2020-09-20             2020-09-20         425  \n14848           2020-09-20             2020-09-20         354  \n...                    ...                    ...         ...  \n6358            2020-09-20             2020-09-20         156  \n23009                  NaN             2020-09-26           0  \n23012           2020-09-26             2020-09-26         112  \n23163           2020-09-26             2020-09-26           0  \n23166           2020-09-26                    NaN          63  \n\n[440943 rows x 18 columns]",
      "text/html": "<div>\n<style scoped>\n    .dataframe tbody tr th:only-of-type {\n        vertical-align: middle;\n    }\n\n    .dataframe tbody tr th {\n        vertical-align: top;\n    }\n\n    .dataframe thead th {\n        text-align: right;\n    }\n</style>\n<table border=\"1\" class=\"dataframe\">\n  <thead>\n    <tr style=\"text-align: right;\">\n      <th></th>\n      <th>Unnamed: 0</th>\n      <th>Date of departure</th>\n      <th>Train number</th>\n      <th>Relation</th>\n      <th>Railway operators</th>\n      <th>Railway of departure</th>\n      <th>Time of real arrival</th>\n      <th>Time of real departure</th>\n      <th>Time of planned arrival</th>\n      <th>Time of planned departure</th>\n      <th>Direction of relation</th>\n      <th>Name of the stop</th>\n      <th>Railway of arrival</th>\n      <th>Date of planned arrival</th>\n      <th>Date of planned departure</th>\n      <th>Date of real arrival</th>\n      <th>Date of real departure</th>\n      <th>Delay time</th>\n    </tr>\n  </thead>\n  <tbody>\n    <tr>\n      <th>13572</th>\n      <td>13572</td>\n      <td>2020-09-20</td>\n      <td>10</td>\n      <td>ICE</td>\n      <td>SNCB/NMBS</td>\n      <td>37</td>\n      <td>2022-10-31 20:36:30</td>\n      <td>2022-10-31 20:36:30</td>\n      <td>2022-10-31 20:29:00</td>\n      <td>2022-10-31 20:29:00</td>\n      <td>ICE: FRANKFURT(MAIN) HBF -&gt; BRUSSEL-ZUID</td>\n      <td>hergenrath</td>\n      <td>37</td>\n      <td>2020-09-20 00:00:00</td>\n      <td>2020-09-20</td>\n      <td>2020-09-20</td>\n      <td>2020-09-20</td>\n      <td>450</td>\n    </tr>\n    <tr>\n      <th>13575</th>\n      <td>13575</td>\n      <td>2020-09-20</td>\n      <td>10</td>\n      <td>ICE</td>\n      <td>SNCB/NMBS</td>\n      <td>37</td>\n      <td>2022-10-31 20:47:50</td>\n      <td>2022-10-31 20:47:50</td>\n      <td>2022-10-31 20:40:00</td>\n      <td>2022-10-31 20:40:00</td>\n      <td>ICE: FRANKFURT(MAIN) HBF -&gt; BRUSSEL-ZUID</td>\n      <td>chênée</td>\n      <td>3</td>\n      <td>2020-09-20 00:00:00</td>\n      <td>2020-09-20</td>\n      <td>2020-09-20</td>\n      <td>2020-09-20</td>\n      <td>470</td>\n    </tr>\n    <tr>\n      <th>14842</th>\n      <td>14842</td>\n      <td>2020-09-20</td>\n      <td>10</td>\n      <td>ICE</td>\n      <td>SNCB/NMBS</td>\n      <td>37</td>\n      <td>2022-10-31 20:48:43</td>\n      <td>2022-10-31 20:48:43</td>\n      <td>2022-10-31 20:41:00</td>\n      <td>2022-10-31 20:41:00</td>\n      <td>ICE: FRANKFURT(MAIN) HBF -&gt; BRUSSEL-ZUID</td>\n      <td>angleur</td>\n      <td>37</td>\n      <td>2020-09-20 00:00:00</td>\n      <td>2020-09-20</td>\n      <td>2020-09-20</td>\n      <td>2020-09-20</td>\n      <td>463</td>\n    </tr>\n    <tr>\n      <th>14845</th>\n      <td>14845</td>\n      <td>2020-09-20</td>\n      <td>10</td>\n      <td>ICE</td>\n      <td>SNCB/NMBS</td>\n      <td>36</td>\n      <td>2022-10-31 20:51:05</td>\n      <td>2022-10-31 20:52:54</td>\n      <td>2022-10-31 20:44:00</td>\n      <td>2022-10-31 20:46:00</td>\n      <td>ICE: FRANKFURT(MAIN) HBF -&gt; BRUSSEL-ZUID</td>\n      <td>liège-guillemins</td>\n      <td>37</td>\n      <td>2020-09-20 00:00:00</td>\n      <td>2020-09-20</td>\n      <td>2020-09-20</td>\n      <td>2020-09-20</td>\n      <td>425</td>\n    </tr>\n    <tr>\n      <th>14848</th>\n      <td>14848</td>\n      <td>2020-09-20</td>\n      <td>10</td>\n      <td>ICE</td>\n      <td>SNCB/NMBS</td>\n      <td>2</td>\n      <td>2022-10-31 20:56:54</td>\n      <td>2022-10-31 20:56:54</td>\n      <td>2022-10-31 20:51:00</td>\n      <td>2022-10-31 20:51:00</td>\n      <td>ICE: FRANKFURT(MAIN) HBF -&gt; BRUSSEL-ZUID</td>\n      <td>ans</td>\n      <td>36</td>\n      <td>2020-09-20 00:00:00</td>\n      <td>2020-09-20</td>\n      <td>2020-09-20</td>\n      <td>2020-09-20</td>\n      <td>354</td>\n    </tr>\n    <tr>\n      <th>...</th>\n      <td>...</td>\n      <td>...</td>\n      <td>...</td>\n      <td>...</td>\n      <td>...</td>\n      <td>...</td>\n      <td>...</td>\n      <td>...</td>\n      <td>...</td>\n      <td>...</td>\n      <td>...</td>\n      <td>...</td>\n      <td>...</td>\n      <td>...</td>\n      <td>...</td>\n      <td>...</td>\n      <td>...</td>\n      <td>...</td>\n    </tr>\n    <tr>\n      <th>6358</th>\n      <td>6358</td>\n      <td>2020-09-20</td>\n      <td>19976</td>\n      <td>IC 19-2</td>\n      <td>SNCB/NMBS</td>\n      <td>94</td>\n      <td>2022-10-31 21:52:36</td>\n      <td>2022-10-31 21:53:06</td>\n      <td>2022-10-31 21:50:00</td>\n      <td>2022-10-31 21:50:00</td>\n      <td>IC 19-2: TOURNAI -&gt; LILLE FLANDRES</td>\n      <td>froyennes</td>\n      <td>94</td>\n      <td>2020-09-20 00:00:00</td>\n      <td>2020-09-20</td>\n      <td>2020-09-20</td>\n      <td>2020-09-20</td>\n      <td>156</td>\n    </tr>\n    <tr>\n      <th>23009</th>\n      <td>23009</td>\n      <td>2020-09-26</td>\n      <td>19976</td>\n      <td>IC 19-2</td>\n      <td>SNCB/NMBS</td>\n      <td>94</td>\n      <td>NaT</td>\n      <td>2022-10-31 21:45:05</td>\n      <td>NaT</td>\n      <td>2022-10-31 21:44:00</td>\n      <td>IC 19-2: TOURNAI -&gt; LILLE FLANDRES</td>\n      <td>tournai</td>\n      <td>NaN</td>\n      <td>NaN</td>\n      <td>2020-09-26</td>\n      <td>NaN</td>\n      <td>2020-09-26</td>\n      <td>0</td>\n    </tr>\n    <tr>\n      <th>23012</th>\n      <td>23012</td>\n      <td>2020-09-26</td>\n      <td>19976</td>\n      <td>IC 19-2</td>\n      <td>SNCB/NMBS</td>\n      <td>94</td>\n      <td>2022-10-31 21:49:52</td>\n      <td>2022-10-31 21:50:13</td>\n      <td>2022-10-31 21:48:00</td>\n      <td>2022-10-31 21:48:00</td>\n      <td>IC 19-2: TOURNAI -&gt; LILLE FLANDRES</td>\n      <td>froyennes</td>\n      <td>94</td>\n      <td>2020-09-26 00:00:00</td>\n      <td>2020-09-26</td>\n      <td>2020-09-26</td>\n      <td>2020-09-26</td>\n      <td>112</td>\n    </tr>\n    <tr>\n      <th>23163</th>\n      <td>23163</td>\n      <td>2020-09-26</td>\n      <td>19979</td>\n      <td>IC 19-2</td>\n      <td>SNCB/NMBS</td>\n      <td>94</td>\n      <td>2022-10-31 07:16:42</td>\n      <td>2022-10-31 07:17:50</td>\n      <td>2022-10-31 07:17:00</td>\n      <td>2022-10-31 07:17:00</td>\n      <td>IC 19-2: LILLE FLANDRES -&gt; TOURNAI</td>\n      <td>froyennes</td>\n      <td>94</td>\n      <td>2020-09-26 00:00:00</td>\n      <td>2020-09-26</td>\n      <td>2020-09-26</td>\n      <td>2020-09-26</td>\n      <td>0</td>\n    </tr>\n    <tr>\n      <th>23166</th>\n      <td>23166</td>\n      <td>2020-09-26</td>\n      <td>19979</td>\n      <td>IC 19-2</td>\n      <td>SNCB/NMBS</td>\n      <td>NaN</td>\n      <td>2022-10-31 07:22:03</td>\n      <td>NaT</td>\n      <td>2022-10-31 07:21:00</td>\n      <td>NaT</td>\n      <td>IC 19-2: LILLE FLANDRES -&gt; TOURNAI</td>\n      <td>tournai</td>\n      <td>94</td>\n      <td>2020-09-26 00:00:00</td>\n      <td>NaN</td>\n      <td>2020-09-26</td>\n      <td>NaN</td>\n      <td>63</td>\n    </tr>\n  </tbody>\n</table>\n<p>440943 rows × 18 columns</p>\n</div>"
     },
     "execution_count": 36,
     "metadata": {},
     "output_type": "execute_result"
    }
   ],
   "source": [
    "X = data.full_trips['Delay time']\n",
    "full_trips_sorted = data.full_trips.sort_values(by = ['Train number' , 'Date of departure', 'Time of planned departure', ])\n",
    "full_trips_sorted"
   ],
   "metadata": {
    "collapsed": false
   }
  },
  {
   "cell_type": "code",
   "execution_count": 37,
   "outputs": [
    {
     "ename": "AttributeError",
     "evalue": "Can only use .dt accessor with datetimelike values",
     "output_type": "error",
     "traceback": [
      "\u001B[1;31m---------------------------------------------------------------------------\u001B[0m",
      "\u001B[1;31mAttributeError\u001B[0m                            Traceback (most recent call last)",
      "\u001B[1;32m~\\AppData\\Local\\Temp\\ipykernel_9764\\1631009133.py\u001B[0m in \u001B[0;36m<module>\u001B[1;34m\u001B[0m\n\u001B[0;32m      3\u001B[0m \u001B[1;32mfor\u001B[0m \u001B[0mday\u001B[0m \u001B[1;32min\u001B[0m \u001B[0mrange\u001B[0m\u001B[1;33m(\u001B[0m\u001B[1;36m20\u001B[0m\u001B[1;33m,\u001B[0m\u001B[1;36m27\u001B[0m\u001B[1;33m)\u001B[0m\u001B[1;33m:\u001B[0m\u001B[1;33m\u001B[0m\u001B[1;33m\u001B[0m\u001B[0m\n\u001B[0;32m      4\u001B[0m     \u001B[1;32mfor\u001B[0m \u001B[0mnumber\u001B[0m \u001B[1;32min\u001B[0m \u001B[0munique_trainNrs\u001B[0m\u001B[1;33m:\u001B[0m\u001B[1;33m\u001B[0m\u001B[1;33m\u001B[0m\u001B[0m\n\u001B[1;32m----> 5\u001B[1;33m         \u001B[0msubset\u001B[0m \u001B[1;33m=\u001B[0m \u001B[0mfull_trips_sorted\u001B[0m\u001B[1;33m[\u001B[0m\u001B[1;33m(\u001B[0m\u001B[0mfull_trips_sorted\u001B[0m\u001B[1;33m[\u001B[0m\u001B[1;34m'Train number'\u001B[0m\u001B[1;33m]\u001B[0m \u001B[1;33m==\u001B[0m \u001B[0mnumber\u001B[0m\u001B[1;33m)\u001B[0m \u001B[1;33m&\u001B[0m \u001B[1;33m(\u001B[0m\u001B[0mfull_trips_sorted\u001B[0m\u001B[1;33m[\u001B[0m\u001B[1;34m'Date of departure'\u001B[0m\u001B[1;33m]\u001B[0m\u001B[1;33m.\u001B[0m\u001B[0mdt\u001B[0m\u001B[1;33m.\u001B[0m\u001B[0mday\u001B[0m \u001B[1;33m==\u001B[0m \u001B[0mday\u001B[0m\u001B[1;33m)\u001B[0m\u001B[1;33m]\u001B[0m\u001B[1;33m\u001B[0m\u001B[1;33m\u001B[0m\u001B[0m\n\u001B[0m\u001B[0;32m      6\u001B[0m         \u001B[0mautocorr_list\u001B[0m\u001B[1;33m.\u001B[0m\u001B[0mappend\u001B[0m\u001B[1;33m(\u001B[0m\u001B[0msubset\u001B[0m\u001B[1;33m[\u001B[0m\u001B[1;34m'Delay time'\u001B[0m\u001B[1;33m]\u001B[0m\u001B[1;33m.\u001B[0m\u001B[0mautocorr\u001B[0m\u001B[1;33m(\u001B[0m\u001B[0mlag\u001B[0m \u001B[1;33m=\u001B[0m \u001B[1;36m1\u001B[0m\u001B[1;33m)\u001B[0m\u001B[1;33m)\u001B[0m\u001B[1;33m\u001B[0m\u001B[1;33m\u001B[0m\u001B[0m\n\u001B[0;32m      7\u001B[0m \u001B[1;33m\u001B[0m\u001B[0m\n",
      "\u001B[1;32m~\\anaconda3\\lib\\site-packages\\pandas\\core\\generic.py\u001B[0m in \u001B[0;36m__getattr__\u001B[1;34m(self, name)\u001B[0m\n\u001B[0;32m   5573\u001B[0m         ):\n\u001B[0;32m   5574\u001B[0m             \u001B[1;32mreturn\u001B[0m \u001B[0mself\u001B[0m\u001B[1;33m[\u001B[0m\u001B[0mname\u001B[0m\u001B[1;33m]\u001B[0m\u001B[1;33m\u001B[0m\u001B[1;33m\u001B[0m\u001B[0m\n\u001B[1;32m-> 5575\u001B[1;33m         \u001B[1;32mreturn\u001B[0m \u001B[0mobject\u001B[0m\u001B[1;33m.\u001B[0m\u001B[0m__getattribute__\u001B[0m\u001B[1;33m(\u001B[0m\u001B[0mself\u001B[0m\u001B[1;33m,\u001B[0m \u001B[0mname\u001B[0m\u001B[1;33m)\u001B[0m\u001B[1;33m\u001B[0m\u001B[1;33m\u001B[0m\u001B[0m\n\u001B[0m\u001B[0;32m   5576\u001B[0m \u001B[1;33m\u001B[0m\u001B[0m\n\u001B[0;32m   5577\u001B[0m     \u001B[1;32mdef\u001B[0m \u001B[0m__setattr__\u001B[0m\u001B[1;33m(\u001B[0m\u001B[0mself\u001B[0m\u001B[1;33m,\u001B[0m \u001B[0mname\u001B[0m\u001B[1;33m:\u001B[0m \u001B[0mstr\u001B[0m\u001B[1;33m,\u001B[0m \u001B[0mvalue\u001B[0m\u001B[1;33m)\u001B[0m \u001B[1;33m->\u001B[0m \u001B[1;32mNone\u001B[0m\u001B[1;33m:\u001B[0m\u001B[1;33m\u001B[0m\u001B[1;33m\u001B[0m\u001B[0m\n",
      "\u001B[1;32m~\\anaconda3\\lib\\site-packages\\pandas\\core\\accessor.py\u001B[0m in \u001B[0;36m__get__\u001B[1;34m(self, obj, cls)\u001B[0m\n\u001B[0;32m    180\u001B[0m             \u001B[1;31m# we're accessing the attribute of the class, i.e., Dataset.geo\u001B[0m\u001B[1;33m\u001B[0m\u001B[1;33m\u001B[0m\u001B[0m\n\u001B[0;32m    181\u001B[0m             \u001B[1;32mreturn\u001B[0m \u001B[0mself\u001B[0m\u001B[1;33m.\u001B[0m\u001B[0m_accessor\u001B[0m\u001B[1;33m\u001B[0m\u001B[1;33m\u001B[0m\u001B[0m\n\u001B[1;32m--> 182\u001B[1;33m         \u001B[0maccessor_obj\u001B[0m \u001B[1;33m=\u001B[0m \u001B[0mself\u001B[0m\u001B[1;33m.\u001B[0m\u001B[0m_accessor\u001B[0m\u001B[1;33m(\u001B[0m\u001B[0mobj\u001B[0m\u001B[1;33m)\u001B[0m\u001B[1;33m\u001B[0m\u001B[1;33m\u001B[0m\u001B[0m\n\u001B[0m\u001B[0;32m    183\u001B[0m         \u001B[1;31m# Replace the property with the accessor object. Inspired by:\u001B[0m\u001B[1;33m\u001B[0m\u001B[1;33m\u001B[0m\u001B[0m\n\u001B[0;32m    184\u001B[0m         \u001B[1;31m# https://www.pydanny.com/cached-property.html\u001B[0m\u001B[1;33m\u001B[0m\u001B[1;33m\u001B[0m\u001B[0m\n",
      "\u001B[1;32m~\\anaconda3\\lib\\site-packages\\pandas\\core\\indexes\\accessors.py\u001B[0m in \u001B[0;36m__new__\u001B[1;34m(cls, data)\u001B[0m\n\u001B[0;32m    507\u001B[0m             \u001B[1;32mreturn\u001B[0m \u001B[0mPeriodProperties\u001B[0m\u001B[1;33m(\u001B[0m\u001B[0mdata\u001B[0m\u001B[1;33m,\u001B[0m \u001B[0morig\u001B[0m\u001B[1;33m)\u001B[0m\u001B[1;33m\u001B[0m\u001B[1;33m\u001B[0m\u001B[0m\n\u001B[0;32m    508\u001B[0m \u001B[1;33m\u001B[0m\u001B[0m\n\u001B[1;32m--> 509\u001B[1;33m         \u001B[1;32mraise\u001B[0m \u001B[0mAttributeError\u001B[0m\u001B[1;33m(\u001B[0m\u001B[1;34m\"Can only use .dt accessor with datetimelike values\"\u001B[0m\u001B[1;33m)\u001B[0m\u001B[1;33m\u001B[0m\u001B[1;33m\u001B[0m\u001B[0m\n\u001B[0m",
      "\u001B[1;31mAttributeError\u001B[0m: Can only use .dt accessor with datetimelike values"
     ]
    }
   ],
   "source": [
    "unique_trainNrs = full_trips_sorted['Train number'].unique()\n",
    "autocorr_list = []\n",
    "for day in range(20,27):\n",
    "    for number in unique_trainNrs:\n",
    "        subset = full_trips_sorted[(full_trips_sorted['Train number'] == number) & (full_trips_sorted['Date of departure'].dt.day == day)]\n",
    "        autocorr_list.append(subset['Delay time'].autocorr(lag = 1))\n",
    "\n",
    "autocorr_list\n"
   ],
   "metadata": {
    "collapsed": false
   }
  },
  {
   "cell_type": "code",
   "execution_count": 32,
   "outputs": [
    {
     "ename": "AttributeError",
     "evalue": "Can only use .dt accessor with datetimelike values",
     "output_type": "error",
     "traceback": [
      "\u001B[1;31m---------------------------------------------------------------------------\u001B[0m",
      "\u001B[1;31mAttributeError\u001B[0m                            Traceback (most recent call last)",
      "\u001B[1;32m~\\AppData\\Local\\Temp\\ipykernel_9764\\3461529877.py\u001B[0m in \u001B[0;36m<module>\u001B[1;34m\u001B[0m\n\u001B[1;32m----> 1\u001B[1;33m \u001B[0mfull_trips_sorted\u001B[0m\u001B[1;33m[\u001B[0m\u001B[1;34m'Date of departure'\u001B[0m\u001B[1;33m]\u001B[0m\u001B[1;33m.\u001B[0m\u001B[0mdt\u001B[0m\u001B[1;33m.\u001B[0m\u001B[0mday\u001B[0m\u001B[1;33m\u001B[0m\u001B[1;33m\u001B[0m\u001B[0m\n\u001B[0m",
      "\u001B[1;32m~\\anaconda3\\lib\\site-packages\\pandas\\core\\generic.py\u001B[0m in \u001B[0;36m__getattr__\u001B[1;34m(self, name)\u001B[0m\n\u001B[0;32m   5573\u001B[0m         ):\n\u001B[0;32m   5574\u001B[0m             \u001B[1;32mreturn\u001B[0m \u001B[0mself\u001B[0m\u001B[1;33m[\u001B[0m\u001B[0mname\u001B[0m\u001B[1;33m]\u001B[0m\u001B[1;33m\u001B[0m\u001B[1;33m\u001B[0m\u001B[0m\n\u001B[1;32m-> 5575\u001B[1;33m         \u001B[1;32mreturn\u001B[0m \u001B[0mobject\u001B[0m\u001B[1;33m.\u001B[0m\u001B[0m__getattribute__\u001B[0m\u001B[1;33m(\u001B[0m\u001B[0mself\u001B[0m\u001B[1;33m,\u001B[0m \u001B[0mname\u001B[0m\u001B[1;33m)\u001B[0m\u001B[1;33m\u001B[0m\u001B[1;33m\u001B[0m\u001B[0m\n\u001B[0m\u001B[0;32m   5576\u001B[0m \u001B[1;33m\u001B[0m\u001B[0m\n\u001B[0;32m   5577\u001B[0m     \u001B[1;32mdef\u001B[0m \u001B[0m__setattr__\u001B[0m\u001B[1;33m(\u001B[0m\u001B[0mself\u001B[0m\u001B[1;33m,\u001B[0m \u001B[0mname\u001B[0m\u001B[1;33m:\u001B[0m \u001B[0mstr\u001B[0m\u001B[1;33m,\u001B[0m \u001B[0mvalue\u001B[0m\u001B[1;33m)\u001B[0m \u001B[1;33m->\u001B[0m \u001B[1;32mNone\u001B[0m\u001B[1;33m:\u001B[0m\u001B[1;33m\u001B[0m\u001B[1;33m\u001B[0m\u001B[0m\n",
      "\u001B[1;32m~\\anaconda3\\lib\\site-packages\\pandas\\core\\accessor.py\u001B[0m in \u001B[0;36m__get__\u001B[1;34m(self, obj, cls)\u001B[0m\n\u001B[0;32m    180\u001B[0m             \u001B[1;31m# we're accessing the attribute of the class, i.e., Dataset.geo\u001B[0m\u001B[1;33m\u001B[0m\u001B[1;33m\u001B[0m\u001B[0m\n\u001B[0;32m    181\u001B[0m             \u001B[1;32mreturn\u001B[0m \u001B[0mself\u001B[0m\u001B[1;33m.\u001B[0m\u001B[0m_accessor\u001B[0m\u001B[1;33m\u001B[0m\u001B[1;33m\u001B[0m\u001B[0m\n\u001B[1;32m--> 182\u001B[1;33m         \u001B[0maccessor_obj\u001B[0m \u001B[1;33m=\u001B[0m \u001B[0mself\u001B[0m\u001B[1;33m.\u001B[0m\u001B[0m_accessor\u001B[0m\u001B[1;33m(\u001B[0m\u001B[0mobj\u001B[0m\u001B[1;33m)\u001B[0m\u001B[1;33m\u001B[0m\u001B[1;33m\u001B[0m\u001B[0m\n\u001B[0m\u001B[0;32m    183\u001B[0m         \u001B[1;31m# Replace the property with the accessor object. Inspired by:\u001B[0m\u001B[1;33m\u001B[0m\u001B[1;33m\u001B[0m\u001B[0m\n\u001B[0;32m    184\u001B[0m         \u001B[1;31m# https://www.pydanny.com/cached-property.html\u001B[0m\u001B[1;33m\u001B[0m\u001B[1;33m\u001B[0m\u001B[0m\n",
      "\u001B[1;32m~\\anaconda3\\lib\\site-packages\\pandas\\core\\indexes\\accessors.py\u001B[0m in \u001B[0;36m__new__\u001B[1;34m(cls, data)\u001B[0m\n\u001B[0;32m    507\u001B[0m             \u001B[1;32mreturn\u001B[0m \u001B[0mPeriodProperties\u001B[0m\u001B[1;33m(\u001B[0m\u001B[0mdata\u001B[0m\u001B[1;33m,\u001B[0m \u001B[0morig\u001B[0m\u001B[1;33m)\u001B[0m\u001B[1;33m\u001B[0m\u001B[1;33m\u001B[0m\u001B[0m\n\u001B[0;32m    508\u001B[0m \u001B[1;33m\u001B[0m\u001B[0m\n\u001B[1;32m--> 509\u001B[1;33m         \u001B[1;32mraise\u001B[0m \u001B[0mAttributeError\u001B[0m\u001B[1;33m(\u001B[0m\u001B[1;34m\"Can only use .dt accessor with datetimelike values\"\u001B[0m\u001B[1;33m)\u001B[0m\u001B[1;33m\u001B[0m\u001B[1;33m\u001B[0m\u001B[0m\n\u001B[0m",
      "\u001B[1;31mAttributeError\u001B[0m: Can only use .dt accessor with datetimelike values"
     ]
    }
   ],
   "source": [
    "full_trips_sorted['Date of departure'].dt.day"
   ],
   "metadata": {
    "collapsed": false
   }
  }
 ],
 "metadata": {
  "kernelspec": {
   "display_name": "Python 3",
   "language": "python",
   "name": "python3"
  },
  "language_info": {
   "codemirror_mode": {
    "name": "ipython",
    "version": 2
   },
   "file_extension": ".py",
   "mimetype": "text/x-python",
   "name": "python",
   "nbconvert_exporter": "python",
   "pygments_lexer": "ipython2",
   "version": "2.7.6"
  }
 },
 "nbformat": 4,
 "nbformat_minor": 0
}
