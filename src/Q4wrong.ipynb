{
 "cells": [
  {
   "cell_type": "markdown",
   "source": [
    "# Question_4: Plot the number of stations per city in function of number of inhabitants."
   ],
   "metadata": {
    "collapsed": false
   }
  },
  {
   "cell_type": "code",
   "execution_count": 1,
   "metadata": {
    "collapsed": true
   },
   "outputs": [],
   "source": [
    "import pandas as pd\n",
    "import matplotlib.pyplot as plt\n",
    "import src.data_processing.data as data"
   ]
  },
  {
   "cell_type": "code",
   "execution_count": 10,
   "outputs": [
    {
     "data": {
      "text/plain": "           URI              name                    street   zip  \\\n2    008895000             aalst           Stationsplein 9  9300   \n3    008895125  aalst-kerrebroek                  Ledebaan  9300   \n4    008891140            aalter           Stationsplein 2  9880   \n5    008833209          aarschot               Statieplein  3200   \n6    008892288           aarsele       Hogenhovenstraat Zn  8700   \n..         ...               ...                       ...   ...   \n668  008832250            zolder        Stationsstraat Z/n  3550   \n669  008832334          zonhoven            Engstegenseweg  3520   \n670  008895208          zottegem          Stationsplein 12  9620   \n672  008894821       zwijndrecht                Fortlaan 1  2070   \n673  008883212       écaussinnes  Avenue De La Déportation  7190   \n\n                 city  ticket_vending_machine  luggage_lockers  free_parking  \\\n2               aalst                     1.0              0.0           1.0   \n3               aalst                     0.0              0.0           1.0   \n4              aalter                     1.0              0.0           1.0   \n5            aarschot                     1.0              0.0           1.0   \n6             aarsele                     1.0              0.0           0.0   \n..                ...                     ...              ...           ...   \n668  heusden - zolder                     1.0              0.0           1.0   \n669          zonhoven                     1.0              0.0           1.0   \n670          zottegem                     1.0              0.0           1.0   \n672       zwijndrecht                     1.0              0.0           1.0   \n673       ecaussinnes                     1.0              0.0           1.0   \n\n     taxi  bicycle_spots  ...  sales_open_wednesday  sales_close_wednesday  \\\n2     1.0            1.0  ...       0 days 05:45:00        0 days 20:00:00   \n3     0.0            0.0  ...       0 days 00:00:00        0 days 00:00:00   \n4     0.0            1.0  ...       0 days 07:00:00        0 days 14:15:00   \n5     0.0            1.0  ...       0 days 05:45:00        0 days 20:00:00   \n6     0.0            0.0  ...       0 days 00:00:00        0 days 00:00:00   \n..    ...            ...  ...                   ...                    ...   \n668   0.0            0.0  ...       0 days 00:00:00        0 days 00:00:00   \n669   0.0            0.0  ...       0 days 00:00:00        0 days 00:00:00   \n670   0.0            1.0  ...       0 days 05:45:00        0 days 20:00:00   \n672   0.0            1.0  ...       0 days 00:00:00        0 days 00:00:00   \n673   0.0            1.0  ...       0 days 00:00:00        0 days 00:00:00   \n\n     sales_open_thursday  sales_close_thursday  sales_open_friday  \\\n2        0 days 05:45:00       0 days 20:00:00    0 days 05:45:00   \n3        0 days 00:00:00       0 days 00:00:00    0 days 00:00:00   \n4        0 days 07:00:00       0 days 14:15:00    0 days 07:00:00   \n5        0 days 05:45:00       0 days 20:00:00    0 days 05:45:00   \n6        0 days 00:00:00       0 days 00:00:00    0 days 00:00:00   \n..                   ...                   ...                ...   \n668      0 days 00:00:00       0 days 00:00:00    0 days 00:00:00   \n669      0 days 00:00:00       0 days 00:00:00    0 days 00:00:00   \n670      0 days 05:45:00       0 days 20:00:00    0 days 05:45:00   \n672      0 days 00:00:00       0 days 00:00:00    0 days 00:00:00   \n673      0 days 00:00:00       0 days 00:00:00    0 days 00:00:00   \n\n     sales_close_friday  sales_open_saturday  sales_close_saturday  \\\n2       0 days 20:00:00      0 days 06:00:00       0 days 20:00:00   \n3       0 days 00:00:00      0 days 00:00:00       0 days 00:00:00   \n4       0 days 14:15:00      0 days 07:45:00       0 days 15:00:00   \n5       0 days 20:00:00      0 days 06:00:00       0 days 20:00:00   \n6       0 days 00:00:00      0 days 00:00:00       0 days 00:00:00   \n..                  ...                  ...                   ...   \n668     0 days 00:00:00      0 days 00:00:00       0 days 00:00:00   \n669     0 days 00:00:00      0 days 00:00:00       0 days 00:00:00   \n670     0 days 20:00:00      0 days 07:15:00       0 days 14:30:00   \n672     0 days 00:00:00      0 days 00:00:00       0 days 00:00:00   \n673     0 days 00:00:00      0 days 00:00:00       0 days 00:00:00   \n\n     sales_open_sunday  sales_close_sunday  \n2      0 days 06:00:00     0 days 20:00:00  \n3      0 days 00:00:00     0 days 00:00:00  \n4      0 days 07:45:00     0 days 15:00:00  \n5      0 days 07:00:00     0 days 14:15:00  \n6      0 days 00:00:00     0 days 00:00:00  \n..                 ...                 ...  \n668    0 days 00:00:00     0 days 00:00:00  \n669    0 days 00:00:00     0 days 00:00:00  \n670    0 days 07:15:00     0 days 14:30:00  \n672    0 days 00:00:00     0 days 00:00:00  \n673    0 days 00:00:00     0 days 00:00:00  \n\n[557 rows x 36 columns]",
      "text/html": "<div>\n<style scoped>\n    .dataframe tbody tr th:only-of-type {\n        vertical-align: middle;\n    }\n\n    .dataframe tbody tr th {\n        vertical-align: top;\n    }\n\n    .dataframe thead th {\n        text-align: right;\n    }\n</style>\n<table border=\"1\" class=\"dataframe\">\n  <thead>\n    <tr style=\"text-align: right;\">\n      <th></th>\n      <th>URI</th>\n      <th>name</th>\n      <th>street</th>\n      <th>zip</th>\n      <th>city</th>\n      <th>ticket_vending_machine</th>\n      <th>luggage_lockers</th>\n      <th>free_parking</th>\n      <th>taxi</th>\n      <th>bicycle_spots</th>\n      <th>...</th>\n      <th>sales_open_wednesday</th>\n      <th>sales_close_wednesday</th>\n      <th>sales_open_thursday</th>\n      <th>sales_close_thursday</th>\n      <th>sales_open_friday</th>\n      <th>sales_close_friday</th>\n      <th>sales_open_saturday</th>\n      <th>sales_close_saturday</th>\n      <th>sales_open_sunday</th>\n      <th>sales_close_sunday</th>\n    </tr>\n  </thead>\n  <tbody>\n    <tr>\n      <th>2</th>\n      <td>008895000</td>\n      <td>aalst</td>\n      <td>Stationsplein 9</td>\n      <td>9300</td>\n      <td>aalst</td>\n      <td>1.0</td>\n      <td>0.0</td>\n      <td>1.0</td>\n      <td>1.0</td>\n      <td>1.0</td>\n      <td>...</td>\n      <td>0 days 05:45:00</td>\n      <td>0 days 20:00:00</td>\n      <td>0 days 05:45:00</td>\n      <td>0 days 20:00:00</td>\n      <td>0 days 05:45:00</td>\n      <td>0 days 20:00:00</td>\n      <td>0 days 06:00:00</td>\n      <td>0 days 20:00:00</td>\n      <td>0 days 06:00:00</td>\n      <td>0 days 20:00:00</td>\n    </tr>\n    <tr>\n      <th>3</th>\n      <td>008895125</td>\n      <td>aalst-kerrebroek</td>\n      <td>Ledebaan</td>\n      <td>9300</td>\n      <td>aalst</td>\n      <td>0.0</td>\n      <td>0.0</td>\n      <td>1.0</td>\n      <td>0.0</td>\n      <td>0.0</td>\n      <td>...</td>\n      <td>0 days 00:00:00</td>\n      <td>0 days 00:00:00</td>\n      <td>0 days 00:00:00</td>\n      <td>0 days 00:00:00</td>\n      <td>0 days 00:00:00</td>\n      <td>0 days 00:00:00</td>\n      <td>0 days 00:00:00</td>\n      <td>0 days 00:00:00</td>\n      <td>0 days 00:00:00</td>\n      <td>0 days 00:00:00</td>\n    </tr>\n    <tr>\n      <th>4</th>\n      <td>008891140</td>\n      <td>aalter</td>\n      <td>Stationsplein 2</td>\n      <td>9880</td>\n      <td>aalter</td>\n      <td>1.0</td>\n      <td>0.0</td>\n      <td>1.0</td>\n      <td>0.0</td>\n      <td>1.0</td>\n      <td>...</td>\n      <td>0 days 07:00:00</td>\n      <td>0 days 14:15:00</td>\n      <td>0 days 07:00:00</td>\n      <td>0 days 14:15:00</td>\n      <td>0 days 07:00:00</td>\n      <td>0 days 14:15:00</td>\n      <td>0 days 07:45:00</td>\n      <td>0 days 15:00:00</td>\n      <td>0 days 07:45:00</td>\n      <td>0 days 15:00:00</td>\n    </tr>\n    <tr>\n      <th>5</th>\n      <td>008833209</td>\n      <td>aarschot</td>\n      <td>Statieplein</td>\n      <td>3200</td>\n      <td>aarschot</td>\n      <td>1.0</td>\n      <td>0.0</td>\n      <td>1.0</td>\n      <td>0.0</td>\n      <td>1.0</td>\n      <td>...</td>\n      <td>0 days 05:45:00</td>\n      <td>0 days 20:00:00</td>\n      <td>0 days 05:45:00</td>\n      <td>0 days 20:00:00</td>\n      <td>0 days 05:45:00</td>\n      <td>0 days 20:00:00</td>\n      <td>0 days 06:00:00</td>\n      <td>0 days 20:00:00</td>\n      <td>0 days 07:00:00</td>\n      <td>0 days 14:15:00</td>\n    </tr>\n    <tr>\n      <th>6</th>\n      <td>008892288</td>\n      <td>aarsele</td>\n      <td>Hogenhovenstraat Zn</td>\n      <td>8700</td>\n      <td>aarsele</td>\n      <td>1.0</td>\n      <td>0.0</td>\n      <td>0.0</td>\n      <td>0.0</td>\n      <td>0.0</td>\n      <td>...</td>\n      <td>0 days 00:00:00</td>\n      <td>0 days 00:00:00</td>\n      <td>0 days 00:00:00</td>\n      <td>0 days 00:00:00</td>\n      <td>0 days 00:00:00</td>\n      <td>0 days 00:00:00</td>\n      <td>0 days 00:00:00</td>\n      <td>0 days 00:00:00</td>\n      <td>0 days 00:00:00</td>\n      <td>0 days 00:00:00</td>\n    </tr>\n    <tr>\n      <th>...</th>\n      <td>...</td>\n      <td>...</td>\n      <td>...</td>\n      <td>...</td>\n      <td>...</td>\n      <td>...</td>\n      <td>...</td>\n      <td>...</td>\n      <td>...</td>\n      <td>...</td>\n      <td>...</td>\n      <td>...</td>\n      <td>...</td>\n      <td>...</td>\n      <td>...</td>\n      <td>...</td>\n      <td>...</td>\n      <td>...</td>\n      <td>...</td>\n      <td>...</td>\n      <td>...</td>\n    </tr>\n    <tr>\n      <th>668</th>\n      <td>008832250</td>\n      <td>zolder</td>\n      <td>Stationsstraat Z/n</td>\n      <td>3550</td>\n      <td>heusden - zolder</td>\n      <td>1.0</td>\n      <td>0.0</td>\n      <td>1.0</td>\n      <td>0.0</td>\n      <td>0.0</td>\n      <td>...</td>\n      <td>0 days 00:00:00</td>\n      <td>0 days 00:00:00</td>\n      <td>0 days 00:00:00</td>\n      <td>0 days 00:00:00</td>\n      <td>0 days 00:00:00</td>\n      <td>0 days 00:00:00</td>\n      <td>0 days 00:00:00</td>\n      <td>0 days 00:00:00</td>\n      <td>0 days 00:00:00</td>\n      <td>0 days 00:00:00</td>\n    </tr>\n    <tr>\n      <th>669</th>\n      <td>008832334</td>\n      <td>zonhoven</td>\n      <td>Engstegenseweg</td>\n      <td>3520</td>\n      <td>zonhoven</td>\n      <td>1.0</td>\n      <td>0.0</td>\n      <td>1.0</td>\n      <td>0.0</td>\n      <td>0.0</td>\n      <td>...</td>\n      <td>0 days 00:00:00</td>\n      <td>0 days 00:00:00</td>\n      <td>0 days 00:00:00</td>\n      <td>0 days 00:00:00</td>\n      <td>0 days 00:00:00</td>\n      <td>0 days 00:00:00</td>\n      <td>0 days 00:00:00</td>\n      <td>0 days 00:00:00</td>\n      <td>0 days 00:00:00</td>\n      <td>0 days 00:00:00</td>\n    </tr>\n    <tr>\n      <th>670</th>\n      <td>008895208</td>\n      <td>zottegem</td>\n      <td>Stationsplein 12</td>\n      <td>9620</td>\n      <td>zottegem</td>\n      <td>1.0</td>\n      <td>0.0</td>\n      <td>1.0</td>\n      <td>0.0</td>\n      <td>1.0</td>\n      <td>...</td>\n      <td>0 days 05:45:00</td>\n      <td>0 days 20:00:00</td>\n      <td>0 days 05:45:00</td>\n      <td>0 days 20:00:00</td>\n      <td>0 days 05:45:00</td>\n      <td>0 days 20:00:00</td>\n      <td>0 days 07:15:00</td>\n      <td>0 days 14:30:00</td>\n      <td>0 days 07:15:00</td>\n      <td>0 days 14:30:00</td>\n    </tr>\n    <tr>\n      <th>672</th>\n      <td>008894821</td>\n      <td>zwijndrecht</td>\n      <td>Fortlaan 1</td>\n      <td>2070</td>\n      <td>zwijndrecht</td>\n      <td>1.0</td>\n      <td>0.0</td>\n      <td>1.0</td>\n      <td>0.0</td>\n      <td>1.0</td>\n      <td>...</td>\n      <td>0 days 00:00:00</td>\n      <td>0 days 00:00:00</td>\n      <td>0 days 00:00:00</td>\n      <td>0 days 00:00:00</td>\n      <td>0 days 00:00:00</td>\n      <td>0 days 00:00:00</td>\n      <td>0 days 00:00:00</td>\n      <td>0 days 00:00:00</td>\n      <td>0 days 00:00:00</td>\n      <td>0 days 00:00:00</td>\n    </tr>\n    <tr>\n      <th>673</th>\n      <td>008883212</td>\n      <td>écaussinnes</td>\n      <td>Avenue De La Déportation</td>\n      <td>7190</td>\n      <td>ecaussinnes</td>\n      <td>1.0</td>\n      <td>0.0</td>\n      <td>1.0</td>\n      <td>0.0</td>\n      <td>1.0</td>\n      <td>...</td>\n      <td>0 days 00:00:00</td>\n      <td>0 days 00:00:00</td>\n      <td>0 days 00:00:00</td>\n      <td>0 days 00:00:00</td>\n      <td>0 days 00:00:00</td>\n      <td>0 days 00:00:00</td>\n      <td>0 days 00:00:00</td>\n      <td>0 days 00:00:00</td>\n      <td>0 days 00:00:00</td>\n      <td>0 days 00:00:00</td>\n    </tr>\n  </tbody>\n</table>\n<p>557 rows × 36 columns</p>\n</div>"
     },
     "execution_count": 10,
     "metadata": {},
     "output_type": "execute_result"
    }
   ],
   "source": [
    "facilities = data.facilities\n",
    "facilities[\"city\"]=facilities[\"city\"].str.lower()\n",
    "facilities\n",
    "\n"
   ],
   "metadata": {
    "collapsed": false
   }
  },
  {
   "cell_type": "code",
   "execution_count": 14,
   "outputs": [],
   "source": [
    "inhabitants_per_city = data.inhabitants_per_city\n",
    "inhabitants_per_city[\"Gemeente\"] = inhabitants_per_city[\"Gemeente\"].str.lower()"
   ],
   "metadata": {
    "collapsed": false
   }
  },
  {
   "cell_type": "code",
   "execution_count": 15,
   "outputs": [
    {
     "data": {
      "text/plain": "     Niscode       Gemeente   mannen  vrouwen    totaal\n0    11001.0     aartselaar     7334     7438     14772\n1    11002.0      antwerpen   270078   268477    538555\n2    11004.0       boechout     6728     7084     13812\n3    11005.0           boom     9545     9605     19150\n4    11007.0       borsbeek     5498     5834     11332\n..       ...            ...      ...      ...       ...\n577  93022.0      florennes     6303     5909     12212\n578  93056.0  philippeville     4680     4730      9410\n579  93088.0       walcourt     9038     9378     18416\n580  93090.0      viroinval     2907     2923      5830\n581      NaN        totalen  5773482  5932364  11705846\n\n[582 rows x 5 columns]",
      "text/html": "<div>\n<style scoped>\n    .dataframe tbody tr th:only-of-type {\n        vertical-align: middle;\n    }\n\n    .dataframe tbody tr th {\n        vertical-align: top;\n    }\n\n    .dataframe thead th {\n        text-align: right;\n    }\n</style>\n<table border=\"1\" class=\"dataframe\">\n  <thead>\n    <tr style=\"text-align: right;\">\n      <th></th>\n      <th>Niscode</th>\n      <th>Gemeente</th>\n      <th>mannen</th>\n      <th>vrouwen</th>\n      <th>totaal</th>\n    </tr>\n  </thead>\n  <tbody>\n    <tr>\n      <th>0</th>\n      <td>11001.0</td>\n      <td>aartselaar</td>\n      <td>7334</td>\n      <td>7438</td>\n      <td>14772</td>\n    </tr>\n    <tr>\n      <th>1</th>\n      <td>11002.0</td>\n      <td>antwerpen</td>\n      <td>270078</td>\n      <td>268477</td>\n      <td>538555</td>\n    </tr>\n    <tr>\n      <th>2</th>\n      <td>11004.0</td>\n      <td>boechout</td>\n      <td>6728</td>\n      <td>7084</td>\n      <td>13812</td>\n    </tr>\n    <tr>\n      <th>3</th>\n      <td>11005.0</td>\n      <td>boom</td>\n      <td>9545</td>\n      <td>9605</td>\n      <td>19150</td>\n    </tr>\n    <tr>\n      <th>4</th>\n      <td>11007.0</td>\n      <td>borsbeek</td>\n      <td>5498</td>\n      <td>5834</td>\n      <td>11332</td>\n    </tr>\n    <tr>\n      <th>...</th>\n      <td>...</td>\n      <td>...</td>\n      <td>...</td>\n      <td>...</td>\n      <td>...</td>\n    </tr>\n    <tr>\n      <th>577</th>\n      <td>93022.0</td>\n      <td>florennes</td>\n      <td>6303</td>\n      <td>5909</td>\n      <td>12212</td>\n    </tr>\n    <tr>\n      <th>578</th>\n      <td>93056.0</td>\n      <td>philippeville</td>\n      <td>4680</td>\n      <td>4730</td>\n      <td>9410</td>\n    </tr>\n    <tr>\n      <th>579</th>\n      <td>93088.0</td>\n      <td>walcourt</td>\n      <td>9038</td>\n      <td>9378</td>\n      <td>18416</td>\n    </tr>\n    <tr>\n      <th>580</th>\n      <td>93090.0</td>\n      <td>viroinval</td>\n      <td>2907</td>\n      <td>2923</td>\n      <td>5830</td>\n    </tr>\n    <tr>\n      <th>581</th>\n      <td>NaN</td>\n      <td>totalen</td>\n      <td>5773482</td>\n      <td>5932364</td>\n      <td>11705846</td>\n    </tr>\n  </tbody>\n</table>\n<p>582 rows × 5 columns</p>\n</div>"
     },
     "execution_count": 15,
     "metadata": {},
     "output_type": "execute_result"
    }
   ],
   "source": [
    "inhabitants_per_city"
   ],
   "metadata": {
    "collapsed": false
   }
  },
  {
   "cell_type": "code",
   "execution_count": 16,
   "outputs": [
    {
     "data": {
      "text/plain": "               city  NumberOfStations\n0             aalst                 2\n1            aalter                 1\n2          aarschot                 2\n3           aarsele                 1\n4    aiseau-presles                 1\n..              ...               ...\n449          zingem                 1\n450        zonhoven                 1\n451        zottegem                 1\n452           zwalm                 1\n453     zwijndrecht                 1\n\n[454 rows x 2 columns]",
      "text/html": "<div>\n<style scoped>\n    .dataframe tbody tr th:only-of-type {\n        vertical-align: middle;\n    }\n\n    .dataframe tbody tr th {\n        vertical-align: top;\n    }\n\n    .dataframe thead th {\n        text-align: right;\n    }\n</style>\n<table border=\"1\" class=\"dataframe\">\n  <thead>\n    <tr style=\"text-align: right;\">\n      <th></th>\n      <th>city</th>\n      <th>NumberOfStations</th>\n    </tr>\n  </thead>\n  <tbody>\n    <tr>\n      <th>0</th>\n      <td>aalst</td>\n      <td>2</td>\n    </tr>\n    <tr>\n      <th>1</th>\n      <td>aalter</td>\n      <td>1</td>\n    </tr>\n    <tr>\n      <th>2</th>\n      <td>aarschot</td>\n      <td>2</td>\n    </tr>\n    <tr>\n      <th>3</th>\n      <td>aarsele</td>\n      <td>1</td>\n    </tr>\n    <tr>\n      <th>4</th>\n      <td>aiseau-presles</td>\n      <td>1</td>\n    </tr>\n    <tr>\n      <th>...</th>\n      <td>...</td>\n      <td>...</td>\n    </tr>\n    <tr>\n      <th>449</th>\n      <td>zingem</td>\n      <td>1</td>\n    </tr>\n    <tr>\n      <th>450</th>\n      <td>zonhoven</td>\n      <td>1</td>\n    </tr>\n    <tr>\n      <th>451</th>\n      <td>zottegem</td>\n      <td>1</td>\n    </tr>\n    <tr>\n      <th>452</th>\n      <td>zwalm</td>\n      <td>1</td>\n    </tr>\n    <tr>\n      <th>453</th>\n      <td>zwijndrecht</td>\n      <td>1</td>\n    </tr>\n  </tbody>\n</table>\n<p>454 rows × 2 columns</p>\n</div>"
     },
     "execution_count": 16,
     "metadata": {},
     "output_type": "execute_result"
    }
   ],
   "source": [
    "facilities = facilities.sort_values(by='city').groupby('city').size().reset_index(name = 'NumberOfStations')\n",
    "facilities"
   ],
   "metadata": {
    "collapsed": false
   }
  },
  {
   "cell_type": "code",
   "execution_count": 21,
   "outputs": [
    {
     "data": {
      "text/plain": "               city  NumberOfStations  Niscode        Gemeente  mannen  \\\n0             aalst                 2  41002.0           aalst   44024   \n1            aalter                 1  44084.0          aalter   14775   \n2          aarschot                 2  24001.0        aarschot   15111   \n3    aiseau-presles                 1  52074.0  aiseau-presles    5288   \n4             alken                 1  73001.0           alken    5907   \n..              ...               ...      ...             ...     ...   \n221            zele                 1  42028.0            zele   10609   \n222        zonhoven                 1  71066.0        zonhoven   10712   \n223        zottegem                 1  41081.0        zottegem   13401   \n224           zwalm                 1  45065.0           zwalm    4096   \n225     zwijndrecht                 1  11056.0     zwijndrecht    9535   \n\n     vrouwen  totaal  \n0      45846   89870  \n1      14742   29517  \n2      15696   30807  \n3       5638   10926  \n4       5978   11885  \n..       ...     ...  \n221    10722   21331  \n222    10945   21657  \n223    14216   27617  \n224     4184    8280  \n225     9896   19431  \n\n[226 rows x 7 columns]",
      "text/html": "<div>\n<style scoped>\n    .dataframe tbody tr th:only-of-type {\n        vertical-align: middle;\n    }\n\n    .dataframe tbody tr th {\n        vertical-align: top;\n    }\n\n    .dataframe thead th {\n        text-align: right;\n    }\n</style>\n<table border=\"1\" class=\"dataframe\">\n  <thead>\n    <tr style=\"text-align: right;\">\n      <th></th>\n      <th>city</th>\n      <th>NumberOfStations</th>\n      <th>Niscode</th>\n      <th>Gemeente</th>\n      <th>mannen</th>\n      <th>vrouwen</th>\n      <th>totaal</th>\n    </tr>\n  </thead>\n  <tbody>\n    <tr>\n      <th>0</th>\n      <td>aalst</td>\n      <td>2</td>\n      <td>41002.0</td>\n      <td>aalst</td>\n      <td>44024</td>\n      <td>45846</td>\n      <td>89870</td>\n    </tr>\n    <tr>\n      <th>1</th>\n      <td>aalter</td>\n      <td>1</td>\n      <td>44084.0</td>\n      <td>aalter</td>\n      <td>14775</td>\n      <td>14742</td>\n      <td>29517</td>\n    </tr>\n    <tr>\n      <th>2</th>\n      <td>aarschot</td>\n      <td>2</td>\n      <td>24001.0</td>\n      <td>aarschot</td>\n      <td>15111</td>\n      <td>15696</td>\n      <td>30807</td>\n    </tr>\n    <tr>\n      <th>3</th>\n      <td>aiseau-presles</td>\n      <td>1</td>\n      <td>52074.0</td>\n      <td>aiseau-presles</td>\n      <td>5288</td>\n      <td>5638</td>\n      <td>10926</td>\n    </tr>\n    <tr>\n      <th>4</th>\n      <td>alken</td>\n      <td>1</td>\n      <td>73001.0</td>\n      <td>alken</td>\n      <td>5907</td>\n      <td>5978</td>\n      <td>11885</td>\n    </tr>\n    <tr>\n      <th>...</th>\n      <td>...</td>\n      <td>...</td>\n      <td>...</td>\n      <td>...</td>\n      <td>...</td>\n      <td>...</td>\n      <td>...</td>\n    </tr>\n    <tr>\n      <th>221</th>\n      <td>zele</td>\n      <td>1</td>\n      <td>42028.0</td>\n      <td>zele</td>\n      <td>10609</td>\n      <td>10722</td>\n      <td>21331</td>\n    </tr>\n    <tr>\n      <th>222</th>\n      <td>zonhoven</td>\n      <td>1</td>\n      <td>71066.0</td>\n      <td>zonhoven</td>\n      <td>10712</td>\n      <td>10945</td>\n      <td>21657</td>\n    </tr>\n    <tr>\n      <th>223</th>\n      <td>zottegem</td>\n      <td>1</td>\n      <td>41081.0</td>\n      <td>zottegem</td>\n      <td>13401</td>\n      <td>14216</td>\n      <td>27617</td>\n    </tr>\n    <tr>\n      <th>224</th>\n      <td>zwalm</td>\n      <td>1</td>\n      <td>45065.0</td>\n      <td>zwalm</td>\n      <td>4096</td>\n      <td>4184</td>\n      <td>8280</td>\n    </tr>\n    <tr>\n      <th>225</th>\n      <td>zwijndrecht</td>\n      <td>1</td>\n      <td>11056.0</td>\n      <td>zwijndrecht</td>\n      <td>9535</td>\n      <td>9896</td>\n      <td>19431</td>\n    </tr>\n  </tbody>\n</table>\n<p>226 rows × 7 columns</p>\n</div>"
     },
     "execution_count": 21,
     "metadata": {},
     "output_type": "execute_result"
    }
   ],
   "source": [
    "merged_df = facilities.merge(inhabitants_per_city, left_on=\"city\", right_on=\"Gemeente\")\n",
    "merged_df"
   ],
   "metadata": {
    "collapsed": false
   }
  },
  {
   "cell_type": "code",
   "execution_count": 26,
   "outputs": [
    {
     "data": {
      "text/plain": "                            city  NumberOfStations\n3                        aarsele                 1\n7                         ampsin                 1\n8                        angleur                 1\n10                     anseremme                 1\n13            antwerpen (ekeren)                 2\n..                           ...               ...\n442  zandbergen - geraardsbergen                 1\n445                    zeebrugge                 2\n447                       zellik                 1\n448                       zichem                 2\n449                       zingem                 1\n\n[228 rows x 2 columns]",
      "text/html": "<div>\n<style scoped>\n    .dataframe tbody tr th:only-of-type {\n        vertical-align: middle;\n    }\n\n    .dataframe tbody tr th {\n        vertical-align: top;\n    }\n\n    .dataframe thead th {\n        text-align: right;\n    }\n</style>\n<table border=\"1\" class=\"dataframe\">\n  <thead>\n    <tr style=\"text-align: right;\">\n      <th></th>\n      <th>city</th>\n      <th>NumberOfStations</th>\n    </tr>\n  </thead>\n  <tbody>\n    <tr>\n      <th>3</th>\n      <td>aarsele</td>\n      <td>1</td>\n    </tr>\n    <tr>\n      <th>7</th>\n      <td>ampsin</td>\n      <td>1</td>\n    </tr>\n    <tr>\n      <th>8</th>\n      <td>angleur</td>\n      <td>1</td>\n    </tr>\n    <tr>\n      <th>10</th>\n      <td>anseremme</td>\n      <td>1</td>\n    </tr>\n    <tr>\n      <th>13</th>\n      <td>antwerpen (ekeren)</td>\n      <td>2</td>\n    </tr>\n    <tr>\n      <th>...</th>\n      <td>...</td>\n      <td>...</td>\n    </tr>\n    <tr>\n      <th>442</th>\n      <td>zandbergen - geraardsbergen</td>\n      <td>1</td>\n    </tr>\n    <tr>\n      <th>445</th>\n      <td>zeebrugge</td>\n      <td>2</td>\n    </tr>\n    <tr>\n      <th>447</th>\n      <td>zellik</td>\n      <td>1</td>\n    </tr>\n    <tr>\n      <th>448</th>\n      <td>zichem</td>\n      <td>2</td>\n    </tr>\n    <tr>\n      <th>449</th>\n      <td>zingem</td>\n      <td>1</td>\n    </tr>\n  </tbody>\n</table>\n<p>228 rows × 2 columns</p>\n</div>"
     },
     "execution_count": 26,
     "metadata": {},
     "output_type": "execute_result"
    }
   ],
   "source": [
    "facilities[~facilities[\"city\"].isin(inhabitants_per_city[\"Gemeente\"])]"
   ],
   "metadata": {
    "collapsed": false
   }
  },
  {
   "cell_type": "code",
   "execution_count": 24,
   "outputs": [
    {
     "data": {
      "text/plain": "               city  NumberOfStations_x  Niscode        Gemeente  mannen  \\\n0             aalst                   2  41002.0           aalst   44024   \n1            aalter                   1  44084.0          aalter   14775   \n2          aarschot                   2  24001.0        aarschot   15111   \n3    aiseau-presles                   1  52074.0  aiseau-presles    5288   \n4             alken                   1  73001.0           alken    5907   \n..              ...                 ...      ...             ...     ...   \n221            zele                   1  42028.0            zele   10609   \n222        zonhoven                   1  71066.0        zonhoven   10712   \n223        zottegem                   1  41081.0        zottegem   13401   \n224           zwalm                   1  45065.0           zwalm    4096   \n225     zwijndrecht                   1  11056.0     zwijndrecht    9535   \n\n     vrouwen  totaal  NumberOfStations_y  \n0      45846   89870                   2  \n1      14742   29517                   1  \n2      15696   30807                   2  \n3       5638   10926                   1  \n4       5978   11885                   1  \n..       ...     ...                 ...  \n221    10722   21331                   1  \n222    10945   21657                   1  \n223    14216   27617                   1  \n224     4184    8280                   1  \n225     9896   19431                   1  \n\n[226 rows x 8 columns]",
      "text/html": "<div>\n<style scoped>\n    .dataframe tbody tr th:only-of-type {\n        vertical-align: middle;\n    }\n\n    .dataframe tbody tr th {\n        vertical-align: top;\n    }\n\n    .dataframe thead th {\n        text-align: right;\n    }\n</style>\n<table border=\"1\" class=\"dataframe\">\n  <thead>\n    <tr style=\"text-align: right;\">\n      <th></th>\n      <th>city</th>\n      <th>NumberOfStations_x</th>\n      <th>Niscode</th>\n      <th>Gemeente</th>\n      <th>mannen</th>\n      <th>vrouwen</th>\n      <th>totaal</th>\n      <th>NumberOfStations_y</th>\n    </tr>\n  </thead>\n  <tbody>\n    <tr>\n      <th>0</th>\n      <td>aalst</td>\n      <td>2</td>\n      <td>41002.0</td>\n      <td>aalst</td>\n      <td>44024</td>\n      <td>45846</td>\n      <td>89870</td>\n      <td>2</td>\n    </tr>\n    <tr>\n      <th>1</th>\n      <td>aalter</td>\n      <td>1</td>\n      <td>44084.0</td>\n      <td>aalter</td>\n      <td>14775</td>\n      <td>14742</td>\n      <td>29517</td>\n      <td>1</td>\n    </tr>\n    <tr>\n      <th>2</th>\n      <td>aarschot</td>\n      <td>2</td>\n      <td>24001.0</td>\n      <td>aarschot</td>\n      <td>15111</td>\n      <td>15696</td>\n      <td>30807</td>\n      <td>2</td>\n    </tr>\n    <tr>\n      <th>3</th>\n      <td>aiseau-presles</td>\n      <td>1</td>\n      <td>52074.0</td>\n      <td>aiseau-presles</td>\n      <td>5288</td>\n      <td>5638</td>\n      <td>10926</td>\n      <td>1</td>\n    </tr>\n    <tr>\n      <th>4</th>\n      <td>alken</td>\n      <td>1</td>\n      <td>73001.0</td>\n      <td>alken</td>\n      <td>5907</td>\n      <td>5978</td>\n      <td>11885</td>\n      <td>1</td>\n    </tr>\n    <tr>\n      <th>...</th>\n      <td>...</td>\n      <td>...</td>\n      <td>...</td>\n      <td>...</td>\n      <td>...</td>\n      <td>...</td>\n      <td>...</td>\n      <td>...</td>\n    </tr>\n    <tr>\n      <th>221</th>\n      <td>zele</td>\n      <td>1</td>\n      <td>42028.0</td>\n      <td>zele</td>\n      <td>10609</td>\n      <td>10722</td>\n      <td>21331</td>\n      <td>1</td>\n    </tr>\n    <tr>\n      <th>222</th>\n      <td>zonhoven</td>\n      <td>1</td>\n      <td>71066.0</td>\n      <td>zonhoven</td>\n      <td>10712</td>\n      <td>10945</td>\n      <td>21657</td>\n      <td>1</td>\n    </tr>\n    <tr>\n      <th>223</th>\n      <td>zottegem</td>\n      <td>1</td>\n      <td>41081.0</td>\n      <td>zottegem</td>\n      <td>13401</td>\n      <td>14216</td>\n      <td>27617</td>\n      <td>1</td>\n    </tr>\n    <tr>\n      <th>224</th>\n      <td>zwalm</td>\n      <td>1</td>\n      <td>45065.0</td>\n      <td>zwalm</td>\n      <td>4096</td>\n      <td>4184</td>\n      <td>8280</td>\n      <td>1</td>\n    </tr>\n    <tr>\n      <th>225</th>\n      <td>zwijndrecht</td>\n      <td>1</td>\n      <td>11056.0</td>\n      <td>zwijndrecht</td>\n      <td>9535</td>\n      <td>9896</td>\n      <td>19431</td>\n      <td>1</td>\n    </tr>\n  </tbody>\n</table>\n<p>226 rows × 8 columns</p>\n</div>"
     },
     "execution_count": 24,
     "metadata": {},
     "output_type": "execute_result"
    }
   ],
   "source": [],
   "metadata": {
    "collapsed": false
   }
  },
  {
   "cell_type": "code",
   "execution_count": null,
   "outputs": [],
   "source": [],
   "metadata": {
    "collapsed": false
   }
  }
 ],
 "metadata": {
  "kernelspec": {
   "display_name": "Python 3",
   "language": "python",
   "name": "python3"
  },
  "language_info": {
   "codemirror_mode": {
    "name": "ipython",
    "version": 2
   },
   "file_extension": ".py",
   "mimetype": "text/x-python",
   "name": "python",
   "nbconvert_exporter": "python",
   "pygments_lexer": "ipython2",
   "version": "2.7.6"
  }
 },
 "nbformat": 4,
 "nbformat_minor": 0
}
