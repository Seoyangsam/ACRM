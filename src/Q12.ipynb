{
 "cells": [
  {
   "cell_type": "markdown",
   "source": [
    "# 12. Which cities are the worst with regard to access to train facilities? You can do this by calculating the travel distance, travel time, … Would you recommend based on this, and the visualization in Q5, to create some new routes?"
   ],
   "metadata": {
    "collapsed": false
   }
  },
  {
   "cell_type": "code",
   "execution_count": 4,
   "metadata": {
    "collapsed": true
   },
   "outputs": [],
   "source": [
    "import src.data_processing.data as data\n",
    "import matplotlib.pyplot as plt"
   ]
  },
  {
   "cell_type": "code",
   "execution_count": 5,
   "outputs": [],
   "source": [
    "facilities = data.facilities"
   ],
   "metadata": {
    "collapsed": false
   }
  },
  {
   "cell_type": "markdown",
   "source": [
    "The 10 stations with the least number of facilities"
   ],
   "metadata": {
    "collapsed": false
   }
  },
  {
   "cell_type": "code",
   "execution_count": 6,
   "outputs": [
    {
     "data": {
      "text/plain": "                  name  count\n56           bambrugge    0.0\n61       bastogne-nord    0.0\n62        bastogne-sud    0.0\n68             beignée    0.0\n88              bleret    0.0\n103       bracquegnies    0.0\n125         callenelle    0.0\n126    cambron-casteau    0.0\n129         carlsbourg    0.0\n157            de hoek    0.0\n198          erpe-mere    0.0\n219    flemalle-grande    0.0\n225             florée    0.0\n227           forchies    0.0\n231        franchimont    0.0\n271     ham-sur-sambre    0.0\n281        haute-flône    0.0\n307           holleken    0.0\n324  jemeppe-sur-meuse    0.0\n361              leman    0.0\n414    marchienne-zone    0.0\n511    pont-de-seraing    0.0\n555           sclessin    0.0\n623         vijfhuizen    0.0\n665             zellik    0.0",
      "text/html": "<div>\n<style scoped>\n    .dataframe tbody tr th:only-of-type {\n        vertical-align: middle;\n    }\n\n    .dataframe tbody tr th {\n        vertical-align: top;\n    }\n\n    .dataframe thead th {\n        text-align: right;\n    }\n</style>\n<table border=\"1\" class=\"dataframe\">\n  <thead>\n    <tr style=\"text-align: right;\">\n      <th></th>\n      <th>name</th>\n      <th>count</th>\n    </tr>\n  </thead>\n  <tbody>\n    <tr>\n      <th>56</th>\n      <td>bambrugge</td>\n      <td>0.0</td>\n    </tr>\n    <tr>\n      <th>61</th>\n      <td>bastogne-nord</td>\n      <td>0.0</td>\n    </tr>\n    <tr>\n      <th>62</th>\n      <td>bastogne-sud</td>\n      <td>0.0</td>\n    </tr>\n    <tr>\n      <th>68</th>\n      <td>beignée</td>\n      <td>0.0</td>\n    </tr>\n    <tr>\n      <th>88</th>\n      <td>bleret</td>\n      <td>0.0</td>\n    </tr>\n    <tr>\n      <th>103</th>\n      <td>bracquegnies</td>\n      <td>0.0</td>\n    </tr>\n    <tr>\n      <th>125</th>\n      <td>callenelle</td>\n      <td>0.0</td>\n    </tr>\n    <tr>\n      <th>126</th>\n      <td>cambron-casteau</td>\n      <td>0.0</td>\n    </tr>\n    <tr>\n      <th>129</th>\n      <td>carlsbourg</td>\n      <td>0.0</td>\n    </tr>\n    <tr>\n      <th>157</th>\n      <td>de hoek</td>\n      <td>0.0</td>\n    </tr>\n    <tr>\n      <th>198</th>\n      <td>erpe-mere</td>\n      <td>0.0</td>\n    </tr>\n    <tr>\n      <th>219</th>\n      <td>flemalle-grande</td>\n      <td>0.0</td>\n    </tr>\n    <tr>\n      <th>225</th>\n      <td>florée</td>\n      <td>0.0</td>\n    </tr>\n    <tr>\n      <th>227</th>\n      <td>forchies</td>\n      <td>0.0</td>\n    </tr>\n    <tr>\n      <th>231</th>\n      <td>franchimont</td>\n      <td>0.0</td>\n    </tr>\n    <tr>\n      <th>271</th>\n      <td>ham-sur-sambre</td>\n      <td>0.0</td>\n    </tr>\n    <tr>\n      <th>281</th>\n      <td>haute-flône</td>\n      <td>0.0</td>\n    </tr>\n    <tr>\n      <th>307</th>\n      <td>holleken</td>\n      <td>0.0</td>\n    </tr>\n    <tr>\n      <th>324</th>\n      <td>jemeppe-sur-meuse</td>\n      <td>0.0</td>\n    </tr>\n    <tr>\n      <th>361</th>\n      <td>leman</td>\n      <td>0.0</td>\n    </tr>\n    <tr>\n      <th>414</th>\n      <td>marchienne-zone</td>\n      <td>0.0</td>\n    </tr>\n    <tr>\n      <th>511</th>\n      <td>pont-de-seraing</td>\n      <td>0.0</td>\n    </tr>\n    <tr>\n      <th>555</th>\n      <td>sclessin</td>\n      <td>0.0</td>\n    </tr>\n    <tr>\n      <th>623</th>\n      <td>vijfhuizen</td>\n      <td>0.0</td>\n    </tr>\n    <tr>\n      <th>665</th>\n      <td>zellik</td>\n      <td>0.0</td>\n    </tr>\n  </tbody>\n</table>\n</div>"
     },
     "execution_count": 6,
     "metadata": {},
     "output_type": "execute_result"
    }
   ],
   "source": [
    "facilities['count'] = facilities.loc[:,['ticket_vending_machine',\n",
    "       'luggage_lockers', 'free_parking', 'taxi', 'bicycle_spots', 'blue-bike',\n",
    "       'bus', 'tram', 'metro', 'wheelchair_available', 'ramp',\n",
    "       'disabled_parking_spots', 'elevated_platform', 'escalator_up',\n",
    "       'escalator_down', 'elevator_platform', 'audio_induction_loop']].sum(axis=1)\n",
    "facilities[facilities[\"count\"] == 0][[\"name\" , \"count\"]]"
   ],
   "metadata": {
    "collapsed": false
   }
  },
  {
   "cell_type": "code",
   "execution_count": 7,
   "outputs": [
    {
     "data": {
      "text/plain": "         URI_x              name                    street   zip  \\\n0    008895000             aalst           Stationsplein 9  9300   \n1    008895125  aalst-kerrebroek                  Ledebaan  9300   \n2    008891140            aalter           Stationsplein 2  9880   \n3    008833209          aarschot               Statieplein  3200   \n4    008892288           aarsele       Hogenhovenstraat Zn  8700   \n..         ...               ...                       ...   ...   \n550  008832250            zolder        Stationsstraat Z/n  3550   \n551  008832334          zonhoven            Engstegenseweg  3520   \n552  008895208          zottegem          Stationsplein 12  9620   \n553  008894821       zwijndrecht                Fortlaan 1  2070   \n554  008883212       écaussinnes  Avenue De La Déportation  7190   \n\n                 city  ticket_vending_machine  luggage_lockers  free_parking  \\\n0               Aalst                     1.0              0.0           1.0   \n1               Aalst                     0.0              0.0           1.0   \n2              Aalter                     1.0              0.0           1.0   \n3            Aarschot                     1.0              0.0           1.0   \n4             Aarsele                     1.0              0.0           0.0   \n..                ...                     ...              ...           ...   \n550  Heusden - Zolder                     1.0              0.0           1.0   \n551          Zonhoven                     1.0              0.0           1.0   \n552          Zottegem                     1.0              0.0           1.0   \n553       Zwijndrecht                     1.0              0.0           1.0   \n554       Ecaussinnes                     1.0              0.0           1.0   \n\n     taxi  bicycle_spots  ...  sales_close_saturday  sales_open_sunday  \\\n0     1.0            1.0  ...       0 days 20:00:00    0 days 06:00:00   \n1     0.0            0.0  ...       0 days 00:00:00    0 days 00:00:00   \n2     0.0            1.0  ...       0 days 15:00:00    0 days 07:45:00   \n3     0.0            1.0  ...       0 days 20:00:00    0 days 07:00:00   \n4     0.0            0.0  ...       0 days 00:00:00    0 days 00:00:00   \n..    ...            ...  ...                   ...                ...   \n550   0.0            0.0  ...       0 days 00:00:00    0 days 00:00:00   \n551   0.0            0.0  ...       0 days 00:00:00    0 days 00:00:00   \n552   0.0            1.0  ...       0 days 14:30:00    0 days 07:15:00   \n553   0.0            1.0  ...       0 days 00:00:00    0 days 00:00:00   \n554   0.0            1.0  ...       0 days 00:00:00    0 days 00:00:00   \n\n     sales_close_sunday  count      URI_y  country-code  longitude   latitude  \\\n0       0 days 20:00:00   12.0  008895000            be   4.039653  50.942813   \n1       0 days 00:00:00    1.0  008895125            be   4.024407  50.948377   \n2       0 days 15:00:00    7.0  008891140            be   3.447848  51.092295   \n3       0 days 14:15:00    9.0  008833209            be   4.824043  50.984406   \n4       0 days 00:00:00    1.0  008892288            be   3.418363  50.984460   \n..                  ...    ...        ...           ...        ...        ...   \n550     0 days 00:00:00    3.0  008832250            be   5.329900  51.033548   \n551     0 days 00:00:00    3.0  008832334            be   5.348815  50.989557   \n552     0 days 14:30:00    8.0  008895208            be   3.814410  50.869102   \n553     0 days 00:00:00    3.0  008894821            be   4.329780  51.214108   \n554     0 days 00:00:00    4.0  008883212            be   4.156639  50.562390   \n\n     avg_stop_times  official_transfer_time  \n0        157.425373                   300.0  \n1          7.731343                   300.0  \n2        188.276119                   240.0  \n3        171.664179                   240.0  \n4         37.365672                   300.0  \n..              ...                     ...  \n550       30.910448                   300.0  \n551       30.910448                   300.0  \n552      161.223881                   240.0  \n553      150.514925                   300.0  \n554       60.044776                   300.0  \n\n[555 rows x 43 columns]",
      "text/html": "<div>\n<style scoped>\n    .dataframe tbody tr th:only-of-type {\n        vertical-align: middle;\n    }\n\n    .dataframe tbody tr th {\n        vertical-align: top;\n    }\n\n    .dataframe thead th {\n        text-align: right;\n    }\n</style>\n<table border=\"1\" class=\"dataframe\">\n  <thead>\n    <tr style=\"text-align: right;\">\n      <th></th>\n      <th>URI_x</th>\n      <th>name</th>\n      <th>street</th>\n      <th>zip</th>\n      <th>city</th>\n      <th>ticket_vending_machine</th>\n      <th>luggage_lockers</th>\n      <th>free_parking</th>\n      <th>taxi</th>\n      <th>bicycle_spots</th>\n      <th>...</th>\n      <th>sales_close_saturday</th>\n      <th>sales_open_sunday</th>\n      <th>sales_close_sunday</th>\n      <th>count</th>\n      <th>URI_y</th>\n      <th>country-code</th>\n      <th>longitude</th>\n      <th>latitude</th>\n      <th>avg_stop_times</th>\n      <th>official_transfer_time</th>\n    </tr>\n  </thead>\n  <tbody>\n    <tr>\n      <th>0</th>\n      <td>008895000</td>\n      <td>aalst</td>\n      <td>Stationsplein 9</td>\n      <td>9300</td>\n      <td>Aalst</td>\n      <td>1.0</td>\n      <td>0.0</td>\n      <td>1.0</td>\n      <td>1.0</td>\n      <td>1.0</td>\n      <td>...</td>\n      <td>0 days 20:00:00</td>\n      <td>0 days 06:00:00</td>\n      <td>0 days 20:00:00</td>\n      <td>12.0</td>\n      <td>008895000</td>\n      <td>be</td>\n      <td>4.039653</td>\n      <td>50.942813</td>\n      <td>157.425373</td>\n      <td>300.0</td>\n    </tr>\n    <tr>\n      <th>1</th>\n      <td>008895125</td>\n      <td>aalst-kerrebroek</td>\n      <td>Ledebaan</td>\n      <td>9300</td>\n      <td>Aalst</td>\n      <td>0.0</td>\n      <td>0.0</td>\n      <td>1.0</td>\n      <td>0.0</td>\n      <td>0.0</td>\n      <td>...</td>\n      <td>0 days 00:00:00</td>\n      <td>0 days 00:00:00</td>\n      <td>0 days 00:00:00</td>\n      <td>1.0</td>\n      <td>008895125</td>\n      <td>be</td>\n      <td>4.024407</td>\n      <td>50.948377</td>\n      <td>7.731343</td>\n      <td>300.0</td>\n    </tr>\n    <tr>\n      <th>2</th>\n      <td>008891140</td>\n      <td>aalter</td>\n      <td>Stationsplein 2</td>\n      <td>9880</td>\n      <td>Aalter</td>\n      <td>1.0</td>\n      <td>0.0</td>\n      <td>1.0</td>\n      <td>0.0</td>\n      <td>1.0</td>\n      <td>...</td>\n      <td>0 days 15:00:00</td>\n      <td>0 days 07:45:00</td>\n      <td>0 days 15:00:00</td>\n      <td>7.0</td>\n      <td>008891140</td>\n      <td>be</td>\n      <td>3.447848</td>\n      <td>51.092295</td>\n      <td>188.276119</td>\n      <td>240.0</td>\n    </tr>\n    <tr>\n      <th>3</th>\n      <td>008833209</td>\n      <td>aarschot</td>\n      <td>Statieplein</td>\n      <td>3200</td>\n      <td>Aarschot</td>\n      <td>1.0</td>\n      <td>0.0</td>\n      <td>1.0</td>\n      <td>0.0</td>\n      <td>1.0</td>\n      <td>...</td>\n      <td>0 days 20:00:00</td>\n      <td>0 days 07:00:00</td>\n      <td>0 days 14:15:00</td>\n      <td>9.0</td>\n      <td>008833209</td>\n      <td>be</td>\n      <td>4.824043</td>\n      <td>50.984406</td>\n      <td>171.664179</td>\n      <td>240.0</td>\n    </tr>\n    <tr>\n      <th>4</th>\n      <td>008892288</td>\n      <td>aarsele</td>\n      <td>Hogenhovenstraat Zn</td>\n      <td>8700</td>\n      <td>Aarsele</td>\n      <td>1.0</td>\n      <td>0.0</td>\n      <td>0.0</td>\n      <td>0.0</td>\n      <td>0.0</td>\n      <td>...</td>\n      <td>0 days 00:00:00</td>\n      <td>0 days 00:00:00</td>\n      <td>0 days 00:00:00</td>\n      <td>1.0</td>\n      <td>008892288</td>\n      <td>be</td>\n      <td>3.418363</td>\n      <td>50.984460</td>\n      <td>37.365672</td>\n      <td>300.0</td>\n    </tr>\n    <tr>\n      <th>...</th>\n      <td>...</td>\n      <td>...</td>\n      <td>...</td>\n      <td>...</td>\n      <td>...</td>\n      <td>...</td>\n      <td>...</td>\n      <td>...</td>\n      <td>...</td>\n      <td>...</td>\n      <td>...</td>\n      <td>...</td>\n      <td>...</td>\n      <td>...</td>\n      <td>...</td>\n      <td>...</td>\n      <td>...</td>\n      <td>...</td>\n      <td>...</td>\n      <td>...</td>\n      <td>...</td>\n    </tr>\n    <tr>\n      <th>550</th>\n      <td>008832250</td>\n      <td>zolder</td>\n      <td>Stationsstraat Z/n</td>\n      <td>3550</td>\n      <td>Heusden - Zolder</td>\n      <td>1.0</td>\n      <td>0.0</td>\n      <td>1.0</td>\n      <td>0.0</td>\n      <td>0.0</td>\n      <td>...</td>\n      <td>0 days 00:00:00</td>\n      <td>0 days 00:00:00</td>\n      <td>0 days 00:00:00</td>\n      <td>3.0</td>\n      <td>008832250</td>\n      <td>be</td>\n      <td>5.329900</td>\n      <td>51.033548</td>\n      <td>30.910448</td>\n      <td>300.0</td>\n    </tr>\n    <tr>\n      <th>551</th>\n      <td>008832334</td>\n      <td>zonhoven</td>\n      <td>Engstegenseweg</td>\n      <td>3520</td>\n      <td>Zonhoven</td>\n      <td>1.0</td>\n      <td>0.0</td>\n      <td>1.0</td>\n      <td>0.0</td>\n      <td>0.0</td>\n      <td>...</td>\n      <td>0 days 00:00:00</td>\n      <td>0 days 00:00:00</td>\n      <td>0 days 00:00:00</td>\n      <td>3.0</td>\n      <td>008832334</td>\n      <td>be</td>\n      <td>5.348815</td>\n      <td>50.989557</td>\n      <td>30.910448</td>\n      <td>300.0</td>\n    </tr>\n    <tr>\n      <th>552</th>\n      <td>008895208</td>\n      <td>zottegem</td>\n      <td>Stationsplein 12</td>\n      <td>9620</td>\n      <td>Zottegem</td>\n      <td>1.0</td>\n      <td>0.0</td>\n      <td>1.0</td>\n      <td>0.0</td>\n      <td>1.0</td>\n      <td>...</td>\n      <td>0 days 14:30:00</td>\n      <td>0 days 07:15:00</td>\n      <td>0 days 14:30:00</td>\n      <td>8.0</td>\n      <td>008895208</td>\n      <td>be</td>\n      <td>3.814410</td>\n      <td>50.869102</td>\n      <td>161.223881</td>\n      <td>240.0</td>\n    </tr>\n    <tr>\n      <th>553</th>\n      <td>008894821</td>\n      <td>zwijndrecht</td>\n      <td>Fortlaan 1</td>\n      <td>2070</td>\n      <td>Zwijndrecht</td>\n      <td>1.0</td>\n      <td>0.0</td>\n      <td>1.0</td>\n      <td>0.0</td>\n      <td>1.0</td>\n      <td>...</td>\n      <td>0 days 00:00:00</td>\n      <td>0 days 00:00:00</td>\n      <td>0 days 00:00:00</td>\n      <td>3.0</td>\n      <td>008894821</td>\n      <td>be</td>\n      <td>4.329780</td>\n      <td>51.214108</td>\n      <td>150.514925</td>\n      <td>300.0</td>\n    </tr>\n    <tr>\n      <th>554</th>\n      <td>008883212</td>\n      <td>écaussinnes</td>\n      <td>Avenue De La Déportation</td>\n      <td>7190</td>\n      <td>Ecaussinnes</td>\n      <td>1.0</td>\n      <td>0.0</td>\n      <td>1.0</td>\n      <td>0.0</td>\n      <td>1.0</td>\n      <td>...</td>\n      <td>0 days 00:00:00</td>\n      <td>0 days 00:00:00</td>\n      <td>0 days 00:00:00</td>\n      <td>4.0</td>\n      <td>008883212</td>\n      <td>be</td>\n      <td>4.156639</td>\n      <td>50.562390</td>\n      <td>60.044776</td>\n      <td>300.0</td>\n    </tr>\n  </tbody>\n</table>\n<p>555 rows × 43 columns</p>\n</div>"
     },
     "execution_count": 7,
     "metadata": {},
     "output_type": "execute_result"
    }
   ],
   "source": [
    "stations = data.stations\n",
    "stations[\"name\"] = stations[\"name\"].str.lower()\n",
    "facilities = facilities.merge(stations, on =\"name\")\n",
    "facilities"
   ],
   "metadata": {
    "collapsed": false
   }
  },
  {
   "cell_type": "markdown",
   "source": [
    "Plot the station that have no facilities: mostly in wallonie"
   ],
   "metadata": {
    "collapsed": false
   }
  },
  {
   "cell_type": "code",
   "execution_count": 10,
   "outputs": [
    {
     "data": {
      "text/plain": "<Figure size 640x480 with 1 Axes>",
      "image/png": "[encoded data removed]"
     },
     "metadata": {},
     "output_type": "display_data"
    }
   ],
   "source": [
    "fig, ax = plt.subplots()\n",
    "data.provinces.plot(ax=ax, edgecolor = \"darkgrey\")\n",
    "ax.scatter(facilities[facilities[\"count\"] == 0][\"longitude\"], facilities[facilities[\"count\"] == 0][\"latitude\"], color = \"red\", zorder = 3)\n",
    "ax.axis('off')\n",
    "plt.title(\"Stations with no facilities\")\n",
    "plt.show()\n"
   ],
   "metadata": {
    "collapsed": false
   }
  },
  {
   "cell_type": "code",
   "execution_count": 9,
   "outputs": [
    {
     "data": {
      "text/plain": "count    555.000000\nmean       4.059459\nstd        3.128718\nmin        0.000000\n25%        2.000000\n50%        3.000000\n75%        6.000000\nmax       17.000000\nName: count, dtype: float64"
     },
     "execution_count": 9,
     "metadata": {},
     "output_type": "execute_result"
    }
   ],
   "source": [
    "facilities[\"count\"].describe()"
   ],
   "metadata": {
    "collapsed": false
   }
  },
  {
   "cell_type": "code",
   "execution_count": null,
   "outputs": [],
   "source": [
    "facilities[\"count\"].plot.hist()\n",
    "plt.title(\"Frequency of the number of facilities in a station\")\n",
    "plt.xlabel(\"Number of facilities\")"
   ],
   "metadata": {
    "collapsed": false
   }
  },
  {
   "cell_type": "code",
   "execution_count": null,
   "outputs": [],
   "source": [
    "stations_distance = data.stations_distance\n",
    "stations_distance[\"stationfrom\"]= stations_distance[\"stationfrom\"].str.lower()\n",
    "stations_distance[\"stationto_n\"] = stations_distance[\"stationto_n\"].str.lower()\n",
    "stations_distance.sort_values(by=\"length\", ascending = False)"
   ],
   "metadata": {
    "collapsed": false
   }
  },
  {
   "cell_type": "code",
   "execution_count": null,
   "outputs": [],
   "source": [
    "stations_distance[\"total_length\"] = stations_distance.groupby(\"stationfrom\")[\"length\"].transform(\"sum\")\n",
    "stations_distance[\"count\"] = stations_distance.groupby(\"stationfrom\")[\"stationfrom\"].transform(\"count\")\n",
    "# stations_distance = stations_distance.groupby(\"stationfrom\").sum().reset_index()[[\"stationfrom\", \"length\", \"count\"]].rename({\"stationfrom\": \"station\"}, axis=1)\n",
    "stations_distance[\"length/count\"] = stations_distance[\"total_length\"] / stations_distance[\"count\"]\n",
    "stations_distance"
   ],
   "metadata": {
    "collapsed": false
   }
  },
  {
   "cell_type": "code",
   "execution_count": null,
   "outputs": [],
   "source": [
    "stations_distance = stations_distance[[\"stationfrom\", \"total_length\",\"count\",  \"length/count\"]].drop_duplicates().rename(columns = {\"stationfrom\" : \"station\", \"count\" : \"neighbours_count\"})\n",
    "stations_distance"
   ],
   "metadata": {
    "collapsed": false
   }
  },
  {
   "cell_type": "markdown",
   "source": [
    "The 10 stations with the least neighbouring stations, these are the least accessible stations:"
   ],
   "metadata": {
    "collapsed": false
   }
  },
  {
   "cell_type": "code",
   "execution_count": null,
   "outputs": [],
   "source": [
    "stations_distance[[\"station\", \"neighbours_count\"]].sort_values(by = \"neighbours_count\", ascending = True).head(10)"
   ],
   "metadata": {
    "collapsed": false
   }
  },
  {
   "cell_type": "code",
   "execution_count": null,
   "outputs": [],
   "source": [
    "stations_distance[\"neighbours_count\"].plot.hist()\n",
    "plt.title(\"Frequency of the number of neighbours of a station\")\n",
    "plt.xlabel(\"Number of neighbouring stations\")"
   ],
   "metadata": {
    "collapsed": false
   }
  },
  {
   "cell_type": "markdown",
   "source": [
    "The 10 stations with the least distance to neighbouring stations:"
   ],
   "metadata": {
    "collapsed": false
   }
  },
  {
   "cell_type": "code",
   "execution_count": null,
   "outputs": [],
   "source": [
    "stations_distance[[\"station\", \"total_length\"]].sort_values(by = \"total_length\", ascending = True).head(10)"
   ],
   "metadata": {
    "collapsed": false
   }
  },
  {
   "cell_type": "code",
   "execution_count": null,
   "outputs": [],
   "source": [
    "stations_distance[\"total_length\"].plot.hist()\n",
    "plt.title(\"Frequency of the total length between stations\")\n",
    "plt.xlabel(\"Total length in km\")"
   ],
   "metadata": {
    "collapsed": false
   }
  },
  {
   "cell_type": "markdown",
   "source": [
    "The  10 stations with the  least distance to neighbouring stations, divided by the number of neighbouring stations (average length)"
   ],
   "metadata": {
    "collapsed": false
   }
  },
  {
   "cell_type": "code",
   "execution_count": null,
   "outputs": [],
   "source": [
    "stations_distance[[\"station\", \"length/count\"]].sort_values(by = \"length/count\", ascending = True).head(10)"
   ],
   "metadata": {
    "collapsed": false
   }
  },
  {
   "cell_type": "code",
   "execution_count": null,
   "outputs": [],
   "source": [
    "stations_distance[\"length/count\"].plot.hist()\n",
    "plt.title(\"Frequency of the total length in km divided by the number of neighbouring stations\")\n",
    "plt.xlabel(\"Total length in km divided by the number of neighbouring stations\")"
   ],
   "metadata": {
    "collapsed": false
   }
  },
  {
   "cell_type": "markdown",
   "source": [
    "Are the number of neighbors ( how isolated the station is ), correlated with the satisfaction score?"
   ],
   "metadata": {
    "collapsed": false
   }
  },
  {
   "cell_type": "code",
   "execution_count": null,
   "outputs": [],
   "source": [
    "satisfaction = data.satisfaction\n",
    "satisfaction = stations_distance.merge(satisfaction, on =\"station\")\n",
    "satisfaction"
   ],
   "metadata": {
    "collapsed": false
   }
  },
  {
   "cell_type": "markdown",
   "source": [
    "Slight positive correlation"
   ],
   "metadata": {
    "collapsed": false
   }
  },
  {
   "cell_type": "code",
   "execution_count": null,
   "outputs": [],
   "source": [
    "satisfaction.describe()"
   ],
   "metadata": {
    "collapsed": false
   }
  },
  {
   "cell_type": "code",
   "execution_count": null,
   "outputs": [],
   "source": [
    "satisfaction[\"neighbours_count\"].corr(satisfaction[\"Avg Satisfaction\"])"
   ],
   "metadata": {
    "collapsed": false
   }
  },
  {
   "cell_type": "code",
   "execution_count": null,
   "outputs": [],
   "source": [
    "import numpy as np\n",
    "sfig, ax = plt.subplots()\n",
    "ax.scatter(satisfaction[\"neighbours_count\"], satisfaction[\"Avg Satisfaction\"])\n",
    "ax.set_xlabel(\"Neighbours count\")\n",
    "ax.set_ylabel(\"Satisfaction score /100\")\n",
    "ax.set_title(\"Stations satisfaction score vs neighbours count\")\n",
    "z = np.polyfit(satisfaction[\"neighbours_count\"], satisfaction[\"Avg Satisfaction\"], 1)\n",
    "p = np.poly1d(z)\n",
    "plt.plot(satisfaction[\"neighbours_count\"],p(satisfaction[\"neighbours_count\"]),\"r--\")\n",
    "plt.show()"
   ],
   "metadata": {
    "collapsed": false
   }
  },
  {
   "cell_type": "markdown",
   "source": [
    "Check which stations only have 1 neighbor"
   ],
   "metadata": {
    "collapsed": false
   }
  },
  {
   "cell_type": "code",
   "execution_count": null,
   "outputs": [],
   "source": [
    "stations = data.stations\n",
    "stations[\"name\"] = stations[\"name\"].str.lower()\n",
    "\n",
    "stations_1_neighbor = satisfaction[satisfaction[\"neighbours_count\"] == 1]\n",
    "stations_1_neighbor = stations_1_neighbor.merge(stations,left_on = \"station\" ,right_on =\"name\" )\n",
    "stations_1_neighbor"
   ],
   "metadata": {
    "collapsed": false
   }
  },
  {
   "cell_type": "markdown",
   "source": [
    "The most isolated stations, stations that only have 1 neighbor station,  are located at the border. This is logical."
   ],
   "metadata": {
    "collapsed": false
   }
  },
  {
   "cell_type": "code",
   "execution_count": null,
   "outputs": [],
   "source": [
    "fig, ax = plt.subplots()\n",
    "data.provinces.plot(ax=ax, color = \"#F0FFFF\", edgecolor = \"darkgrey\")\n",
    "ax.scatter(stations_1_neighbor[\"longitude\"], stations_1_neighbor[\"latitude\"], color = \"red\", zorder = 3)\n",
    "ax.axis('off')\n",
    "plt.title(\"Stations with 1 neighboring station\" )\n",
    "plt.show()"
   ],
   "metadata": {
    "collapsed": false
   }
  },
  {
   "cell_type": "markdown",
   "source": [
    "Calculating the average travel time to a station"
   ],
   "metadata": {
    "collapsed": false
   }
  },
  {
   "cell_type": "code",
   "execution_count": null,
   "outputs": [],
   "source": [
    "trips = data.full_trips\n",
    "trips = trips.sort_values(by = [\"Train number\", \"Time of planned departure\"])\n",
    "trips[\"Planned_travel_time\"] = (trips[\"Time of planned arrival\"] - trips[\"Time of planned departure\"].shift(1)).dt.seconds\n",
    "trips[\"Real_travel_time\"] = (trips[\"Time of real arrival\"] - trips[\"Time of real departure\"].shift(1)).dt.seconds\n",
    "trips.drop(trips[trips[\"Planned_travel_time\"] == 0].index, inplace = True)\n",
    "trips.dropna(subset = [\"Planned_travel_time\"], inplace = True)\n",
    "trips.drop(trips[trips[\"Planned_travel_time\"] > 3600].index, inplace = True)\n",
    "trips.drop(trips[trips[\"Real_travel_time\"] == 0].index, inplace = True)\n",
    "trips.dropna(subset = [\"Real_travel_time\"], inplace = True)\n",
    "trips.drop(trips[trips[\"Real_travel_time\"] > 3600].index, inplace = True)\n",
    "trips"
   ],
   "metadata": {
    "collapsed": false
   }
  },
  {
   "cell_type": "code",
   "execution_count": null,
   "outputs": [],
   "source": [
    "train_numbers = trips[\"Train number\"].unique()\n",
    "#routes is a dictionary that takes the train number as key and returns all the subsequent stop this train has passed through\n",
    "routes = {}\n",
    "for train_number in train_numbers:\n",
    "    routes[train_number] = trips[trips[\"Train number\"] == train_number].sort_values(by= [ \"Time of planned departure\"])"
   ],
   "metadata": {
    "collapsed": false
   }
  },
  {
   "cell_type": "code",
   "execution_count": null,
   "outputs": [],
   "source": [
    "routes.get(10)"
   ],
   "metadata": {
    "collapsed": false
   }
  },
  {
   "cell_type": "code",
   "execution_count": null,
   "outputs": [],
   "source": [
    "# for train_number in train_numbers:\n",
    "#         routes.get(train_number)[\"Difference\"] = (routes.get(train_number)[\"Time of planned arrival\"] - routes.get(train_number)[\"Time of planned departure\"].shift(1)).dt.seconds\n",
    "#\n"
   ],
   "metadata": {
    "collapsed": false
   }
  },
  {
   "cell_type": "code",
   "execution_count": null,
   "outputs": [],
   "source": [
    "# for train_number in train_numbers:\n",
    "#     routes.get(train_number).loc[routes.get(train_number)[\"Difference\"] > 7200, \"Difference\"] = np.nan\n",
    "#     routes.get(train_number)[\"Difference\"] = routes.get(train_number)[\"Difference\"].fillna(0)\n",
    "#     routes.get(train_number).drop(routes.get(train_number)[routes.get(train_number)[\"Difference\"] == 0].index, inplace = True)\n"
   ],
   "metadata": {
    "collapsed": false
   }
  },
  {
   "cell_type": "code",
   "execution_count": null,
   "outputs": [],
   "source": [
    "import pandas as pd\n",
    "mean_difference_real = pd.DataFrame()\n",
    "for train_number in train_numbers:\n",
    "    mean_difference_real = mean_difference_real.append(routes.get(train_number).groupby(\"Name of the stop\")[\"Real_travel_time\"].mean().reset_index())\n",
    "mean_difference_planned = pd.DataFrame()\n",
    "for train_number in train_numbers:\n",
    "    mean_difference_planned = mean_difference_planned.append(routes.get(train_number).groupby(\"Name of the stop\")[\"Planned_travel_time\"].mean().reset_index())"
   ],
   "metadata": {
    "collapsed": false
   }
  },
  {
   "cell_type": "code",
   "execution_count": null,
   "outputs": [],
   "source": [
    "mean_difference_real = mean_difference_real.groupby(\"Name of the stop\")[\"Real_travel_time\"].mean().reset_index()\n",
    "mean_difference_real[\"Real_travel_time\"] = mean_difference_real[\"Real_travel_time\"]/60\n",
    "\n",
    "mean_difference_planned = mean_difference_planned.groupby(\"Name of the stop\")[\"Planned_travel_time\"].mean().reset_index()\n",
    "mean_difference_planned[\"Planned_travel_time\"] = mean_difference_planned[\"Planned_travel_time\"]/60\n"
   ],
   "metadata": {
    "collapsed": false
   }
  },
  {
   "cell_type": "code",
   "execution_count": null,
   "outputs": [],
   "source": [
    "mean_difference_real.describe()"
   ],
   "metadata": {
    "collapsed": false
   }
  },
  {
   "cell_type": "code",
   "execution_count": null,
   "outputs": [],
   "source": [
    "mean_difference_planned.describe()"
   ],
   "metadata": {
    "collapsed": false
   }
  },
  {
   "cell_type": "markdown",
   "source": [
    "For each train stop, we now know the average travel time to that stop."
   ],
   "metadata": {
    "collapsed": false
   }
  },
  {
   "cell_type": "code",
   "execution_count": null,
   "outputs": [],
   "source": [
    "mean_difference_real.sort_values(by = \"Real_travel_time\").head(10)"
   ],
   "metadata": {
    "collapsed": false
   }
  },
  {
   "cell_type": "code",
   "execution_count": null,
   "outputs": [],
   "source": [
    "mean_difference_real = mean_difference_real.merge(stations, left_on =\"Name of the stop\", right_on = \"name\")\n",
    "mean_difference_real"
   ],
   "metadata": {
    "collapsed": false
   }
  },
  {
   "cell_type": "code",
   "execution_count": null,
   "outputs": [],
   "source": [
    "fig, ax = plt.subplots()\n",
    "data.provinces.plot(ax=ax, color = \"#F0FFFF\", edgecolor = \"darkgrey\")\n",
    "ax.scatter(mean_difference_real.sort_values(by = \"Real_travel_time\", ascending = False).head(50)[\"longitude\"], mean_difference_real.sort_values(by = \"Real_travel_time\", ascending= False).head(50)[\"latitude\"], color = \"red\", zorder = 3)\n",
    "ax.axis('off')\n",
    "plt.title(\"Top 50 stations with the longest real travel time to other stations\" )\n",
    "plt.show()"
   ],
   "metadata": {
    "collapsed": false
   }
  },
  {
   "cell_type": "code",
   "execution_count": null,
   "outputs": [],
   "source": [
    "mean_difference_planned = mean_difference_planned.merge(stations, left_on =\"Name of the stop\", right_on = \"name\")"
   ],
   "metadata": {
    "collapsed": false
   }
  },
  {
   "cell_type": "code",
   "execution_count": null,
   "outputs": [],
   "source": [
    "fig, ax = plt.subplots()\n",
    "data.provinces.plot(ax=ax, color = \"#F0FFFF\", edgecolor = \"darkgrey\")\n",
    "ax.scatter(mean_difference_planned.sort_values(by = \"Planned_travel_time\", ascending = False).head(50)[\"longitude\"], mean_difference_planned.sort_values(by = \"Planned_travel_time\", ascending = False).head(50)[\"latitude\"], color = \"red\", zorder = 3)\n",
    "ax.axis('off')\n",
    "plt.title(\"Top 50 stations with the longest planned travel time to other stations\" )\n",
    "plt.show()"
   ],
   "metadata": {
    "collapsed": false
   }
  },
  {
   "cell_type": "markdown",
   "source": [
    "If we look at the 20 stations with the highest travel time to other stations, we can see they are again stations that are close to the borders."
   ],
   "metadata": {
    "collapsed": false
   }
  },
  {
   "cell_type": "code",
   "execution_count": null,
   "outputs": [],
   "source": [
    "fig, ax = plt.subplots()\n",
    "data.provinces.plot(ax=ax, color = \"#F0FFFF\", edgecolor = \"darkgrey\")\n",
    "ax.scatter(mean_difference_real.sort_values(by = \"Real_travel_time\", ascending = True).head(50)[\"longitude\"], mean_difference_real.sort_values(by = \"Real_travel_time\", ascending = True).head(50)[\"latitude\"], color = \"red\", zorder = 3)\n",
    "ax.axis('off')\n",
    "plt.title(\"Top 50 stations with the shortest real travel time to other stations\" )\n",
    "plt.show()"
   ],
   "metadata": {
    "collapsed": false
   }
  },
  {
   "cell_type": "code",
   "execution_count": null,
   "outputs": [],
   "source": [
    "mean_difference_real[\"Real_travel_time\"].describe()"
   ],
   "metadata": {
    "collapsed": false
   }
  },
  {
   "cell_type": "code",
   "execution_count": null,
   "outputs": [],
   "source": [
    "# import matplotlib.patches as mpatches\n",
    "# fig, ax = plt.subplots()\n",
    "# df = mean_difference_real.sort_values(by = \"Real_travel_time\", ascending = False)\n",
    "# data.provinces.plot(ax=ax, color = \"#F0FFFF\", edgecolor = \"darkgrey\")\n",
    "# ax.scatter(df[df[\"Real_travel_time\"] > 4.986452][\"longitude\"], df[df[\"Real_travel_time\"] > 4.986452][\"latitude\"], color = \"red\", alpha =0.5, zorder = 100)\n",
    "# ax.scatter(df[ (df[\"Real_travel_time\"] > 3.294620 )& (df[\"Real_travel_time\"] <=4.986452)  ][\"longitude\"], df[(df[\"Real_travel_time\"] > 3.294620 )& (df[\"Real_travel_time\"] <=4.986452) ][\"latitude\"], color = \"orange\",alpha =0.5 )\n",
    "#\n",
    "# ax.scatter(df[ (df[\"Real_travel_time\"] > 2.394955 )& (df[\"Real_travel_time\"] <=3.294620)  ][\"longitude\"], df[(df[\"Real_travel_time\"] > 2.394955 )& (df[\"Real_travel_time\"] <=3.294620) ][\"latitude\"], color = \"yellow\", alpha =0.5)\n",
    "#\n",
    "# ax.scatter(df[df[\"Real_travel_time\"] <2.394955][\"longitude\"], df[df[\"Real_travel_time\"] < 2.394955][\"latitude\"], color = \"green\", alpha =0.5)\n",
    "# red_patch = mpatches.Patch(color='red', label='> 4.986452 minutes')\n",
    "# orange_patch = mpatches.Patch(color='orange', label='> 3.294620 and <= 4.986452 minutes')\n",
    "# yellow_patch = mpatches.Patch(color='yellow', label='> 2.394955 and <= 3.294620 minutes')\n",
    "# green_patch = mpatches.Patch(color='green', label='<= 2.394955')\n",
    "# plt.legend(handles=[red_patch, orange_patch, yellow_patch, green_patch])\n",
    "# plt.title(\"Real travel time to the stations\")\n",
    "# ax.axis('off')\n",
    "# plt.show()\n",
    "import matplotlib.patches as mpatches\n",
    "fig, ax = plt.subplots()\n",
    "df = mean_difference_real.sort_values(by = \"Real_travel_time\", ascending = False)\n",
    "data.provinces.plot(ax=ax, color = \"#F0FFFF\", edgecolor = \"darkgrey\")\n",
    "ax.scatter(df[df[\"Real_travel_time\"] > 5][\"longitude\"], df[df[\"Real_travel_time\"] > 5][\"latitude\"], color = \"red\", alpha =0.5, zorder = 100)\n",
    "ax.scatter(df[ (df[\"Real_travel_time\"] > 3 )& (df[\"Real_travel_time\"] <=5)  ][\"longitude\"], df[(df[\"Real_travel_time\"] > 3 )& (df[\"Real_travel_time\"] <=5) ][\"latitude\"], color = \"orange\",alpha =0.5 )\n",
    "\n",
    "ax.scatter(df[ (df[\"Real_travel_time\"] > 2 )& (df[\"Real_travel_time\"] <=3)  ][\"longitude\"], df[(df[\"Real_travel_time\"] > 2 )& (df[\"Real_travel_time\"] <=3) ][\"latitude\"], color = \"yellow\", alpha =0.5)\n",
    "\n",
    "ax.scatter(df[df[\"Real_travel_time\"] <2][\"longitude\"], df[df[\"Real_travel_time\"] < 2][\"latitude\"], color = \"green\", alpha =0.5)\n",
    "red_patch = mpatches.Patch(color='red', label='> 5 minutes')\n",
    "orange_patch = mpatches.Patch(color='orange', label='> 3 and <= 5 minutes')\n",
    "yellow_patch = mpatches.Patch(color='yellow', label='> 2 and <= 3 minutes')\n",
    "green_patch = mpatches.Patch(color='green', label='<= 2')\n",
    "plt.legend(handles=[red_patch, orange_patch, yellow_patch, green_patch])\n",
    "plt.title(\"Real travel time to the stations\")\n",
    "ax.axis('off')\n",
    "plt.show()"
   ],
   "metadata": {
    "collapsed": false
   }
  },
  {
   "cell_type": "markdown",
   "source": [
    "We see that even though some red dots are as close to each other as some other green / yellow dots are, we can create some new train routes that connects the red dots so we can reduce the delay time."
   ],
   "metadata": {
    "collapsed": false
   }
  },
  {
   "cell_type": "markdown",
   "source": [
    "# From here on we will do some extra analysis"
   ],
   "metadata": {
    "collapsed": false
   }
  },
  {
   "cell_type": "markdown",
   "source": [
    "# Does the average travel time to a station influence the satisfaction score?"
   ],
   "metadata": {
    "collapsed": false
   }
  },
  {
   "cell_type": "markdown",
   "source": [
    "No correlation"
   ],
   "metadata": {
    "collapsed": false
   }
  },
  {
   "cell_type": "code",
   "execution_count": null,
   "outputs": [],
   "source": [
    "satisfaction = satisfaction.merge(mean_difference_real, left_on = \"station\", right_on =\"Name of the stop\")\n",
    "satisfaction[\"Avg Satisfaction\"].corr(satisfaction[\"Real_travel_time\"])"
   ],
   "metadata": {
    "collapsed": false
   }
  },
  {
   "cell_type": "code",
   "execution_count": null,
   "outputs": [],
   "source": [
    "plt.scatter(satisfaction[\"Real_travel_time\"], satisfaction[\"Avg Satisfaction\"])\n",
    "plt.title(\"Station's satisfaction score vs real travel time \")\n",
    "plt.xlabel(\"Real travel time in minutes\")\n",
    "plt.ylabel(\"Satisfaction score /100\")\n",
    "plt.show()"
   ],
   "metadata": {
    "collapsed": false
   }
  },
  {
   "cell_type": "markdown",
   "source": [
    "# Number of neighbors correlated with avg travel time?"
   ],
   "metadata": {
    "collapsed": false
   }
  },
  {
   "cell_type": "markdown",
   "source": [
    "no correlation"
   ],
   "metadata": {
    "collapsed": false
   }
  },
  {
   "cell_type": "code",
   "execution_count": null,
   "outputs": [],
   "source": [
    "test = stations_distance.merge(mean_difference_real, left_on=\"station\" , right_on = \"Name of the stop\")\n",
    "test[\"neighbours_count\"].corr(test[\"Real_travel_time\"])"
   ],
   "metadata": {
    "collapsed": false
   }
  },
  {
   "cell_type": "code",
   "execution_count": null,
   "outputs": [],
   "source": [
    "plt.scatter(test[\"neighbours_count\"], test[\"Real_travel_time\"])\n",
    "plt.title(\"Station's satisfaction score vs real travel time \")\n",
    "plt.xlabel(\"Real travel time in minutes\")\n",
    "plt.ylabel(\"Satisfaction score /100\")\n",
    "plt.show()"
   ],
   "metadata": {
    "collapsed": false
   }
  },
  {
   "cell_type": "markdown",
   "source": [
    "# Avg travel time correlated with delay frequency?"
   ],
   "metadata": {
    "collapsed": false
   }
  },
  {
   "cell_type": "code",
   "execution_count": null,
   "outputs": [],
   "source": [
    "stations_delay_percentage = trips[trips[\"Delay time\"] > 0].groupby(\"Name of the stop\").size().div(trips.groupby(\"Name of the stop\").size()).reset_index().rename(columns={0: \"Percentage of delays\"})\n",
    "stations_delay_percentage"
   ],
   "metadata": {
    "collapsed": false
   }
  },
  {
   "cell_type": "code",
   "execution_count": null,
   "outputs": [],
   "source": [
    "test1 = mean_difference_real.merge(stations_delay_percentage, left_on = \"name\", right_on = \"Name of the stop\")\n",
    "test1"
   ],
   "metadata": {
    "collapsed": false
   }
  },
  {
   "cell_type": "markdown",
   "source": [
    "No correlation"
   ],
   "metadata": {
    "collapsed": false
   }
  },
  {
   "cell_type": "code",
   "execution_count": null,
   "outputs": [],
   "source": [
    "test1[[\"Real_travel_time\",\"Percentage of delays\"]]"
   ],
   "metadata": {
    "collapsed": false
   }
  },
  {
   "cell_type": "code",
   "execution_count": null,
   "outputs": [],
   "source": [
    "test1[\"Real_travel_time\"].corr(test1[\"Percentage of delays\"])"
   ],
   "metadata": {
    "collapsed": false
   }
  },
  {
   "cell_type": "code",
   "execution_count": null,
   "outputs": [],
   "source": [
    "fig, ax = plt.subplots()\n",
    "ax.scatter(test1[\"Real_travel_time\"], test1[\"Percentage of delays\"])\n",
    "ax.set_xlabel(\"Real travel time in minutes\")\n",
    "ax.set_ylabel(\"Percentage of delays\")\n",
    "ax.set_title(\"Percentage of delays vs real travel time\")\n",
    "\n"
   ],
   "metadata": {
    "collapsed": false
   }
  },
  {
   "cell_type": "markdown",
   "source": [
    "# Avg travel time correlated with mean delay time?"
   ],
   "metadata": {
    "collapsed": false
   }
  },
  {
   "cell_type": "code",
   "execution_count": null,
   "outputs": [],
   "source": [
    "mean_delay_df = trips.groupby(\"Name of the stop\")[\"Delay time\"].mean().reset_index()\n",
    "mean_delay_df"
   ],
   "metadata": {
    "collapsed": false
   }
  },
  {
   "cell_type": "code",
   "execution_count": null,
   "outputs": [],
   "source": [
    "test2 = mean_difference_real.merge(mean_delay_df, left_on = \"name\", right_on = \"Name of the stop\")\n",
    "test2"
   ],
   "metadata": {
    "collapsed": false
   }
  },
  {
   "cell_type": "markdown",
   "source": [
    "Also no correlation"
   ],
   "metadata": {
    "collapsed": false
   }
  },
  {
   "cell_type": "code",
   "execution_count": null,
   "outputs": [],
   "source": [
    "test2[\"Real_travel_time\"].corr(test2[\"Delay time\"])"
   ],
   "metadata": {
    "collapsed": false
   }
  },
  {
   "cell_type": "code",
   "execution_count": null,
   "outputs": [],
   "source": [
    "fig, ax = plt.subplots()\n",
    "ax.scatter(test2[\"Real_travel_time\"], test2[\"Delay time\"])\n",
    "ax.set_xlabel(\"Real travel time in minutes\")\n",
    "ax.set_ylabel(\"Delay time in minutes\")\n",
    "ax.set_title(\"Delay time per real travel time\")"
   ],
   "metadata": {
    "collapsed": false
   }
  },
  {
   "cell_type": "markdown",
   "source": [],
   "metadata": {
    "collapsed": false
   }
  },
  {
   "cell_type": "markdown",
   "source": [
    "# Is number of neighbours / total length to neighbours correlated with the Delay frequency?"
   ],
   "metadata": {
    "collapsed": false
   }
  },
  {
   "cell_type": "code",
   "execution_count": null,
   "outputs": [],
   "source": [
    "trips = data.full_trips\n",
    "trips"
   ],
   "metadata": {
    "collapsed": false
   }
  },
  {
   "cell_type": "code",
   "execution_count": null,
   "outputs": [],
   "source": [
    "stations_delay_percentage = trips[trips[\"Delay time\"] > 0].groupby(\"Name of the stop\").size().div(trips.groupby(\"Name of the stop\").size()).reset_index().rename(columns={0: \"Percentage of delays\"})\n",
    "stations_delay_percentage"
   ],
   "metadata": {
    "collapsed": false
   }
  },
  {
   "cell_type": "code",
   "execution_count": null,
   "outputs": [],
   "source": [
    "merged_df = stations_distance.merge(stations_delay_percentage, left_on = \"station\", right_on = \"Name of the stop\")\n",
    "merged_df"
   ],
   "metadata": {
    "collapsed": false
   }
  },
  {
   "cell_type": "markdown",
   "source": [
    "no correlation between either length or neighboars and the percentage of delays."
   ],
   "metadata": {
    "collapsed": false
   }
  },
  {
   "cell_type": "code",
   "execution_count": null,
   "outputs": [],
   "source": [
    "merged_df[\"total_length\"].corr(merged_df[\"Percentage of delays\"])"
   ],
   "metadata": {
    "collapsed": false
   }
  },
  {
   "cell_type": "code",
   "execution_count": null,
   "outputs": [],
   "source": [
    "merged_df[\"neighbours_count\"].corr(merged_df[\"Percentage of delays\"])"
   ],
   "metadata": {
    "collapsed": false
   }
  },
  {
   "cell_type": "markdown",
   "source": [
    "A little bit of negative correlation"
   ],
   "metadata": {
    "collapsed": false
   }
  },
  {
   "cell_type": "code",
   "execution_count": null,
   "outputs": [],
   "source": [
    "merged_df[\"length/count\"].corr(merged_df[\"Percentage of delays\"])"
   ],
   "metadata": {
    "collapsed": false
   }
  },
  {
   "cell_type": "code",
   "execution_count": null,
   "outputs": [],
   "source": [
    "stations_delay_time = trips.groupby(\"Name of the stop\")[\"Delay time\"].mean().reset_index().rename(columns={\"Delay time\": \"Average delay time\"})\n",
    "stations_delay_time"
   ],
   "metadata": {
    "collapsed": false
   }
  },
  {
   "cell_type": "code",
   "execution_count": null,
   "outputs": [],
   "source": [
    "merged_df2 = stations_distance.merge(stations_delay_time, left_on = \"station\", right_on = \"Name of the stop\")\n",
    "merged_df2"
   ],
   "metadata": {
    "collapsed": false
   }
  },
  {
   "cell_type": "markdown",
   "source": [
    "Also no correlation with the average delay time."
   ],
   "metadata": {
    "collapsed": false
   }
  },
  {
   "cell_type": "code",
   "execution_count": null,
   "outputs": [],
   "source": [
    "merged_df2[\"total_length\"].corr(merged_df2[\"Average delay time\"])"
   ],
   "metadata": {
    "collapsed": false
   }
  },
  {
   "cell_type": "code",
   "execution_count": null,
   "outputs": [],
   "source": [
    "merged_df2[\"neighbours_count\"].corr(merged_df2[\"Average delay time\"])"
   ],
   "metadata": {
    "collapsed": false
   }
  },
  {
   "cell_type": "code",
   "execution_count": null,
   "outputs": [],
   "source": [
    "merged_df2[\"length/count\"].corr(merged_df2[\"Average delay time\"])"
   ],
   "metadata": {
    "collapsed": false
   }
  },
  {
   "cell_type": "code",
   "execution_count": null,
   "outputs": [],
   "source": [
    "stations = data.stations\n",
    "stations[\"name\"]= stations[\"name\"].str.lower()"
   ],
   "metadata": {
    "collapsed": false
   }
  },
  {
   "cell_type": "code",
   "execution_count": null,
   "outputs": [],
   "source": [
    "merged_df3 = stations_delay_time.merge(stations, left_on = \"Name of the stop\", right_on = \"name\").merge(stations_delay_percentage,left_on = \"Name of the stop\", right_on = \"Name of the stop\")\n",
    "merged_df3"
   ],
   "metadata": {
    "collapsed": false
   }
  },
  {
   "cell_type": "markdown",
   "source": [
    "# Plot the average delay per station on a map"
   ],
   "metadata": {
    "collapsed": false
   }
  },
  {
   "cell_type": "code",
   "execution_count": null,
   "outputs": [],
   "source": [
    "import matplotlib.pyplot as plt\n",
    "fig, ax = plt.subplots()\n",
    "data.provinces.plot(ax=ax)\n",
    "sc =ax.scatter(merged_df3[\"longitude\"], merged_df3[\"latitude\"], c = merged_df3[\"Average delay time\"], cmap = \"Reds\")\n",
    "cbar = fig.colorbar(sc)\n",
    "ax.set_xlabel(\"Longitude\")\n",
    "ax.set_ylabel(\"Latitude\")\n",
    "ax.set_title(\"Average delay time per station\")\n",
    "plt.show()\n",
    "\n"
   ],
   "metadata": {
    "collapsed": false
   }
  },
  {
   "cell_type": "markdown",
   "source": [
    "# Plot the percentage of delays per station on a map"
   ],
   "metadata": {
    "collapsed": false
   }
  },
  {
   "cell_type": "code",
   "execution_count": null,
   "outputs": [],
   "source": [
    "import matplotlib.pyplot as plt\n",
    "fig, ax = plt.subplots()\n",
    "data.provinces.plot(ax=ax)\n",
    "\n",
    "sc = ax.scatter(merged_df3[\"longitude\"], merged_df3[\"latitude\"], c = merged_df3[\"Percentage of delays\"], cmap = \"Reds\")\n",
    "cbar = fig.colorbar(sc)\n",
    "ax.set_xlabel(\"Longitude\")\n",
    "ax.set_ylabel(\"Latitude\")\n",
    "ax.set_title(\"Percentage of delays per station\")\n",
    "plt.show()\n"
   ],
   "metadata": {
    "collapsed": false
   }
  },
  {
   "cell_type": "markdown",
   "source": [],
   "metadata": {
    "collapsed": false
   }
  },
  {
   "cell_type": "code",
   "execution_count": null,
   "outputs": [],
   "source": [],
   "metadata": {
    "collapsed": false
   }
  },
  {
   "cell_type": "code",
   "execution_count": null,
   "outputs": [],
   "source": [],
   "metadata": {
    "collapsed": false
   }
  },
  {
   "cell_type": "code",
   "execution_count": null,
   "outputs": [],
   "source": [],
   "metadata": {
    "collapsed": false,
    "pycharm": {
     "is_executing": true
    }
   }
  },
  {
   "cell_type": "code",
   "execution_count": null,
   "outputs": [],
   "source": [],
   "metadata": {
    "collapsed": false,
    "pycharm": {
     "is_executing": true
    }
   }
  },
  {
   "cell_type": "code",
   "execution_count": null,
   "outputs": [],
   "source": [],
   "metadata": {
    "collapsed": false,
    "pycharm": {
     "is_executing": true
    }
   }
  },
  {
   "cell_type": "code",
   "execution_count": 206,
   "outputs": [],
   "source": [],
   "metadata": {
    "collapsed": false
   }
  }
 ],
 "metadata": {
  "kernelspec": {
   "display_name": "Python 3",
   "language": "python",
   "name": "python3"
  },
  "language_info": {
   "codemirror_mode": {
    "name": "ipython",
    "version": 2
   },
   "file_extension": ".py",
   "mimetype": "text/x-python",
   "name": "python",
   "nbconvert_exporter": "python",
   "pygments_lexer": "ipython2",
   "version": "2.7.6"
  }
 },
 "nbformat": 4,
 "nbformat_minor": 0
}
